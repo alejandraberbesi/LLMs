{
  "nbformat": 4,
  "nbformat_minor": 0,
  "metadata": {
    "colab": {
      "provenance": [],
      "gpuType": "T4",
      "toc_visible": true,
      "authorship_tag": "ABX9TyPEhi+QAlaizmEvMlxZbxb9",
      "include_colab_link": true
    },
    "kernelspec": {
      "name": "python3",
      "display_name": "Python 3"
    },
    "language_info": {
      "name": "python"
    },
    "accelerator": "GPU",
    "widgets": {
      "application/vnd.jupyter.widget-state+json": {
        "7a30c93b08f94ab58b7d7b1173187896": {
          "model_module": "@jupyter-widgets/controls",
          "model_name": "HBoxModel",
          "model_module_version": "1.5.0",
          "state": {
            "_dom_classes": [],
            "_model_module": "@jupyter-widgets/controls",
            "_model_module_version": "1.5.0",
            "_model_name": "HBoxModel",
            "_view_count": null,
            "_view_module": "@jupyter-widgets/controls",
            "_view_module_version": "1.5.0",
            "_view_name": "HBoxView",
            "box_style": "",
            "children": [
              "IPY_MODEL_64fcbc2c0dec4083bf233e4060c745a7",
              "IPY_MODEL_7e464df6c2724992900fc0d1177de8e1",
              "IPY_MODEL_55c983c2bc404ca884eedba604e7d61e"
            ],
            "layout": "IPY_MODEL_796c4083a4c94704b8e154d7b84e29d5"
          }
        },
        "64fcbc2c0dec4083bf233e4060c745a7": {
          "model_module": "@jupyter-widgets/controls",
          "model_name": "HTMLModel",
          "model_module_version": "1.5.0",
          "state": {
            "_dom_classes": [],
            "_model_module": "@jupyter-widgets/controls",
            "_model_module_version": "1.5.0",
            "_model_name": "HTMLModel",
            "_view_count": null,
            "_view_module": "@jupyter-widgets/controls",
            "_view_module_version": "1.5.0",
            "_view_name": "HTMLView",
            "description": "",
            "description_tooltip": null,
            "layout": "IPY_MODEL_7fd4345e637a4f90ba46c4f89aaad8b1",
            "placeholder": "​",
            "style": "IPY_MODEL_08c88dff8b06473d94bc2386bb0197ed",
            "value": "README.md: 100%"
          }
        },
        "7e464df6c2724992900fc0d1177de8e1": {
          "model_module": "@jupyter-widgets/controls",
          "model_name": "FloatProgressModel",
          "model_module_version": "1.5.0",
          "state": {
            "_dom_classes": [],
            "_model_module": "@jupyter-widgets/controls",
            "_model_module_version": "1.5.0",
            "_model_name": "FloatProgressModel",
            "_view_count": null,
            "_view_module": "@jupyter-widgets/controls",
            "_view_module_version": "1.5.0",
            "_view_name": "ProgressView",
            "bar_style": "success",
            "description": "",
            "description_tooltip": null,
            "layout": "IPY_MODEL_99957b0567f8457a99532e5ae2993f43",
            "max": 8070,
            "min": 0,
            "orientation": "horizontal",
            "style": "IPY_MODEL_43cfc6628d7849a3a8fe01e218cb3cd7",
            "value": 8070
          }
        },
        "55c983c2bc404ca884eedba604e7d61e": {
          "model_module": "@jupyter-widgets/controls",
          "model_name": "HTMLModel",
          "model_module_version": "1.5.0",
          "state": {
            "_dom_classes": [],
            "_model_module": "@jupyter-widgets/controls",
            "_model_module_version": "1.5.0",
            "_model_name": "HTMLModel",
            "_view_count": null,
            "_view_module": "@jupyter-widgets/controls",
            "_view_module_version": "1.5.0",
            "_view_name": "HTMLView",
            "description": "",
            "description_tooltip": null,
            "layout": "IPY_MODEL_7e3c0c797ff54af693d4d9a3d83c5934",
            "placeholder": "​",
            "style": "IPY_MODEL_5219a84305dd4cca9dd48132ea9cf0cc",
            "value": " 8.07k/8.07k [00:00&lt;00:00, 549kB/s]"
          }
        },
        "796c4083a4c94704b8e154d7b84e29d5": {
          "model_module": "@jupyter-widgets/base",
          "model_name": "LayoutModel",
          "model_module_version": "1.2.0",
          "state": {
            "_model_module": "@jupyter-widgets/base",
            "_model_module_version": "1.2.0",
            "_model_name": "LayoutModel",
            "_view_count": null,
            "_view_module": "@jupyter-widgets/base",
            "_view_module_version": "1.2.0",
            "_view_name": "LayoutView",
            "align_content": null,
            "align_items": null,
            "align_self": null,
            "border": null,
            "bottom": null,
            "display": null,
            "flex": null,
            "flex_flow": null,
            "grid_area": null,
            "grid_auto_columns": null,
            "grid_auto_flow": null,
            "grid_auto_rows": null,
            "grid_column": null,
            "grid_gap": null,
            "grid_row": null,
            "grid_template_areas": null,
            "grid_template_columns": null,
            "grid_template_rows": null,
            "height": null,
            "justify_content": null,
            "justify_items": null,
            "left": null,
            "margin": null,
            "max_height": null,
            "max_width": null,
            "min_height": null,
            "min_width": null,
            "object_fit": null,
            "object_position": null,
            "order": null,
            "overflow": null,
            "overflow_x": null,
            "overflow_y": null,
            "padding": null,
            "right": null,
            "top": null,
            "visibility": null,
            "width": null
          }
        },
        "7fd4345e637a4f90ba46c4f89aaad8b1": {
          "model_module": "@jupyter-widgets/base",
          "model_name": "LayoutModel",
          "model_module_version": "1.2.0",
          "state": {
            "_model_module": "@jupyter-widgets/base",
            "_model_module_version": "1.2.0",
            "_model_name": "LayoutModel",
            "_view_count": null,
            "_view_module": "@jupyter-widgets/base",
            "_view_module_version": "1.2.0",
            "_view_name": "LayoutView",
            "align_content": null,
            "align_items": null,
            "align_self": null,
            "border": null,
            "bottom": null,
            "display": null,
            "flex": null,
            "flex_flow": null,
            "grid_area": null,
            "grid_auto_columns": null,
            "grid_auto_flow": null,
            "grid_auto_rows": null,
            "grid_column": null,
            "grid_gap": null,
            "grid_row": null,
            "grid_template_areas": null,
            "grid_template_columns": null,
            "grid_template_rows": null,
            "height": null,
            "justify_content": null,
            "justify_items": null,
            "left": null,
            "margin": null,
            "max_height": null,
            "max_width": null,
            "min_height": null,
            "min_width": null,
            "object_fit": null,
            "object_position": null,
            "order": null,
            "overflow": null,
            "overflow_x": null,
            "overflow_y": null,
            "padding": null,
            "right": null,
            "top": null,
            "visibility": null,
            "width": null
          }
        },
        "08c88dff8b06473d94bc2386bb0197ed": {
          "model_module": "@jupyter-widgets/controls",
          "model_name": "DescriptionStyleModel",
          "model_module_version": "1.5.0",
          "state": {
            "_model_module": "@jupyter-widgets/controls",
            "_model_module_version": "1.5.0",
            "_model_name": "DescriptionStyleModel",
            "_view_count": null,
            "_view_module": "@jupyter-widgets/base",
            "_view_module_version": "1.2.0",
            "_view_name": "StyleView",
            "description_width": ""
          }
        },
        "99957b0567f8457a99532e5ae2993f43": {
          "model_module": "@jupyter-widgets/base",
          "model_name": "LayoutModel",
          "model_module_version": "1.2.0",
          "state": {
            "_model_module": "@jupyter-widgets/base",
            "_model_module_version": "1.2.0",
            "_model_name": "LayoutModel",
            "_view_count": null,
            "_view_module": "@jupyter-widgets/base",
            "_view_module_version": "1.2.0",
            "_view_name": "LayoutView",
            "align_content": null,
            "align_items": null,
            "align_self": null,
            "border": null,
            "bottom": null,
            "display": null,
            "flex": null,
            "flex_flow": null,
            "grid_area": null,
            "grid_auto_columns": null,
            "grid_auto_flow": null,
            "grid_auto_rows": null,
            "grid_column": null,
            "grid_gap": null,
            "grid_row": null,
            "grid_template_areas": null,
            "grid_template_columns": null,
            "grid_template_rows": null,
            "height": null,
            "justify_content": null,
            "justify_items": null,
            "left": null,
            "margin": null,
            "max_height": null,
            "max_width": null,
            "min_height": null,
            "min_width": null,
            "object_fit": null,
            "object_position": null,
            "order": null,
            "overflow": null,
            "overflow_x": null,
            "overflow_y": null,
            "padding": null,
            "right": null,
            "top": null,
            "visibility": null,
            "width": null
          }
        },
        "43cfc6628d7849a3a8fe01e218cb3cd7": {
          "model_module": "@jupyter-widgets/controls",
          "model_name": "ProgressStyleModel",
          "model_module_version": "1.5.0",
          "state": {
            "_model_module": "@jupyter-widgets/controls",
            "_model_module_version": "1.5.0",
            "_model_name": "ProgressStyleModel",
            "_view_count": null,
            "_view_module": "@jupyter-widgets/base",
            "_view_module_version": "1.2.0",
            "_view_name": "StyleView",
            "bar_color": null,
            "description_width": ""
          }
        },
        "7e3c0c797ff54af693d4d9a3d83c5934": {
          "model_module": "@jupyter-widgets/base",
          "model_name": "LayoutModel",
          "model_module_version": "1.2.0",
          "state": {
            "_model_module": "@jupyter-widgets/base",
            "_model_module_version": "1.2.0",
            "_model_name": "LayoutModel",
            "_view_count": null,
            "_view_module": "@jupyter-widgets/base",
            "_view_module_version": "1.2.0",
            "_view_name": "LayoutView",
            "align_content": null,
            "align_items": null,
            "align_self": null,
            "border": null,
            "bottom": null,
            "display": null,
            "flex": null,
            "flex_flow": null,
            "grid_area": null,
            "grid_auto_columns": null,
            "grid_auto_flow": null,
            "grid_auto_rows": null,
            "grid_column": null,
            "grid_gap": null,
            "grid_row": null,
            "grid_template_areas": null,
            "grid_template_columns": null,
            "grid_template_rows": null,
            "height": null,
            "justify_content": null,
            "justify_items": null,
            "left": null,
            "margin": null,
            "max_height": null,
            "max_width": null,
            "min_height": null,
            "min_width": null,
            "object_fit": null,
            "object_position": null,
            "order": null,
            "overflow": null,
            "overflow_x": null,
            "overflow_y": null,
            "padding": null,
            "right": null,
            "top": null,
            "visibility": null,
            "width": null
          }
        },
        "5219a84305dd4cca9dd48132ea9cf0cc": {
          "model_module": "@jupyter-widgets/controls",
          "model_name": "DescriptionStyleModel",
          "model_module_version": "1.5.0",
          "state": {
            "_model_module": "@jupyter-widgets/controls",
            "_model_module_version": "1.5.0",
            "_model_name": "DescriptionStyleModel",
            "_view_count": null,
            "_view_module": "@jupyter-widgets/base",
            "_view_module_version": "1.2.0",
            "_view_name": "StyleView",
            "description_width": ""
          }
        },
        "1d8dba03f3f442f78d7b668518235280": {
          "model_module": "@jupyter-widgets/controls",
          "model_name": "HBoxModel",
          "model_module_version": "1.5.0",
          "state": {
            "_dom_classes": [],
            "_model_module": "@jupyter-widgets/controls",
            "_model_module_version": "1.5.0",
            "_model_name": "HBoxModel",
            "_view_count": null,
            "_view_module": "@jupyter-widgets/controls",
            "_view_module_version": "1.5.0",
            "_view_name": "HBoxView",
            "box_style": "",
            "children": [
              "IPY_MODEL_8e4dd162875d4258852881c917f758bb",
              "IPY_MODEL_b2411337e95a46bda5af1f464b98abb7",
              "IPY_MODEL_a4fdbc3622104c92ad4a71ca9bf17c66"
            ],
            "layout": "IPY_MODEL_46f671ca5e8344bca33a85f4fd66768b"
          }
        },
        "8e4dd162875d4258852881c917f758bb": {
          "model_module": "@jupyter-widgets/controls",
          "model_name": "HTMLModel",
          "model_module_version": "1.5.0",
          "state": {
            "_dom_classes": [],
            "_model_module": "@jupyter-widgets/controls",
            "_model_module_version": "1.5.0",
            "_model_name": "HTMLModel",
            "_view_count": null,
            "_view_module": "@jupyter-widgets/controls",
            "_view_module_version": "1.5.0",
            "_view_name": "HTMLView",
            "description": "",
            "description_tooltip": null,
            "layout": "IPY_MODEL_07afda31f2554948a5a929f1ba2f969f",
            "placeholder": "​",
            "style": "IPY_MODEL_df2dab35032047cb8648edcb23f26cca",
            "value": "train-00000-of-00001.parquet: 100%"
          }
        },
        "b2411337e95a46bda5af1f464b98abb7": {
          "model_module": "@jupyter-widgets/controls",
          "model_name": "FloatProgressModel",
          "model_module_version": "1.5.0",
          "state": {
            "_dom_classes": [],
            "_model_module": "@jupyter-widgets/controls",
            "_model_module_version": "1.5.0",
            "_model_name": "FloatProgressModel",
            "_view_count": null,
            "_view_module": "@jupyter-widgets/controls",
            "_view_module_version": "1.5.0",
            "_view_name": "ProgressView",
            "bar_style": "success",
            "description": "",
            "description_tooltip": null,
            "layout": "IPY_MODEL_9bfa37bd4d19443eb58eb71405b37f67",
            "max": 18585438,
            "min": 0,
            "orientation": "horizontal",
            "style": "IPY_MODEL_8d2e7e04c9fe493eabce171784bfe1e3",
            "value": 18585438
          }
        },
        "a4fdbc3622104c92ad4a71ca9bf17c66": {
          "model_module": "@jupyter-widgets/controls",
          "model_name": "HTMLModel",
          "model_module_version": "1.5.0",
          "state": {
            "_dom_classes": [],
            "_model_module": "@jupyter-widgets/controls",
            "_model_module_version": "1.5.0",
            "_model_name": "HTMLModel",
            "_view_count": null,
            "_view_module": "@jupyter-widgets/controls",
            "_view_module_version": "1.5.0",
            "_view_name": "HTMLView",
            "description": "",
            "description_tooltip": null,
            "layout": "IPY_MODEL_f8c1c7dd753640638c254db60eb36742",
            "placeholder": "​",
            "style": "IPY_MODEL_88cbc1e9c5d24b76bd3e9a94d1cdd2a1",
            "value": " 18.6M/18.6M [00:00&lt;00:00, 95.3MB/s]"
          }
        },
        "46f671ca5e8344bca33a85f4fd66768b": {
          "model_module": "@jupyter-widgets/base",
          "model_name": "LayoutModel",
          "model_module_version": "1.2.0",
          "state": {
            "_model_module": "@jupyter-widgets/base",
            "_model_module_version": "1.2.0",
            "_model_name": "LayoutModel",
            "_view_count": null,
            "_view_module": "@jupyter-widgets/base",
            "_view_module_version": "1.2.0",
            "_view_name": "LayoutView",
            "align_content": null,
            "align_items": null,
            "align_self": null,
            "border": null,
            "bottom": null,
            "display": null,
            "flex": null,
            "flex_flow": null,
            "grid_area": null,
            "grid_auto_columns": null,
            "grid_auto_flow": null,
            "grid_auto_rows": null,
            "grid_column": null,
            "grid_gap": null,
            "grid_row": null,
            "grid_template_areas": null,
            "grid_template_columns": null,
            "grid_template_rows": null,
            "height": null,
            "justify_content": null,
            "justify_items": null,
            "left": null,
            "margin": null,
            "max_height": null,
            "max_width": null,
            "min_height": null,
            "min_width": null,
            "object_fit": null,
            "object_position": null,
            "order": null,
            "overflow": null,
            "overflow_x": null,
            "overflow_y": null,
            "padding": null,
            "right": null,
            "top": null,
            "visibility": null,
            "width": null
          }
        },
        "07afda31f2554948a5a929f1ba2f969f": {
          "model_module": "@jupyter-widgets/base",
          "model_name": "LayoutModel",
          "model_module_version": "1.2.0",
          "state": {
            "_model_module": "@jupyter-widgets/base",
            "_model_module_version": "1.2.0",
            "_model_name": "LayoutModel",
            "_view_count": null,
            "_view_module": "@jupyter-widgets/base",
            "_view_module_version": "1.2.0",
            "_view_name": "LayoutView",
            "align_content": null,
            "align_items": null,
            "align_self": null,
            "border": null,
            "bottom": null,
            "display": null,
            "flex": null,
            "flex_flow": null,
            "grid_area": null,
            "grid_auto_columns": null,
            "grid_auto_flow": null,
            "grid_auto_rows": null,
            "grid_column": null,
            "grid_gap": null,
            "grid_row": null,
            "grid_template_areas": null,
            "grid_template_columns": null,
            "grid_template_rows": null,
            "height": null,
            "justify_content": null,
            "justify_items": null,
            "left": null,
            "margin": null,
            "max_height": null,
            "max_width": null,
            "min_height": null,
            "min_width": null,
            "object_fit": null,
            "object_position": null,
            "order": null,
            "overflow": null,
            "overflow_x": null,
            "overflow_y": null,
            "padding": null,
            "right": null,
            "top": null,
            "visibility": null,
            "width": null
          }
        },
        "df2dab35032047cb8648edcb23f26cca": {
          "model_module": "@jupyter-widgets/controls",
          "model_name": "DescriptionStyleModel",
          "model_module_version": "1.5.0",
          "state": {
            "_model_module": "@jupyter-widgets/controls",
            "_model_module_version": "1.5.0",
            "_model_name": "DescriptionStyleModel",
            "_view_count": null,
            "_view_module": "@jupyter-widgets/base",
            "_view_module_version": "1.2.0",
            "_view_name": "StyleView",
            "description_width": ""
          }
        },
        "9bfa37bd4d19443eb58eb71405b37f67": {
          "model_module": "@jupyter-widgets/base",
          "model_name": "LayoutModel",
          "model_module_version": "1.2.0",
          "state": {
            "_model_module": "@jupyter-widgets/base",
            "_model_module_version": "1.2.0",
            "_model_name": "LayoutModel",
            "_view_count": null,
            "_view_module": "@jupyter-widgets/base",
            "_view_module_version": "1.2.0",
            "_view_name": "LayoutView",
            "align_content": null,
            "align_items": null,
            "align_self": null,
            "border": null,
            "bottom": null,
            "display": null,
            "flex": null,
            "flex_flow": null,
            "grid_area": null,
            "grid_auto_columns": null,
            "grid_auto_flow": null,
            "grid_auto_rows": null,
            "grid_column": null,
            "grid_gap": null,
            "grid_row": null,
            "grid_template_areas": null,
            "grid_template_columns": null,
            "grid_template_rows": null,
            "height": null,
            "justify_content": null,
            "justify_items": null,
            "left": null,
            "margin": null,
            "max_height": null,
            "max_width": null,
            "min_height": null,
            "min_width": null,
            "object_fit": null,
            "object_position": null,
            "order": null,
            "overflow": null,
            "overflow_x": null,
            "overflow_y": null,
            "padding": null,
            "right": null,
            "top": null,
            "visibility": null,
            "width": null
          }
        },
        "8d2e7e04c9fe493eabce171784bfe1e3": {
          "model_module": "@jupyter-widgets/controls",
          "model_name": "ProgressStyleModel",
          "model_module_version": "1.5.0",
          "state": {
            "_model_module": "@jupyter-widgets/controls",
            "_model_module_version": "1.5.0",
            "_model_name": "ProgressStyleModel",
            "_view_count": null,
            "_view_module": "@jupyter-widgets/base",
            "_view_module_version": "1.2.0",
            "_view_name": "StyleView",
            "bar_color": null,
            "description_width": ""
          }
        },
        "f8c1c7dd753640638c254db60eb36742": {
          "model_module": "@jupyter-widgets/base",
          "model_name": "LayoutModel",
          "model_module_version": "1.2.0",
          "state": {
            "_model_module": "@jupyter-widgets/base",
            "_model_module_version": "1.2.0",
            "_model_name": "LayoutModel",
            "_view_count": null,
            "_view_module": "@jupyter-widgets/base",
            "_view_module_version": "1.2.0",
            "_view_name": "LayoutView",
            "align_content": null,
            "align_items": null,
            "align_self": null,
            "border": null,
            "bottom": null,
            "display": null,
            "flex": null,
            "flex_flow": null,
            "grid_area": null,
            "grid_auto_columns": null,
            "grid_auto_flow": null,
            "grid_auto_rows": null,
            "grid_column": null,
            "grid_gap": null,
            "grid_row": null,
            "grid_template_areas": null,
            "grid_template_columns": null,
            "grid_template_rows": null,
            "height": null,
            "justify_content": null,
            "justify_items": null,
            "left": null,
            "margin": null,
            "max_height": null,
            "max_width": null,
            "min_height": null,
            "min_width": null,
            "object_fit": null,
            "object_position": null,
            "order": null,
            "overflow": null,
            "overflow_x": null,
            "overflow_y": null,
            "padding": null,
            "right": null,
            "top": null,
            "visibility": null,
            "width": null
          }
        },
        "88cbc1e9c5d24b76bd3e9a94d1cdd2a1": {
          "model_module": "@jupyter-widgets/controls",
          "model_name": "DescriptionStyleModel",
          "model_module_version": "1.5.0",
          "state": {
            "_model_module": "@jupyter-widgets/controls",
            "_model_module_version": "1.5.0",
            "_model_name": "DescriptionStyleModel",
            "_view_count": null,
            "_view_module": "@jupyter-widgets/base",
            "_view_module_version": "1.2.0",
            "_view_name": "StyleView",
            "description_width": ""
          }
        },
        "10844a81dca6490bb2d9c04d3a2dbf98": {
          "model_module": "@jupyter-widgets/controls",
          "model_name": "HBoxModel",
          "model_module_version": "1.5.0",
          "state": {
            "_dom_classes": [],
            "_model_module": "@jupyter-widgets/controls",
            "_model_module_version": "1.5.0",
            "_model_name": "HBoxModel",
            "_view_count": null,
            "_view_module": "@jupyter-widgets/controls",
            "_view_module_version": "1.5.0",
            "_view_name": "HBoxView",
            "box_style": "",
            "children": [
              "IPY_MODEL_e58360904ad849d1bbfc02ec38ada25d",
              "IPY_MODEL_2e92e9da93cf4d099afd7a3188c4f561",
              "IPY_MODEL_b68433e01ddf4d53a990ac5596f9affb"
            ],
            "layout": "IPY_MODEL_d7a378e696d14f24b1d19f96a855cb3c"
          }
        },
        "e58360904ad849d1bbfc02ec38ada25d": {
          "model_module": "@jupyter-widgets/controls",
          "model_name": "HTMLModel",
          "model_module_version": "1.5.0",
          "state": {
            "_dom_classes": [],
            "_model_module": "@jupyter-widgets/controls",
            "_model_module_version": "1.5.0",
            "_model_name": "HTMLModel",
            "_view_count": null,
            "_view_module": "@jupyter-widgets/controls",
            "_view_module_version": "1.5.0",
            "_view_name": "HTMLView",
            "description": "",
            "description_tooltip": null,
            "layout": "IPY_MODEL_d16433de633c42e7b67696619d4a12ec",
            "placeholder": "​",
            "style": "IPY_MODEL_4f1004d035954ec4a4bedccc782a9244",
            "value": "test-00000-of-00001.parquet: 100%"
          }
        },
        "2e92e9da93cf4d099afd7a3188c4f561": {
          "model_module": "@jupyter-widgets/controls",
          "model_name": "FloatProgressModel",
          "model_module_version": "1.5.0",
          "state": {
            "_dom_classes": [],
            "_model_module": "@jupyter-widgets/controls",
            "_model_module_version": "1.5.0",
            "_model_name": "FloatProgressModel",
            "_view_count": null,
            "_view_module": "@jupyter-widgets/controls",
            "_view_module_version": "1.5.0",
            "_view_name": "ProgressView",
            "bar_style": "success",
            "description": "",
            "description_tooltip": null,
            "layout": "IPY_MODEL_9f40b9c5fd504330a4c73f9561050603",
            "max": 1234829,
            "min": 0,
            "orientation": "horizontal",
            "style": "IPY_MODEL_cabce1e260f84042b9f5099e07490f82",
            "value": 1234829
          }
        },
        "b68433e01ddf4d53a990ac5596f9affb": {
          "model_module": "@jupyter-widgets/controls",
          "model_name": "HTMLModel",
          "model_module_version": "1.5.0",
          "state": {
            "_dom_classes": [],
            "_model_module": "@jupyter-widgets/controls",
            "_model_module_version": "1.5.0",
            "_model_name": "HTMLModel",
            "_view_count": null,
            "_view_module": "@jupyter-widgets/controls",
            "_view_module_version": "1.5.0",
            "_view_name": "HTMLView",
            "description": "",
            "description_tooltip": null,
            "layout": "IPY_MODEL_f3ff309bd73d490ba4aad74956a2b7c9",
            "placeholder": "​",
            "style": "IPY_MODEL_0ca84f81e4bd4a47aeea151a900c27d3",
            "value": " 1.23M/1.23M [00:00&lt;00:00, 55.5MB/s]"
          }
        },
        "d7a378e696d14f24b1d19f96a855cb3c": {
          "model_module": "@jupyter-widgets/base",
          "model_name": "LayoutModel",
          "model_module_version": "1.2.0",
          "state": {
            "_model_module": "@jupyter-widgets/base",
            "_model_module_version": "1.2.0",
            "_model_name": "LayoutModel",
            "_view_count": null,
            "_view_module": "@jupyter-widgets/base",
            "_view_module_version": "1.2.0",
            "_view_name": "LayoutView",
            "align_content": null,
            "align_items": null,
            "align_self": null,
            "border": null,
            "bottom": null,
            "display": null,
            "flex": null,
            "flex_flow": null,
            "grid_area": null,
            "grid_auto_columns": null,
            "grid_auto_flow": null,
            "grid_auto_rows": null,
            "grid_column": null,
            "grid_gap": null,
            "grid_row": null,
            "grid_template_areas": null,
            "grid_template_columns": null,
            "grid_template_rows": null,
            "height": null,
            "justify_content": null,
            "justify_items": null,
            "left": null,
            "margin": null,
            "max_height": null,
            "max_width": null,
            "min_height": null,
            "min_width": null,
            "object_fit": null,
            "object_position": null,
            "order": null,
            "overflow": null,
            "overflow_x": null,
            "overflow_y": null,
            "padding": null,
            "right": null,
            "top": null,
            "visibility": null,
            "width": null
          }
        },
        "d16433de633c42e7b67696619d4a12ec": {
          "model_module": "@jupyter-widgets/base",
          "model_name": "LayoutModel",
          "model_module_version": "1.2.0",
          "state": {
            "_model_module": "@jupyter-widgets/base",
            "_model_module_version": "1.2.0",
            "_model_name": "LayoutModel",
            "_view_count": null,
            "_view_module": "@jupyter-widgets/base",
            "_view_module_version": "1.2.0",
            "_view_name": "LayoutView",
            "align_content": null,
            "align_items": null,
            "align_self": null,
            "border": null,
            "bottom": null,
            "display": null,
            "flex": null,
            "flex_flow": null,
            "grid_area": null,
            "grid_auto_columns": null,
            "grid_auto_flow": null,
            "grid_auto_rows": null,
            "grid_column": null,
            "grid_gap": null,
            "grid_row": null,
            "grid_template_areas": null,
            "grid_template_columns": null,
            "grid_template_rows": null,
            "height": null,
            "justify_content": null,
            "justify_items": null,
            "left": null,
            "margin": null,
            "max_height": null,
            "max_width": null,
            "min_height": null,
            "min_width": null,
            "object_fit": null,
            "object_position": null,
            "order": null,
            "overflow": null,
            "overflow_x": null,
            "overflow_y": null,
            "padding": null,
            "right": null,
            "top": null,
            "visibility": null,
            "width": null
          }
        },
        "4f1004d035954ec4a4bedccc782a9244": {
          "model_module": "@jupyter-widgets/controls",
          "model_name": "DescriptionStyleModel",
          "model_module_version": "1.5.0",
          "state": {
            "_model_module": "@jupyter-widgets/controls",
            "_model_module_version": "1.5.0",
            "_model_name": "DescriptionStyleModel",
            "_view_count": null,
            "_view_module": "@jupyter-widgets/base",
            "_view_module_version": "1.2.0",
            "_view_name": "StyleView",
            "description_width": ""
          }
        },
        "9f40b9c5fd504330a4c73f9561050603": {
          "model_module": "@jupyter-widgets/base",
          "model_name": "LayoutModel",
          "model_module_version": "1.2.0",
          "state": {
            "_model_module": "@jupyter-widgets/base",
            "_model_module_version": "1.2.0",
            "_model_name": "LayoutModel",
            "_view_count": null,
            "_view_module": "@jupyter-widgets/base",
            "_view_module_version": "1.2.0",
            "_view_name": "LayoutView",
            "align_content": null,
            "align_items": null,
            "align_self": null,
            "border": null,
            "bottom": null,
            "display": null,
            "flex": null,
            "flex_flow": null,
            "grid_area": null,
            "grid_auto_columns": null,
            "grid_auto_flow": null,
            "grid_auto_rows": null,
            "grid_column": null,
            "grid_gap": null,
            "grid_row": null,
            "grid_template_areas": null,
            "grid_template_columns": null,
            "grid_template_rows": null,
            "height": null,
            "justify_content": null,
            "justify_items": null,
            "left": null,
            "margin": null,
            "max_height": null,
            "max_width": null,
            "min_height": null,
            "min_width": null,
            "object_fit": null,
            "object_position": null,
            "order": null,
            "overflow": null,
            "overflow_x": null,
            "overflow_y": null,
            "padding": null,
            "right": null,
            "top": null,
            "visibility": null,
            "width": null
          }
        },
        "cabce1e260f84042b9f5099e07490f82": {
          "model_module": "@jupyter-widgets/controls",
          "model_name": "ProgressStyleModel",
          "model_module_version": "1.5.0",
          "state": {
            "_model_module": "@jupyter-widgets/controls",
            "_model_module_version": "1.5.0",
            "_model_name": "ProgressStyleModel",
            "_view_count": null,
            "_view_module": "@jupyter-widgets/base",
            "_view_module_version": "1.2.0",
            "_view_name": "StyleView",
            "bar_color": null,
            "description_width": ""
          }
        },
        "f3ff309bd73d490ba4aad74956a2b7c9": {
          "model_module": "@jupyter-widgets/base",
          "model_name": "LayoutModel",
          "model_module_version": "1.2.0",
          "state": {
            "_model_module": "@jupyter-widgets/base",
            "_model_module_version": "1.2.0",
            "_model_name": "LayoutModel",
            "_view_count": null,
            "_view_module": "@jupyter-widgets/base",
            "_view_module_version": "1.2.0",
            "_view_name": "LayoutView",
            "align_content": null,
            "align_items": null,
            "align_self": null,
            "border": null,
            "bottom": null,
            "display": null,
            "flex": null,
            "flex_flow": null,
            "grid_area": null,
            "grid_auto_columns": null,
            "grid_auto_flow": null,
            "grid_auto_rows": null,
            "grid_column": null,
            "grid_gap": null,
            "grid_row": null,
            "grid_template_areas": null,
            "grid_template_columns": null,
            "grid_template_rows": null,
            "height": null,
            "justify_content": null,
            "justify_items": null,
            "left": null,
            "margin": null,
            "max_height": null,
            "max_width": null,
            "min_height": null,
            "min_width": null,
            "object_fit": null,
            "object_position": null,
            "order": null,
            "overflow": null,
            "overflow_x": null,
            "overflow_y": null,
            "padding": null,
            "right": null,
            "top": null,
            "visibility": null,
            "width": null
          }
        },
        "0ca84f81e4bd4a47aeea151a900c27d3": {
          "model_module": "@jupyter-widgets/controls",
          "model_name": "DescriptionStyleModel",
          "model_module_version": "1.5.0",
          "state": {
            "_model_module": "@jupyter-widgets/controls",
            "_model_module_version": "1.5.0",
            "_model_name": "DescriptionStyleModel",
            "_view_count": null,
            "_view_module": "@jupyter-widgets/base",
            "_view_module_version": "1.2.0",
            "_view_name": "StyleView",
            "description_width": ""
          }
        },
        "863048fcdfae46af97430348df667037": {
          "model_module": "@jupyter-widgets/controls",
          "model_name": "HBoxModel",
          "model_module_version": "1.5.0",
          "state": {
            "_dom_classes": [],
            "_model_module": "@jupyter-widgets/controls",
            "_model_module_version": "1.5.0",
            "_model_name": "HBoxModel",
            "_view_count": null,
            "_view_module": "@jupyter-widgets/controls",
            "_view_module_version": "1.5.0",
            "_view_name": "HBoxView",
            "box_style": "",
            "children": [
              "IPY_MODEL_88b50cd2658d47a9a4485dd51443bb7d",
              "IPY_MODEL_1426e0410dce45d99ef1c4655773b0b6",
              "IPY_MODEL_576a7603410f41c58ff62bacccd0b26e"
            ],
            "layout": "IPY_MODEL_0149ea23ae3c4741b2a4346058d6986c"
          }
        },
        "88b50cd2658d47a9a4485dd51443bb7d": {
          "model_module": "@jupyter-widgets/controls",
          "model_name": "HTMLModel",
          "model_module_version": "1.5.0",
          "state": {
            "_dom_classes": [],
            "_model_module": "@jupyter-widgets/controls",
            "_model_module_version": "1.5.0",
            "_model_name": "HTMLModel",
            "_view_count": null,
            "_view_module": "@jupyter-widgets/controls",
            "_view_module_version": "1.5.0",
            "_view_name": "HTMLView",
            "description": "",
            "description_tooltip": null,
            "layout": "IPY_MODEL_37fc98ec327848668e83fe403e4be2cd",
            "placeholder": "​",
            "style": "IPY_MODEL_cdb38f2bac664168bec58956fc2eda93",
            "value": "Generating train split: 100%"
          }
        },
        "1426e0410dce45d99ef1c4655773b0b6": {
          "model_module": "@jupyter-widgets/controls",
          "model_name": "FloatProgressModel",
          "model_module_version": "1.5.0",
          "state": {
            "_dom_classes": [],
            "_model_module": "@jupyter-widgets/controls",
            "_model_module_version": "1.5.0",
            "_model_name": "FloatProgressModel",
            "_view_count": null,
            "_view_module": "@jupyter-widgets/controls",
            "_view_module_version": "1.5.0",
            "_view_name": "ProgressView",
            "bar_style": "success",
            "description": "",
            "description_tooltip": null,
            "layout": "IPY_MODEL_630f1bd77e3b40e39e36098c709c4064",
            "max": 120000,
            "min": 0,
            "orientation": "horizontal",
            "style": "IPY_MODEL_c36d9357318540ca82787a192231f03d",
            "value": 120000
          }
        },
        "576a7603410f41c58ff62bacccd0b26e": {
          "model_module": "@jupyter-widgets/controls",
          "model_name": "HTMLModel",
          "model_module_version": "1.5.0",
          "state": {
            "_dom_classes": [],
            "_model_module": "@jupyter-widgets/controls",
            "_model_module_version": "1.5.0",
            "_model_name": "HTMLModel",
            "_view_count": null,
            "_view_module": "@jupyter-widgets/controls",
            "_view_module_version": "1.5.0",
            "_view_name": "HTMLView",
            "description": "",
            "description_tooltip": null,
            "layout": "IPY_MODEL_61b38d37005245d6bfc7a4ddcac284cf",
            "placeholder": "​",
            "style": "IPY_MODEL_bf1a8be234a443df935511cb5e3c0c00",
            "value": " 120000/120000 [00:00&lt;00:00, 430405.75 examples/s]"
          }
        },
        "0149ea23ae3c4741b2a4346058d6986c": {
          "model_module": "@jupyter-widgets/base",
          "model_name": "LayoutModel",
          "model_module_version": "1.2.0",
          "state": {
            "_model_module": "@jupyter-widgets/base",
            "_model_module_version": "1.2.0",
            "_model_name": "LayoutModel",
            "_view_count": null,
            "_view_module": "@jupyter-widgets/base",
            "_view_module_version": "1.2.0",
            "_view_name": "LayoutView",
            "align_content": null,
            "align_items": null,
            "align_self": null,
            "border": null,
            "bottom": null,
            "display": null,
            "flex": null,
            "flex_flow": null,
            "grid_area": null,
            "grid_auto_columns": null,
            "grid_auto_flow": null,
            "grid_auto_rows": null,
            "grid_column": null,
            "grid_gap": null,
            "grid_row": null,
            "grid_template_areas": null,
            "grid_template_columns": null,
            "grid_template_rows": null,
            "height": null,
            "justify_content": null,
            "justify_items": null,
            "left": null,
            "margin": null,
            "max_height": null,
            "max_width": null,
            "min_height": null,
            "min_width": null,
            "object_fit": null,
            "object_position": null,
            "order": null,
            "overflow": null,
            "overflow_x": null,
            "overflow_y": null,
            "padding": null,
            "right": null,
            "top": null,
            "visibility": null,
            "width": null
          }
        },
        "37fc98ec327848668e83fe403e4be2cd": {
          "model_module": "@jupyter-widgets/base",
          "model_name": "LayoutModel",
          "model_module_version": "1.2.0",
          "state": {
            "_model_module": "@jupyter-widgets/base",
            "_model_module_version": "1.2.0",
            "_model_name": "LayoutModel",
            "_view_count": null,
            "_view_module": "@jupyter-widgets/base",
            "_view_module_version": "1.2.0",
            "_view_name": "LayoutView",
            "align_content": null,
            "align_items": null,
            "align_self": null,
            "border": null,
            "bottom": null,
            "display": null,
            "flex": null,
            "flex_flow": null,
            "grid_area": null,
            "grid_auto_columns": null,
            "grid_auto_flow": null,
            "grid_auto_rows": null,
            "grid_column": null,
            "grid_gap": null,
            "grid_row": null,
            "grid_template_areas": null,
            "grid_template_columns": null,
            "grid_template_rows": null,
            "height": null,
            "justify_content": null,
            "justify_items": null,
            "left": null,
            "margin": null,
            "max_height": null,
            "max_width": null,
            "min_height": null,
            "min_width": null,
            "object_fit": null,
            "object_position": null,
            "order": null,
            "overflow": null,
            "overflow_x": null,
            "overflow_y": null,
            "padding": null,
            "right": null,
            "top": null,
            "visibility": null,
            "width": null
          }
        },
        "cdb38f2bac664168bec58956fc2eda93": {
          "model_module": "@jupyter-widgets/controls",
          "model_name": "DescriptionStyleModel",
          "model_module_version": "1.5.0",
          "state": {
            "_model_module": "@jupyter-widgets/controls",
            "_model_module_version": "1.5.0",
            "_model_name": "DescriptionStyleModel",
            "_view_count": null,
            "_view_module": "@jupyter-widgets/base",
            "_view_module_version": "1.2.0",
            "_view_name": "StyleView",
            "description_width": ""
          }
        },
        "630f1bd77e3b40e39e36098c709c4064": {
          "model_module": "@jupyter-widgets/base",
          "model_name": "LayoutModel",
          "model_module_version": "1.2.0",
          "state": {
            "_model_module": "@jupyter-widgets/base",
            "_model_module_version": "1.2.0",
            "_model_name": "LayoutModel",
            "_view_count": null,
            "_view_module": "@jupyter-widgets/base",
            "_view_module_version": "1.2.0",
            "_view_name": "LayoutView",
            "align_content": null,
            "align_items": null,
            "align_self": null,
            "border": null,
            "bottom": null,
            "display": null,
            "flex": null,
            "flex_flow": null,
            "grid_area": null,
            "grid_auto_columns": null,
            "grid_auto_flow": null,
            "grid_auto_rows": null,
            "grid_column": null,
            "grid_gap": null,
            "grid_row": null,
            "grid_template_areas": null,
            "grid_template_columns": null,
            "grid_template_rows": null,
            "height": null,
            "justify_content": null,
            "justify_items": null,
            "left": null,
            "margin": null,
            "max_height": null,
            "max_width": null,
            "min_height": null,
            "min_width": null,
            "object_fit": null,
            "object_position": null,
            "order": null,
            "overflow": null,
            "overflow_x": null,
            "overflow_y": null,
            "padding": null,
            "right": null,
            "top": null,
            "visibility": null,
            "width": null
          }
        },
        "c36d9357318540ca82787a192231f03d": {
          "model_module": "@jupyter-widgets/controls",
          "model_name": "ProgressStyleModel",
          "model_module_version": "1.5.0",
          "state": {
            "_model_module": "@jupyter-widgets/controls",
            "_model_module_version": "1.5.0",
            "_model_name": "ProgressStyleModel",
            "_view_count": null,
            "_view_module": "@jupyter-widgets/base",
            "_view_module_version": "1.2.0",
            "_view_name": "StyleView",
            "bar_color": null,
            "description_width": ""
          }
        },
        "61b38d37005245d6bfc7a4ddcac284cf": {
          "model_module": "@jupyter-widgets/base",
          "model_name": "LayoutModel",
          "model_module_version": "1.2.0",
          "state": {
            "_model_module": "@jupyter-widgets/base",
            "_model_module_version": "1.2.0",
            "_model_name": "LayoutModel",
            "_view_count": null,
            "_view_module": "@jupyter-widgets/base",
            "_view_module_version": "1.2.0",
            "_view_name": "LayoutView",
            "align_content": null,
            "align_items": null,
            "align_self": null,
            "border": null,
            "bottom": null,
            "display": null,
            "flex": null,
            "flex_flow": null,
            "grid_area": null,
            "grid_auto_columns": null,
            "grid_auto_flow": null,
            "grid_auto_rows": null,
            "grid_column": null,
            "grid_gap": null,
            "grid_row": null,
            "grid_template_areas": null,
            "grid_template_columns": null,
            "grid_template_rows": null,
            "height": null,
            "justify_content": null,
            "justify_items": null,
            "left": null,
            "margin": null,
            "max_height": null,
            "max_width": null,
            "min_height": null,
            "min_width": null,
            "object_fit": null,
            "object_position": null,
            "order": null,
            "overflow": null,
            "overflow_x": null,
            "overflow_y": null,
            "padding": null,
            "right": null,
            "top": null,
            "visibility": null,
            "width": null
          }
        },
        "bf1a8be234a443df935511cb5e3c0c00": {
          "model_module": "@jupyter-widgets/controls",
          "model_name": "DescriptionStyleModel",
          "model_module_version": "1.5.0",
          "state": {
            "_model_module": "@jupyter-widgets/controls",
            "_model_module_version": "1.5.0",
            "_model_name": "DescriptionStyleModel",
            "_view_count": null,
            "_view_module": "@jupyter-widgets/base",
            "_view_module_version": "1.2.0",
            "_view_name": "StyleView",
            "description_width": ""
          }
        },
        "7bc2dc45f7a74dd789dd8ff32871b728": {
          "model_module": "@jupyter-widgets/controls",
          "model_name": "HBoxModel",
          "model_module_version": "1.5.0",
          "state": {
            "_dom_classes": [],
            "_model_module": "@jupyter-widgets/controls",
            "_model_module_version": "1.5.0",
            "_model_name": "HBoxModel",
            "_view_count": null,
            "_view_module": "@jupyter-widgets/controls",
            "_view_module_version": "1.5.0",
            "_view_name": "HBoxView",
            "box_style": "",
            "children": [
              "IPY_MODEL_50b8988ace51452bb82af39973666499",
              "IPY_MODEL_c39f885638fe4018aebc09e30ba03d98",
              "IPY_MODEL_0d5784c68a7d4063927be09b9067c75c"
            ],
            "layout": "IPY_MODEL_acac23bec3904d6f9f8cfea1b9fc8646"
          }
        },
        "50b8988ace51452bb82af39973666499": {
          "model_module": "@jupyter-widgets/controls",
          "model_name": "HTMLModel",
          "model_module_version": "1.5.0",
          "state": {
            "_dom_classes": [],
            "_model_module": "@jupyter-widgets/controls",
            "_model_module_version": "1.5.0",
            "_model_name": "HTMLModel",
            "_view_count": null,
            "_view_module": "@jupyter-widgets/controls",
            "_view_module_version": "1.5.0",
            "_view_name": "HTMLView",
            "description": "",
            "description_tooltip": null,
            "layout": "IPY_MODEL_4d4a87139b10440ba656078fe8704495",
            "placeholder": "​",
            "style": "IPY_MODEL_6fffb3c09ffe49179b06e3147ebd4db2",
            "value": "Generating test split: 100%"
          }
        },
        "c39f885638fe4018aebc09e30ba03d98": {
          "model_module": "@jupyter-widgets/controls",
          "model_name": "FloatProgressModel",
          "model_module_version": "1.5.0",
          "state": {
            "_dom_classes": [],
            "_model_module": "@jupyter-widgets/controls",
            "_model_module_version": "1.5.0",
            "_model_name": "FloatProgressModel",
            "_view_count": null,
            "_view_module": "@jupyter-widgets/controls",
            "_view_module_version": "1.5.0",
            "_view_name": "ProgressView",
            "bar_style": "success",
            "description": "",
            "description_tooltip": null,
            "layout": "IPY_MODEL_d9313624dd0249eb98dbf0b265eda217",
            "max": 7600,
            "min": 0,
            "orientation": "horizontal",
            "style": "IPY_MODEL_9b22d9dc0e9544268416cc874de5fc09",
            "value": 7600
          }
        },
        "0d5784c68a7d4063927be09b9067c75c": {
          "model_module": "@jupyter-widgets/controls",
          "model_name": "HTMLModel",
          "model_module_version": "1.5.0",
          "state": {
            "_dom_classes": [],
            "_model_module": "@jupyter-widgets/controls",
            "_model_module_version": "1.5.0",
            "_model_name": "HTMLModel",
            "_view_count": null,
            "_view_module": "@jupyter-widgets/controls",
            "_view_module_version": "1.5.0",
            "_view_name": "HTMLView",
            "description": "",
            "description_tooltip": null,
            "layout": "IPY_MODEL_1189b34e38d14ae981b3b2350c5c9b98",
            "placeholder": "​",
            "style": "IPY_MODEL_83e02c4c424748238be27c4f10a99fcf",
            "value": " 7600/7600 [00:00&lt;00:00, 198485.12 examples/s]"
          }
        },
        "acac23bec3904d6f9f8cfea1b9fc8646": {
          "model_module": "@jupyter-widgets/base",
          "model_name": "LayoutModel",
          "model_module_version": "1.2.0",
          "state": {
            "_model_module": "@jupyter-widgets/base",
            "_model_module_version": "1.2.0",
            "_model_name": "LayoutModel",
            "_view_count": null,
            "_view_module": "@jupyter-widgets/base",
            "_view_module_version": "1.2.0",
            "_view_name": "LayoutView",
            "align_content": null,
            "align_items": null,
            "align_self": null,
            "border": null,
            "bottom": null,
            "display": null,
            "flex": null,
            "flex_flow": null,
            "grid_area": null,
            "grid_auto_columns": null,
            "grid_auto_flow": null,
            "grid_auto_rows": null,
            "grid_column": null,
            "grid_gap": null,
            "grid_row": null,
            "grid_template_areas": null,
            "grid_template_columns": null,
            "grid_template_rows": null,
            "height": null,
            "justify_content": null,
            "justify_items": null,
            "left": null,
            "margin": null,
            "max_height": null,
            "max_width": null,
            "min_height": null,
            "min_width": null,
            "object_fit": null,
            "object_position": null,
            "order": null,
            "overflow": null,
            "overflow_x": null,
            "overflow_y": null,
            "padding": null,
            "right": null,
            "top": null,
            "visibility": null,
            "width": null
          }
        },
        "4d4a87139b10440ba656078fe8704495": {
          "model_module": "@jupyter-widgets/base",
          "model_name": "LayoutModel",
          "model_module_version": "1.2.0",
          "state": {
            "_model_module": "@jupyter-widgets/base",
            "_model_module_version": "1.2.0",
            "_model_name": "LayoutModel",
            "_view_count": null,
            "_view_module": "@jupyter-widgets/base",
            "_view_module_version": "1.2.0",
            "_view_name": "LayoutView",
            "align_content": null,
            "align_items": null,
            "align_self": null,
            "border": null,
            "bottom": null,
            "display": null,
            "flex": null,
            "flex_flow": null,
            "grid_area": null,
            "grid_auto_columns": null,
            "grid_auto_flow": null,
            "grid_auto_rows": null,
            "grid_column": null,
            "grid_gap": null,
            "grid_row": null,
            "grid_template_areas": null,
            "grid_template_columns": null,
            "grid_template_rows": null,
            "height": null,
            "justify_content": null,
            "justify_items": null,
            "left": null,
            "margin": null,
            "max_height": null,
            "max_width": null,
            "min_height": null,
            "min_width": null,
            "object_fit": null,
            "object_position": null,
            "order": null,
            "overflow": null,
            "overflow_x": null,
            "overflow_y": null,
            "padding": null,
            "right": null,
            "top": null,
            "visibility": null,
            "width": null
          }
        },
        "6fffb3c09ffe49179b06e3147ebd4db2": {
          "model_module": "@jupyter-widgets/controls",
          "model_name": "DescriptionStyleModel",
          "model_module_version": "1.5.0",
          "state": {
            "_model_module": "@jupyter-widgets/controls",
            "_model_module_version": "1.5.0",
            "_model_name": "DescriptionStyleModel",
            "_view_count": null,
            "_view_module": "@jupyter-widgets/base",
            "_view_module_version": "1.2.0",
            "_view_name": "StyleView",
            "description_width": ""
          }
        },
        "d9313624dd0249eb98dbf0b265eda217": {
          "model_module": "@jupyter-widgets/base",
          "model_name": "LayoutModel",
          "model_module_version": "1.2.0",
          "state": {
            "_model_module": "@jupyter-widgets/base",
            "_model_module_version": "1.2.0",
            "_model_name": "LayoutModel",
            "_view_count": null,
            "_view_module": "@jupyter-widgets/base",
            "_view_module_version": "1.2.0",
            "_view_name": "LayoutView",
            "align_content": null,
            "align_items": null,
            "align_self": null,
            "border": null,
            "bottom": null,
            "display": null,
            "flex": null,
            "flex_flow": null,
            "grid_area": null,
            "grid_auto_columns": null,
            "grid_auto_flow": null,
            "grid_auto_rows": null,
            "grid_column": null,
            "grid_gap": null,
            "grid_row": null,
            "grid_template_areas": null,
            "grid_template_columns": null,
            "grid_template_rows": null,
            "height": null,
            "justify_content": null,
            "justify_items": null,
            "left": null,
            "margin": null,
            "max_height": null,
            "max_width": null,
            "min_height": null,
            "min_width": null,
            "object_fit": null,
            "object_position": null,
            "order": null,
            "overflow": null,
            "overflow_x": null,
            "overflow_y": null,
            "padding": null,
            "right": null,
            "top": null,
            "visibility": null,
            "width": null
          }
        },
        "9b22d9dc0e9544268416cc874de5fc09": {
          "model_module": "@jupyter-widgets/controls",
          "model_name": "ProgressStyleModel",
          "model_module_version": "1.5.0",
          "state": {
            "_model_module": "@jupyter-widgets/controls",
            "_model_module_version": "1.5.0",
            "_model_name": "ProgressStyleModel",
            "_view_count": null,
            "_view_module": "@jupyter-widgets/base",
            "_view_module_version": "1.2.0",
            "_view_name": "StyleView",
            "bar_color": null,
            "description_width": ""
          }
        },
        "1189b34e38d14ae981b3b2350c5c9b98": {
          "model_module": "@jupyter-widgets/base",
          "model_name": "LayoutModel",
          "model_module_version": "1.2.0",
          "state": {
            "_model_module": "@jupyter-widgets/base",
            "_model_module_version": "1.2.0",
            "_model_name": "LayoutModel",
            "_view_count": null,
            "_view_module": "@jupyter-widgets/base",
            "_view_module_version": "1.2.0",
            "_view_name": "LayoutView",
            "align_content": null,
            "align_items": null,
            "align_self": null,
            "border": null,
            "bottom": null,
            "display": null,
            "flex": null,
            "flex_flow": null,
            "grid_area": null,
            "grid_auto_columns": null,
            "grid_auto_flow": null,
            "grid_auto_rows": null,
            "grid_column": null,
            "grid_gap": null,
            "grid_row": null,
            "grid_template_areas": null,
            "grid_template_columns": null,
            "grid_template_rows": null,
            "height": null,
            "justify_content": null,
            "justify_items": null,
            "left": null,
            "margin": null,
            "max_height": null,
            "max_width": null,
            "min_height": null,
            "min_width": null,
            "object_fit": null,
            "object_position": null,
            "order": null,
            "overflow": null,
            "overflow_x": null,
            "overflow_y": null,
            "padding": null,
            "right": null,
            "top": null,
            "visibility": null,
            "width": null
          }
        },
        "83e02c4c424748238be27c4f10a99fcf": {
          "model_module": "@jupyter-widgets/controls",
          "model_name": "DescriptionStyleModel",
          "model_module_version": "1.5.0",
          "state": {
            "_model_module": "@jupyter-widgets/controls",
            "_model_module_version": "1.5.0",
            "_model_name": "DescriptionStyleModel",
            "_view_count": null,
            "_view_module": "@jupyter-widgets/base",
            "_view_module_version": "1.2.0",
            "_view_name": "StyleView",
            "description_width": ""
          }
        },
        "fabccc88fd2e48d2bd6753550755b663": {
          "model_module": "@jupyter-widgets/controls",
          "model_name": "HBoxModel",
          "model_module_version": "1.5.0",
          "state": {
            "_dom_classes": [],
            "_model_module": "@jupyter-widgets/controls",
            "_model_module_version": "1.5.0",
            "_model_name": "HBoxModel",
            "_view_count": null,
            "_view_module": "@jupyter-widgets/controls",
            "_view_module_version": "1.5.0",
            "_view_name": "HBoxView",
            "box_style": "",
            "children": [
              "IPY_MODEL_15dcfc45d4cb444f904dccf3837452fd",
              "IPY_MODEL_4795bc8bbc6744e296d5c809401679d4",
              "IPY_MODEL_5e855e669a384cdcaedc92aa5a7aab0e"
            ],
            "layout": "IPY_MODEL_a713599214d04adcab1ac42fb8c3e77d"
          }
        },
        "15dcfc45d4cb444f904dccf3837452fd": {
          "model_module": "@jupyter-widgets/controls",
          "model_name": "HTMLModel",
          "model_module_version": "1.5.0",
          "state": {
            "_dom_classes": [],
            "_model_module": "@jupyter-widgets/controls",
            "_model_module_version": "1.5.0",
            "_model_name": "HTMLModel",
            "_view_count": null,
            "_view_module": "@jupyter-widgets/controls",
            "_view_module_version": "1.5.0",
            "_view_name": "HTMLView",
            "description": "",
            "description_tooltip": null,
            "layout": "IPY_MODEL_0c420b7b98b14933a03ff0a20c0eec22",
            "placeholder": "​",
            "style": "IPY_MODEL_04ea62b1bc6f419395ca18aa2738f935",
            "value": "tokenizer_config.json: 100%"
          }
        },
        "4795bc8bbc6744e296d5c809401679d4": {
          "model_module": "@jupyter-widgets/controls",
          "model_name": "FloatProgressModel",
          "model_module_version": "1.5.0",
          "state": {
            "_dom_classes": [],
            "_model_module": "@jupyter-widgets/controls",
            "_model_module_version": "1.5.0",
            "_model_name": "FloatProgressModel",
            "_view_count": null,
            "_view_module": "@jupyter-widgets/controls",
            "_view_module_version": "1.5.0",
            "_view_name": "ProgressView",
            "bar_style": "success",
            "description": "",
            "description_tooltip": null,
            "layout": "IPY_MODEL_7a5d46819a5e4bbaa61845c7531e8668",
            "max": 48,
            "min": 0,
            "orientation": "horizontal",
            "style": "IPY_MODEL_9da4bfc8c5b845bbb4497949bb1e687b",
            "value": 48
          }
        },
        "5e855e669a384cdcaedc92aa5a7aab0e": {
          "model_module": "@jupyter-widgets/controls",
          "model_name": "HTMLModel",
          "model_module_version": "1.5.0",
          "state": {
            "_dom_classes": [],
            "_model_module": "@jupyter-widgets/controls",
            "_model_module_version": "1.5.0",
            "_model_name": "HTMLModel",
            "_view_count": null,
            "_view_module": "@jupyter-widgets/controls",
            "_view_module_version": "1.5.0",
            "_view_name": "HTMLView",
            "description": "",
            "description_tooltip": null,
            "layout": "IPY_MODEL_97235f9f23134f1bb3e2188f24331b9f",
            "placeholder": "​",
            "style": "IPY_MODEL_42d5565a5c2541e188297bc0ac32242a",
            "value": " 48.0/48.0 [00:00&lt;00:00, 4.50kB/s]"
          }
        },
        "a713599214d04adcab1ac42fb8c3e77d": {
          "model_module": "@jupyter-widgets/base",
          "model_name": "LayoutModel",
          "model_module_version": "1.2.0",
          "state": {
            "_model_module": "@jupyter-widgets/base",
            "_model_module_version": "1.2.0",
            "_model_name": "LayoutModel",
            "_view_count": null,
            "_view_module": "@jupyter-widgets/base",
            "_view_module_version": "1.2.0",
            "_view_name": "LayoutView",
            "align_content": null,
            "align_items": null,
            "align_self": null,
            "border": null,
            "bottom": null,
            "display": null,
            "flex": null,
            "flex_flow": null,
            "grid_area": null,
            "grid_auto_columns": null,
            "grid_auto_flow": null,
            "grid_auto_rows": null,
            "grid_column": null,
            "grid_gap": null,
            "grid_row": null,
            "grid_template_areas": null,
            "grid_template_columns": null,
            "grid_template_rows": null,
            "height": null,
            "justify_content": null,
            "justify_items": null,
            "left": null,
            "margin": null,
            "max_height": null,
            "max_width": null,
            "min_height": null,
            "min_width": null,
            "object_fit": null,
            "object_position": null,
            "order": null,
            "overflow": null,
            "overflow_x": null,
            "overflow_y": null,
            "padding": null,
            "right": null,
            "top": null,
            "visibility": null,
            "width": null
          }
        },
        "0c420b7b98b14933a03ff0a20c0eec22": {
          "model_module": "@jupyter-widgets/base",
          "model_name": "LayoutModel",
          "model_module_version": "1.2.0",
          "state": {
            "_model_module": "@jupyter-widgets/base",
            "_model_module_version": "1.2.0",
            "_model_name": "LayoutModel",
            "_view_count": null,
            "_view_module": "@jupyter-widgets/base",
            "_view_module_version": "1.2.0",
            "_view_name": "LayoutView",
            "align_content": null,
            "align_items": null,
            "align_self": null,
            "border": null,
            "bottom": null,
            "display": null,
            "flex": null,
            "flex_flow": null,
            "grid_area": null,
            "grid_auto_columns": null,
            "grid_auto_flow": null,
            "grid_auto_rows": null,
            "grid_column": null,
            "grid_gap": null,
            "grid_row": null,
            "grid_template_areas": null,
            "grid_template_columns": null,
            "grid_template_rows": null,
            "height": null,
            "justify_content": null,
            "justify_items": null,
            "left": null,
            "margin": null,
            "max_height": null,
            "max_width": null,
            "min_height": null,
            "min_width": null,
            "object_fit": null,
            "object_position": null,
            "order": null,
            "overflow": null,
            "overflow_x": null,
            "overflow_y": null,
            "padding": null,
            "right": null,
            "top": null,
            "visibility": null,
            "width": null
          }
        },
        "04ea62b1bc6f419395ca18aa2738f935": {
          "model_module": "@jupyter-widgets/controls",
          "model_name": "DescriptionStyleModel",
          "model_module_version": "1.5.0",
          "state": {
            "_model_module": "@jupyter-widgets/controls",
            "_model_module_version": "1.5.0",
            "_model_name": "DescriptionStyleModel",
            "_view_count": null,
            "_view_module": "@jupyter-widgets/base",
            "_view_module_version": "1.2.0",
            "_view_name": "StyleView",
            "description_width": ""
          }
        },
        "7a5d46819a5e4bbaa61845c7531e8668": {
          "model_module": "@jupyter-widgets/base",
          "model_name": "LayoutModel",
          "model_module_version": "1.2.0",
          "state": {
            "_model_module": "@jupyter-widgets/base",
            "_model_module_version": "1.2.0",
            "_model_name": "LayoutModel",
            "_view_count": null,
            "_view_module": "@jupyter-widgets/base",
            "_view_module_version": "1.2.0",
            "_view_name": "LayoutView",
            "align_content": null,
            "align_items": null,
            "align_self": null,
            "border": null,
            "bottom": null,
            "display": null,
            "flex": null,
            "flex_flow": null,
            "grid_area": null,
            "grid_auto_columns": null,
            "grid_auto_flow": null,
            "grid_auto_rows": null,
            "grid_column": null,
            "grid_gap": null,
            "grid_row": null,
            "grid_template_areas": null,
            "grid_template_columns": null,
            "grid_template_rows": null,
            "height": null,
            "justify_content": null,
            "justify_items": null,
            "left": null,
            "margin": null,
            "max_height": null,
            "max_width": null,
            "min_height": null,
            "min_width": null,
            "object_fit": null,
            "object_position": null,
            "order": null,
            "overflow": null,
            "overflow_x": null,
            "overflow_y": null,
            "padding": null,
            "right": null,
            "top": null,
            "visibility": null,
            "width": null
          }
        },
        "9da4bfc8c5b845bbb4497949bb1e687b": {
          "model_module": "@jupyter-widgets/controls",
          "model_name": "ProgressStyleModel",
          "model_module_version": "1.5.0",
          "state": {
            "_model_module": "@jupyter-widgets/controls",
            "_model_module_version": "1.5.0",
            "_model_name": "ProgressStyleModel",
            "_view_count": null,
            "_view_module": "@jupyter-widgets/base",
            "_view_module_version": "1.2.0",
            "_view_name": "StyleView",
            "bar_color": null,
            "description_width": ""
          }
        },
        "97235f9f23134f1bb3e2188f24331b9f": {
          "model_module": "@jupyter-widgets/base",
          "model_name": "LayoutModel",
          "model_module_version": "1.2.0",
          "state": {
            "_model_module": "@jupyter-widgets/base",
            "_model_module_version": "1.2.0",
            "_model_name": "LayoutModel",
            "_view_count": null,
            "_view_module": "@jupyter-widgets/base",
            "_view_module_version": "1.2.0",
            "_view_name": "LayoutView",
            "align_content": null,
            "align_items": null,
            "align_self": null,
            "border": null,
            "bottom": null,
            "display": null,
            "flex": null,
            "flex_flow": null,
            "grid_area": null,
            "grid_auto_columns": null,
            "grid_auto_flow": null,
            "grid_auto_rows": null,
            "grid_column": null,
            "grid_gap": null,
            "grid_row": null,
            "grid_template_areas": null,
            "grid_template_columns": null,
            "grid_template_rows": null,
            "height": null,
            "justify_content": null,
            "justify_items": null,
            "left": null,
            "margin": null,
            "max_height": null,
            "max_width": null,
            "min_height": null,
            "min_width": null,
            "object_fit": null,
            "object_position": null,
            "order": null,
            "overflow": null,
            "overflow_x": null,
            "overflow_y": null,
            "padding": null,
            "right": null,
            "top": null,
            "visibility": null,
            "width": null
          }
        },
        "42d5565a5c2541e188297bc0ac32242a": {
          "model_module": "@jupyter-widgets/controls",
          "model_name": "DescriptionStyleModel",
          "model_module_version": "1.5.0",
          "state": {
            "_model_module": "@jupyter-widgets/controls",
            "_model_module_version": "1.5.0",
            "_model_name": "DescriptionStyleModel",
            "_view_count": null,
            "_view_module": "@jupyter-widgets/base",
            "_view_module_version": "1.2.0",
            "_view_name": "StyleView",
            "description_width": ""
          }
        },
        "7996e46a611b4059a3b0a0403ddccd8d": {
          "model_module": "@jupyter-widgets/controls",
          "model_name": "HBoxModel",
          "model_module_version": "1.5.0",
          "state": {
            "_dom_classes": [],
            "_model_module": "@jupyter-widgets/controls",
            "_model_module_version": "1.5.0",
            "_model_name": "HBoxModel",
            "_view_count": null,
            "_view_module": "@jupyter-widgets/controls",
            "_view_module_version": "1.5.0",
            "_view_name": "HBoxView",
            "box_style": "",
            "children": [
              "IPY_MODEL_59e06024f9594ec4bdbd3d7da43e01cb",
              "IPY_MODEL_b89a195ab53940c8a40201fc8be4e114",
              "IPY_MODEL_8948b790fa8c43778322c8d49ac29d78"
            ],
            "layout": "IPY_MODEL_d40bfe4184ce45fdba5df11da9330c81"
          }
        },
        "59e06024f9594ec4bdbd3d7da43e01cb": {
          "model_module": "@jupyter-widgets/controls",
          "model_name": "HTMLModel",
          "model_module_version": "1.5.0",
          "state": {
            "_dom_classes": [],
            "_model_module": "@jupyter-widgets/controls",
            "_model_module_version": "1.5.0",
            "_model_name": "HTMLModel",
            "_view_count": null,
            "_view_module": "@jupyter-widgets/controls",
            "_view_module_version": "1.5.0",
            "_view_name": "HTMLView",
            "description": "",
            "description_tooltip": null,
            "layout": "IPY_MODEL_463835fd2b704131868819c6c4d194a2",
            "placeholder": "​",
            "style": "IPY_MODEL_f5906289b1f345f4b75cd1c3e3ecb5b1",
            "value": "vocab.txt: 100%"
          }
        },
        "b89a195ab53940c8a40201fc8be4e114": {
          "model_module": "@jupyter-widgets/controls",
          "model_name": "FloatProgressModel",
          "model_module_version": "1.5.0",
          "state": {
            "_dom_classes": [],
            "_model_module": "@jupyter-widgets/controls",
            "_model_module_version": "1.5.0",
            "_model_name": "FloatProgressModel",
            "_view_count": null,
            "_view_module": "@jupyter-widgets/controls",
            "_view_module_version": "1.5.0",
            "_view_name": "ProgressView",
            "bar_style": "success",
            "description": "",
            "description_tooltip": null,
            "layout": "IPY_MODEL_38a1346a139d43a689fd5695d69cd51d",
            "max": 231508,
            "min": 0,
            "orientation": "horizontal",
            "style": "IPY_MODEL_f2257cfbcbad4eab86171967fe70aa49",
            "value": 231508
          }
        },
        "8948b790fa8c43778322c8d49ac29d78": {
          "model_module": "@jupyter-widgets/controls",
          "model_name": "HTMLModel",
          "model_module_version": "1.5.0",
          "state": {
            "_dom_classes": [],
            "_model_module": "@jupyter-widgets/controls",
            "_model_module_version": "1.5.0",
            "_model_name": "HTMLModel",
            "_view_count": null,
            "_view_module": "@jupyter-widgets/controls",
            "_view_module_version": "1.5.0",
            "_view_name": "HTMLView",
            "description": "",
            "description_tooltip": null,
            "layout": "IPY_MODEL_e63e7985bde24a64913cfb9f69aa14db",
            "placeholder": "​",
            "style": "IPY_MODEL_718fd40f711b492eb6855a25adb55f0f",
            "value": " 232k/232k [00:00&lt;00:00, 1.08MB/s]"
          }
        },
        "d40bfe4184ce45fdba5df11da9330c81": {
          "model_module": "@jupyter-widgets/base",
          "model_name": "LayoutModel",
          "model_module_version": "1.2.0",
          "state": {
            "_model_module": "@jupyter-widgets/base",
            "_model_module_version": "1.2.0",
            "_model_name": "LayoutModel",
            "_view_count": null,
            "_view_module": "@jupyter-widgets/base",
            "_view_module_version": "1.2.0",
            "_view_name": "LayoutView",
            "align_content": null,
            "align_items": null,
            "align_self": null,
            "border": null,
            "bottom": null,
            "display": null,
            "flex": null,
            "flex_flow": null,
            "grid_area": null,
            "grid_auto_columns": null,
            "grid_auto_flow": null,
            "grid_auto_rows": null,
            "grid_column": null,
            "grid_gap": null,
            "grid_row": null,
            "grid_template_areas": null,
            "grid_template_columns": null,
            "grid_template_rows": null,
            "height": null,
            "justify_content": null,
            "justify_items": null,
            "left": null,
            "margin": null,
            "max_height": null,
            "max_width": null,
            "min_height": null,
            "min_width": null,
            "object_fit": null,
            "object_position": null,
            "order": null,
            "overflow": null,
            "overflow_x": null,
            "overflow_y": null,
            "padding": null,
            "right": null,
            "top": null,
            "visibility": null,
            "width": null
          }
        },
        "463835fd2b704131868819c6c4d194a2": {
          "model_module": "@jupyter-widgets/base",
          "model_name": "LayoutModel",
          "model_module_version": "1.2.0",
          "state": {
            "_model_module": "@jupyter-widgets/base",
            "_model_module_version": "1.2.0",
            "_model_name": "LayoutModel",
            "_view_count": null,
            "_view_module": "@jupyter-widgets/base",
            "_view_module_version": "1.2.0",
            "_view_name": "LayoutView",
            "align_content": null,
            "align_items": null,
            "align_self": null,
            "border": null,
            "bottom": null,
            "display": null,
            "flex": null,
            "flex_flow": null,
            "grid_area": null,
            "grid_auto_columns": null,
            "grid_auto_flow": null,
            "grid_auto_rows": null,
            "grid_column": null,
            "grid_gap": null,
            "grid_row": null,
            "grid_template_areas": null,
            "grid_template_columns": null,
            "grid_template_rows": null,
            "height": null,
            "justify_content": null,
            "justify_items": null,
            "left": null,
            "margin": null,
            "max_height": null,
            "max_width": null,
            "min_height": null,
            "min_width": null,
            "object_fit": null,
            "object_position": null,
            "order": null,
            "overflow": null,
            "overflow_x": null,
            "overflow_y": null,
            "padding": null,
            "right": null,
            "top": null,
            "visibility": null,
            "width": null
          }
        },
        "f5906289b1f345f4b75cd1c3e3ecb5b1": {
          "model_module": "@jupyter-widgets/controls",
          "model_name": "DescriptionStyleModel",
          "model_module_version": "1.5.0",
          "state": {
            "_model_module": "@jupyter-widgets/controls",
            "_model_module_version": "1.5.0",
            "_model_name": "DescriptionStyleModel",
            "_view_count": null,
            "_view_module": "@jupyter-widgets/base",
            "_view_module_version": "1.2.0",
            "_view_name": "StyleView",
            "description_width": ""
          }
        },
        "38a1346a139d43a689fd5695d69cd51d": {
          "model_module": "@jupyter-widgets/base",
          "model_name": "LayoutModel",
          "model_module_version": "1.2.0",
          "state": {
            "_model_module": "@jupyter-widgets/base",
            "_model_module_version": "1.2.0",
            "_model_name": "LayoutModel",
            "_view_count": null,
            "_view_module": "@jupyter-widgets/base",
            "_view_module_version": "1.2.0",
            "_view_name": "LayoutView",
            "align_content": null,
            "align_items": null,
            "align_self": null,
            "border": null,
            "bottom": null,
            "display": null,
            "flex": null,
            "flex_flow": null,
            "grid_area": null,
            "grid_auto_columns": null,
            "grid_auto_flow": null,
            "grid_auto_rows": null,
            "grid_column": null,
            "grid_gap": null,
            "grid_row": null,
            "grid_template_areas": null,
            "grid_template_columns": null,
            "grid_template_rows": null,
            "height": null,
            "justify_content": null,
            "justify_items": null,
            "left": null,
            "margin": null,
            "max_height": null,
            "max_width": null,
            "min_height": null,
            "min_width": null,
            "object_fit": null,
            "object_position": null,
            "order": null,
            "overflow": null,
            "overflow_x": null,
            "overflow_y": null,
            "padding": null,
            "right": null,
            "top": null,
            "visibility": null,
            "width": null
          }
        },
        "f2257cfbcbad4eab86171967fe70aa49": {
          "model_module": "@jupyter-widgets/controls",
          "model_name": "ProgressStyleModel",
          "model_module_version": "1.5.0",
          "state": {
            "_model_module": "@jupyter-widgets/controls",
            "_model_module_version": "1.5.0",
            "_model_name": "ProgressStyleModel",
            "_view_count": null,
            "_view_module": "@jupyter-widgets/base",
            "_view_module_version": "1.2.0",
            "_view_name": "StyleView",
            "bar_color": null,
            "description_width": ""
          }
        },
        "e63e7985bde24a64913cfb9f69aa14db": {
          "model_module": "@jupyter-widgets/base",
          "model_name": "LayoutModel",
          "model_module_version": "1.2.0",
          "state": {
            "_model_module": "@jupyter-widgets/base",
            "_model_module_version": "1.2.0",
            "_model_name": "LayoutModel",
            "_view_count": null,
            "_view_module": "@jupyter-widgets/base",
            "_view_module_version": "1.2.0",
            "_view_name": "LayoutView",
            "align_content": null,
            "align_items": null,
            "align_self": null,
            "border": null,
            "bottom": null,
            "display": null,
            "flex": null,
            "flex_flow": null,
            "grid_area": null,
            "grid_auto_columns": null,
            "grid_auto_flow": null,
            "grid_auto_rows": null,
            "grid_column": null,
            "grid_gap": null,
            "grid_row": null,
            "grid_template_areas": null,
            "grid_template_columns": null,
            "grid_template_rows": null,
            "height": null,
            "justify_content": null,
            "justify_items": null,
            "left": null,
            "margin": null,
            "max_height": null,
            "max_width": null,
            "min_height": null,
            "min_width": null,
            "object_fit": null,
            "object_position": null,
            "order": null,
            "overflow": null,
            "overflow_x": null,
            "overflow_y": null,
            "padding": null,
            "right": null,
            "top": null,
            "visibility": null,
            "width": null
          }
        },
        "718fd40f711b492eb6855a25adb55f0f": {
          "model_module": "@jupyter-widgets/controls",
          "model_name": "DescriptionStyleModel",
          "model_module_version": "1.5.0",
          "state": {
            "_model_module": "@jupyter-widgets/controls",
            "_model_module_version": "1.5.0",
            "_model_name": "DescriptionStyleModel",
            "_view_count": null,
            "_view_module": "@jupyter-widgets/base",
            "_view_module_version": "1.2.0",
            "_view_name": "StyleView",
            "description_width": ""
          }
        },
        "deea04b699864592a7754ca35458f8c1": {
          "model_module": "@jupyter-widgets/controls",
          "model_name": "HBoxModel",
          "model_module_version": "1.5.0",
          "state": {
            "_dom_classes": [],
            "_model_module": "@jupyter-widgets/controls",
            "_model_module_version": "1.5.0",
            "_model_name": "HBoxModel",
            "_view_count": null,
            "_view_module": "@jupyter-widgets/controls",
            "_view_module_version": "1.5.0",
            "_view_name": "HBoxView",
            "box_style": "",
            "children": [
              "IPY_MODEL_b9830bc211704e4599240404cc88fe02",
              "IPY_MODEL_f7d93d19ae644595a1723d9599e880e6",
              "IPY_MODEL_4b95a1b084d2460f8bdf8ba91b44cf30"
            ],
            "layout": "IPY_MODEL_a874b74bb4194de7bf0873b462d235ca"
          }
        },
        "b9830bc211704e4599240404cc88fe02": {
          "model_module": "@jupyter-widgets/controls",
          "model_name": "HTMLModel",
          "model_module_version": "1.5.0",
          "state": {
            "_dom_classes": [],
            "_model_module": "@jupyter-widgets/controls",
            "_model_module_version": "1.5.0",
            "_model_name": "HTMLModel",
            "_view_count": null,
            "_view_module": "@jupyter-widgets/controls",
            "_view_module_version": "1.5.0",
            "_view_name": "HTMLView",
            "description": "",
            "description_tooltip": null,
            "layout": "IPY_MODEL_b0e6ff1bf30a440b96e176a227278850",
            "placeholder": "​",
            "style": "IPY_MODEL_fe2e3b0f450e4f669afcb04d9114a075",
            "value": "tokenizer.json: 100%"
          }
        },
        "f7d93d19ae644595a1723d9599e880e6": {
          "model_module": "@jupyter-widgets/controls",
          "model_name": "FloatProgressModel",
          "model_module_version": "1.5.0",
          "state": {
            "_dom_classes": [],
            "_model_module": "@jupyter-widgets/controls",
            "_model_module_version": "1.5.0",
            "_model_name": "FloatProgressModel",
            "_view_count": null,
            "_view_module": "@jupyter-widgets/controls",
            "_view_module_version": "1.5.0",
            "_view_name": "ProgressView",
            "bar_style": "success",
            "description": "",
            "description_tooltip": null,
            "layout": "IPY_MODEL_ac7f257e8b33427a93a23aa35a16208b",
            "max": 466062,
            "min": 0,
            "orientation": "horizontal",
            "style": "IPY_MODEL_3779e98fc57e466ab0b59cd2f3f95148",
            "value": 466062
          }
        },
        "4b95a1b084d2460f8bdf8ba91b44cf30": {
          "model_module": "@jupyter-widgets/controls",
          "model_name": "HTMLModel",
          "model_module_version": "1.5.0",
          "state": {
            "_dom_classes": [],
            "_model_module": "@jupyter-widgets/controls",
            "_model_module_version": "1.5.0",
            "_model_name": "HTMLModel",
            "_view_count": null,
            "_view_module": "@jupyter-widgets/controls",
            "_view_module_version": "1.5.0",
            "_view_name": "HTMLView",
            "description": "",
            "description_tooltip": null,
            "layout": "IPY_MODEL_7a0352d934b64fd9a20e166cecf4efc9",
            "placeholder": "​",
            "style": "IPY_MODEL_adb6ba8184d342e99056e60246a170f5",
            "value": " 466k/466k [00:00&lt;00:00, 2.13MB/s]"
          }
        },
        "a874b74bb4194de7bf0873b462d235ca": {
          "model_module": "@jupyter-widgets/base",
          "model_name": "LayoutModel",
          "model_module_version": "1.2.0",
          "state": {
            "_model_module": "@jupyter-widgets/base",
            "_model_module_version": "1.2.0",
            "_model_name": "LayoutModel",
            "_view_count": null,
            "_view_module": "@jupyter-widgets/base",
            "_view_module_version": "1.2.0",
            "_view_name": "LayoutView",
            "align_content": null,
            "align_items": null,
            "align_self": null,
            "border": null,
            "bottom": null,
            "display": null,
            "flex": null,
            "flex_flow": null,
            "grid_area": null,
            "grid_auto_columns": null,
            "grid_auto_flow": null,
            "grid_auto_rows": null,
            "grid_column": null,
            "grid_gap": null,
            "grid_row": null,
            "grid_template_areas": null,
            "grid_template_columns": null,
            "grid_template_rows": null,
            "height": null,
            "justify_content": null,
            "justify_items": null,
            "left": null,
            "margin": null,
            "max_height": null,
            "max_width": null,
            "min_height": null,
            "min_width": null,
            "object_fit": null,
            "object_position": null,
            "order": null,
            "overflow": null,
            "overflow_x": null,
            "overflow_y": null,
            "padding": null,
            "right": null,
            "top": null,
            "visibility": null,
            "width": null
          }
        },
        "b0e6ff1bf30a440b96e176a227278850": {
          "model_module": "@jupyter-widgets/base",
          "model_name": "LayoutModel",
          "model_module_version": "1.2.0",
          "state": {
            "_model_module": "@jupyter-widgets/base",
            "_model_module_version": "1.2.0",
            "_model_name": "LayoutModel",
            "_view_count": null,
            "_view_module": "@jupyter-widgets/base",
            "_view_module_version": "1.2.0",
            "_view_name": "LayoutView",
            "align_content": null,
            "align_items": null,
            "align_self": null,
            "border": null,
            "bottom": null,
            "display": null,
            "flex": null,
            "flex_flow": null,
            "grid_area": null,
            "grid_auto_columns": null,
            "grid_auto_flow": null,
            "grid_auto_rows": null,
            "grid_column": null,
            "grid_gap": null,
            "grid_row": null,
            "grid_template_areas": null,
            "grid_template_columns": null,
            "grid_template_rows": null,
            "height": null,
            "justify_content": null,
            "justify_items": null,
            "left": null,
            "margin": null,
            "max_height": null,
            "max_width": null,
            "min_height": null,
            "min_width": null,
            "object_fit": null,
            "object_position": null,
            "order": null,
            "overflow": null,
            "overflow_x": null,
            "overflow_y": null,
            "padding": null,
            "right": null,
            "top": null,
            "visibility": null,
            "width": null
          }
        },
        "fe2e3b0f450e4f669afcb04d9114a075": {
          "model_module": "@jupyter-widgets/controls",
          "model_name": "DescriptionStyleModel",
          "model_module_version": "1.5.0",
          "state": {
            "_model_module": "@jupyter-widgets/controls",
            "_model_module_version": "1.5.0",
            "_model_name": "DescriptionStyleModel",
            "_view_count": null,
            "_view_module": "@jupyter-widgets/base",
            "_view_module_version": "1.2.0",
            "_view_name": "StyleView",
            "description_width": ""
          }
        },
        "ac7f257e8b33427a93a23aa35a16208b": {
          "model_module": "@jupyter-widgets/base",
          "model_name": "LayoutModel",
          "model_module_version": "1.2.0",
          "state": {
            "_model_module": "@jupyter-widgets/base",
            "_model_module_version": "1.2.0",
            "_model_name": "LayoutModel",
            "_view_count": null,
            "_view_module": "@jupyter-widgets/base",
            "_view_module_version": "1.2.0",
            "_view_name": "LayoutView",
            "align_content": null,
            "align_items": null,
            "align_self": null,
            "border": null,
            "bottom": null,
            "display": null,
            "flex": null,
            "flex_flow": null,
            "grid_area": null,
            "grid_auto_columns": null,
            "grid_auto_flow": null,
            "grid_auto_rows": null,
            "grid_column": null,
            "grid_gap": null,
            "grid_row": null,
            "grid_template_areas": null,
            "grid_template_columns": null,
            "grid_template_rows": null,
            "height": null,
            "justify_content": null,
            "justify_items": null,
            "left": null,
            "margin": null,
            "max_height": null,
            "max_width": null,
            "min_height": null,
            "min_width": null,
            "object_fit": null,
            "object_position": null,
            "order": null,
            "overflow": null,
            "overflow_x": null,
            "overflow_y": null,
            "padding": null,
            "right": null,
            "top": null,
            "visibility": null,
            "width": null
          }
        },
        "3779e98fc57e466ab0b59cd2f3f95148": {
          "model_module": "@jupyter-widgets/controls",
          "model_name": "ProgressStyleModel",
          "model_module_version": "1.5.0",
          "state": {
            "_model_module": "@jupyter-widgets/controls",
            "_model_module_version": "1.5.0",
            "_model_name": "ProgressStyleModel",
            "_view_count": null,
            "_view_module": "@jupyter-widgets/base",
            "_view_module_version": "1.2.0",
            "_view_name": "StyleView",
            "bar_color": null,
            "description_width": ""
          }
        },
        "7a0352d934b64fd9a20e166cecf4efc9": {
          "model_module": "@jupyter-widgets/base",
          "model_name": "LayoutModel",
          "model_module_version": "1.2.0",
          "state": {
            "_model_module": "@jupyter-widgets/base",
            "_model_module_version": "1.2.0",
            "_model_name": "LayoutModel",
            "_view_count": null,
            "_view_module": "@jupyter-widgets/base",
            "_view_module_version": "1.2.0",
            "_view_name": "LayoutView",
            "align_content": null,
            "align_items": null,
            "align_self": null,
            "border": null,
            "bottom": null,
            "display": null,
            "flex": null,
            "flex_flow": null,
            "grid_area": null,
            "grid_auto_columns": null,
            "grid_auto_flow": null,
            "grid_auto_rows": null,
            "grid_column": null,
            "grid_gap": null,
            "grid_row": null,
            "grid_template_areas": null,
            "grid_template_columns": null,
            "grid_template_rows": null,
            "height": null,
            "justify_content": null,
            "justify_items": null,
            "left": null,
            "margin": null,
            "max_height": null,
            "max_width": null,
            "min_height": null,
            "min_width": null,
            "object_fit": null,
            "object_position": null,
            "order": null,
            "overflow": null,
            "overflow_x": null,
            "overflow_y": null,
            "padding": null,
            "right": null,
            "top": null,
            "visibility": null,
            "width": null
          }
        },
        "adb6ba8184d342e99056e60246a170f5": {
          "model_module": "@jupyter-widgets/controls",
          "model_name": "DescriptionStyleModel",
          "model_module_version": "1.5.0",
          "state": {
            "_model_module": "@jupyter-widgets/controls",
            "_model_module_version": "1.5.0",
            "_model_name": "DescriptionStyleModel",
            "_view_count": null,
            "_view_module": "@jupyter-widgets/base",
            "_view_module_version": "1.2.0",
            "_view_name": "StyleView",
            "description_width": ""
          }
        },
        "ea77d230cdb74576adf0b92ac3abcef1": {
          "model_module": "@jupyter-widgets/controls",
          "model_name": "HBoxModel",
          "model_module_version": "1.5.0",
          "state": {
            "_dom_classes": [],
            "_model_module": "@jupyter-widgets/controls",
            "_model_module_version": "1.5.0",
            "_model_name": "HBoxModel",
            "_view_count": null,
            "_view_module": "@jupyter-widgets/controls",
            "_view_module_version": "1.5.0",
            "_view_name": "HBoxView",
            "box_style": "",
            "children": [
              "IPY_MODEL_9fe33f7138954e2eac29c3682985df8d",
              "IPY_MODEL_cb296cb8db964b0b92d56a91c5023223",
              "IPY_MODEL_f0b04f17c5224b4ea692a58d7968d35a"
            ],
            "layout": "IPY_MODEL_3f14cfa87b2949b99e1b769b462a86bc"
          }
        },
        "9fe33f7138954e2eac29c3682985df8d": {
          "model_module": "@jupyter-widgets/controls",
          "model_name": "HTMLModel",
          "model_module_version": "1.5.0",
          "state": {
            "_dom_classes": [],
            "_model_module": "@jupyter-widgets/controls",
            "_model_module_version": "1.5.0",
            "_model_name": "HTMLModel",
            "_view_count": null,
            "_view_module": "@jupyter-widgets/controls",
            "_view_module_version": "1.5.0",
            "_view_name": "HTMLView",
            "description": "",
            "description_tooltip": null,
            "layout": "IPY_MODEL_641d5d51df4b4169acdee398f00babfb",
            "placeholder": "​",
            "style": "IPY_MODEL_92a5700ccc4a457d95818e4a4bf5b33a",
            "value": "config.json: 100%"
          }
        },
        "cb296cb8db964b0b92d56a91c5023223": {
          "model_module": "@jupyter-widgets/controls",
          "model_name": "FloatProgressModel",
          "model_module_version": "1.5.0",
          "state": {
            "_dom_classes": [],
            "_model_module": "@jupyter-widgets/controls",
            "_model_module_version": "1.5.0",
            "_model_name": "FloatProgressModel",
            "_view_count": null,
            "_view_module": "@jupyter-widgets/controls",
            "_view_module_version": "1.5.0",
            "_view_name": "ProgressView",
            "bar_style": "success",
            "description": "",
            "description_tooltip": null,
            "layout": "IPY_MODEL_1f0da161296e450d9924daed5ecf6217",
            "max": 483,
            "min": 0,
            "orientation": "horizontal",
            "style": "IPY_MODEL_25acbb70c2914119b19aadc3f433e030",
            "value": 483
          }
        },
        "f0b04f17c5224b4ea692a58d7968d35a": {
          "model_module": "@jupyter-widgets/controls",
          "model_name": "HTMLModel",
          "model_module_version": "1.5.0",
          "state": {
            "_dom_classes": [],
            "_model_module": "@jupyter-widgets/controls",
            "_model_module_version": "1.5.0",
            "_model_name": "HTMLModel",
            "_view_count": null,
            "_view_module": "@jupyter-widgets/controls",
            "_view_module_version": "1.5.0",
            "_view_name": "HTMLView",
            "description": "",
            "description_tooltip": null,
            "layout": "IPY_MODEL_15abd0909fd8494dbb1af220a1eaa2fb",
            "placeholder": "​",
            "style": "IPY_MODEL_79680db09ed5441d944103edf5306e4c",
            "value": " 483/483 [00:00&lt;00:00, 21.3kB/s]"
          }
        },
        "3f14cfa87b2949b99e1b769b462a86bc": {
          "model_module": "@jupyter-widgets/base",
          "model_name": "LayoutModel",
          "model_module_version": "1.2.0",
          "state": {
            "_model_module": "@jupyter-widgets/base",
            "_model_module_version": "1.2.0",
            "_model_name": "LayoutModel",
            "_view_count": null,
            "_view_module": "@jupyter-widgets/base",
            "_view_module_version": "1.2.0",
            "_view_name": "LayoutView",
            "align_content": null,
            "align_items": null,
            "align_self": null,
            "border": null,
            "bottom": null,
            "display": null,
            "flex": null,
            "flex_flow": null,
            "grid_area": null,
            "grid_auto_columns": null,
            "grid_auto_flow": null,
            "grid_auto_rows": null,
            "grid_column": null,
            "grid_gap": null,
            "grid_row": null,
            "grid_template_areas": null,
            "grid_template_columns": null,
            "grid_template_rows": null,
            "height": null,
            "justify_content": null,
            "justify_items": null,
            "left": null,
            "margin": null,
            "max_height": null,
            "max_width": null,
            "min_height": null,
            "min_width": null,
            "object_fit": null,
            "object_position": null,
            "order": null,
            "overflow": null,
            "overflow_x": null,
            "overflow_y": null,
            "padding": null,
            "right": null,
            "top": null,
            "visibility": null,
            "width": null
          }
        },
        "641d5d51df4b4169acdee398f00babfb": {
          "model_module": "@jupyter-widgets/base",
          "model_name": "LayoutModel",
          "model_module_version": "1.2.0",
          "state": {
            "_model_module": "@jupyter-widgets/base",
            "_model_module_version": "1.2.0",
            "_model_name": "LayoutModel",
            "_view_count": null,
            "_view_module": "@jupyter-widgets/base",
            "_view_module_version": "1.2.0",
            "_view_name": "LayoutView",
            "align_content": null,
            "align_items": null,
            "align_self": null,
            "border": null,
            "bottom": null,
            "display": null,
            "flex": null,
            "flex_flow": null,
            "grid_area": null,
            "grid_auto_columns": null,
            "grid_auto_flow": null,
            "grid_auto_rows": null,
            "grid_column": null,
            "grid_gap": null,
            "grid_row": null,
            "grid_template_areas": null,
            "grid_template_columns": null,
            "grid_template_rows": null,
            "height": null,
            "justify_content": null,
            "justify_items": null,
            "left": null,
            "margin": null,
            "max_height": null,
            "max_width": null,
            "min_height": null,
            "min_width": null,
            "object_fit": null,
            "object_position": null,
            "order": null,
            "overflow": null,
            "overflow_x": null,
            "overflow_y": null,
            "padding": null,
            "right": null,
            "top": null,
            "visibility": null,
            "width": null
          }
        },
        "92a5700ccc4a457d95818e4a4bf5b33a": {
          "model_module": "@jupyter-widgets/controls",
          "model_name": "DescriptionStyleModel",
          "model_module_version": "1.5.0",
          "state": {
            "_model_module": "@jupyter-widgets/controls",
            "_model_module_version": "1.5.0",
            "_model_name": "DescriptionStyleModel",
            "_view_count": null,
            "_view_module": "@jupyter-widgets/base",
            "_view_module_version": "1.2.0",
            "_view_name": "StyleView",
            "description_width": ""
          }
        },
        "1f0da161296e450d9924daed5ecf6217": {
          "model_module": "@jupyter-widgets/base",
          "model_name": "LayoutModel",
          "model_module_version": "1.2.0",
          "state": {
            "_model_module": "@jupyter-widgets/base",
            "_model_module_version": "1.2.0",
            "_model_name": "LayoutModel",
            "_view_count": null,
            "_view_module": "@jupyter-widgets/base",
            "_view_module_version": "1.2.0",
            "_view_name": "LayoutView",
            "align_content": null,
            "align_items": null,
            "align_self": null,
            "border": null,
            "bottom": null,
            "display": null,
            "flex": null,
            "flex_flow": null,
            "grid_area": null,
            "grid_auto_columns": null,
            "grid_auto_flow": null,
            "grid_auto_rows": null,
            "grid_column": null,
            "grid_gap": null,
            "grid_row": null,
            "grid_template_areas": null,
            "grid_template_columns": null,
            "grid_template_rows": null,
            "height": null,
            "justify_content": null,
            "justify_items": null,
            "left": null,
            "margin": null,
            "max_height": null,
            "max_width": null,
            "min_height": null,
            "min_width": null,
            "object_fit": null,
            "object_position": null,
            "order": null,
            "overflow": null,
            "overflow_x": null,
            "overflow_y": null,
            "padding": null,
            "right": null,
            "top": null,
            "visibility": null,
            "width": null
          }
        },
        "25acbb70c2914119b19aadc3f433e030": {
          "model_module": "@jupyter-widgets/controls",
          "model_name": "ProgressStyleModel",
          "model_module_version": "1.5.0",
          "state": {
            "_model_module": "@jupyter-widgets/controls",
            "_model_module_version": "1.5.0",
            "_model_name": "ProgressStyleModel",
            "_view_count": null,
            "_view_module": "@jupyter-widgets/base",
            "_view_module_version": "1.2.0",
            "_view_name": "StyleView",
            "bar_color": null,
            "description_width": ""
          }
        },
        "15abd0909fd8494dbb1af220a1eaa2fb": {
          "model_module": "@jupyter-widgets/base",
          "model_name": "LayoutModel",
          "model_module_version": "1.2.0",
          "state": {
            "_model_module": "@jupyter-widgets/base",
            "_model_module_version": "1.2.0",
            "_model_name": "LayoutModel",
            "_view_count": null,
            "_view_module": "@jupyter-widgets/base",
            "_view_module_version": "1.2.0",
            "_view_name": "LayoutView",
            "align_content": null,
            "align_items": null,
            "align_self": null,
            "border": null,
            "bottom": null,
            "display": null,
            "flex": null,
            "flex_flow": null,
            "grid_area": null,
            "grid_auto_columns": null,
            "grid_auto_flow": null,
            "grid_auto_rows": null,
            "grid_column": null,
            "grid_gap": null,
            "grid_row": null,
            "grid_template_areas": null,
            "grid_template_columns": null,
            "grid_template_rows": null,
            "height": null,
            "justify_content": null,
            "justify_items": null,
            "left": null,
            "margin": null,
            "max_height": null,
            "max_width": null,
            "min_height": null,
            "min_width": null,
            "object_fit": null,
            "object_position": null,
            "order": null,
            "overflow": null,
            "overflow_x": null,
            "overflow_y": null,
            "padding": null,
            "right": null,
            "top": null,
            "visibility": null,
            "width": null
          }
        },
        "79680db09ed5441d944103edf5306e4c": {
          "model_module": "@jupyter-widgets/controls",
          "model_name": "DescriptionStyleModel",
          "model_module_version": "1.5.0",
          "state": {
            "_model_module": "@jupyter-widgets/controls",
            "_model_module_version": "1.5.0",
            "_model_name": "DescriptionStyleModel",
            "_view_count": null,
            "_view_module": "@jupyter-widgets/base",
            "_view_module_version": "1.2.0",
            "_view_name": "StyleView",
            "description_width": ""
          }
        },
        "0aab9fc855f7470f9cef8f575f4b0f7d": {
          "model_module": "@jupyter-widgets/controls",
          "model_name": "HBoxModel",
          "model_module_version": "1.5.0",
          "state": {
            "_dom_classes": [],
            "_model_module": "@jupyter-widgets/controls",
            "_model_module_version": "1.5.0",
            "_model_name": "HBoxModel",
            "_view_count": null,
            "_view_module": "@jupyter-widgets/controls",
            "_view_module_version": "1.5.0",
            "_view_name": "HBoxView",
            "box_style": "",
            "children": [
              "IPY_MODEL_fc35190c2b604e9cae7da4eab3989f28",
              "IPY_MODEL_327bdb6951de47a2be3d0f1ff26f1e11",
              "IPY_MODEL_2b668455f71847b3832e276c7351290c"
            ],
            "layout": "IPY_MODEL_bed8eb46305a40d98506da43d6a53993"
          }
        },
        "fc35190c2b604e9cae7da4eab3989f28": {
          "model_module": "@jupyter-widgets/controls",
          "model_name": "HTMLModel",
          "model_module_version": "1.5.0",
          "state": {
            "_dom_classes": [],
            "_model_module": "@jupyter-widgets/controls",
            "_model_module_version": "1.5.0",
            "_model_name": "HTMLModel",
            "_view_count": null,
            "_view_module": "@jupyter-widgets/controls",
            "_view_module_version": "1.5.0",
            "_view_name": "HTMLView",
            "description": "",
            "description_tooltip": null,
            "layout": "IPY_MODEL_cc4fad4197174f2484fbe60b391c578e",
            "placeholder": "​",
            "style": "IPY_MODEL_8c13bec3cb084a899d9144c693d1002f",
            "value": "model.safetensors: 100%"
          }
        },
        "327bdb6951de47a2be3d0f1ff26f1e11": {
          "model_module": "@jupyter-widgets/controls",
          "model_name": "FloatProgressModel",
          "model_module_version": "1.5.0",
          "state": {
            "_dom_classes": [],
            "_model_module": "@jupyter-widgets/controls",
            "_model_module_version": "1.5.0",
            "_model_name": "FloatProgressModel",
            "_view_count": null,
            "_view_module": "@jupyter-widgets/controls",
            "_view_module_version": "1.5.0",
            "_view_name": "ProgressView",
            "bar_style": "success",
            "description": "",
            "description_tooltip": null,
            "layout": "IPY_MODEL_5a9d15d2ae5940e08ae118874e2eff7a",
            "max": 267954768,
            "min": 0,
            "orientation": "horizontal",
            "style": "IPY_MODEL_f7745883da74496cb5c935b599710729",
            "value": 267954768
          }
        },
        "2b668455f71847b3832e276c7351290c": {
          "model_module": "@jupyter-widgets/controls",
          "model_name": "HTMLModel",
          "model_module_version": "1.5.0",
          "state": {
            "_dom_classes": [],
            "_model_module": "@jupyter-widgets/controls",
            "_model_module_version": "1.5.0",
            "_model_name": "HTMLModel",
            "_view_count": null,
            "_view_module": "@jupyter-widgets/controls",
            "_view_module_version": "1.5.0",
            "_view_name": "HTMLView",
            "description": "",
            "description_tooltip": null,
            "layout": "IPY_MODEL_0e53ca5274944d33b5defddc9943aa82",
            "placeholder": "​",
            "style": "IPY_MODEL_ca35a0cb4fed4525828232b64d5c58e9",
            "value": " 268M/268M [00:01&lt;00:00, 184MB/s]"
          }
        },
        "bed8eb46305a40d98506da43d6a53993": {
          "model_module": "@jupyter-widgets/base",
          "model_name": "LayoutModel",
          "model_module_version": "1.2.0",
          "state": {
            "_model_module": "@jupyter-widgets/base",
            "_model_module_version": "1.2.0",
            "_model_name": "LayoutModel",
            "_view_count": null,
            "_view_module": "@jupyter-widgets/base",
            "_view_module_version": "1.2.0",
            "_view_name": "LayoutView",
            "align_content": null,
            "align_items": null,
            "align_self": null,
            "border": null,
            "bottom": null,
            "display": null,
            "flex": null,
            "flex_flow": null,
            "grid_area": null,
            "grid_auto_columns": null,
            "grid_auto_flow": null,
            "grid_auto_rows": null,
            "grid_column": null,
            "grid_gap": null,
            "grid_row": null,
            "grid_template_areas": null,
            "grid_template_columns": null,
            "grid_template_rows": null,
            "height": null,
            "justify_content": null,
            "justify_items": null,
            "left": null,
            "margin": null,
            "max_height": null,
            "max_width": null,
            "min_height": null,
            "min_width": null,
            "object_fit": null,
            "object_position": null,
            "order": null,
            "overflow": null,
            "overflow_x": null,
            "overflow_y": null,
            "padding": null,
            "right": null,
            "top": null,
            "visibility": null,
            "width": null
          }
        },
        "cc4fad4197174f2484fbe60b391c578e": {
          "model_module": "@jupyter-widgets/base",
          "model_name": "LayoutModel",
          "model_module_version": "1.2.0",
          "state": {
            "_model_module": "@jupyter-widgets/base",
            "_model_module_version": "1.2.0",
            "_model_name": "LayoutModel",
            "_view_count": null,
            "_view_module": "@jupyter-widgets/base",
            "_view_module_version": "1.2.0",
            "_view_name": "LayoutView",
            "align_content": null,
            "align_items": null,
            "align_self": null,
            "border": null,
            "bottom": null,
            "display": null,
            "flex": null,
            "flex_flow": null,
            "grid_area": null,
            "grid_auto_columns": null,
            "grid_auto_flow": null,
            "grid_auto_rows": null,
            "grid_column": null,
            "grid_gap": null,
            "grid_row": null,
            "grid_template_areas": null,
            "grid_template_columns": null,
            "grid_template_rows": null,
            "height": null,
            "justify_content": null,
            "justify_items": null,
            "left": null,
            "margin": null,
            "max_height": null,
            "max_width": null,
            "min_height": null,
            "min_width": null,
            "object_fit": null,
            "object_position": null,
            "order": null,
            "overflow": null,
            "overflow_x": null,
            "overflow_y": null,
            "padding": null,
            "right": null,
            "top": null,
            "visibility": null,
            "width": null
          }
        },
        "8c13bec3cb084a899d9144c693d1002f": {
          "model_module": "@jupyter-widgets/controls",
          "model_name": "DescriptionStyleModel",
          "model_module_version": "1.5.0",
          "state": {
            "_model_module": "@jupyter-widgets/controls",
            "_model_module_version": "1.5.0",
            "_model_name": "DescriptionStyleModel",
            "_view_count": null,
            "_view_module": "@jupyter-widgets/base",
            "_view_module_version": "1.2.0",
            "_view_name": "StyleView",
            "description_width": ""
          }
        },
        "5a9d15d2ae5940e08ae118874e2eff7a": {
          "model_module": "@jupyter-widgets/base",
          "model_name": "LayoutModel",
          "model_module_version": "1.2.0",
          "state": {
            "_model_module": "@jupyter-widgets/base",
            "_model_module_version": "1.2.0",
            "_model_name": "LayoutModel",
            "_view_count": null,
            "_view_module": "@jupyter-widgets/base",
            "_view_module_version": "1.2.0",
            "_view_name": "LayoutView",
            "align_content": null,
            "align_items": null,
            "align_self": null,
            "border": null,
            "bottom": null,
            "display": null,
            "flex": null,
            "flex_flow": null,
            "grid_area": null,
            "grid_auto_columns": null,
            "grid_auto_flow": null,
            "grid_auto_rows": null,
            "grid_column": null,
            "grid_gap": null,
            "grid_row": null,
            "grid_template_areas": null,
            "grid_template_columns": null,
            "grid_template_rows": null,
            "height": null,
            "justify_content": null,
            "justify_items": null,
            "left": null,
            "margin": null,
            "max_height": null,
            "max_width": null,
            "min_height": null,
            "min_width": null,
            "object_fit": null,
            "object_position": null,
            "order": null,
            "overflow": null,
            "overflow_x": null,
            "overflow_y": null,
            "padding": null,
            "right": null,
            "top": null,
            "visibility": null,
            "width": null
          }
        },
        "f7745883da74496cb5c935b599710729": {
          "model_module": "@jupyter-widgets/controls",
          "model_name": "ProgressStyleModel",
          "model_module_version": "1.5.0",
          "state": {
            "_model_module": "@jupyter-widgets/controls",
            "_model_module_version": "1.5.0",
            "_model_name": "ProgressStyleModel",
            "_view_count": null,
            "_view_module": "@jupyter-widgets/base",
            "_view_module_version": "1.2.0",
            "_view_name": "StyleView",
            "bar_color": null,
            "description_width": ""
          }
        },
        "0e53ca5274944d33b5defddc9943aa82": {
          "model_module": "@jupyter-widgets/base",
          "model_name": "LayoutModel",
          "model_module_version": "1.2.0",
          "state": {
            "_model_module": "@jupyter-widgets/base",
            "_model_module_version": "1.2.0",
            "_model_name": "LayoutModel",
            "_view_count": null,
            "_view_module": "@jupyter-widgets/base",
            "_view_module_version": "1.2.0",
            "_view_name": "LayoutView",
            "align_content": null,
            "align_items": null,
            "align_self": null,
            "border": null,
            "bottom": null,
            "display": null,
            "flex": null,
            "flex_flow": null,
            "grid_area": null,
            "grid_auto_columns": null,
            "grid_auto_flow": null,
            "grid_auto_rows": null,
            "grid_column": null,
            "grid_gap": null,
            "grid_row": null,
            "grid_template_areas": null,
            "grid_template_columns": null,
            "grid_template_rows": null,
            "height": null,
            "justify_content": null,
            "justify_items": null,
            "left": null,
            "margin": null,
            "max_height": null,
            "max_width": null,
            "min_height": null,
            "min_width": null,
            "object_fit": null,
            "object_position": null,
            "order": null,
            "overflow": null,
            "overflow_x": null,
            "overflow_y": null,
            "padding": null,
            "right": null,
            "top": null,
            "visibility": null,
            "width": null
          }
        },
        "ca35a0cb4fed4525828232b64d5c58e9": {
          "model_module": "@jupyter-widgets/controls",
          "model_name": "DescriptionStyleModel",
          "model_module_version": "1.5.0",
          "state": {
            "_model_module": "@jupyter-widgets/controls",
            "_model_module_version": "1.5.0",
            "_model_name": "DescriptionStyleModel",
            "_view_count": null,
            "_view_module": "@jupyter-widgets/base",
            "_view_module_version": "1.2.0",
            "_view_name": "StyleView",
            "description_width": ""
          }
        }
      }
    }
  },
  "cells": [
    {
      "cell_type": "markdown",
      "metadata": {
        "id": "view-in-github",
        "colab_type": "text"
      },
      "source": [
        "<a href=\"https://colab.research.google.com/github/alejandraberbesi/LLMs/blob/main/Intro_LLMs.ipynb\" target=\"_parent\"><img src=\"https://colab.research.google.com/assets/colab-badge.svg\" alt=\"Open In Colab\"/></a>"
      ]
    },
    {
      "cell_type": "code",
      "source": [
        "from huggingface_hub import login\n",
        "from google.colab import userdata\n",
        "\n",
        "HF_TOKEN = userdata.get(\"HF_TOKEN\")  # Fetches the token from Colab Secrets\n",
        "login(HF_TOKEN)"
      ],
      "metadata": {
        "id": "elIrlcSpRNuR"
      },
      "execution_count": null,
      "outputs": []
    },
    {
      "cell_type": "code",
      "source": [
        "from transformers.utils import logging\n",
        "\n",
        "logging.set_verbosity_error()  # Suppress progress bars and unnecessary logs"
      ],
      "metadata": {
        "id": "N10NQiEDTFGH"
      },
      "execution_count": null,
      "outputs": []
    },
    {
      "cell_type": "markdown",
      "source": [
        "# Pipelines with hugging face"
      ],
      "metadata": {
        "id": "yR1WgzkXwHgd"
      }
    },
    {
      "cell_type": "code",
      "execution_count": null,
      "metadata": {
        "id": "yDU7qg3mvHt_"
      },
      "outputs": [],
      "source": [
        "from transformers import pipeline"
      ]
    },
    {
      "cell_type": "code",
      "source": [
        "summarizer = pipeline(task=\"summarization\", model=\"cnicu/t5-small-booksum\") #model used for summarization\n",
        "\n",
        "text = \"\"\"\n",
        "Artificial Intelligence (AI) is transforming various industries by enabling machines to perform tasks\n",
        "that typically require human intelligence. These tasks include natural language processing, computer\n",
        "vision, speech recognition, and decision-making. AI models, particularly deep learning models, are\n",
        "trained on large datasets to recognize patterns and make predictions. In recent years, advancements in\n",
        "AI have led to applications such as self-driving cars, medical diagnosis, and chatbots. Despite its\n",
        "benefits, AI also raises ethical concerns, including bias in decision-making and the impact on employment.\n",
        "As AI continues to evolve, researchers and policymakers must address these challenges to ensure\n",
        "responsible AI development.\n",
        "\"\"\"\n",
        "\n",
        "summary = summarizer(text,\n",
        "                     max_length=50 #limit response to 50 tokens\n",
        "                     )\n",
        "\n",
        "print(summary[0][\"summary_text\"])"
      ],
      "metadata": {
        "colab": {
          "base_uri": "https://localhost:8080/"
        },
        "id": "C-jMMx8NEZgO",
        "outputId": "9e510460-865f-4819-869a-148e5456e128"
      },
      "execution_count": null,
      "outputs": [
        {
          "output_type": "stream",
          "name": "stdout",
          "text": [
            "AI models, particularly deep learning models, are trained on large datasets to recognize patterns and make predictions. In recent years, advancements in AI have led to applications such as self-driving cars, medical diagnosis, and chatbots\n"
          ]
        }
      ]
    },
    {
      "cell_type": "code",
      "source": [
        "generator = pipeline(\"text-generation\", model=\"gpt2\")  # Model used for text generation\n",
        "\n",
        "# Example customer complaint\n",
        "customer_complaint = \"The product was horrible, and the service was very slow.\"\n",
        "\n",
        "# Predefined apology response\n",
        "apology_response = \"Dear client, we sincerely apologize for the inconvenience you reported\"\n",
        "\n",
        "# Create the prompt with structured input, this is how the response starts\n",
        "prompt = f\"\"\"Customer complaint: {customer_complaint}.\\nCompany's response to the customer: {apology_response}.  \"\"\"\n",
        "\n",
        "# Generate a response using the model\n",
        "outputs = generator(\n",
        "    prompt,\n",
        "    max_length=150,  # Limit response to 150 tokens\n",
        "    pad_token_id=generator.tokenizer.eos_token_id,  # Use EOS token to avoid padding issues (GPT-2 lacks a default pad token)\n",
        "    truncation=True  # Truncate input if it's too long\n",
        ")\n",
        "\n",
        "# Print the generated text\n",
        "print(outputs[0][\"generated_text\"])  # Extract and display the generated response"
      ],
      "metadata": {
        "id": "06Zn3gcXRaK8",
        "colab": {
          "base_uri": "https://localhost:8080/"
        },
        "outputId": "a6f3ad86-a6a7-459b-e313-a4bbbe9b4d6e"
      },
      "execution_count": null,
      "outputs": [
        {
          "output_type": "stream",
          "name": "stdout",
          "text": [
            "Customer complaint: The product was horrible, and the service was very slow..\n",
            "Company's response to the customer: Dear client, we sincerely apologize for the inconvenience you reported.  ***************************\n",
            "To be honest, the customer contacted me about four times. They have never contacted us about this and I really don't know what could have caused the customers problems. ***************************\n",
            "To us customers this could not be your fault, the complaint. It appears that these three products were purchased at the same prices as two other packages, which resulted in total delivery costs for consumers. While it would be hard to find good prices, the price tag is not outrageous at all. In fact, I cannot see any way for us to claim,\n"
          ]
        }
      ]
    },
    {
      "cell_type": "code",
      "source": [
        "spanish_text = \"La inteligencia artificial esta cambiando el planeta\"\n",
        "\n",
        "translator = pipeline(task=\"translation_es_to_en\", model=\"Helsinki-NLP/opus-mt-es-en\")\n",
        "\n",
        "translations = translator(spanish_text,\n",
        "                          clean_up_tokenization_spaces=True #Fixes spacing issues\n",
        "                          )\n",
        "\n",
        "print(translations[0][\"translation_text\"])"
      ],
      "metadata": {
        "colab": {
          "base_uri": "https://localhost:8080/"
        },
        "id": "sC2qHD6NTTRX",
        "outputId": "e0cb3571-d3c4-4179-9616-d8b4be1cb742"
      },
      "execution_count": null,
      "outputs": [
        {
          "output_type": "stream",
          "name": "stderr",
          "text": [
            "/usr/local/lib/python3.11/dist-packages/transformers/models/marian/tokenization_marian.py:175: UserWarning: Recommended: pip install sacremoses.\n",
            "  warnings.warn(\"Recommended: pip install sacremoses.\")\n"
          ]
        },
        {
          "output_type": "stream",
          "name": "stdout",
          "text": [
            "Artificial intelligence is changing the planet.\n"
          ]
        }
      ]
    },
    {
      "cell_type": "markdown",
      "source": [
        "## transformers architecture"
      ],
      "metadata": {
        "id": "Ifq_rlU5agKL"
      }
    },
    {
      "cell_type": "markdown",
      "source": [
        "🔍 **What’s Different in Traditional NLP terms vs LLMs?**\n",
        "\n",
        "1️⃣ Encoding in Traditional NLP = Simple static embeddings (Word2Vec, TF-IDF).\n",
        "\n",
        "1️⃣.1️⃣ Encoding in LLMs = Context-aware representations (transformers track relationships between words).\n",
        "\n",
        "2️⃣ Decoding in Traditional NLP = Retrieving stored text or using basic grammar rules.\n",
        "\n",
        "2️⃣.1️⃣Decoding in LLMs = Generating new text using self-attention and autoregressive prediction."
      ],
      "metadata": {
        "id": "KosKu6B3fqdH"
      }
    },
    {
      "cell_type": "markdown",
      "source": [
        "\n",
        "| **Model Type**      | **Description**                                             | **Use Cases**                                      | **Example Models**               |\n",
        "|---------------------|------------------------------------------------|-------------------------------------------------|--------------------------------|\n",
        "| **Encoder**      | Reads and **understands** text, but doesn't generate new text | Classification, Sentiment Analysis, Named Entity Recognition (NER) | **BERT, RoBERTa, DistilBERT, ALBERT** |\n",
        "| **Decoder**    | **Generates** text based on input (auto-regressive)  | Text Completion, Chatbots, Story Writing | **GPT-2, GPT-3, LLaMA, Falcon** |\n",
        "| **Encoder-Decoder**  | First understands the input (encoder), then generates **transformed output** (decoder) | Summarization, Translation, Question Answering | **T5, BART, mBART, FLAN-T5** |\n"
      ],
      "metadata": {
        "id": "1DQA0He8dbnV"
      }
    },
    {
      "cell_type": "code",
      "source": [
        "def identify_llm_architecture(model_pipeline):\n",
        "\n",
        "    # Get the model architecture\n",
        "    model = model_pipeline.model\n",
        "    model_type = model.config.architectures[0].lower()  # Get architecture type, and make lowercase\n",
        "\n",
        "    # Identify architecture based on the model type\n",
        "    if \"bert\" in model_type or \"roberta\" in model_type or \"deberta\" in model_type:\n",
        "        print(f\"the model arch of {model_type} is Encoder\")\n",
        "    elif \"gpt\" in model_type or \"opt\" in model_type or \"bloom\" in model_type:\n",
        "        print(f\"the model arch of {model_type} is Decoder\")\n",
        "    elif \"t5\" in model_type or \"bart\" in model_type or \"marian\" in model_type:\n",
        "        print(f\"the model arch of {model_type} is Encoder-Decoder\")\n",
        "    else:\n",
        "        print(f\"Other architecture type: {model_type}\")"
      ],
      "metadata": {
        "id": "BRCIhm97abn3"
      },
      "execution_count": null,
      "outputs": []
    },
    {
      "cell_type": "code",
      "source": [
        "summarizer.model.config.architectures"
      ],
      "metadata": {
        "colab": {
          "base_uri": "https://localhost:8080/"
        },
        "id": "ryh6_LsLyvks",
        "outputId": "b96d733a-a89f-462b-e02a-28c5da7480c6"
      },
      "execution_count": null,
      "outputs": [
        {
          "output_type": "execute_result",
          "data": {
            "text/plain": [
              "['T5ForConditionalGeneration']"
            ]
          },
          "metadata": {},
          "execution_count": 57
        }
      ]
    },
    {
      "cell_type": "code",
      "source": [
        "identify_llm_architecture(summarizer)"
      ],
      "metadata": {
        "id": "DT9tsooeWrTa",
        "colab": {
          "base_uri": "https://localhost:8080/"
        },
        "outputId": "048b68b8-0ce1-4282-9488-396d4dc691dc"
      },
      "execution_count": null,
      "outputs": [
        {
          "output_type": "stream",
          "name": "stdout",
          "text": [
            "the model arch of t5forconditionalgeneration is Encoder-Decoder\n"
          ]
        }
      ]
    },
    {
      "cell_type": "code",
      "source": [
        "identify_llm_architecture(generator)"
      ],
      "metadata": {
        "colab": {
          "base_uri": "https://localhost:8080/"
        },
        "id": "dVVoUZr5kZlM",
        "outputId": "920cb8d5-e96e-474d-d5ff-bad9f54e2b81"
      },
      "execution_count": null,
      "outputs": [
        {
          "output_type": "stream",
          "name": "stdout",
          "text": [
            "the model arch of gpt2lmheadmodel is Decoder\n"
          ]
        }
      ]
    },
    {
      "cell_type": "code",
      "source": [
        "identify_llm_architecture(translator)"
      ],
      "metadata": {
        "colab": {
          "base_uri": "https://localhost:8080/"
        },
        "id": "iGPTx7uikaMr",
        "outputId": "6b874bd0-3de0-4a1a-ed6c-1228d7debc44"
      },
      "execution_count": null,
      "outputs": [
        {
          "output_type": "stream",
          "name": "stdout",
          "text": [
            "the model arch of marianmtmodel is Encoder-Decoder\n"
          ]
        }
      ]
    },
    {
      "cell_type": "code",
      "source": [
        "#  extractive question-answering.\n",
        "text= \"\"\"\n",
        "Bogotá is the capital of and largest city in Colombia. It is a place of convergence for people from all around the country and is therefore diverse and multicultural. Within this city, the past and present come together.\n",
        "The city is also very green thanks to its parks and the hills that extend along its eastern boundary, dwarfed by their two highest points, Monserrate and Guadalupe. The landscape that the people of Bogotá enjoy daily—the sea of green that makes up the Andes mountain range, rising up in the east—would be nearly impossible to find in any other large city.\n",
        "But Bogotá also has the colors of modern buildings and authentic colonial roof tiles that are a true historical treasure from the colonial era.\n",
        "Thanks to this fusion of the past and present, Bogotá is an ideal location with history, entertainment, delicious cuisine, culture, business, and much more.\n",
        "\"\"\"\n",
        "\n",
        "question=\"what are the characteristics of bogota?\"\n",
        "\n",
        "qa = pipeline(task=\"question-answering\", model=\"distilbert-base-uncased-distilled-squad\")\n",
        "\n",
        "output = qa(question=question, context=text)\n",
        "\n",
        "print(output['answer'])\n",
        "print(\"----------------\")\n",
        "identify_llm_architecture(qa)"
      ],
      "metadata": {
        "colab": {
          "base_uri": "https://localhost:8080/"
        },
        "id": "iUmRKEnpuko4",
        "outputId": "46673f11-f89b-4db1-8b84-69a3cb96a197"
      },
      "execution_count": null,
      "outputs": [
        {
          "output_type": "stream",
          "name": "stdout",
          "text": [
            "history, entertainment, delicious cuisine, culture, business, and much more\n",
            "----------------\n",
            "the model arch of distilbertforquestionanswering is Encoder\n"
          ]
        }
      ]
    },
    {
      "cell_type": "code",
      "source": [
        "#  generative question-answering\n",
        "\n",
        "qa2 = pipeline(task=\"text-generation\", model=\"gpt2\")\n",
        "\n",
        "input_text = f\"Context: {text}\\n\\nQuestion: {question}\\n\\nAnswer:\"\n",
        "\n",
        "output = qa2(input_text,\n",
        "             max_new_tokens=50 # controls only the number of tokens generated by the model, not the input length\n",
        "             )\n",
        "\n",
        "print(output[0]['generated_text'])\n",
        "print(\"----------------\")\n",
        "identify_llm_architecture(qa2)"
      ],
      "metadata": {
        "colab": {
          "base_uri": "https://localhost:8080/"
        },
        "id": "haGEEVWlwBk9",
        "outputId": "3b190f24-3878-4d66-ef68-2548d5e9f6cd"
      },
      "execution_count": null,
      "outputs": [
        {
          "output_type": "stream",
          "name": "stdout",
          "text": [
            "Context: \n",
            "Bogotá is the capital of and largest city in Colombia. It is a place of convergence for people from all around the country and is therefore diverse and multicultural. Within this city, the past and present come together.\n",
            "The city is also very green thanks to its parks and the hills that extend along its eastern boundary, dwarfed by their two highest points, Monserrate and Guadalupe. The landscape that the people of Bogotá enjoy daily—the sea of green that makes up the Andes mountain range, rising up in the east—would be nearly impossible to find in any other large city.\n",
            "But Bogotá also has the colors of modern buildings and authentic colonial roof tiles that are a true historical treasure from the colonial era.\n",
            "Thanks to this fusion of the past and present, Bogotá is an ideal location with history, entertainment, delicious cuisine, culture, business, and much more.\n",
            "\n",
            "\n",
            "Question: what are the characteristics of bogota?\n",
            "\n",
            "Answer: the city contains a huge cultural tradition but at the same time a rich heritage. It's a place of art history and the best of the arts people. It's as natural as the water, of the flowers, or as warm as the trees,\n",
            "----------------\n",
            "the model arch of gpt2lmheadmodel is Decoder\n"
          ]
        }
      ]
    },
    {
      "cell_type": "markdown",
      "source": [
        "# finetuning for text classification"
      ],
      "metadata": {
        "id": "QYkcxUcclnNt"
      }
    },
    {
      "cell_type": "code",
      "source": [
        "!pip install transformers datasets -q"
      ],
      "metadata": {
        "colab": {
          "base_uri": "https://localhost:8080/"
        },
        "id": "9ToLL3k_n5J4",
        "outputId": "4f92c4b0-1d13-453a-f107-e4ad05a0e528"
      },
      "execution_count": 1,
      "outputs": [
        {
          "output_type": "stream",
          "name": "stdout",
          "text": [
            "\u001b[?25l   \u001b[90m━━━━━━━━━━━━━━━━━━━━━━━━━━━━━━━━━━━━━━━━\u001b[0m \u001b[32m0.0/485.4 kB\u001b[0m \u001b[31m?\u001b[0m eta \u001b[36m-:--:--\u001b[0m\r\u001b[2K   \u001b[90m━━━━━━━━━━━━━━━━━━━━━━━━━━━━━━━━━━━━━━━━\u001b[0m \u001b[32m485.4/485.4 kB\u001b[0m \u001b[31m16.1 MB/s\u001b[0m eta \u001b[36m0:00:00\u001b[0m\n",
            "\u001b[?25h\u001b[?25l   \u001b[90m━━━━━━━━━━━━━━━━━━━━━━━━━━━━━━━━━━━━━━━━\u001b[0m \u001b[32m0.0/116.3 kB\u001b[0m \u001b[31m?\u001b[0m eta \u001b[36m-:--:--\u001b[0m\r\u001b[2K   \u001b[90m━━━━━━━━━━━━━━━━━━━━━━━━━━━━━━━━━━━━━━━━\u001b[0m \u001b[32m116.3/116.3 kB\u001b[0m \u001b[31m9.2 MB/s\u001b[0m eta \u001b[36m0:00:00\u001b[0m\n",
            "\u001b[2K   \u001b[90m━━━━━━━━━━━━━━━━━━━━━━━━━━━━━━━━━━━━━━━━\u001b[0m \u001b[32m143.5/143.5 kB\u001b[0m \u001b[31m8.0 MB/s\u001b[0m eta \u001b[36m0:00:00\u001b[0m\n",
            "\u001b[2K   \u001b[90m━━━━━━━━━━━━━━━━━━━━━━━━━━━━━━━━━━━━━━━━\u001b[0m \u001b[32m194.8/194.8 kB\u001b[0m \u001b[31m10.2 MB/s\u001b[0m eta \u001b[36m0:00:00\u001b[0m\n",
            "\u001b[?25h"
          ]
        }
      ]
    },
    {
      "cell_type": "code",
      "source": [
        "from transformers import Trainer, TrainingArguments, DistilBertForSequenceClassification, DistilBertTokenizerFast\n",
        "from datasets import load_dataset,Dataset\n",
        "import numpy as np\n",
        "from sklearn.metrics import accuracy_score, f1_score\n",
        "import torch"
      ],
      "metadata": {
        "id": "SawgahFgnZ6G"
      },
      "execution_count": 2,
      "outputs": []
    },
    {
      "cell_type": "markdown",
      "source": [
        "![image.png](data:image/png;base64,iVBORw0KGgoAAAANSUhEUgAABH4AAAGhCAYAAAAX5XNEAAAAAXNSR0IArs4c6QAAAARnQU1BAACxjwv8YQUAAAAJcEhZcwAAFiUAABYlAUlSJPAAAL5/SURBVHhe7N15WBNX+zfwbwgJEEFAIIoKShAtFFzBBWytfRRaqGgfrFistYu4t5WndV8oVVzr1rpTF1yLSl1aqAtqraIWsC5YLIIBATcQAcGwhrx//DLzZiYBw+aC9+e6cl1k5swwM5n1nnPuI3BwcFCBEEIIIYQQQgghhDQ7BvwBhBBCCCGEEEIIIaR5oMAPIYQQQgghhBBCSDNFgR9CCCGEEEIIIYSQZooCP4QQQgghhBBCCCHNFAV+CCGEEEIIIYQQQpopCvwQQgghhBBCCCGENFMU+CGEEEIIIYQQQghppgQODg4q/sCmJLJUwXZoFUQWKvTpbYkWFkJ+kad6fK8al38ux80TlfxRhBBCCCGEEEIIIUTtmdf4Me2ihMiiYbGmlrYGGBBigjaudQ8avQrc3d0RExODxMRE9jN37lx+sWYrMDAQ27Ztw86dOzFmzBj+aEIIIYQQQggh5JXxzGv8tPJSwtJDCQD1rvHDuLi5DMmHKviDnymJRIJt27ZBJpOxw4qKirBkyRLExcVxyvLpmragoAALFizA2bNnOWX5pk6dipEjR0Io/L/tV1pairVr12Lfvn1wd3dHWFgYpFIpW/7w4cNYuHChxhyapzFjxiA4OBhGRkYAgIqKCmzfvh0RERH8os/VihUr8Oabb3KGpaamYty4cVAoFJzh9eHl5QUfHx+4ubnB2toaRkZGEAgEAACVSoWysjIUFxdDLpfjjz/+wO+//96g/+vr64sZM2ZAIpGww5RKJX755RcsW7aMU7Y2UVFRnOPhVdlv9eXl5QU/Pz9069YN5ubm7H6uVCpRVFSEpKQk/Pzzz0hOTuZPSgghhBBCCHlFPfMaP5qUVQ2LOQmN+UOePYVCgfT0dM4wiUQCR0dHzjBdPD09YWVlxRlmamqK1157jTNMF0dHRzboAwDFxcW4efMmp8yryM7Ojn0YBgCxWIwePXpwyjxvbm5ucHJy4g9G+/bt8Z///Ic/uE6GDh2KX375BatWrcK7776L9u3bw9jYmA36AIBAIICJiQmkUin69u2LmTNnYs+ePejevTtnXg0lFAoxaNAgDBw4kD+K1JGbmxt27NiBFStWYPDgwZBKpZz9XCgUolWrVvD29sbatWsREhLCmZ4QQgghhBDy6nqugZ+GCiyxQVSuM+ezJ/c1zCy0g1Qp4hdvMqmpqSgvL2e/i0Qi2Nvbc8ro4urqClNTU84wkUiEjh07cobx2dvbo3379pxh9+/fx5UrVzjDXkUVFRWorq5mv6tUKhQUFHDKPG+enp6wtrbmD4ZEIkHfvn35g/UilUqxevVqzJo1C3Z2dpxAjz5EIhEMDQ35gxvM0tISI0aM4NQEInVnZ2eHDh06cIK9NZFIJBg+fDgmTZrEH0UIIYQQQgh5Bb3UgR9dhBCgR4Upvi7kBkaaUkpKCoqKijjDNJur1KRz5846H+SeNm3nzp1hZmbGfq+urkZqaiqnzMtAJpNhwoQJ2Lp1K06cOIHg4GB+kTo7cOAAEhISUFlZCaVSib///htbtmzhF3uu3N3dIRJpByYFAgG6dOmiV9BQk0wmw7Jly+Dp6alzfyovL0dubi7S0tKQlpaGR48eobLy2SVG79q1K0aNGsUfTOqpoqICcrkcx48fx7Fjx/Dvv/+irKyMU0YsFsPb2xsuLi6c4YQQQgghhJBXT7ML/DA6Ko3RovrZrF5SUhLu37/PGWZlZYU33niDM0yTi4sL2rVrxx8M6DGto6MjpwZFaWkpbty4wSnzovP19cW2bdvw+eefw83NDS1atICBQcN/L7lcji+++AKenp7o27cvJkyYALlczi/23Hh5eXECO8XFxXjy5An7nWl+pS+ZTIb58+fDxcWFU8tHpVLh5s2bCA8PR//+/eHn54egoCAEBQXBx8cHnp6eCA8PR0pKCpTK/8u51VTEYjH8/Pzg5ubGH0XqoKKiAsePH8f777+PwMBAzJkzB3PnzsXo0aMxdepUZGRkcMq3atUKrq6unGGEEEIIIYSQV0/Dn7RfYAaoW3OXhkhNTeU0MZJIJHBwcOCU0eTq6gpLS0v2u2YNjKfl+bG3t+fUGCkoKMDVq1c5ZciLycPDA+bm5uz33NxcPHjwgP1uYmKCPn36sN+f5uOPP8Zrr73GCfooFAps27YNo0aNwqFDhzjlNR06dAhjxozB4sWLcfv2bf7oBqmqquLUQrG1tcWIESM4ZYj+/v33X3z77beYM2cOcnNz+aNx6dIlHDhwAKWlpewwQ0NDzjmGEEIIIYQQ8mpq1oGfZ+nff//l5PkxMjKqNfDTsWNHNjlrZWUl52HuaXl++E3B7t27h6ysLM4w8uKRSCRwd3dnm2NVV1fjypUruH79OlSq/5/o3MnJSa/aMcOGDcObb76pleR7w4YN2LBhA6dsbQ4fPoxJkyYhKSmJP6reVCoV5HI5u14GBgbw9PSEv78/vyjRg1wuR3x8PH8wR0lJCWc/qq6u5gSCCCGEEEIIIa+mZh34uT07DhnhSVqfzG/PIXdEOJQSC/4k9Zaenq6VRLhTp06c75q6dOnCNm0qLy/HzZs3OQ9t/OAO44033uD0BKZUKqk3r5fEG2+8AVtbW/Z7SUkJLl++jCtXrnC6UreyskKvXr3Y7zXx9vbm5HpSKpU4evQofv75Z0655+Xy5cu4e/cu+71ly5YYPnw4JXpuIlKplJOg+8mTJ7h16xanDCGEEEIIIeTV06wDPzVRiYzxpJsPHr4/lz+q3lJSUnDnzh3OsFatWsHd3Z0zDOrkvm3atGG/FxYW4urVq5ymMTXl+XFwcOA8OJeUlOD69eucMrXp168f1q1bhz/++AMJCQlITEzE+fPnERUVpVcCXolEglGjRmHLli04ceIEzp8/j8TERCQmJuLixYs4ceIEfvzxR/Tr148/KXx9fXHmzBkkJiYiLCyMsx4ikQhjx45l55WYmIj169dzpteH5v9g1m38+PH8Yqxhw4Zh3bp1OHHiBC5evMiZ7sSJE1i3bh0GDBjAn6xeevfuzQnU3Lt3D2fPnsXJkyc5zb3EYjG8vLzY77q88cYbWoHFnJycFyboA3XuqZiYGFRUVLDDnJycMG7cOE65hurVqxcWLVqEY8eOsb9hQkIC/vzzT+zevRtjxozRCjYNGTIEf/zxB2ffnTp1KqeMpi1btnD2zdoShu/du/ep823s/U4mk8Hb2xtisRhQ17i6dOnSU2sJEUIIIYQQQpq/VzLwwyiTaQdlGuLmzZucRLlmZmY6a+64uLhw8rzI5XJcvnyZU2Oopjw/Dg4ObBMxAMjPz8f58+c5ZWoybtw4LFmyBL1790aLFi3YvDAikQgymQxffPEFQkND+ZOxJk+ejMOHD2Pq1Kno2rUrLCwsOLmGhEIhLCws0LdvXyxfvhzffPMNZ/oXiZubG7Zt24bZs2ejd+/esLCw4DSZEolEsLCwQI8ePXT+DnVlb2+Pbt26sdu8uroa169fh0KhgEKh0GruZW9vX2vwp1evXmjZsiX7vbq6GklJSS9ck7/du3fj2rVr7HdDQ0N4e3vXum76kkgkmDNnDn744QcMHjwYrVq1Yn9DgUAAExMTdO7cGZMnT8a2bds4taj4wTahUAhHR0f2uyZ+oBYA2rRpg+7du3OGQUeNPH5gtin2O6lUimnTpnECgXfv3sXevXs55QghhBBCCCGvplc68AONhLiN4fr16ygpKWG/Gxsba9XKgLqZl2Z+n/T0dK0aQzXl+eHPLz09ndNMqCbW1tYYOXKkVs0HTUKhEIMHD8aYMWP4owAAr7/+Oiws9GseZ2RkhGHDhtU4r+dJJpNh1qxZcHV15SRFbkq9e/eGVCplvzPNvBj85l7m5ubw8PBgv/PZ2dlxAgalpaX4559/OGVeBAqFAvv27eMENa2trREQEMApV1cSiQRLly7F0KFD2VouNREIBJDJZPj666/ZQKxCoUB6ejqnXPv27Tk9rjH4gVqog7qdO3fmDIOOGnn3799nA7NNsd/JZDKEh4ejV69e7DwLCgqwdetWJCcn84sTQgghhBBCXkGvduCnkZ0/fx75+fnsd4FAoFWLQCKRcII3CoUCaWlpAIDMzExOz2D82kLdu3dHq1at2O+VlZV61/Do168fzMzMUFBQgMOHD2PJkiU4fPiwVl4iIyMjDBo0iDOMr6KiAsnJyVi3bh0mTpyIAQMGICwsDFeuXOHUeDIyMsLgwYPZB+GkpCSEh4cjNDQUmzdv5iSeraysRHR0NEJDQ9nP1q1b2fGNacSIEZzfRalU4vLly5g7dy48PDwwYMAAzJgxA9HR0bh79y7nN6mvfv36wcTEhP3ONPNinDx5Ejk5Oex3oVBYa54ffgDuyZMnuHfvHmfYi+L06dOIi4tj9w2BQAB3d3eMHDmSX1Rv06dPh4eHBxvsUCqVSEpKwtSpU+Hh4YExY8YgLi6O01tep06dMHbsWPZ7amoqJyG7hYUFnJ2d2e8MzUAtQ5+grkqlQmpqKhvQa+z9TiaTYcGCBZyaZPfv30d4eDiOHDnCL04IIYQQQgh5RVHgpxHpqkVgbW0NFxcX9runpyenKYhmU60bN25wgiH8PD+dO3fm5IgpKSlBSkoK+702BgYGSE9Px9dff42FCxciOjoaCxcuRFhYGPLy8jhlra2tdXYpzjyoTpgwAZ999hm2b9+OpKQkKBQK/Pbbb/jqq684tVigbhLj6ekJqLsuP378OGJjY3Hnzh1O0yaoayrExsayn8bsZUqTk5MTm1gbAP755x+MGzcOx44dA9S/46lTp7BkyRIMHz4cERERGlPXnZubG5ycnNjvms28GExzL82H/bZt28LHx4f9rsnU1JTzvaSkpMbt5e7ujpiYGE6OGl2fqKgo/qSN5ueff+YkGjYxMcH777+vFdzUh7e3N/r378/WeKqoqMCOHTswceJENqdNSkoKZs2ahX379qGqqgpQB5x69erFNjO7fPkyHj16xM7XxMREK/CjGaitrKxkj09dQV2om+gxysrKkJqayn5vzP1OIpHg66+/hpOTExv0ycjIwLfffoszZ87wixNCCCGEEEJeYRT4aWT8WgSWlpZwdXVlv7u6unIe2jWbal29erXWPD+aXcADwIMHDzi1Rmrz+PFjbN++Xav5R3x8PC5fvswJwkgkEk5wirF8+XKMGzdOax4MhUKB06dPc4JXYrGYU0vpRfC0pkGNrVevXlp5X/gBMqgDEZpNBU1NTdGjRw9OmZdVVlYWfvnlF876dejQQa+E4nwDBgzg5DdKSUmpMRH48ePHkZuby343MzNjj8fk5GStWlb8YI5moFahUHB6KePn+enTpw+sra3Z7wUFBZz8Po25340aNQrdu3dngz65ublYs2YNLl26xC9KCCGEEEIIecVR4KeRpaSkoKioiP1uZGTEydWjmZulsrISmZmZ7LisrCzI5XL2Oz/Pj4ODA1tjQKVS1akb98zMTLZmAV9qaiqn5yWRSAQ7OztOGaiX72lKSko4QSRDQ0NYWlpyyjxvmoEAAHB2dsaiRYvqVftEH15eXpyHfn4zL8bZs2c5zbUMDAzQo0ePWvMyMUxNTXUmG36RREdH48KFC+z+IRQKMWDAAHh7e/OL1sje3h4uLi5swKOysrLGmk5QH4+PHz9mv4tEIk6iZn5Cdn6eH81AbX5+Pv7++2+2VhY/z0+XLl04NfKY3F2Mxtzv+vbty+5TFRUV2L9/P/XgRQghhBBCCNGJAj+NLCkpCffv32e/GxgYwMHBAVA/tGo+5JWUlODff/9lvwNAdnY250GUKe/i4oK2bduyw/nNSJ4mIyODP4j18OFDzv/Uh4uLCz755BOEhYUhIiIC0dHROH36NObPn69XoOJ5OnPmjFYwYPDgwdi1a1eN3X/Xl5eXFyeQoKuZF0NXcy9bW1v4+vpyykEdhNAkEok4QQdNCoUCmZmZSEtL43wKCwv5RZvc3r17ObVmzM3NMWLECL23d4cOHdCiRQv2u0gkwtixY7WarWl++L1jtW7dmv2bn5Cdn+enc+fObKA2PT2d0xyTH9TV7HGvsrJSKzDbmPudZq3Bx48f48aNG5zxhBBCCCGEEMKgwE8TyMzM5NR6adu2LVxcXNCtWzdO7RddTbX4D6JMnh9HR0dOz0LFxcWc2kHPglQqxfz58xEXF4ft27dj8uTJ8PX1Rffu3WFvbw9TU1NOT1MvqiNHjiAqKoqznaF+EO/cuTOmTJmCw4cPIyQkRO8H8Zp4eHhwfjcDAwMEBARoBSeYT0BAACcPjLGxsc7mXppdkUPdPI8JMPKlpKRg8uTJCAoK4nyYpOLPUnJyMmJiYjg1zJydnfVu8mVmZqaVaLkh4uLiOLWsNPP8uLi4oF27dgCA8vJypKamcppjGhgYoEuXLuy0msmei4uLOc280Mj7neb2MzY21kr2TQghhBBCCCEMCvw0gdTUVJSVlbHfzc3N4ejoCGdnZ7Znp5qaavF7BmPy/Dg6OsLY2Jgdfv/+/VqbuDQ2Ly8vbNy4EUOGDIG5ubnO7qjLy8tRWlqqlbT5RbR582Z88803iI+P5zxEMywsLPDhhx8iIiICbm5u/NF669WrV4OCYQKBAK6urpwE4VDX4NLMJWVkZISePXtyyryodu/ejWvXrrHfxWIx/Pz86rWdVSoVSktLoVAo9P5oHptQN/fSbH7GNN9ydXVlA7VFRUVISUlBVlYWJ1DEJG93d3fn5LLKycnR2fSqsfY7zWaXEolEZ3CQEEIIIYQQQvC8Aj/FSjMUVLXC1WRTJF6UcD6ZZ1vi9rmWuHXODHnnLGv9lOQ33pv/xnT9+nVOkmZjY2M4OjqiS5cubG2OmppqKXg9gzF5fjRzA1VXV+uctqlIJBJ8+umnnLw/ZWVlSEpKwqpVq9gutPv3748lS5Zwkju/yC5duoSpU6di9OjR2LVrF+7evctp8iYQCNC5c2dMmjTpqTUwdPHx8eE0z6sva2tr9O7dmzOM3yMV1IGKuuTLeV4UCgX27dvHOUbatm2LDz/8kFNOl4qKCk4X7VVVVdi5cycGDBig9+d///sfZ578QK2trS3s7e3RpUsXNth6+/ZtNtCqmReISd7u4uLC1ux62vHZGPvdnDlz4OHhAQ8PD/Tp0wdLlizhFyGEEEIIIYQQ4HkEfh6at8V1RXeUFndC7m1XZN/gfgr/6Yqi5G54dL0rFNd71PpR5f7//BovkpSUFNy5c4f9LhQK4ezszEkqW1tTraysLM7DraOjIydPTGlp6TPN6eHp6cnJZVJaWop169Zh4sSJ2LNnj86aDS8TuVyONWvWYOjQoVi8eDHntwOA1157DW+88QZnmD569+7NybtTVlaG06dPc7qs1/U5deoUJweQWCzWStycnJyM5ORkTu2quubLeZ5Onz6NuLg4NuAhEAjQr18/iEQiflGOu3fv4smTJ+x3Q0NDznFVHxcvXuTUsrO0tES3bt3QuXNnCAQCKJVKTu08zeaYTJ6fDh06sMmW9T0+m2q/I4QQQgghhBBNzzzw86RMAp8W7REV8B22fzQV20Z/yfnMGzsBc4LH47uxEzFl7Ge1fnp15iZtfZHo6i1IMwhQW1OtlJQUrTw/mjk8ioqKcOvWLfZ7U3N0dOQEE4qLizm1kjTJZLJG7bb6WTt8+DC2bt3KqbXET+KrD3t7e3Tr1o3TJO7BgwdYu3YtQkNDa/2EhYUhOzubMz8nJye4u7tzhh08eFCrp6iuXbtixYoVkEqlnOEvop9//pmzH5uamrI5dWqSkpLCWWeBQIAePXrUq2csBr83PWNjY3Tv3p1NAl1SUsLJ16PZHJPJ89OxY0f2t37w4AFOnjzJltdHY+13hBBCCCGEEML3zAM/wlsl+LUgD4P2rtT5GbFjNUbuWIPhO1bjkx1ra/1kJXCTp75I+EmaLSws2IDI05qCnD17lpO818zMDC1btmS/37lzh9NN9LMmFos5y8MYMGAA3n33XRgaGvJHacnPz+fUahGJRJxaTU1p48aN+Pzzz/mDa1RdXV3n5mu9e/fmBF9UKhVSU1M5uVlqotDRu1erVq3Qt29fTrmkpCQcPnyYkytGIBDA3d0du3btwueff15j7Z/hw4c/NcjS1LKysvDLL79wjhPNxNY1SUpK4tSIa9++PWbNmlVr8KdXr17YtGkTgoOD+aMAdaCWmadQKES3bt043bifP3+eLctvjmlra8vZlunp6Zx9m9GY+12vXr2wd+9eJCQk4OzZs5g9eza/CCGEEEIIIYQAzyPwI7mdhza//AWDP67q/PznSAZ8Dssx4Ndb6Bl7U/tzNB2u50vhGafA1YeliHHqUOOnSvD8kgzzkzSLxWI2R095eblWN+58/ISzzAMxv9nJs3D37l1OcMHCwgLffPMNgoOD4eXlBV9fX4SHh+Pbb7+FtbW1Xsmdy8vLOYENAHjrrbewbNkyBAQEIDw8HOHh4ZzxjcXS0hLjx4/Hvn378MUXX7CJk11cXBAcHIzPP/+cTcINAE+ePKlzDat+/fpx5lFWVobLly9zytTm8uXLnICIoaEhunXrxikDABEREfj555+1EgVbWlpiwoQJiIuLQ0xMDPbs2YM9e/YgJiYG58+fx4wZMxol/1BDRUdH48KFC3rtM4zff/8dGRkZ7HeBQIDu3btj06ZNWLRoEQICAuDr6wtfX19MmjQJO3bswI8//gg3N7caA0vXr19HcXEx+10qlUIkEkGlUuH69etagZzMzEw2UGRubs7WyGN6/9KlMfe7L7/8Ep06dYJAIICxsTF8fX0xZswYfjFCCCGEEEIIefaBHwAwfFIO43sFOj8umU/g9FiArhIrdO3goPVxs+sItw4ydHB2hFlfJ5i5O9T4EZk8vyZH/FoBmgoKCmocx7h9+7bWwzx0NDt5Fk6ePKlVU8XGxgbjxo3D6tWrERYWBm9vb7Ro0QI3b97U6jVJlytXrmh1Jy4WizFw4EDMnDkT3t7ebI9KTUEgEMDBwQEff/wxIiMjkZiYiMjISIwbN44TEKmsrMTvv/9epzxGbm5ucHJy4gzLzc1FQkICZ1htjh07hrt373KGdejQQWfOlx9//BGRkZFa3YRDXZNKKpXCyckJTk5ObEBDF34g7lnZu3ev1rrWJisrC+vXr9dq5mZhYYHBgwdj5syZCAsLQ1hYGD799FM4OzvXuM6M+Ph45OTksN+ZAExNSdj//fdfdntrBnUfPXpUa4CvMfY7d3d3WFtbc4YZGRlxkq8TQgghhBBCCOO5BH5qU2FQjX6/LsOAyG/x1tIQrc/ApVPhMysAPrMCMHjOSPh89W6NH6FR7Q97TS01NZXT5TZDn6ZaKSkpKCoq4g/WanbyLCgUCmzatInTjTWfSqVCSkoKDh06pHftjf3792s9vL9ISkpKsH//fqxevZo/qla9evWClZUV+70uzbw0JScnc4Ix5ubm6NevH6cMg+km/O+//+bkltJHSUkJ4uLisGjRIv6oZyI5ORkxMTE6A501iY+Px/z58yGXy/Xa31QqFQoKCrRyJ2lKTU3VCn4VFBToDLTym2MycnJykJyczB9cJ0/b75KSkvDw4UPOsPLy8lrXjRBCCCGEEPLqeuECP3+1UOD8G5Nw3iO4QZ/1/9uL/Kr/ewv/vGRkZGg1EdG3qVZSUhLu37/PH4ycnByteT4L8fHxmDNnDuLi4lBYWMgGF5RKJe7cuYPIyEhMmjSpxpwkusTHx2PmzJk4f/48SkpK2Ad4pVKJhw8f4p9//uFP0iiWLVuG33//Hffu3UNZWRn7f1UqFcrKypCTk4PDhw/j888/x6pVq/iTP1Xv3r05Ca7r2syL8ffff3OaHxkYGKBr16415u25dOkSxo8fj88++wzR0dGQy+VQKBScwIhSqURpaSnu3LmDP//8E0uWLIGfnx9mzZrV4IBFQ+zevRvXrl3jD67VpUuXEBgYiDVr1rA1cDTXtbKyEoWFhbh27RrWrFmDDz74ALGxsZx5aLp69apWranagrSazTGhx7HdmPvd5s2bkZmZyU4bGxuLyMhIfjFCCCGEEEIIgcDBweHpr8tfINWGxrg9dA0AwPjJHZS94c8vojeD8ifo8N0A/mBCCCGEEEIIIYSQZuHlDPz4/18TCPGTBzAQ1j8viaC6Cm2ONk0CYUIIIYQQQgghhJDn7eUL/BgY4fawNbAxKEVbwyewFDw9kXBNBNVVyIxawh9MCCGEEEIIIYQQ0iy8hIEfMe6+twR/j+3EH1VnpaWlCAwM5A8mhBBCCCGEEEIIaRZeusAPANwbOAOGYmMYqqr4o+rE4nEGBBf38AcTQgghhBBCCCGENAsvZeCHEEIIIYQQQgghhDzdC9edOyGEEEIIIYQQQghpHBT4IYQQQgghhBBCCGmmKPBDCCGEEEIIIYQQ0kxR4IcQQgghhBBCCCGkmaLADyGEEEIIIYQQQkgzRYEfQgghhBBCCCGEkGaKAj+EEEIIIYQQQgghzRQFfgghhBBCCCGEEEKaKQr8EEIIIYQQQgghhDRTFPghhBBCCCGEEEIIaaYo8EMIIYQQQgghhBDSTFHghxBCCCGEEEIIIaSZosAPIYQQQgghhBBCSDNFgR9CCCGEEEIIIYSQZooCP4QQQgghhBBCCCHNFAV+CCGEEEIIIYQQQpopCvwQQgghhBBCCCGENFMU+CGEEEIIIYQQQghppijwQwghhBBCCCGEENJMUeCHEEIIIYQQQgghpJmiwA8hhBBCCCGEEEJIM0WBH0IIIYQQQgghhJBmigI/hBBCCCGEEEIIIc0UBX4IIYQQQgghhBBCmikK/BBCCCGEEEIIIYQ0UxT4IYQQQgghhBBCCGmmKPBDCCGEEEIIIYQQ0kxR4IcQQgghhBBCCCGkmaLADyGEEEIIIYQQQkgzRYEfQgghhBBCCCGEkGaKAj+EEEIIIYQQQgghzRQFfgghhBBCCCGEEEKaKQr8EEIIIYQQQgghhDRTFPghhBBCCCGEEEIIaaYo8EMIIYQQQgghhBDSTFHghxBCCCGEEEIIIaSZosAPIYQQQgghhBBCSDNFgR9CCCGEEEIIIYSQZooCP4QQQgghhBBCCCHNFAV+CCGEEEIIIYQQQpopCvwQ8pz5+vrizJkziImJgbu7O380aUTr169HYmIi5s6dyx/1QuvVqxe2bt2K8+fPIzExEbt37+YXIY1k7ty5SExMRFRUFH8UaQbc3d0RExOD8+fPY/z48fzR5AXEXCMTExP1vk7WZxpCXnbBwcE4d+4cLl68iG+//ZY/mpCXWlRUFF27G+iZBn6mTJmCCxcuIDExEX/99RdmzpzJL1IjqVSKL7/8EgcOHMDZs2eRkJCAxMREJCQk4MyZM4iKisKXX34JqVTKn1Sn8ePHsw9RiYmJ2LBhAyQSCb8Yi3lgfBkfGmvDXCROnDgBf39//mhCyDNQ23Eok8nw9ddfw83NDeXl5cjMzERFRQXc3d1x+PBhXLx48YU5J9nb22PXrl3466+/sGbNGv5oQl5Kc+fOxcWLF3H48GEKIBBCXlg9evSAkZERhEIhnJ2d+aNfODKZDHv27EFiYiL27NkDmUwGqB/wmWeu06dPIyAggD8pq7Ygr+aznj4vczSf9TQ/CQkJ+PPPPxEZGQlfX1+2vJeXF2JiYpCQkIB169bV+hxJXg7N/eXfMw389OjRA4aGhgAAAwMDuLu7w97enl9My6hRo7Br1y6MHj0aHTp0gLGxMQQCAQBAIBBAIpFAJpMhICCg3jdlXbt2xSeffMIfTMgr49NPP0VUVNRze2APCQnBkSNHMGfOHP6oV5q/vz9kMhkePHiAadOm4YMPPsCnn37KL/bMuLm5Yfny5fjtt984N0BE2/M+puriZVpW0nAymQwzZszAgQMHqAYhIc1EYmIiSkpKUFlZiX/++Yc/+oXz8ccfQyaTobi4GNHR0ZDL5fwiMDU1RUBAABsUeh4EAgFMTEzg4uKCuXPnsvep8fHxOHToECorK9GjR4/nem9Gml5zuE96ZoEfHx8fdOzYkTNMKpWid+/enGF8kyZNwqRJk2BpaQkAUCqVyMnJwenTpxEbG4tz584hNzcXSqWSP2mdiMVi+Pr61jtw9LKKiIhA//79MXjwYBw5coQ/mrxCPDw8IJPJIBKJ+KOeib59+8LW1pYN6r5KajsOHR0dIRQKkZWVhaSkJHZ4UlIShg4dir59+2LhwoWcaZqSnZ0devfuDTMzM/4oZGVl4aOPPkKfPn3w1Vdf8Ue/cp73MVUXL9OyPmsLFy5E3759MXToUM4x+DIbPHgwhg4dig4dOrAv5AghL7dt27Zh4MCB8PT0xHfffccf/ULx9vZG//79YWBggIsXLyI6OppfhCWTyTBq1Cj+4CYVFxeH0NBQ7N27F6dPn0ZhYSEAQCQS4d1338WYMWMAALt378aNGzcgEoleyefIV0lzuE96ZoGfHj16wNTUFABw7949AICJiQl69OjBK/n/BQQEYPjw4RCLxVCpVJDL5QgJCcH777+P6dOnIzQ0FCEhIfDz80NISAhSUlLqFQCqrKyESqWCVCpFUFAQfzQhhDw3QqGQP4gQQggh5KXl6+sLc3NzFBQUICYmhj8aAFBdXQ2lUgmhUIgBAwbA29ubX6TJPHnyBLGxsVi5ciWmT5+O8ePHszWSjIyM0L9/fwCAQqHA0aNHUVpaCmtra/j5+fHmRMiL45kEfuzt7eHu7g4DAwOUlpYiMTERFRUVgLrZgJubG38S2NvbY/jw4exb5fT0dMyaNQsXLlzgFwUAXLhwARMnTsSxY8f4o54qNzcXDx8+hEAggLu7O0aOHMkvQgghhBBCCCGkAby8vNgcRDdu3EB8fDy/CKBu5ZGamorq6mqYm5tjxIgRzy2Pjlwux4ULF9gKBlKpFC4uLgCAAwcO4Pbt2zAwMEDPnj3Z4YS8aAQODg4q/sDGNnz4cHz55ZcwMTFBamoq5s+fj2XLlqFDhw6oqKhAREQEtm/fzpnmk08+QXBwMMRiMR4/foxly5bVK6hTk/Hjx2PMmDEQiUTswRwYGAhDQ0NkZ2fjm2++4bQ1Xb9+PTw8PAAAhw8f1mpa0a9fPwQHB8PJyQnGxsZQqVR4/Pgxzp8/j7Vr1yI3NxcuLi5YvHgx2rZti9LSUnz//fecZh1Tp07FyJEjIRQK8e+//2L06NHsuEGDBmHmzJkwNzfnjPP19UVgYCBkMhmMjY0BAOXl5cjJycGPP/5Y48mU4evrixkzZqCkpAShoaGcauxDhw7FyJEj0aFDB4hEInadjh49iu+//54zH12kUilGjhyJt99+G1KplJ3Ho0ePcOzYMWzatAkKhYI/mU5RUVGws7NDZGQk7t+/j5EjR8LBwQFCoRAVFRVITU1FRESEzsCgVCpFcHAw+vfvD0tLSwiFQiiVShQUFODcuXOIiIhAbm4uZxrm9z58+DBOnjyJ4OBgdOnSBWKxGEqlEhkZGfj5559x+PBhdhp3d3eEhYXB0tISkZGR2LRpE2eeNY2v7TcYOHAghg8fDhcXF7Ro0QICgaDW9dXcTgYGBhg+fDhatmyJmzdv1lhNVnPf5ktMTMSkSZPY71KpFFOmTIGXlxcblC0uLkZ8fDy7nwPAggUL4O3tjYcPH+pcp1mzZsHU1BS7d+/Gm2++WWPbbV3HWk1GjRoFf39/2NnZcfbXP//8k63yrPm7as5XJpMhKCgIXl5enH3kwYMH+OWXXxAZGanxnwCJRILx48fD29ubU/7+/fvYvHkzYmNj2bL6HEe69oGafpfKykp2/9H8vfn7m5ubG4KCguDh4YGWLVtCIBCgsrISmZmZ2LZtG06cOAHUYd2ZZdR106VQKLB06VLExsbWuI3RCMdicnIy59gvLS3F33//jR9++EFnboCaMPuxp6cnWrZsCaj347Nnz0KpVMLf3x9yuRyBgYGc6YYNG4b3338fDg4ObK650tJSXL58GT/99BOSk5OBOhxTdT2++cvN/KZyuRyrV6/mHGfMPurj44NWrVo1eFlrwkxfU9maxjfFumjiH3fMefvXX3/FqFGjtM7DtWHuF7Kzszn7RGPvm/z7DF3zPHv2LNasWaN1nIwaNQq+vr6ws7Nj903mnLR//342j4/mvY8uzO/EXxb+sVzT+Llz52Lo0KGAel7x8fEYPXo0WrVqhfv372P+/Pm4cuWK3ssL3rknNzdX65qiS23TMOehPn36wNramt0WZWVlSEtLw7p163Dp0iV2Xvx12rlzJ+eeoKKiAleuXMHGjRt17otjxozB+++/jzZt2rD3LFeuXMGZM2cwefJkrWWsbdnRyOvGqOsyMnRdCysrK3H79m2te6Ta8PenkydPYuLEiejcuTM7z/T0dGzYsIFzXuRvi7Vr1+LDDz9E586dUVVVhe3bt+Onn34C1PfpQUFBcHZ2Zs85SqUSubm5OH36dI33pBKJBJ9++ikGDx7MuZdVKBS4ePEip6Oaum4PXddppVKJoqIiREdHY/PmzUAt187i4mL88ccfCA8PB3Tsq8w5l7+dFi1aBB8fH/Zerrq6Gnfu3MGOHTu0lhE6nnGUSiVbPigoCDKZjHNv8jTM845SqdT5DBgVFcXOc8+ePXj77bdhZ2eHqqoqREVFYfXq1WxZ/rpp7qP8Zz3+NZ2Pvx/yz3ua8+P/L2adqqqqsHnzZuzYsYMzrS6a936LFi3CBx98gN69e8PQ0BC//PILlixZAtTh3pvBv/7puu9kML+t5jMO//6PUdfnOs1r58KFCxESEgIXFxetY1PzGGPOQcy94W+//YZ169YBvGeckpISjBgxAq1bt37q9bEumGNIc39p6H3Si+SZ1Pjp168fTExMUF1djevXr0MulyMpKQnV1dUQi8Xw8vLiTwI3NzeIxWIAQGZmZqMGfXTZvHkz0tLSAADt2rWrU4KucePGYcmSJXBzc2ODLwKBAObm5njnnXewatUqyGQypKSkICMjA1BXE3zttdc482EucADQqlUrTjtRJycnSCQSqFQq3Lx5EwAwc+ZMzJ07Fy4uLuz/hXretra2MDc3Z4fV1aRJkzB9+nQ4OjqioKAAaWlpKCgogKmpaY0P6Xzjxo3D6NGj0aZNG3YeeXl5aNWqFQIDA/H111/zJ3mq1157DdOmTUO7du1w+/ZtZGVlAer9JTw8XCvzv5eXFzZu3Ihhw4bB0tIS+fn5SEtLQ35+PiwtLTF06FD299HF2toaCxYsQJcuXXD//n3I5XJUVFSgU6dOmD59epMe7O7u7vjmm2/Qu3dvCIVCZGRkQC6Xo7q6Gm5ubpgzZ06NbYkdHBwwatQo9qG2thwOOTk5SEtLY9svFxYWIi0tDWlpacjJyWHLMdvy3XffhbGxMbKzs5GdnQ0TExO88847WLlyJZusfdu2bbhz5w5sbGzw3//+l50HAPz3v/+FhYUFrl69im3btuH27dtIS0vDkydPAAAPHjxg/78+J2+JRILVq1fjiy++gIODA0pLS3Hr1i3k5eXB1NQUr7/+On8SLd988w2GDh0KS0tL3L9/H2lpaSguLoatrS3GjRuH4OBgtqxEIsHy5cvx4YcfwtzcHHfu3IFcLkdZWRmkUins7OzYsg05jmr6XW7duoWHDx/yi3P4+/tjxYoVGDRoEExNTXH37l3I5XJUVVWhY8eOnP+t77oXFRXh1q1byMzMRFVVFaqqqpCZmckuU1FRkcYSaGuMY/Grr75CmzZtkJmZidzcXBgbG8PT0xOzZs2CREdASheZTIZVq1bhnXfegampKfLy8tgH83fffRe9evXiTwKob9BCQkLg7OzMBiiysrJgaGgIT09PzJw5k93/a/rtNI+puh7fMpkMq1evxrvvvgsjIyNkZGQgKysLSqUSdnZ2kGr0aCmTybB+/Xp8+OGHsLCwYH9/gUAAT09PLFy4kJ23Psva2JpqXRgTJkzAtGnT0KlTJ1RVVUEul+P+/ftwcHDAZ599xrleNobG2jc1MfPs1KkTe19gYmKCwYMHY968eZyywcHBmDx5Mjp37gwTExMI1HnShEIh2rVrx+ZKfNasrKwwfvx4WFlZQSAQQCgUwtDQ8Lkv77x58zBs2DDY2tpyAmDGxsZwc3PDd999p/O+FOoyc+fO5dyjisVi9O7dm3MOYHz77beYOHEi2rVrx/6OTPmPPvoIBgaNexten3Wr7zJqHpvW1tbstCKRCJ06dcK0adMwYcIE/mRPZW1tjfDwcDg7O3Pm6ezsjAULFmjd5zEMDQ0xadIkdjoDAwN2euY+vW/fvjA3N+fsc7a2tvjwww8RERGhdf2RyWSIiIjAmDFj0K5dO3abCgQCtGjRAg4ODpyyddkevr6++P777zFo0CCtZWrVqhV7HnR3d2evnZrzFQqFsLCwQLt27dh56kMgEOCzzz7DO++8wwabhEIh7O3t8eWXX2r1LBoQEIDw8HDOMw5T/quvvoKFhQWnvD6Y3IWPHz/GjRs3+KM5KisrcfjwYZSXl8PQ0BDe3t5a+/CzYmJiwh4PFRUVnHvUGzduoLS0FEZGRpz9Ql9BQUHw9PSESCSCQCBg79vrcu+NOt53MseFq6srysrKcOvWLeTn58PW1hYTJ07U6jG2vs91AoEA06ZNg5ubm9axyRw3Y8aMQdu2bfH48WOkpaXh8ePHsLKy0nkP7+zsjIkTJ0IikUAul6OwsBDGxsY6r4+N4XncJzUV3WfzRuTm5gYnJydAvaHOnj0LqBOTFhcXA+pmXfyDWPPGjwmWNCWFQoFdu3ahqKgIBgYG8PT01Dr56eLv74/AwEBIJBIoFArs378ffn5+mD59OjIzMyEQCNCpUye2hs6NGzdQWVkJAwMDzonBxcWFc/I2NzfnVBXs1KkTRCIRysrKcOPGDXh5eWHgwIEQiUSoqKjAoUOHEBgYCD8/P6xfvx7Z2dlQ1iPfEdS/x+DBg2FoaIjDhw/Dz88PQUFB8PHxQUhICBITE/mT6FRRUYGEhAQEBwez8/Dz88O+ffugUqng7u5ep+qQQqEQ7u7uSEpKwvDhwxEYGIiAgAB8+eWXyMjIgJmZGd5//332Jpt582JnZ4ecnBzMmDGDsxzLly9HYWEhnJycMGXKFP6/AwD06tULd+7cwYQJExAQEIDAwEB88sknuHLlCkQiEd555x3oaqrYWB4+fIi1a9fizTffRGBgIAIDAzFp0iTk5OTAxsYGb7/9Nn8SQL3ct2/fxpdffgkPD49a33IsWrQIQUFBSFMHPtPS0hAUFISgoCAsWrQI4G3L9PR0dnsEBARg1qxZyMvLQ6dOndhmknK5HIcPH0ZFRQV69+7NtsseOXIkunXrhocPH2LXrl1QKBSYPn06goKC8ODBAwDAxYsX2f/PvO2qzddff42+ffuivLwc27Ztw3/+8x+MHDkSfn5+WLx4MRscrI1CocDx48fh7++PYcOGISgoCEOHDsXp06chEonw5ptvsmXfe+89uLm5obi4GIsWLWL3i7feegurV69GdnY20AjHUU2/y+jRo2tNguju7o5x48bBwsICKSkpCA4OxrBhwxAYGIjhw4fjxIkTKCsrY8vru+7x8fH47LPPsG3bNlRUVKCiogLbtm1DUFAQPvvss1prFzbGsdi3b1+kpqYiMDCQ/X337dsHpVKJLl264L333uNPotOUKVPg5OSEhw8fIiwsDH5+fhg5ciSGDBmC3377jXPt0aRUKnH79m2Eh4ez+1hAQABCQ0NRUFCADh064K233gJq+e00jynU8fjW7N0tJCSEPf/5+Phgx44dnBvQKVOmwMXFBXl5eZgxYwb7+0+aNAnp6emwtbVFkDqfnb7L2piaal2gThg6fPhwGBoa4tSpU3jnnXcQGBiIYcOGYcaMGSguLmYD4o2lsfZNTf369UNxcTE2b96MBQsW4MqVK1CpVBAIBHBxcYGPjw9b1sDAgL3ehoWFYcCAAZgwYQKSkpKgVCohFosxYMAASCQSnDhxAmFhYYiOjkZlZSUAIDs7G6GhoQgNDcXWrVs1lqJhOnbsiJKSEixduhQeHh7w8/NDUlJSnZa3KQiFQhQWFuLXX3/FxIkT4eHhgaVLl+LOnTsAoHXsaXr99dchFouxe/duhIaG4o8//mDvtTp27MiZbsyYMRg0aBCE6rfXV65cwZIlS7BkyRJcuXIFUqm00YOQdV23hiwj8/YeAG7evInp06fDz88PBw8eREVFBYyMjDBkyBCtwOzT9O7dG0qlkt3Gu3fvZh+4zM3NMXToUJ37hoWFBSwtLXHw4EH4+fnB09MTmzZtQkBAAEaOHMl5ebpq1SqEhobit99+Q0lJCQQCgdb1RyKRYPbs2ejcuTME6lqGp06dwoIFC7BgwQIcP34cjx8/ZsvXdXu8//77aNWqFVQqFa5evYqpU6fCw8MDc+fOxeXLl1GhTonx/vvvo3379oD6RfjcuXPh4eGBqVOn4vTp0zprKdXGysoKzs7OOHPmDBYsWIDt27ez69GyZUvO/uHm5obRo0eztUzu3r2LzZs3s9uOCVLVFXOdffz4Mf766y/+aC2RkZFISEiASqWCtbU1e6/5LEkkEvTs2ZMNWGi+fIb6PMpsR34A+GlatGiB1157DSdOnICfnx88PDywcOHCOt971+W+09vbGyNGjICRkRGOHTuGIUOGsNevnTt3QqlU4q233uLkVarvc52VlRVsbW0RFRWFAQMGsMcmNI6bwsJCLF26FN7e3ggKCoK3tzc2bdqk9QLY0NAQffv2xenTpzF06FD2nvXEiRNQqVRwdnbGoEGDONM01PO4T2oqTR748fT0hLW1NQDg1q1b7MNBXFwcG9CxsLDQCvwwb1J0cXd3R0xMDBITE7U+69ev5xfX2/Hjx3HmzBkolUq0bNkSgYGBTz14hwwZgpYtW6KqqgoHDx7EsmXL2GqjP/30Ex4/fgwDAwN0794d9vb2SElJQUlJCQCgbdu27AHi6uoKS0tLFBcX48mTJxCLxejQoQOgPtkwy5Gfn4+EhASYm5uzF+PCwkIcO3YMcrkcubm52LZtGz766KN615KSSqUQi8WorKxkH2IZFy5cwLZt2zjDarJs2TJMnjxZq+rzX3/9heLiYlhYWGj19FYbAwMD5OTkYOXKlZwTwaVLl7Bv3z6UlpbC3t4evuoupocPHw6ZTIbHjx9j48aNOHPmjMbcgOjoaBw5cgRKpRKvv/661j4I9UXpxx9/5KyDXC7H9u3bUVBQABsbGwwYMIAzTWNJSkrCmDFjtKpaJicnIyUlBQYGBjq3n0gkwpMnT7BkyRKtpiL1xWzLgoICbN68mbM9zpw5g7Nnz0IgEHCCYMyFumXLlhg2bBjs7e0xdOhQGBoaIiYmptZAgb68vLzQv39/qFQqHDx4EBs2bOCMP3z4MKZNm8YZpss333yDOXPmcPYrhUKBS5cuoaysjFMDz9LSEoaGhigpKWFrijD27dvHNvNqrOOort5//31IpVLk5OQgLCyM81sxVZM196m6rHt9NcaxePfuXSxfvpyznPv27cP9+/dhbGyMTp06ccrrMmjQIHTt2hWVlZXYt28ffv/9d3acQqHAihUrkJKSwpmGcezYMXz88cda1eBPnDiB7OxsGBkZPfV6oamux7epqSmEQiEKCgo4TS0UCgW2bNnCDmPWsaysDDt37uRs6+TkZBw7dgyVlZVwdHTUeYP2LDTluvj4+MDc3Bzp6ekICwvjPBSdOXMGUVFRKC0tZYc1hsbYN/ny8/OxbNkyRERE4MiRI1i8eDHu3r0LqB8SmPwYAHDt2jXMmTMHkydPxm+//cYev8x1CurzVq9evSCXy3Hs2DF2ONRv1GNjYxEbG8v5PRqqvLwcO3bswIEDBzjD67K8TeG3337D+PHj8d1337Hre+DAAXZ/EggEOq+tUO+jGzduxOrVqxEbG4vQ0FD2nCEWi9kXnQDQv39/GBkZQaVS4eLFi/jqq68QHR2N6OhoBAcH49SpU1CpGjfbQl3Xrb7LOHz4cHTr1g0CgQA5OTmYN28eTp8+jVx1MyLmAdPKyopNgqsvptkLs41Xr16NjRs3svfO9vb2+M9//sOfDAKBAH/++ScWLVrEORbfeecdmJmZQaVSITExEcHBwdizZw9iY2MRFhaGTZs2obS0FAKBAF27dmUfGkeMGMEeZ8XFxVizZg1mzJiBI0eO4MiRI5gzZw5bI7Y+24MJQFdVVbHNIqG+1owbNw7Lli0D1McCUxvo6tWr7L19fHw8pk+fjm+++QZ1dfLkSUybNg1HjhzBunXrEBsbywYwO3TowF7LBgwYgNatWwPq89yCBQsQERHBbrsNGzbU+Xzq7u7OdvaTn5/PH12jPXv2IDc3FwKBAD179uTUxG5qPj4+iIiIYFtqME3sNKWkpLDXG2b99CWRSHD16lWte7G63nvX5b6TuVZev34dixcv5lwrt2zZwr5Q7969Ozu8vs91LVq0wIkTJ/D9999z/g9z3JSVlWHr1q1aLzW3bNmCb7/9ljNMIBAgPT2ds8wKdYLtoqIiSCQSODo6cqYh/1+TB37c3d3ZWikJCQmccfHx8aioqICBgQG6du2qM4L/rEVGRuLWrVuAuipibVHl7t27o23btoA6+MJ/yD579iwePXoEqINbzs7OOHv2LFuzwdLSEq6urgCALl26wNjYGBkZGcjOzoZAIEDnzp0BdfDMUt2dPdO8IDs7m21aYWNjg5CQEAwbNkz9nxsmJSUF+fn5MDIywn//+18MHz6cX0RvUqkU48ePx6pVqxAVFYWTJ09i6dKl7PrUhUqlQnJyss4aHLGxsXjw4AHEYjH7ZqRLly4wMjKqtangxYsX8ejRI5iZmel8CJKrmyXyxcfHQy6Xw9DQELa2tvzRjWrgwIGYP38+tm3bhpiYGPz5558YPHgwvxjHP//8o3VibghmW6anp+P06dP80ZDL5SgvL9cKEjAX6q5du+J///sfOnbsyDbxagyurq4wMzNDXl4eTp48yR9dJzKZDCEhIVi3bh2io6Nx+vRp/O9//4OJiQmnXEZGBhQKBVq3bo0vvviixoeTxjyO9CWRSNCpUyeoVCokJCRoBaZqou+611djHItMUyhNWVlZuH//PgQCAaysrDjjdGGazObm5uLUqVP80VAoFMjMzOQP5hg2bBgWLlyInTt34tixYzh79myDav3pe3xnZ2ejvLwcjo6OWLRokVaVbYarqytMTU1x7949Tg45xq1bt/DkyZMab9CehaZaF+YliVKpRFJSEucGk5Gens7WNm4sjbFv8vETnsrlcjbwIxQKOQ8WFy5cQFpaGj7++GPOtXbVqlXsizcjIyP2rf2z8uDBA52/2/Ne3tjYWBgbG+N///sfIiIicOjQIfz555+c3Ec1Pbjl5ORwHk4UCgXnt2fubTTvDxUKBU6ePKm1P168eJFT+7Ix1GXdGrKMnTt3Zl8+Xr16VWv/T01NRWVlJYRCYZ0fwlJSUrTuM6Kjo9kmFWKxmF1uTWVlZbh48SJnmOY6FhcX48iRI1rreOTIEfa+UiKRsMG7Xr16QazuVfjChQtaD6Wa6rM9mB6ORSIRW3tdV43TrKwsVFdXAwD+85//YP78+TWeM/VRXFys9fLlxo0bKC8vB9Tbl1mOLl26wNDQECqVCklJSVr3w0eOHGGfaeqjLkGjpKQktia5WCyGn59fg669TzN06FC2UsHChQvZml+VlZU4efIkDh06xJ+EDVybmprW6YWZrn0X9bj31ve+097eHjJ1DqXExEStY0KhULDJqvn3CfV5rnv8+LHWMzLUTbaMjY2RlZWl81qhS3V1Na5du6a1zJcuXWKfi2tqnkqaOPDzxhtvsLVWxGIxJk+ezKmdM3nyZLZmj62tLd544w12Ws0oMP8En5ubi5MnT7JvqBITE+vdrIkvKysLv/zyC0pKSiAUCjFo0CAMHDiQXwxQLxdzAbW2tsbatWs563fmzBn2gNFsz5icnIzq6moYGRmx4zt37gyVSoXU1FT2AsQcyI6OjpBIJKisrGTz+yQnJyM2Nhbl5eVskGjOnDk4efIk5s+fr/PioS+FQoG9e/ciNzcX7dq1w/Tp03H8+HHMmTOnTvMdN24coqKiMHbsWPTv3x92dnaorq5GTk4Oe4Gpi6qqqhrfDigUClRXV3NuiJmT0P3793ml/7+kpCSUlJTAwMAALVq04I+u9YLGvAWr7WTXEDKZDFu3bsXSpUsxZMgQvP766zAzM8OjR484bwT4KisrG73NKbOOHuokrfzPtGnTdAYJkpKSEBsbC4FAAC8vLxQUFLBNvBqDjY0NRCIR8vLyGhTomj17Nnbu3ImgoCD07t0brVu3RkVFBbKzs1FVVcUpe/z4cRw9ehRVVVVwd3fHunXrEBUVpZU8u7GOo7pwcXGBqakpysvLtW48a1KXda+vxjgWNWsoaGKOQ137H5+VlRVEIhEePXqkM4BcGy8vLxw4cACzZ8+Gj48PnJycYGRkhNzc3KfmN9Klrsf3/v37cfbsWRgYGGDw4MHYtWsXIiMj2RqODKY2jUwmw5kzZ7SO1ZUrVzbZOUtfTbUuLi4ukEgkqKioYIMkz0Jj7Jt8Nc1TF39/f+zYsQNffPEF+vfvD5lMxtYmaKx7o/rIy8vTea5/3ss7e/ZsRERE4MMPP0T37t3Rrl07GBsbo7q6WmftFk36Bg017w+fPHnCPuRrqqqqeur/q6u6rFtDlrF9+/ZsLZT33ntP69j87LPP2EATc++rr5py2DHbXiQSwcbGhj8axcXFWse95jqWlZXpvIdUKBRsEx2RSMQGapnrdFVV1VOvF/XZHvv372e3uaWlJUaPHo1Dhw5h06ZN6NevHzvvffv2IT09HSqVCqamphgyZAj27NmDXbt2aZ0z9VFeXs42nXsazW2g67rE3HvXV13OcwCwe/duXLt2DVD/th9++CG/SJNRqVS4d+8e1q1bxybTbixPnjzB7du3+YPrfO+t730nUzNIJBJh7NixWvNNTEzkNPFi1Pe5rqioSGdSeVtbWwgEAty+fVvntUIXpTr5OR+zL2oew0RbkwZ+vLy89E4wbGZmxsmjkZmZyZ5M2rdvz4nqZmVlYeXKlWyb9KtXrzboxMMXHR2Nc+fOobq6GpaWlhgxYgR7Qm8MTAIwAwMDdOnSBW+88QZat26N0tJS3LhxA6mpqSgvL2fz/HTu3BkikQgFBQWcA2fjxo2YNm0aEhIS2DcyLVu2xJAhQ7Bx40adzSX09fvvv+ODDz7A9u3bcf/+fVhYWGDYsGHYtWtXnXIfGRkZ4Y8//sCECRPg6emJwYMHY9myZToP2sagUqm09gWmnXRtqquraz1p1aapblRDQkLg6uqKe/fuYe3atXjrrbfw5ptvYtiwYTrfDGjib4PGopl4WdcnMzNT6+T94MED9jdoyHaujT6/cU2YtspVVVX49ddfERgYiP79+8PHx4fNZ8P3/fffY+LEiYiLi0NpaSlkMhm++uorbN++nfMmrqHHUUPoekvLV591bwh95tdU+4gmfZZDk729PSZNmgR7e3ukp6cjPDwcffv2xVtvvYWAgAC23Xdd1PX4VigUmDVrFkJCQpCQkAClUgkXFxfMnz8fq1ev1qoxq5l8UNdHn4TcTeVZrIs++39zwOT0srKyQmVlJeLj47Fo0SIEBgbiyy+/1Pmg+zw97+VlznlisRiFhYWIjo7GjBkz8NZbbyEyMrLRgt3PQ3NeN01KpZJt9vUyi4+Px9ixY3Ho0CEUFBRApVJBJBKhZ8+eWLJkCcaNGweoa3UEBwcjMjIS9+7dg0qlglAoRJcuXTB37lzMmTOHP+uXRl1fQijU+Vjz8vIgEAjQr1+/ejWl1UdcXBz7nBkaGopPPvkE/v7+nB4HG0t1dXWtzxJ1ufeuy32nZicdNX2YF8kNea6rrq7WejbQVNd7MlJ/TRb4kUgkcHV1ZZP4MUna+J/du3ejoqICAoEAXbp0YduVXrlyhY3ut27dGiNGjOD9h6bF9EoEAN26dWPbuGrKz89nd+Tc3Fw2kZ6uz4ABA9jcH1evXmWj3NbW1ujduzfMzMxQUFCAq1evIiUlBUVFRRCLxejYsSPbdOn+/fta1SwvXLiAyZMnIyAgABEREWwU387OTqs3pbpSKBRYt24d/P39MWPGDGRmZsLS0hKfffaZzqYYmpgmOLdu3cK0adM4ASsLCwsYGRlxyuvDwMCgxjenTJvhqqoq5OXlARpVSGvLu8FMV11dzfYqpamm/yeRSGBlZcW+AWhs3bt3h0wmQ0VFBaKjoxEZGck5adb1YtlQzLbMyMhgE5rp+kyePJmTI0Umk2HUqFEQiUS4ffs2pFIpxowZozHnhqmoqEB1dTXatGlT6+9cm65du0IsFiMpKQnfffcdp6aMZg8afMnJyZg1axb8/PwQERGBJ0+ewMXFRasXk4YcR3WlUChQVVUFsVisV1Xw+q57XTXGsdgYqtVvva2trbWCCwxd6+zs7Mz2NrF161atKt51bZLSkONb85x/8OBBKJVK9O3bl93vmGPi4cOHWsen5udpCbmfhcZeF+bB1tDQsMaeboTqHkWaCw8PDza56o0bNzB16lQcPHgQcrm8Qeuq2QRD1zFRn2s4mnB59dWzZ0+I1V0Wx8TEYMmSJTh16hQUCkWj/u+KigpUqpNni0QinfcSNZ1jNafVrC3OMDU11fkysq7r1pBl1KwNffjwYa17Xs1PXXto0/X/7O3t2Wb1VVVVbBqFp9G8Tzc2Nq6xJgBzDq+srGTXjQkuCYXCWs/JaMD2yM3NRXh4OLy9vTFv3jzcvHkTKpUKEokEfn5+7D2C5n1ESEgIktSJ0EUiEQYOHNjoyWwZzAN5TfffLrxehetK1zyfJj4+HsePH0dVVRVMTU0xaNAgncdDQz158oRtWRIbG1tj/j9NzH6kUCj0Kv809b33ftp9J3OvqFKpcPz4ca35aX6Y5MVN8Vynz70haVzaV4JG4uvry/6QhYWFOHfuHOcAYj4nT55k3/C0adOG7RXl+PHjuHDhAqqrq2FgYID//Oc/mDdvXo03641Nru6VqLy8HCKRSOdNZHJyMrvsrVq10juBXVZWFnuAWlpaomfPnjA0NIRcnb8nKSmJzQ3QvXt3WFlZobq6GqmpqfxZsXJzc7F582b88ssv7IWcCRg1htOnT2Pnzp0oLS2FpaWlVptPPqbaq65q0a6urjqbcjyNUCiEq6urzn2gf//+aNWqFYqLi9ltm5ycjIqKCnTs2JHTA4qmXr16wdLSEo8ePcLly5f5o+Hs7KzzAdrf3x+2trYoKytjm98xid0MDQ11NuVxdXXVu9tLpnqyUqnUqvYsk8nq1VVkQ2RkZKCqqgodOnSoU5vqKVOmoH379khOTsb69etRWFjYqEn5mNpzUqm0xl5Ynob5rXRVOX7ttdfY5qg1USgU2Lx5M/744w8IBAK2easudT2O6iolJQV37tyBUN0Dnq5jRVND111fjXEsNob09HSUlZWhdevWWm++oD62unXrxh+Mjh07wsjISGcV+YEDB+p8MVCbxji+maSh165dg1AoZN96Mm3+pVJpjdu6MTEPPFZWVlr7m5ubm17XocZalytXruD+/fsQiUTo1auX1vJA3VuWvufhlwHTfBE63pq6u7vrXeuaLz8/n23iw+TGYnh7e9d6nqtNUy2vvpigE79moUQiQdeuXdlla6ibN2+y9z/m5uZazSYkEgnefPNNnQ9LDx8+ZJetZcuWnETeUPcip+thu67r1pBlvH37Nvv79ezZU+d9Un1169ZNa35Dhgxhz7NFRUV6P1T/9ddf7DnWzMwM7777rtZ5YeTIkez+rHkPmZaWxj6DvPHGG7XWom+M7XHs2DH88MMP7HNFTXnY4uPj8fXXX7PJeyVNmMyWaeImFArRr18/rfXy9vbWeb9bG80kyE8LqNVk8+bNSFPXtG3Tpo3OffRZs7e35zQr1HyZU1/1vffWpOu+MyUlBbm5uRCJRDq7S9elKZ7rbt68icrKylrvDUnjarLAT48ePdgL0+3bt7VqqjCSk5PZamRGRkbo2bMnO27btm24du0aW/3R398fMTEx2LJlC8LCwhAeHo6oqChO0rrGFKnRfaCutyUKhQJnz55FZWUlDA0N8cEHH2DZsmXw9fVFu3bt8Pbbb2PmzJk4cOCA1oMu05yLqdVTUVHByVGSmprK1mQwNTVFcXEx/v77b3a8j48P9u7di6lTp7JvBLy8vNCrVy8YGhoC6iSE9eHl5YVp06ZpneCZt0xlZWW1VumD+n+rVCp07NiRc7Fkuk3WtT314eLigq+//ppz4R45ciT8/f0hFApx6dIl9i32qVOnkJmZiZYtW2LChAlavW8xXSIaGBggMTFRZ46Ytm3baiXcGzBgAEaPHg0TExPcvHmTrcmlUCiQlZUFgUAAT09Pzv8bMGAAPvjgA70fpO/evYuSkhIYGxtz2npLpVJMmzZNK+9VY2DaxkulUq3o+5kzZ/DgwQO0adMGX375pdYFqF+/ftiyZQtnPw8ODkafPn1QWFiIffv24dSpU4iLi4NQKMTQoUO1Et8xNzt1eaD49ddfkZycDJFIhKCgIAQEBHDGDx06FKtWreIM42Parbu5uXH2+S+++ILT/JTx8ccf4/PPP9e6eWS+M7kCGuM4qo+jR4/i8ePH6NSpExYtWqTVrvu7777Dp59+CtRj3aGepqSkRO9aRWikY7ExXLx4EXfu3IGJiQkCAwM5y1HbsZWZmYny8nJYWlqiT58+7HA3NzeMGzeuxofVmo6p+hzfU6ZM0UrUKJFIYKTukYcJ3sXGxrLbeuzYsZz5Q73M69atw/Tp0znDa1rWp8nIyEB5eTns7Ow4x79UKsWkSZPQpk0bTnk08bokJCSgsrKyxmtFQ64/L6K8vDz2Zc9rr72GCRMmwMXFBSEhIRg+fHiN90alpaWoVjcJbtOmDaZMmYJPP/0Uc+fOBdQ35ExzOeZc4u/vj+DgYEydOrXOtdwY9V3exsJcZ0QiEd5++234+PjAy8sLixYtQo8ePfjF6y0rKwtXrlxhAweDBw/G6tWr4e/vj6CgIPz0009wc3Njg2uarly5wh6PYrEYI0eORHBwMPz9/bF69Wr07duXPwlQj3VryDKeOnWKDQq0b98eK1euRHBwMNzV3TkHBQVhw4YN9erIgZnfxx9/DF9fX4SGhmLEiBEQiUSorq5GQkJCjc8UusTFxaFcnQ+zb9++2LhxI4KCgth5jx8/HiYmJlAqlTh37hx7DxkTE8PW6JZKpQgLC8P8+fPh6+sLf39/LF26FD/99BNQz+3x008/YenSpexLK5lMhkGDBrH5rgoLC5GZmYnvv/8e69atw3vvvQeJRAKpVIqPP/6YTYSuUCjYTmkaW2JiIvug7+DggKVLlyIoKAj+/v5Yvnw5RowYUefzqUKhYGvmt2zZUuteUB8KdZOvoqIiCAQCvZbBzMwMYWFhWp/58+dr3ZPUR+fOndnz4tNyQumrrvfedbnvPHfuHMrLy+Hh4YGZM2dq3dMyvY4yv09TPNf9/vvvyMjIqPHe8PPPP8fChQs5w+pqzZo1uHjxIhYvXswfVWf1vU96kfxfhKCRubi4wNXVFQKBAEqlkq0RUZOrV6+ie/fuEIlEcHJygru7O5KSkiCXyzFnzhzMnj0bffv2hVCduLdr167o2rUrfzZQKpXsQ1dj2bNnDzp37lzjG92dO3fC2dkZffv2hVgsxsCBA7WSQVdWVmodEExzLqlUCqFQiNzcXFy/fp0dz9RkYCKo+fn5OH/+PDteKBSibdu2GDVqlFZSWagfzn755Rf+YL2Ym5vjvffeQ0BAAPLz81FUVARzc3O2iuyFCxee2kTgzJkz8PLyglQqxbJly9huba2srHDnzh1UVVXpfGNVm8rKSqSmpsLPzw9vvfUW8vLyYGZmBisrKxgYGCAtLY29CEN94l2/fj1mzJiB9u3bY+nSpez6WFtbs299//rrL6xYsULjP/1/KSkp8PDwwIEDB3Dv3j0YGRmhTZs2EAqFuHfvHrZt28aJ6h87dgzdunWDtbU1Fi9ezN402NraIjc3F4WFhXpFxa9cuYLExES888478PHxQZ8+fVBQUABbW1sIhUKkpKRoXQAa6t9//4W3tzfs7e2xZcsWPH78GLdv38b//vc/JCcnY+fOnZg8eTK6d++OiIgI3L9/HwqFAlZWVjA3N0d1dTWbm8TLywvDhg2DUChEXFwc2xvBgQMH0KtXLzg4OGDMmDGcm7eUlBT06NED3bp1Q0xMDCorK3Hx4kUsWbKELaPLqlWrsGDBAjg5OWHGjBmYOHEiHj58CDMzM9jY2CAjI4M/Cccff/yB119/HTKZDNu3b8e9e/dgaWkJc3Nz3Lx5UysQZa/ulv6TTz5Bbm4uKisrYWNjAzMzMxQXF+Po0aNAIx1H9XHkyBG0bdsWH330Eby8vHDo0CHk5uaivLwcbdu2hVAoZLsQr+u6Q52E+e7du5BKpQgKCsLAgQMhFAqxYcOGGnvsaoxjsTFkZWXhwIEDmDhxIrsc9+/fR3l5OWxtbWFgYIB//vlH6/py9uxZ+Pv7w8PDA6NHj4avry/KysrQpk0blJeX49atW5xunBm1HVN1Pb5dXFzw8ccfY8qUKWwtG1tbW5iYmCA3N5cTgN60aRNmz56Njh07YtWqVVr7n4GBAduUmVHbstbmwIEDGDRoEJydnTFq1Ch4e3ujuLgYrVu3hkAgQEZGhtZNaFOuy86dO+Hq6oo+ffpgyJAhWtcKJml5fQMXL5oTJ07Ax8cHdnZ2MDU1xeeff47PP/8cUO/vFRUVbE0QTZcvX8bDhw/Rrl07SCQStgluorrb6djYWPj4+KBbt24QCoXw8vJib/aLi4tr3Oefpr7L21j+/PNPuLq6wsTEBB07dmQfKpRKJW7cuIEuXbo0WvBp586d6Ny5M5ycnLS2oVKpxIULF9CjRw+tBy6ot1Pnzp0hUTcrZ/K9qNSdgHTo0EGrmUx91q2+y5iVlYW9e/diypQpsLS0RLt27dhl1KRvJwOa0tLS4OjoiC+++IIzXKVSIT09HTt37uQMf5rIyEjY2Nhg2LBhMDIygrOzs1YtKqVSiYsXL3KuP8nJydi6dSu7jubm5hgyZAiGDBnClmHWrz7bw8zMDN26ddNZW7miogLHjh1DSkoKJBIJPDw80Lt3b4SGhnLKMcGquLg4zvDGcujQIXTr1g3vvvsuhEIhOnbsiJCQEHZ8WloaxGKxznuF2ty8eRM9e/Zkc5nWJZDHOH78OPr06QM/Pz8IdTQP5LOxsdGZDJtp3sfv6ayumF4oy8vLa22hURd1vfeuy31nZGQkHBwc8M477yAgIAC+vr7sM0vr1q0hkUiQl5fHNqFuiuc6XfeGRUVFyM/Ph42NDczNzeu1bzDc3d3RqVMnCNUtRrp164arV6/yi+mtvvdJL5K6h+f00Lt3bzYS/fjxY52ZvDVdunSJfcPXqlUrztuM3NxcTJ06FbNmzcLFixdRWFgIpUYCrPLycuTm5uLEiROYPHkyZs6cyY5rDEyvRPwqyQyFQoGpU6diw4YNuH37NvsmC+plu3fvHmJiYnDw4EHOdMzDE4Ofv4efrDI9PZ0TYMjOzkZqaipKSkrYtzFKpRKFhYWIi4vDzJkz6/1QmZ2djWvXrqG0tBQ2NjZwcnKCpaUlcnJysGHDBnz77bf8SbTEx8dj7dq1SE9Ph1AohL29PczMzHDx4kWsXbu23kkG//rrLxw4cAAqlQoymQw2NjYoKSnB0aNHERISonWTER8fjzlz5iAuLg4lJSXs+piamiIrKwvr1q3DF198UWOVTLlcjs2bN6OkpAQODg5o27YtysrKcP78ecyZM0drGx8/fhwrVqxAeno6DAwMYG9vjzZt2uCff/7BunXratyPdFm2bBmOHj2K4uJiWFhYoEOHDigoKMD69eu11rMxHDhwAAcPHmT/X7t27TjVxaOjozFnzhwkJyejsrIS7dq1g5OTE1q0aIHbt29j3bp1iIiIgEQiQVBQEGxsbHDr1i38/PPP7DzkcjkOHjyIsrIyrSZfW7duZd/MSaVS2NjY6JWgVS6XIyQkBIcPH0Z+fj5MTU3h6OgIS0tLZGRkPLWLyOjoaGzZsgV3796FWCyGg4MDhEIhfv/9d+zbt0/rbec///wDuVwOgUAAe3WXmEKhEFevXsWcOXPYLl8b4ziqr40bN2LRokVISUmBUqlEu3bt4ODggPLycpw5c4YNItd13RkbN27EjRs3YGBgADs7O4jF4qfu2w09FhtLdHQ05s2bh+TkZHbbdOjQAXfu3MHy5ct1BgoVCgVWrFiB8+fPo6KiAlKpFO3atUNWVhaWL1+u1fyLUdsxVdfj+/Lly+zvJFM3B6uoqMC5c+e0zvfx8fGYOXMmzp8/j7KyMs7+d//+fURGRmL16tWc+de2rLVRKBT49ttvER8fj7KyMkilUnTs2BFFRUX48ccf2VoImppyXRQKBWbMmIG9e/fi0aNHMDMzg0wmg7GxMY4fP47Vq1fX+/rzIpLL5QgPD2ebU0L90JiQkICNGzfWuK7JycnYtGkTsrKy2HuqiooK9vdSKBRYvHgxzp8/z+ZhUCqVyMrKwpo1a2rc55+mvsvbWH7++Wds2rQJd+/ehVKphEqlQlFREQ4cOIC//vqLX7xBmGsTUwtTpVJBpVIhPz+f7QaZoeDlBNm3bx82b97MLifUtbROnDiB/fv36zw312fdGrKMR44cwddff41z586hqKiIcy9aXFyMa9eusS8Z6uLGjRvYu3cv8tXNDZn1qOk+Tx/ff/89e00sLS1ll7Vc3QPmjz/+iKlTp2pdf5h1jIuL01rHe/fucV7I1nV7JCcn49GjR+zvq1KpUFpaipSUFISHh2P9+vWA+p7j3r17Ws8XzHI35b0EAISFhWHDhg1a++L58+exePFidlhVVZXeOS+vX7+OkpISrZYedbV79+567Q9Nwc3NDUKhsNGbq+t774163Hd+++232LBhA+7cucO5HqtUKiSqu7G/cuUK0ITPdfx7Q0tLSzg5OcHY2Bg3btzAb7/9xp9EbykpKZDL5VAqlfj3338bFPRBA+6TXiQCBwcH7asHIS+YqKgo2NnZITIyEps2beKPbnTr16+Hh4cHDh8+3OBqhoQQQgghmj7++GOMGzcORkZGkMvlCAwM5Bd57p7VMjL3XFAnR6b7rpeDi4sLFi9ejLZt20KhUGDp0qVsjc2nYX7zR48e4bvvvtN6kfoyGTZsGL788kuYmprixIkTL3VPa6R5a5IaP4QQQgghhBDdunTpwub907eXqmftZVhG8vy4uLiwCZoVCoXOGp41OX78OIqLi2FpaQk/Pz/+6JeKt7c3zMzMkJeXp9XCg5AXCQV+CCGEEEIIeUb8/f3Ru3dvCAQCVFVV4Z9//uEXee5ehmUkz49MJsOQIUPYXFM5OTk1NinU5dChQ4iPj4dKpUKfPn109rT5MggODka3bt1QVVWFEydONCgnDSFNjQI/hBBCCCGENCIfHx8cOnQIK1asYHuR8vf3R3h4OEJCQtik9vfu3dO7eUxjexmWkTxf27Ztw9atWzFp0iT4+vrC19cXX3zxBVauXMkmyS4tLeXkg9LXtm3bcOvWLbRs2RIjR47U6gjgRcd0ZCISifD3339j8+bN/CKEvFAoxw95KVCOH0IIIYS8LHx9fTFjxgytHrE05ebmYu3atfj999/5o56JF2UZKcfPiysqKqrWgEx5eTkOHTqE77//nj+KEPKCoRo/hBBCCCGENKLs7GxcvnyZ03MT1L08PXz4EIcOHcKnn37apAGVp3kZlpE8X3///TdycnI4vRepVCqUlJQgISEB06ZNo6APIS8JqvFDCCGEEEIIIYQQ0kxRjR9CCCGEEEIIIYSQZooCP4QQQgghhBBCCCHNFAV+CCGEEEIIIYQQQpopCvwQQgghhBBCCCGENFMU+CGEEEIIIYQQQghppijwQwghhBBCCCGEENJMUeCHEEIIIYQQQgghpJmiwA8hhBBCCCGEEEJIM0WBH0IIIYQQQgghhJBmigI/hBBCCCGEEEIIIc0UBX4IIYQQQgghhBBCmikK/BBCCCGEEEIIIYQ0UxT4IYQQQgghhBBCCGmmKPBDCCGEEEIIIYQQ0kxR4IcQQgghhBBCCCGkmaLADyGEEEIIIYQQQkgzRYEfQgghhBBCCCGEkGaKAj8EX331FY4fP46EhAScO3cOY8eO5Rchz1FwcDDOnTuHixcv4ttvv+WP1tv69euRmJiIxMREzJ07lz+akEbB7Gfr16/njyKNpKZjubHOFbVxd3fH4cOHkZiYiD179kAmk/GLkDqwt7fHrl27kJCQgJiYGHh5efGLEEIIIYQ0GAV+asHckP31119Ys2YNf3SzMGnSJIwYMQItW7bE3bt38fDhQwgEAn4x8hz16NEDRkZGEAqFcHZ25o8mryjmIf/EiRPw9/fnj35pNJf14LO3t8eBAwd0BmiayrM4V/Tq1Qs2NjYAgHbt2uG1117jFyF14OrqCjs7OwgEAlhaWsLV1ZVfhBBCCCGkwSjw08Tc3NywfPly/Pbbb/D19eWPfq7s7e0xePBgGBoa4tdff8WwYcMwbNgwRERE8IuSJiSVSjF58mTs3r0bBw8ehLu7O2d8YmIiSkpKUFlZiX/++YczjtQsJCQER44cwZw5c/ijSDP2opxz/f390a5dO/7gJtVY54phw4Zh3bp1OHr0KIKDgznjLl26hLt376K6uhrZ2dn4999/OeOfhYEDB2LZsmU4fvx4nY9vmUyGGTNm4MCBA9i9ezd/9DN3/fp1pKeno7q6Grm5ubh+/Tq/CCGEEEJIg1HgpxZZWVn46KOP0KdPH3z11Vf80Xqxs7ND7969YWZmxh/13Dk7O8PCwgJlZWW4fPkyfzR5Rtzd3TFixAh07twZYrGYPxrbtm3DwIED4enpie+++44/mtSgb9++sLW1bbY12CIiItC/f38MHjwYR44c4Y9+aTT2erwI51w3NzcMGjQIhoaG/FFNqrHOFR9++CF69+6Nli1bwsCAe5uQlJSE4cOHo0+fPvjoo48gl8s545+FDz74AAMHDoSlpWWdj+/Bgwdj6NCh6NChwzP/fXTJysrC559/jj59+mDYsGGIj4/nFyGEEEIIaTAK/LzChEKh1k09IYSQhhkxYgRsbW35gwkhhBBCCHku6KmfEEIIaSQBAQHo378/23SHEEIIIYSQ503g4OCg4g9sbKNGjYK/vz/s7OwgEomgUqnw+PFj/Pnnn5zq6BKJBJ9++ikGDx6MNm3aQCgUsmWZHkSSk5M58x4/fjzGjBmD7OxsLFy4EGPHjkWPHj1gYmICpVKJjIwM7NixA7///jtnOqlUiilTpsDT0xMtW7aEQCBAZWUl5HI5Vq9ejaSkJEDde4qHhwcOHz6MhQsX6j29VCrFjBkzIJFINP7r/1EoFFi6dCliY2MhkUgwfvx4eHt7w9LSEkKhEEqlEvfv38fmzZsRGxvLn1wnqVSK4OBg9O/fnzOfgoICnDt3DhEREexDiK+vb43LJpfLERgYyB/Mcnd3R1hYGKRSKRQKBb7//nt06tQJPj4+aNWqFQDg4cOHiIqKQmRkJH9ynetbWVmJ27dv4+eff8bhw4cBANOnT0dAQAAMDAyQlJSEiRMnsvOwt7fHmjVr0L59e5SXl2Pz5s3YsWMHO37FihV48803OePc3NwQFBQEDw8P9vdSKpUoKipCdHQ0Nm/ezE5fEzc3N4wcORLu7u4wNzdn90+FQoErV67ghx9+4DR7YPYdADh8+DCePHmC9957Dy1btsTNmzexe/fuGn8HaPwWc+fOxdChQwF1Do9JkyZxymkeN1KplD3GFAoFLl68iJkzZwI6lkdzfwaAfv36ITg4GE5OTjA2NmaPvfPnz2Pt2rVaD7G6juuysjLcvHkTK1euREpKCqd8TXTNR9f5YdiwYXj//ffh4OAAY2NjCAQClJaW4vLly/jpp5/Yc0NUVFSNPQ3x15tZ5y5dukAsFkOpVOLBgwf45ZdfdO6//OMeAB4/foyjR4/CxMQE/v7+NR5Dvr6+CAwMhEwmg7GxMQCgrKwMcrkcUVFRWsc6/9wWEhICFxcXVFVVYfv27bh79y5mzJiBkpIShIaGIikpqdZjm6FUKrFv3z6sXLmSHTZ06FCMHDkSDg4O7LkjIyODc0xqcnNzw9ixY9GtWzf2fz169Ai///47unTpAg8PD537qi7MMmuuB3Ss/9PO7bWtu+Y5F/W81uhDJpNh8eLFkMlkuHnzJoqLi9GrVy9Ax773NLq2MXNu7dOnj85jubZzhT7nwNqOHWYbAmC3c25uLuc3459jkpOTOftVaWkpzp49izVr1midT6A+Hj/66CO4uLigRYsW7DIy18P33nuPnT9fZWUlIiMjsWnTJv4oQGN/EolE/FGAju3l6+uLgIAAODo6QiKRsNf4u3fv4tdff9U6P/C3/YYNGzBhwgR0796dPbfk5ORg586dnGOKf03V3E8ZT9suTHld55jy8nLk5OTgxx9/RHx8PLy8vDBjxgxYWFjgp59+4lw7CSGEENJ8NWmNH4lEgtWrV+OLL76Ag4MDSktLcevWLeTl5cHU1BSvv/46W1Ymk2H9+vUYM2YM2rZti8ePHyMtLQ13796FqakpBg0ahPDw8Bq7OhUKhZg1axY8PDyQl5eHrKwsVFdXo1OnTvjyyy8xcOBAtqxMJsPq1avx7rvvwsjICBkZGcjKyoJSqYSdnR2kUiln3nz6TF9UVIRbt24hMzMTVVVVqKqqQmZmJtLS0nDr1i0UFRVBIpFg+fLl+PDDD2Fubo47d+5ALpejrKwMUqkUdnZ2/H+tk5eXFzZu3Ihhw4bB0tIS+fn5SEtLQ35+PiwtLTF06FCsWrWKvaGvbdlu377Nn32t/vOf/yAwMBBWVlYQCAQQCASwsbHBuHHjtJKCMr/xhx9+CGtrawiFQgCASCRCp06dMG3aNEyYMAEAcPXqVZSUlAAA2rZtCxcXF3Y+3bp1g6WlJQBALBajQ4cO7DiJRAJ7e3tAvZ4pKSnw9fXF999/j0GDBsHc3JzNCSEUCtGqVaun/t6M2bNnw9vbG61atWKXXSAQoEWLFvDy8sLChQtrfGjq3Lkz23sagEbLLSGTyRAREYExY8agXbt27EMNs1wODg78SXQaN24clixZAjc3N/aBQSAQwNzcHO+88w5n/wGAlStX4osvvoBMJuP8TxMTE9ja2up8+Oary/nB19cXISEhcHZ2ZgOsWVlZMDQ0hKenJ2bOnMn+7rdv30ZaWhqePHkCAHjw4AHS0tKQlpbGedhk1tnV1RVlZWW4desW8vPzYWtri4kTJ2r1wqR53JuamiIvLw9yuRwCgQDDhw9Ht27dOOU1zZkzB3PnzoWLiwtUKhXkcjnkcjlUKhVcXFwwe/Zsdt/nEwgEmDZtGtzc3Njmmcz+x8cc28z6an4KCwsBALdu3cKBAwfYaebMmYMZM2bA0dGRPe8WFxfD0dER06ZN0zqOvby8EB4eDk9PTxgbG+Pu3bvIyMiARCJBYGAg+zs0Fn3P7bWd15hzLhrhWlObKVOmwMHBAcXFxfjll19QXV3NL6IXzW3MPOhrnlvbtm3Ln6RWjXUOrAtra2t89dVX6NSpE7u/mpiYYPDgwZg3bx6/OCZMmIDly5ejd+/eMDU15SxjXa6HjYE5Xrt27cpuf6ivVR06dMDkyZPx448/1nieMzY2xpIlS9C7d282b5tQKESHDh041zl96LtdZs6cyZ5jmHM4ABgZGcHW1hbm5uaAuhcxa2trmJiYsEFJQgghhDR/TRr4+frrr9G3b1+Ul5dj27Zt+M9//oORI0fCz88PixcvRlZWFlt2ypQpcHFxQWFhIZYuXQpvb28EBQVh2LBhmDFjBnJycmBra4vx48frvNmys7ODubk5Zs2ahYCAAAQEBCA0NBQFBQWwtrbGoEGD2LL+/v6QyWR48OABQkJCEBgYiICAAPj4+GDHjh0630Rq0mf6+Ph4fPbZZ9i2bRsqKipQUVGBbdu2ISgoCJ999hni4+Px3nvvwc3NDcXFxVi0aBECAgIQGBiIt956C6tXr0Z2djb/X2uRqGvQ2NnZIScnBzNmzICfnx+CgoLg5+eH5cuXo7CwEE5OTpgyZQoA1Lps06dP5/+LGpmYmKBv375ITk7GkiVL8OOPP7LbTiwWY8CAAZzfiqmxAAA3b97E9OnT4efnh4MHD6KiogJGRkYYMmQI3N3dcfbsWTx8+BAAYGlpiU6dOrHzcXZ2homJCaB+KO7cuTM7ztPTkw0K3b17F0lJSXj//ffRqlUrqFQqXL16FVOnToWHhwfmzp2Ly5cvo6Kigp2+NgYGBnjw4AF2796NMWPGYMCAAdi4cSP7QN2xY0cMHjyYPxkAoEuXLsjJycH06dPh4eGBwMBAJCUlITw8HJs3b0ZpaSkAID8/HytWrEBoaCh++OEH/mw4JBIJZs+ejc6dO0Ogrv1y6tQpLFiwAAsWLMDx48fx+PFj/mRa/P39ERgYCIlEAoVCgf3798PPzw/Tp09HZmYmBAIBOnXqhNGjRwMAhg8fDnd3dwiFQpSUlGDLli3w8/NDYGAgdu3axf5uT1OX84NSqcTt27cRHh7OltM8xjt06IC33noLUNcWCwoKwoMHDwAAFy9eRFBQEIKCgtiaXd7e3hgxYgSMjIxw7NgxDBkyhP3fO3fuhFKpxFtvvQVvb292GaZMmYJOnTohLy8PYWFh8PPzw8iRIzFkyBCcOHEC7du3Z8tqGjNmDN59910AwJEjR/DOO+8gMDAQgYGBGD58OOLj42FoaIjhw4dz/h/DysoKtra2iIqKwoABA+Dp6VljrQbm2GbWl/mcO3cOEokEBQUF+Omnn9htyyybSqXCzp072fPu0KFDcezYMRgaGsLPzw9ubm6AxvnG1tYWGRkZmDx5MoYNG8auS0JCAqytrXlL1TD6nttrO68x51w0wrWmJpMmTUKfPn1QXV2NP//8E9HR0fwietHcxgBQWFiI3bt3IzQ0FLt374ZCoahzb2H6ngN/+OEHhIaGsteeyspKREdHIzQ0FOHh4WzNHn3069cPxcXF2Lx5MxYsWIArV65ApVJBIBDAxcUFPj4+bNmRI0ciKCgIRkZGUKlUuH37NjZv3ozQ0FCsW7cON2/eRHV1NbZu3YrQ0FBcvXqVnTYuLg6hoaEICwvDiRMn2OF8J06cQFhYGKKjo1FZWQkAyM7ORmhoKEJDQ7F161ZA/Tv6+vpCJBJBqVTi8uXLWLJkCRYsWIDTp0+joqICAoEAHh4e7DWV77XXXoOpqSl+++03hIaGYvPmzbh79y6gDsS888477DFVG323i5eXFwYOHAiRSISKigocOnQIgYGB8PPzw/r165GdnQ2lUgmoe2XLy8vDkydPkJCQwP+XhBBCCGmmmizw4+Xlhf79+0OlUuHgwYPYsGEDZ/zhw4cxbdo0AMCgQYPQtWtXVFZWYs+ePVo3zGfOnMHu3btRWlqKjh076uyit7y8HDt37sSZM2fYYSdOnEBiYiKgfsvLMDU1hVAoREFBAedGVqFQYMuWLU+9uW3o9AxLS0sYGhqipKREq2eUffv2aVX31mX48OGQyWR4/PgxNm7cyFl/AIiOjsaRI0egVCrx+uuv1+stdk0EAgEuX76Mr776CtHR0dixYwd2796NsrIyQN0shnmjyNSIEAgEyMnJwbx583D69Gnk5uZi0aJF7O9kZWWF/v37Q6FQID09HVDfKL/22mvs/+3SpQsMDAxw7949AECrVq3YLtCdnJwgkUigVCrZ7oyZWjZVVVVITExkHwCPHTuGcePGYdmyZey8a7N3716MGDECq1evRkpKCvt7nzt3DlC/Da6ptkNRURHWr1+P06dPs8Nyc3Nx/Phx3LlzByrV/7W4VCqVSE9PR2xs7FN7dxkxYgScnZ0BAMXFxVizZg1mzJiBI0eOsN2Y82tr6DJkyBC0bNkSVVVVOHjwIJYtW4bc3FycPn0aP/30Ex4/fgwDAwN0794d9vb2sLKyYmss5ebmYuPGjcjNzYVcLseaNWswZsyYpx4DdTk/QP1bffzxx1rNjk6cOIHs7GwYGRnVuO118fHxgbm5Oa5fv47FixdDoVCw47Zs2YKMjAyYmZmhe/fuAO8ctW/fPk7TUYVCgcWLF9fYDfOgQYNgZGSEhIQELFiwgPO/cnNzsXLlSuTk5KBly5YYMGAAZ1oAaNGiBU6cOIHvv/+eM62+vLy84OfnBwA4dOgQZx8cNGgQxGIxzpw5gx9//JEdrlAosG/fPuTm5sLa2ho9evQAeOebLVu24NKlS+w0ubm5+OGHH9gH3MZSl3P70zTGtUaXgIAADB8+HGKxGLdu3WKDCPXh6+uLjh07AurzxvLly7F69WrExsZi9erVWLRoEQoKCviT1Urfc2B8fDxiY2PZwAgAFBQUIDY2FsePH3/qSxFN+fn5WLZsGSIiInDkyBEsXryY3TdatGjBnrskEgnee+89mJiYQKVSITExER9//DEiIiIQGxuL7du345NPPkFERASSkpIQGxvLCdY/efIEsbGxOHbsmNZ1VJNcLsexY8c4266yshKxsbGIjY1FUlIS7O3t8fbbb7NNs44ePYpx48ax19Hp06dj//79qKqqglAohJeXF6c2KqOqqgobNmxAWFgYYmNjERERgWXLliEvLw9QXxs9PT35k3HUZbuYm5uztXwKCwvZbZGbm4tt27bho48+wrFjxwB1r2xDhw7FW2+99UJ0Z08IIYSQZ6PJAj+urq4wMzNDXl4eTp48yR/N4erqClNTU+Tm5uLUqVP80QCA2NhY3Lt3D8bGxpwaHoyCggJcu3aNPxg5OTmorKyERCJhb9Cys7NRXl4OR0dHLFq0qE4PDmiE6RkZGRlQKBRo3bo1vvjii3pVu+7SpQuMjIyQmZnJ3tjxXbx4EY8ePYKZmZnOm9T6Ki8vx4ULFzgPozdv3mRrmRgZGbFdKnfu3Jm9Mb169arWDXpqaioqKyshFArh6OjIDisvL4eBgQG6dOkCqPMhtGnTBqWlpUhISEB5eTnMzc3Z9erUqRNEIhFKSkrYB3EmQCQSiRAQEIAvv/yyXk0bDh06hB49emD27NnYtm0bYmJi8Oeff7IP1VAH83S5desW54G7MfTq1QtisRgqlQoXLlzQeojVR/fu3dlmI4WFhbhw4QJn/NmzZ/Ho0SMAgIWFBZydnZGZmcnWUOrQoQM2b97MaUqpj7qcHzQNGzYMCxcuxM6dO3Hs2DGcPXtWrzfnmuzt7SGTyVBZWYnExEStYIpCocDt27dhYGDAPoAzAcWazlEKhQKZmZn8wXjjjTfQunVrlJaW4vz58/zRgLo7Z6YGg65zyePHj7V+F30xtUdsbGzw999/Y/369ew4ZtkUCoXO+ScnJyMvL48TVHNwcKj1fCOXy3H//n3+4Aapy7n9aRrjWsPn5eWFzz77DGZmZsjNzcX69es5tdXqSvNcef36dRw/fpwz/vTp07h16xZn2NM01jmwLm7cuMEJXsvlcjbwIxQKYWpqCqj3Q6YGU0FBAfbs2aN1TD4rzs7OsLKyAtSBTF3n1JMnT7IBHH5tVEZWVhaOHDnCGRYfH48bN24A6t/BxsaGM56vLtslOzubbcpoY2ODkJAQDBs2jF+MEEIIIa+wJgv82NjYQCQSIS8v76lJMpkaNI8eParxhlmhUCA/Px8Cde4SvrKyMp3JZJkcC4aGhmy1/f379+Ps2bMwMDDA4MGDsWvXLkRGRur9dreh0zOOHz+Oo0ePoqqqCu7u7li3bh2ioqIwatQoftEaMYGG2h62kpKSUFJSAgMDA53brr6USqXezXrat2/P5iZ47733kJiYyPl89tlnbK4YJh9EUlIS8vPzAXW+CBcXF7i4uMDc3BwFBQX4+++/oVAo2Dw/EomEbW6Tn5/PPmjv37+fffCxtLTE6NGjcejQIWzatAn9+vWDPiQSCVatWoUVK1bg/fffh6urK6RSKYyNjVFVVcUvruXOnTv8QQ3GPLhVVVXVeNw8Tdu2bdkHMGtra6xdu5bzu5w5c4YNfjC5ZY4dO4Y///wTSqUSQqEQPXr0wNKlS3H06FFMnjxZr+YxdTk/QP1wfeDAAcyePRs+Pj5wcnKCkZERcnNz2QcefUmlUojFYohEIowdO1ZrX0xMTNRqcmVlZQWRSFTrOUoXMzMzGBkZoaysjN0HdcnNzUVVVRWMjY21ai4VFRVxatbUxfTp09G5c2dkZGRg1apVnHHMsrVo0QLz58/X2gaJiYno2rUrZ5rWrVsDTznfNLa6nNufpjGuNZpkMhkmT54MqVSKiooKxMTEPLWm3tNonitrOr8yNQT11RjnwLrSt1ZSx44dYWRkBKiDzw3dfg2huSylpaU6z03Jycls4NvQ0JBtkqfp8ePHOoM0mtvkaXma6rJdkpOTERsbi/Lycrb585w5c3Dy5EnMnz+/yYN8hBBCCHnxNVngh6Fv/hTUoay+5WqiUCgwa9YshISEICEhAUqlEi4uLpg/fz5Wr1791IeIhk6v6fvvv8fEiRMRFxeH0tJSyGQyfPXVV9i+fbvOt/810WebVFdXo7y8nD/4hZWSksIGTCwtLeHq6srWcLpz5w5iY2Px4MED9kbX09MTVlZWUKlUuH79OnvjHR8fj7Fjx+LQoUMoKCiASqWCSCRCz549sWTJEowbN473n7V9/fXX6NevH4RCIe7evYsdO3Zg6tSp6N27t15N8pqbsLAwfPfdd0hJSUFlZSUEAgGsrKwwZswYrF+/Xu99V5/91t7eHpMmTYK9vT3S09MRHh6Ovn374q233kJAQADS0tL4k+hFM/lvTZ+cnBzONPU9fpRKpV7rWlVVpfWwX11drfMh8mkCAgIwYMAAKNTNtvi17Bjl5eWQy+Va66754Tfx0WddXmT6Lv/Tyr322mtsrQyxWIxPP/2UEzjT7IFq6NChSExMRExMDNs09VlpjHMgaVz6Bsb0tXHjRkybNg0JCQlsc+uWLVtiyJAh2LhxY6M28yaEEELIy6fJAj8VFRWorq5GmzZttN5g8+lTViKRwMrKCtXV1ezbtoa6cOECJk+ejICAABw8eBBKpRJ9+/bVu8eNhk7PSE5OxqxZs+Dn54eIiAg8efIELi4ues2H2RY1bTeom0eZmpqiurqa7enoWWMS7UKdv8XDw6PGj2aXujdv3oRSqYSRkREcHR3RpUsXKJVK3Lx5kx2vUqnQqlUrdO3aFRKJBGVlZUhNTWXnAXWNivDwcHh7e2PevHnsdBKJBH5+frU2FZFIJOjatSuE6u6Id+/ezXaNC40aSs8a0+uZUCissYnZ0+Tn57NBhdzcXEycOFHr92A+AwYM4AS5YmNjMWbMGHz00UeIjo6GQqGAQCCAs7Mzhg8frvFftOlzzDOcnZ3Z3pe2bt2KQ4cOccYzzQn1pVAoUFVVBZVKhePHj2slQtb8LFq0CFAHX1QqFWxsbGoM7OraDyoqKlBZWYkWLVpwep/jk0qlMDQ0RFlZWb2CPHzu7u749NNPYWJigtOnT+tsssIsW2VlJbZu3aq17pofJik2kyC2TZs2vLn9f0xtlReRPvtdU1xr6kLzfzJJ7Pnqus+jgefAplRQUMDWmjQxMalz083GdO/evacui4tGr1nl5eU6m3jWdAwwvSxWV1c/taZifbaL5j1JREQE2/GAnZ0d/vvf//KLE0IIIeQV0mSBnxs3bqC0tBRSqRRvv/02fzQH03V3bWW9vb1hY2ODkpISTo8ejSFXnWD42rVrEAqFOtvs16ah0zMUCgU2b96MP/74AwKBoNYHRUZycjIqKirQsWNHTi8pmnr16gVLS0s8evQIly9f5o9+Jm7fvs2+Pe/Zs6feNUIuXbrESS5sZWXFyd+TmpqKsrIymJubo2fPnhCJRCgoKKgx0S7UCU1/+OEHthmZhYUF25xJFxcXF87DPvM2FeqmHs/rgSktLQ3V1dUwMDDAG2+8Ua83usnJyex2aNWqFfr3788v8lRyuRxLlixhc6Zo5sapSV3OD0yTh/LycvZBhjFw4EC2+ZG+UlJSkJubC5FIxOkyvjY5OTmoqKhA69atdTbplMlkOrtzP3/+PO7fvw8TE5Mak7na29vDRd3NO5OQvCEkEgk+/fRTSKVSXL58GStWrOAXAdRB08LCQkgkEjZ589PcunULSqUSjo6OOvM6DRw4kM3R9SJq7GsN0zMf0zMU/6Or96kVK1bobLrGyMjIYB/4e/TooXVcBwQE1NiDnL7qeg5sSjdu3GCPa6lUioCAAH6RZyY9PZ2tiSOVSvHee+/xi8Db25ttOpWfn8/m7dGk6/gICAhgr3ulpaU6p9PUkO2Sm5uLzZs345dffmETdTd0nyGEEELIy63JAj+//vorkpOTIRKJEBQUpHXTMnToUDbnxLFjx5CSklJj2QEDBmDMmDEwNTVFSkqKzqSidTFlyhStGgkSiQRG6i5Tn1YFuy7T5+bmoqSkBGKxWCvY8fHHH+Pzzz/XqkHAfNenK+5Tp04hMzMTLVu2xIQJE7R6BWK6PzYwMEBiYqLOnAXPwqlTp9icGu3bt8fKlSsRHBwMd3d3uLi4ICgoCBs2bMC2bds40509e5atLdS+fXuYmJjg/v37bP6e69evo6CgACKRiN2+6enpnAern376CUuXLmUf9GQyGQYNGsT2dFNYWKjzrS0jJSWFrV1jbGwMf39/eHl5wcfHB/PmzWPf4tYXU/MC6iZt7777LgIDA9naJjWJiYlh83ZIpVKEhYVh/vz58PX1hb+/P5YuXYqffvqJPxmHQqHA2bNnUVlZCUNDQ3zwwQdYtmwZfH190a5dO7z99tuYOXMmDhw4wPYQFhwcjF27dmHs2LHsNvfx8YGrqyugfptd2/ZEHc8PmZmZKC8vh6WlJfr06cOWcXNzw7hx42Bubq4x5f/HPNTqCqCeO3cO5eXl8PDwwMyZM7WOwTFjxiAyMpJtkvPHH38gOzsbJiYmGDVqFOc4k0qlmDZtms6cHQqFAmfOnEFFRQV69+6NefPmcf6XVCrF//73Pzg4OCAvLw9xcXGc6etj3Lhx6NmzJ/Ly8rBr164aaxBlZWUhISEBKpUKPj4++PzzzznjJRIJvvnmG0RERLDDzp07h/z8fFhYWOCTTz7h1EJ42u/xrNR2zm3sa02uumc+pmco/kezqRjT+9SpU6dq/E2g7lmMOefZ2Nhg+vTpCA4Ohq+vL0JDQzFlyhSt/fVp6noOZJZbJBKhd+/e8Pf3R3h4OAYNGsSWaSzJyck4d+4cmzPsnXfewY4dOxAUFARfX1/2fKPZQ6FmraiePXsiICAAs2bNwscff8wOr0lpaSmbH6pNmzaYMmUKPv30U8ydOxcpKSmIj49nl2XIkCHYsGEDAgIC4O/vj2XLluGDDz6AoaEhKioqcOzYMZ25oiwtLTFr1iyMHz8evr6+mDp1KiZMmMDmU0tJScGvv/7Kn4yjLtvFx8cHe/fuxdSpU9kXEV5eXujVqxfbAyPTbNXd3R2HDx/GH3/8Uad8goQQQgh5uTVZ4AcAVq1ahbS0NFhYWGDGjBmIi4vDzz//jJiYGMyZM4fzoMQve/z4cezZswcxMTFYunQp2rVrh7S0NK0EpfXh4uKC6dOn448//kBUVBSioqJw9OhRuLm5IS8v76k5W+oyfVJSEu7evQtDQ0MEBQUhOjoahw4dgo+PD+zt7TFhwgQcO3YM0dHR+Pnnn3Hy5EkMHDgQxcXFOHr0KOf/6pKVlYX169fj3r17aN++PZYuXYqYmBjs2bMHx48fx4wZM2BhYYHExMQa3/w/C1lZWdi7dy8KCgogEAjQrl07jBs3Dhs2bEBkZCRCQkLg7u6u84GGaZIgFothYGCA1NRU9sGJyQNkYGAAkUiEyspKthkYw8zMDG+//TaWLl2KxMREREVFYdiwYRCLxezNe21v4BXqXo+qqqogEAjQrVs3rF69GgsXLkTnzp1rrV2kj/Pnz7O93YhEIvj7++Obb755as2J5ORkbN26lQ00mpubY8iQIQgLC8O8efPw9ttv69UkZOfOnWyuKrFYjIEDByIsLAyHDh3C0qVLERAQgLZt28LA4P9OFwYGBpDJZBg/fjyioqKQmJiIhQsXsjUGbt26hQMHDvD+izb+MV/T+eHs2bNISUmBoaEhRo8ejZiYGERHR2Pjxo1o3bp1jT0cpaSkoKqqCt26dUNMTAwOHTqEmTNnAgAiIyMRFxcHoVCIgIAAHD16lD2W//jjD0yePBnW1tZszYusrCwcOHAARUVF7HF26NAhREdH4+DBg3Bzc6uxtk5ERASOHz8OAwMD+Pv7s/+LmdbLywslJSXYtm0bkpKS+JPXCfOAamBggMrKSkyePBl79uzR+jA5XdauXYtLly6hRYsWGD9+PE6ePImff/4Z0dHROHbsGAIDA9mHVajPZ7/++isqKirg4uKCjRs3Ijo6mv09bGxsavw9npXazrnQsd815bWmPpKTk3H06FE2n1Tbtm0xbtw4hIWF4b333oNCoahxX6tJXc+BycnJbLO+rl27Yt68eejfvz/EYrHGXBvP2rVrcfHiRTbI4ezsjJCQEISFhWHcuHGQyWTs+QcArl27xm4fOzs7zJw5E0OGDKmxaZymy5cvs3m0JBIJxowZg0mTJrHnm7Vr1+L06dNQKpUQiURwd3fHzJkzMW/ePAwcOBBisZjtBl4zKKopMzMTxsbGGDt2LMLCwjBq1ChYWFgA6uZk+najru92EQqFaNu2LUaNGoXIyEgkJiZi9erV6NatGwQCAXJzc/HLL78A6hrANjY2aNGiBXr37s3/l4QQQghpppo08COXyxESEoLDhw8jPz8fpqamcHR0hKWlJTIyMjjdnfLLtmzZEk5OTrCyskJubi727t2L4ODgGhOU1sXly5dx9+5d9o2wg4MDKioqcO7cOcycObPW3jNQj+k3btyIGzduwMDAAHZ2duzN9j///AO5XA6BQMB2MS0UCnH16lXMmTNHZ14OXeLj4zFnzhzExcWhpKQENjY2cHJygqmpKbKysrBu3Tp88cUXtb5lfhaOHDmCr7/+GufOnUNRURHbM41SqURxcTGuXbuGyMhI/mS4ceMG27xKV/6ezMxM9g1uSUmJVhAnOTkZjx49Yh9kVCoVSktLkZKSgvDwcE4X1zVZvXo1fv75Z+Tn50OlUkGlUiEvLw+bN29u8D6pUCiwZs0a3Lhxg11GpVLJdqNeG2abxsXFaW3Te/fu1diFuCaFQoGpU6diw4YNuH37Nlv7COocFvfu3UNMTAwOHjwIqI/VW7duobS0lPP/Hj58iEOHDmHq1Kl6bRP+MV/T+UGhUGDFihU4f/48KioqIJVK0a5dO2RlZWH58uVazb8YW7duRVxcHMrLyyGVSmFjY8Nppvftt99iw4YNuHPnDudYVqlUbDDrypUrbPno6GjMmzePfShu164dZzkyMjLYsnxhYWH48ccfIZfLYWhoCJlMBjs7O5SWluLcuXMICQnR+3ivjb+/P8zMzGBgYIB27drByclJ54dpqqJQKDBt2jTs3bsX+fn5aNGiBRwdHdGuXTuUlZUhLi5Oq+bZxo0bsXz5cqSnp0MoFMLe3h5t2rRBamoq5s2bV+Pv8SzVdM6Fjv2uKa819aW5jZlzQkVFBZKTk7Fw4ULOfqyPup4D165dixMnTrA1a1QqFYqKip6al6a+mHMQc4ww5yCVSoUnT57gn3/+4QRFIyMjER0dzZ7zmHL67HvJycnYtGkTsrKyONuWqSGoUHfewCwLE2DS3GYLFy5EeHg4Z76a8vLysGnTJty9exdKpZJdvvPnz2POnDla9wg10Xe7ZGdnIzU1FSUlJZxzcmFhIeLi4jj3JdevX8fDhw9RWlpa794CCSGEEPLyETg4ONStX1hCCCFa5s6di6FDhyI9PR0ffvghfzQhpBljjn8ASExM5HRSQAghhBDyvDVpjR9CCHlVMLmemGZ7hBBCCCGEEPIioMAPIYQ0kI+PDzp27KgzxxQhhBBCCCGEPE8U+CGEED18//33CA8P1+opytvbGxMmTEDLli2RnZ2NEydOcMYTQgghhBBCyPNEgR9CCNGDRCKBt7c32wPUnj17cOzYMXz33Xdo37498vLysH379ueaFJgQQgghhBBC+CjwQwgheti/fz+uXLmC0tJStuc8c3NzFBcXIy4uDjNmzMDvv//On4wQQgghhBBCnivq1YsQQgghhBBCCCGkmaIaP4QQQgghhBBCCCHNFAV+CCGEEEIIIYQQQpopCvwQQgghhBBCCCGENFMU+CGEEEIIIYQQQghppijwQwghhBBCCCGEENJMUeCHEEIIIYQQQgghpJmiwA8hhBBCCCGEEEJIM0WBH0IIIYQQQgghhJBmigI/hBBCCCGEEEIIIc0UBX4IIYQQQgghhBBCmikK/BBCCCGEEEIIIYQ0UxT4IYQQQgghhBBCCGmmKPBDCCGEEEIIIYQQ0kxR4IcQQgghhBBCCCGkmaLADyGEEEIIIYQQQkgzRYEfQgghhBBCCCGEkGZK4ODgoOIPbCoWFhawtLSEqakpxGIxBAIBvwghhBBCCCGEEEJIs6BSqVBRUYGSkhIUFBSgsLCQX6TJPZPAj0QigZ2dHcRiMRQKBcrKyqBUKqFSNfm/JoQQQl4IdnZ2yM7O5g8mhBBCCCHNmIGBAUQiEUQiEVq0aIHy8nJkZ2dDoVDwizaZJm/qZWFhAWdnZ1RVVSE3NxclJSWoqqqioA8hhBBCCCGEEEKaterqapSXl6OkpAQPHjxAdXU1XnvtNVhYWPCLNpkmDfxIJBI4OjoiLy8PJSUl/NGEEEIIIYQQQgghr4zHjx8jLy8Pjo6OkEgk/NFNokkDP3Z2digsLER5eTl/FCGEEEIIIYQQQsgrp6KiAo8fP4adnR1/VJNossCPhYUFxGIx1fQhhBBCCCGEEEII0fD48WMYGxs/kyZfTRb4sbS0fKbJigghhBBCCCGEEEJeFiUlJbC0tOQPbnRNFvgxNTVFWVkZfzAhhBBCCCGEEELIK6+yshKmpqb8wY2uyQI/YrEYSqWSP5gQQgghhBBCCCHklVdZWQmxWMwf3OiaLPAjEAioy3ZCCCGEEEIIIYQQHaqrqyEQCPiDG12TBX4IIYQQQgghhBBCyPNFgR9CCCGEEEIIIYSQZooCP4QQQgghhBBCCCHNFAV+CCGEEEIIIYQQQpopCvwQQgghhBBCCCGENFMU+CGEEEIIIYQQQghppijwQwghhBBCCCGEENJMUeCHEEIIIYQQQgghpJl6pQM/69evx2+//YbIyEh07dqVP7pB3n77bezfvx+//fYbwsPD+aMJIYQQQgghhBBCmtxLE/hhgjTr16/njyKEEEJeaW5ubpg9ezb27NmDI0eO4LfffsOvv/6K/fv3Y82aNXjjjTf4kxBCCCGEkFfESxP4IYQQQoi28ePHIywsDJ6enmjZsiUMDP7v0i4QCGBiYoIOHTrA3t6eP9lTtW3bFl999RW2bt2KsLAw/mhCCCGEEPKSoMAPIYQQ8pIKCQmBn58fxGIxqqurcevWLezYsQMrV67EypUrERsbiwcPHqC6upo/6VNZW1ujZ8+ekEqlMDQ05I8mhBBCCCEvCQr8EEIIIS8hHx8f9O3bFwYGBlAoFIiMjMRXX32Fffv24dSpUzh16hTWr1+P8ePHY+/evfzJCSGEEELIK0Lg4OCg4g9sDO7u7sjOzuYPrrf169fD3t4eWVlZmDRpEn80q0uXLhg6dCi6du3KVnmvrq5GVlYWoqOjcfr0abYsM8/8/Hxs374dfn5+6NSpEwwNDVFaWoorV65g48aNyM/P5/yPgQMHIiAgAO3atYNIJGLnf+TIERw/fhxQJ3eeOHEiTExMcPXqVcyZM4czD0IIIa8WOzu7Rr0uLl26FK+//jqUSiWOHDmCLVu28ItosbKywqhRo9C9e3dYW1uz18iHDx/iyJEjOHToEAAgPDwc3bp140+O0tJSbNiwAadOnQL0vB4yhg8fDn9/f1haWgIACgoKcPLkSbz99tuwsrLSeX339vaGv78/O3+VSoWSkhIkJSVh+/btnOuz5jX9t99++3/t3XlYVeXe//HP3gzCFlRCcUjRjaJJYpakGTmWaTyV+lBp1rE5sjSPZZaPlkOaic/JoSM2XA2O5TFTr1Om6VEcM4bLFMMBBRVFRQUBZYb9++OR/XMv0YMd9BwW79d17T+4v9+19tJ/1ro++173rUceeUR+fn7atWuXLly4oB49eqisrEwrV67U119/7fI9Ff+X586d01/+8hft2bPHpQ4AAHCjtGjRQgkJCcbhamW6GT/9+vVTjx49VL9+fRUXF6uoqEgWi0WtWrXSiy++qG7duhkPkYeHh1588UXddtttkiSHwyFvb2/dc889Gj16tLy9vZ29Q4cO1auvvqpWrVpJlx6CJalVq1Z64YUXFBER4ewFAOBG6Nixo5o0aSJJOnfunLZt22ZsqVT//v3Vp08fNWrUSCUlJSosLJTFYlFAQICefvppPfroo5KkoqIiFRQUOF8RKykpUUFBgQoKClRSUiJd5/1w9OjRGjZsmG655RZZLBaVlZXJz89PkZGRatCggbPvcqNHj9aIESPUqlUreXh4qLS0VJLk6+urXr16aeLEiZWuXeTh4aFBgwY5v8vNzU179+5VQUGB3NzcFBwc7NLfuXNn3XrrrZKk1NRUQh8AAGA6pgt+iouL9dtvv2nMmDF67LHHFBkZqR9++EFlZWWqV6+e7r77buMhqlevnsrKyjR37lwNHDhQ7733no4fPy6LxaKQkBA9/PDD0qUH7X79+snLy0t79uzRiy++qMcff1yTJ0/W2bNnVbduXfXv398lKAIAoLo1btxYNptNknTq1CkdOHDA2FKp8vJypaSk6L333lNkZKQee+wxffXVVyosLJSXl5e6du0qSZoyZYref/99ZWdnS5KSk5P1+OOPa9iwYdq6det13Q+7d++uLl26yGq1Kisry3mv/Z//+R+lp6fLzc3NcJXSo48+qvDwcFmtVmVkZGjGjBkaOHCgxowZo+TkZOlSwBQZGWk8VPXq1VNpaaliYmL08MMPa/z48dq0aZNOnjwpSWrevLk6duzo7L/tttvk4+Oj4uJi7d2797IzAQAAmIPpgp9PPvlEEyZMcHkIjouLU05OjiwWixo3buzSr0th0Q8//OCclr5r1y799NNPKioqkqenp+x2uyTpvvvuk5+fn3Jzc7Vq1SrnFPPExETt3r1bktSoUSN17tz5srMDAFC9AgIC5OHhIV2apVpV33zzjd566y3t2rXLOfbTTz/p7NmzkuR8DeufuZ774Z133ikfHx+VlpZq3bp1znttUlKS/va3v+nChQsu55akrl27ysvLSxcvXtSKFSu0detWSdKBAwf0xRdf6MyZM7JarWrfvr2aNWvmcmxZWZk2btyoNWvWOMcKCgq0f/9+lZeXy9fX12XWT0hIiNzd3XXmzBn98ssvznEAAACzMF3wo0uve7377ruKiYnRt99+q/fee0+33HKLsc0pLy9P+/fvdxlLS0tzPozWr19fuvQrodVqVf369fXee+/phx9+cH7uv/9+SZK7u7s8PT1dzgUAQHUqLCz8Qzt1SVK3bt309ttv6+OPP9bSpUu1ZMkSNW/e3Nh2TddzP2zcuLEsFotyc3Ods3UqxMXF6fz58y5j3t7e8vf3ly6tA7RlyxaX+oEDB5yzd+rWrXvFtV+4cOGK75GkX3/9Vbm5ufL09FRISIh0aSZv8+bN5XA49PvvvysjI8N4GAAAQI1nquDH29tbU6ZM0YgRI9S1a1fng+nZs2dVXFxsbL9uFesQFBcX69ixY0pLS7vic/ToUeXl5RkPBQCg2pw9e9a55k2jRo2umPVyNaNHj9a4cePUvXt3tWrVSp6ensrKylJ+fr6x9Zqu535YMYvI4XCorKzM5TyXryNUITg42PnKdHl5uXPtoMp4enrKx8fHZay0tFSFhYUuY7o0G+nEiRPSpUUUmzVrptDQUNWvX18XL150zlQCAAAwG1MFP4888og6dOggh8OhLVu26LnnntMTTzyhjz/++LrDGC8vL7m7u7uMXbx4Ubr0a+Lnn3+ukSNHXvEZM2aM4uPjXY4DAKA6paSkONffadiwocLDw40tV+jZs6e6du0qi8WiPXv26LXXXtNjjz2mF1980fmqV1Vdz/2wYjHoygQHB8vLy8tl7OzZsyoqKpIkWa3Wa66bV1BQ4Px/qIrExEQVFxfrlltu0V133eV8zev06dPavHmzsR0AAMAUTBX8NGnSRJ6enioqKlJCQoJzzYGAgIBrPjjWqVPninUNQkND5ePjo/Lycuf2u2fOnJEk+fj4XLErCAAAN0tGRoZ27dql8vJyeXp66pFHHlHv3r2NbS6aN28uLy8vlZWV6ffff9exY8ekS6871a1b19juwmKxuPx9PffDilDJ19fXuXtmhfbt26tevXouYxkZGc4wx8/PTz169HCpt2vXTk2bNpUuBU/GV7WvZdu2bTp79qzq1Kmjjh07qmnTpiorK3NZ8wgAAMBsTBX8VPD09HQ+iLZr104DBw507n5SGR8fHz355JO68847JUkPPfSQ+vTpIzc3N+Xl5Tmnf1dsB+vp6akBAwbooYcecp4jNDRUH3zwgV555RXnGAAAN8qaNWt09OhRSdItt9yikSNHaurUqYqIiFCfPn3Ut29fvf766/r000/15JNPOo9zc3NTy5YtnWvpDBkypNJ18MrKypwLRzdt2tRlJ6zruR8eOHBAxcXF8vT0VEREhHPnsO7du+vhhx++YsaPJCUkJKi4uFh169ZVZGSkunfvLl26p7/wwgtq1KiRysrKlJiYeM1XwYwyMjKUkpIiSerQoYMaNGigvLw8JSUlGVsBAABMw2K326u+Hch1CAsLc86UqQ4xMTEKDAw0Djvt3r1b27dv13PPPSdvb285HA7nrlx5eXmyWq3y9fXV7t27NX78eOmycxYWFspiscjT01NlZWXOV7zKy8u1YcMGzZ071/k9b7zxhnr16iWr1SqHw6Hi4mI5HA7VqVNHFotFP//8s+bOnas+ffpo+PDh8vb2dvlOAEDt1KJFi2q9L+pSEBIVFaXg4OArZuVUKC0t1fLly7V//36NHj1aDRo0cN6/rFariouLVVJSogYNGujYsWN69dVXncfOmDFDt99+u3Tpnpifn6/PPvtMGzdurPL90NvbW+PHj9cdd9whi8XiXOvH3d1dOTk5zvuz8bsvP3/Fv8PNzc15jl27dmn69OnO4Kfinn7u3Dn95S9/0Z49e5znulzPnj01fPhw59pA8fHxmjx5srENAADgpmjRooUSEhKMw9XKVDN+1qxZo5UrVyonJ0e6NPMnPT1dy5cvv+bizhcvXtT333+v7Oxsubm5yeFwKCsrSwsXLnQJfSTpo48+0sKFC5WZmel8wK0Il7Zt26Z169a59AMAcKMcOHBA48eP1+LFi3XixAmXe115ebnOnz+vHTt2KCEhQYmJiVqyZIlOnz4tXbpHZmdn65tvvlFubu5lZ/3/Fi9erJSUFJWXl8tqtaq8vNy5Zk9V74cFBQWaNWuWtm7dqoKCAlksFlmtVqWkpOirr7666v254vynT59WeXm53N3d5XA4dPr0aS1fvtwl9LkecXFxyszMlC4tTr13715jCwAAgKnUmBk/AADUZDdixk9N16VLF40aNUr169e/abNjvb29NWPGDAUFBenEiROaPHky27gDAIB/G2b8AAAA06psI4UbrXfv3mratKkcDocOHTpE6AMAAEyP4AcAANwwHTt21OzZs/XKK6841+rz9vZWVFSU+vfvf8VGCjdSu3btFBERIW9vb2VlZfF6NgAAqBV41QsAgJugtr7q1bFjR7355pvy9/d32XihYtHm4uJiff/991q8eLHx0Grz1FNP6fHHH3du3lBcXKxVq1Zp4cKFxlYAAICbile9AABAjZaSkqK4uDhlZWXJ4XDIy8tLFotFBQUFOnjwoP7617/e0NBHlxa6djgcLps3EPoAAIDaghk/AADcBLV1xg8AAACujhk/AAAAAAAA+MMIfgAAAAAAAEyK4AcAAAAAAMCkCH4AAAAAAABMiuAHAAAAAADApAh+AAAAAAAATIrgBwAAAAAAwKQIfgAAAAAAAEyK4AcAAAAAAMCkLHa73WEcrA5hYWHGIQAAAAAAAFwmISHBOFStbljwY7fblZaWZhwGAKBW4r4IAAAAo5vxjMirXgAAAAAAACZF8AMAAAAAAGBSBD8AAAAAAAAmRfADAAAAAABgUgQ/AAAAAAAAJkXwAwAAAAAAYFIEPwAAAAAAACZF8AMAAAAAAGBSBD8AAAAAAAAmRfADAAAAAABgUgQ/AAAAAAAAJkXwAwAAAAAAYFIEPwAAAAAAACZF8AMAAAAAAGBSBD8AAAAAAAAmRfADAAAAAABgUgQ/AACg2kRERGjz5s368ccfFRYWZixXKiYmRjt27FBUVJSxBAAAgH9RjQp+HnroIX3zzTfauXOn4uPjtWXLFk2bNk0BAQHGVgAATGvRokX69ddfNXbsWGNJkvTII48oNjZWGzZs0AMPPGAsS5fOsXPnTv35z382lgAAAGAiNSb4iYyM1FtvvaXAwEAlJydr06ZNKioqUt++fTVx4kTZbDbjIQAAmNLBgwdlsVjUrl07Y0mS1L59e3l7e8vHx0cdOnQwltW9e3c1btxYFy5c0N69e41lAAAAmEiNCH5sNpsGDRqkOnXqaMmSJXr++ec1duxYTZo0SWfOnFGnTp30xBNPGA8DAMCU9u3bp8LCQjVp0qTS16natWsnh8Mhi8Witm3bGssKCQmRj4+Pzp07px07dhjLAAAAMJEaEfxEREQoMDBQaWlp+vrrr53j27dv19atW+Xu7q4uXbq4HAMAgFnFxcXp3Llzql+/vkJCQlxqYWFhatKkifLy8lRQUKBbb731ip7AwEB5eHjo0KFDys/Pd6kBAADAXGpE8NO2bVt5eXkpJSXligfU5ORkFRUVqVGjRrzuBQCoFY4dO6bU1FTVqVPnite9QkJCVL9+fR0+fFjZ2dmqX7++Wrdu7azbbDa1adNGRUVFOnDggHM8ICBAU6ZM0YYNGxQXF6f4+Hht3bpVn3zyiTp37uzsk6QJEyYoPj5eEyZM0OjRo7Vp0ybt2LFDL730kkuf0YABA/Tdd9851+rbtGmTJk2aJIvFYmwFAABANakRwU/z5s1VWlqqU6dOGUvKyMhQXl6ebDbbFb9oAgBgVgcPHlRJSYnatGnj8sNHu3bt5O7urv379ys1NVXe3t5q3769s37vvffK399fOTk5Sk5OliSFhobq448/Vv/+/VVeXq7Y2Fht2rRJubm5uuuuuzRlyhSFh4c7z1GhSZMmGjRokHx8fCRJVuvVHyteeeUVvfXWW2revLlSUlK0bt06nTx5Un379lWbNm2M7QAAAKgmV39C+w/i6+srSSovLzeWnOrUqaMGDRoYhwEAMKXk5GRduHBB/v7+uvfee6XLZvNULNp88OBBlZWVucwKCg4Ols1m06lTp5SQkCBJeu6559SqVSvFx8dr4MCBGjt2rMaOHavHH39c27dvV6NGjfTss886z1GhXbt2OnjwoF555RXde++9+vTTT40t0qVgqX///rJYLFq4cKH+9Kc/acKECRo6dKiWLFnCjF0AAIAbqEYEP56eniopKdGJEyeMJScPDw95enoahwEAMKWtW7fq9OnTstlszle5KmbzVCzaXBEOXb4IdJs2beTm5uZ8zSs8PFy33367zp8/r6VLl7q8Up2fn6/vvvtO2dnZatmypbp37+6sSVJBQYHmzJmjxMREl3Gjnj17qnHjxkpOTlZMTIxL7euvv1ZaWprLGAAAAKpPjQh+JMlisTinklemqKhIeXl5xmEAAEwrKSlJbm5uzp27OnToIB8fH+eizRXhUMUi0IGBgQoKClJBQYH27dsnSWrdurXq1q2rzMxMbd++3fAN/7eRQlZWlmw2m+x2u0vt+PHjSkpKchmrjN1ul9VqVUpKirGk/Px85ebmGocBAABQTWpE8HPu3Dm5u7vLz8/PWHIqKSlRQUGBcRgAANPat2+fCgoKFBQUpMDAQLVt21alpaUuizYfPHhQnp6eateune644w75+fkpOztbu3fvliR5e3vLarVe88eT7OxsWa1WeXt7u4xnZGS4/H013t7eKisrU05OjrEEAACAG6xGBD/Z2dlyd3eXv7+/saRmzZrJ19dXubm5zrUKAACoDXbv3q3s7Gz5+fmpe/fuatmypcuizZJ04MABFRYWKjAwUK1bt5aXl5dSU1N17Ngx6bL18yrW06uMr6+vSktLlZ2dbSxVWWXBEQAAAG68GhH8HDt2TKWlpS7b0VYICQmRp6enUlNTjSUAAEytYlt3b29vdenSRfXr13dZtFmS9u7dq+zsbDVu3Fh33HGHysvLdfDgQWc9LS1N+fn5CggIqHTnrvDwcAUEBKigoOCaa+1dy/Hjx2W1WtWqVStjSaGhoWrevLlxGAAAANWkRgQ/O3bsUGZmptq1a6eXXnrJOR4eHq7u3bvrwoUL2rx5s8sxAADUBhU7d4WEhMjd3d3lNS9d2v3rxIkT8vHxUVBQkC5cuOAyI2jDhg06ePCg/Pz8NHToUJcdtmw2mx577DE1aNBAv//+e6VrAFVFYmKi8vLy1LFjR0VGRrrUIiMjFRAQ4DIGAACA6lMjgp+kpCT9/PPPslgsevbZZ/Xpp58qOjpakyZNkr+/v7Zt26aff/7ZeBgAAKaXmJio7OxsNWjQQIWFhc5Fmy938OBBWa1W2Ww2nT59Wlu3bnWpL1myRKdOndLdd9+tVatWKTo6WtHR0frb3/6m8PBwHT58WH/9619djrke69at09atW2Wz2fTGG2/oyy+/1LRp0/T999+rT58+On78uPEQAAAAVJMaEfxIUkxMjGJiYpSTk6M777xTvXr1UllZmb755htNmjTJ2A4AQK2QkJCgU6dOSZfWxKtYtPlye/fu1YULF+RwOFxe86qwfft2jR8/Xr/88os8PT3Vq1cv9erVS97e3lq7dq3+/Oc//8uvVEdHR+u7775TQUGBOnTooPvvv19ubm769NNPlZmZaWwHAABANbHY7XaHcbA62O12paWlGYcBAKiVuC8CAADA6GY8I9aYGT8AAAAAAAC4PgQ/AAAAAAAAJkXwAwAAAAAAYFIEPwAAAAAAACZF8AMAAAAAAGBSBD8AAAAAAAAmRfADAAAAAABgUgQ/AAAAAAAAJkXwAwAAAAAAYFIEPwAAAAAAACZF8AMAAAAAAGBSBD8AAAAAAAAmRfADAAAAAABgUgQ/AAAAAAAAJmWx2+0O42B1sNvtxiEAAAAAAABcJi0tzThUrW5o8HOjLx4AgJqC+yIAAACMbsYzIq96AQAAAAAAmBTBDwAAAAAAgEkR/AAAAAAAAJgUwQ8AAAAAAIBJEfwAAAAAAACYFMEPAAAAAACASRH8AAAAAAAAmBTBDwAAAAAAgEkR/AAAAAAAAJgUwQ8AAAAAAIBJEfwAAAAAAACYFMEPAAAAAACASRH8AAAAAAAAmBTBDwAAAAAAgEkR/AAAAAAAAJgUwQ8AAAAAAIBJEfwAAAAAAACYVI0MfgICAhQdHa0NGzYoIiLCWAYAoFYIDQ3V9OnTtX79eu3cuVPx8fHOT0xMjLEdAAAAtVCNCn4CAgI0ZswYLVmyRL1795aHh4exBQCAWiE8PFzTpk3T/fffL6vVqiNHjiglJUWHDx/W+fPnVVJSYjzk3yYwMFDz5s3TmjVr+MEGAADgJqsxwc9zzz2n7777ToMHD5bFYlF+fr6xBQCAWuPxxx9X48aNFRsbq0ceeURDhgzR0KFDNWTIEPXt21ejRo0yHvJvExAQoFatWqlu3brGEgAAAG6wGhP8uLu768KFC/r73/+uiRMn6sKFC8YWAABqjaZNm6qwsFCxsbH8GAIAAICrstjtdodxsDrY7XalpaUZh6tFWFiYJk+eLB8fH82YMUNr1qwxtgAA8B+luu+Ly5YtU7NmzTR//nwtXbrUWHYxYcIEDRgwQKtXr1Z6eroGDx6shg0bSpKysrL0008/ac6cOcbD1K1bN7300ksKDg6Wl5eXHA6HcnJyFBsbq1mzZrkETjExMerUqZMWLlyoW2+9VX369FFxcbEyMzMVFBTkcl5JSk1N1eDBgyVJgwcP1uDBg9WsWTO5ubmppKREBw4c0MyZM5WcnGw8FAAAwDSq+xmxMjVmxg8AAPj/kpOT5enpqaeffloDBgwwlisVFBSkF154QXl5efr555+1d+9e+fr66sknn9S7777r0jt06FB98MEHCgkJUUZGhtatW6fExER5enpqwIABmjlzpmw2m8sxktShQwc98MAD8vT0lNVq1aFDh7R+/Xrl5uaquLhYsbGxWrNmjbZs2SJJeumll/T666/L399fu3bt0s8//6xTp04pICCg0vMDAADg+rj5+flNMg5WBz8/P50/f944XC2aNWum3r17y9PTU9u3b1dKSoqxBQCA/yjVfV9MT09XmzZt1Lp1a913330KDw9Xbm6ujhw5YmxVjx49dNttt+mWW27R8uXLNWbMGG3cuFGrV69WSUmJOnXqpGbNmiktLU3p6ekKDQ3VyJEjVa9ePS1evFhvv/22Nm7cqB9//FFJSUm66667FBwcLHd3d8XFxUmS/uu//ktNmjRRgwYN9Ouvv+rtt9/WrFmztHHjRuXk5Kh79+5yd3fX4sWL9fnnnys+Pl6S9Nprr6lRo0ZaunSpJk2apI0bN2rZsmVKT09XRkaGcnJyDP8aAAAA86juZ8TKMOMHAIAaKDU1VVFRUfryyy+Vm5urDh06aPr06Zo3b55CQ0ON7dKlYz7//HOXsUWLFiklJUW+vr7q2LGjJKlnz55q3LixkpOTr9gWPjExURs2bJAk3XnnnS41Dw8PnTx5UhMnTlRqaqpL7VqsVusVs3u2bt2qY8eOuYwBAADg+hH8AABQg33yyScaOHCgli5dqry8PHXp0kUffvihevbsaWzV0aNHK10IOi0tTR4eHvL395cuvWtutVqvOqM2JSVFhYWFatiwoUJCQlxq+/fvr/Q7riYxMVFlZWX67//+b82bN0+9e/c2tgAAAOBfQPADAEANl5+fr1mzZikqKkq//fabGjVqpJdfflmBgYEufQUFBS5/X423t7fKysqu+prVuXPnlJ+fL3d3d5eZOiUlJTpz5oxL7z8TExOjzz77THl5ebr77rs1Y8YMLVu2TA899JCxFQAAAH8AwQ8AACaRmpqq6dOnKyMjQ82bN1eHDh2MLZXy8/OTw+FQeXm5JKmsrExubm6qX7++sVWS1KBBA9WpU8e5a9e/asGCBerfv7/mzJmjI0eOyG63680339SDDz5obAUAAMB1IvgBAMBEUlNTVVRUZByWLr3CZRQYGKiWLVuqsLBQhw4dki4tHC1JwcHBhu7/c9ttt6lu3bo6e/ZsldbhKS0tNQ5VasmSJXr22WeVmJioevXqKSwszNgCAACA60TwAwBADRMWFqYvvvhCTz31lLGkoUOHKiAgQDk5Oc4Ap0Lbtm314osvuow9//zzat68uU6cOKGdO3dKkjZu3KizZ88qJCREr776qkt/586d9cADD6isrEzbtm1zqV3Nb7/9pgsXLshiscjHx8el9sADD7i8Lpafn6+srCw5HI4qB0YAAAC4OoIfAABqoCZNmmjUqFGKjY3VsmXLtHTpUq1atUqvv/66PD09tXbtWiUlJbkcc/r0aT3zzDP68ssvNXXqVC1btkz9+/dXfn6+vvvuO+fsnYSEBP3973+Xw+HQsGHDtGzZMk2dOlXz58/X//7v/6pJkybasGGDFixY4HL+azl58qS8vb311FNP6cMPP9S8efMkSS+99JJ+/PFHzZ8/X5MnT9ZXX32l3r176+zZs9q+fbvxNAAAALhOBD8AANQwCQkJWrp0qVJSUmS1WmW32xUcHCx/f38dOnRI0dHRV2zDLkm7d+9WbGys2rRpo379+qlly5ZKS0vTzJkztWLFCpfeTz75RDNnzlRaWppatGihfv366c4771Rubq7mz5+vSZMmufT/M4sWLdK+ffvUuHFj9enTR15eXpKk33//XWVlZercubMiIiLUpk0b7d+/X1OnTiX4AQAAqAYWu93uMA5WB7vdrrS0NOMwAAC10r/zvjhhwgQNGDBAq1ev1tSpU41lAAAA/JvcjGdEZvwAAAAAAACYFMEPAAAAAACASRH8AAAAAAAAmBTBDwAAAAAAgEmxuDMAADcB90UAAAAY3YxnRGb8AAAAAAAAmBTBDwAAAAAAgEkR/AAAAAAAAJgUwQ8AAAAAAIBJEfwAAAAAAACYFMEPAAAAAACASRH8AAAAAAAAmBTBDwAAAAAAgEkR/AAAAAAAAJiUxW63O4yD1cFutxuHAAAAAAAAcJm0tDTjULW6ocHPjb54AABqCu6LAAAAMLoZz4i86gUAAAAAAGBSBD8AAAAAAAAmRfADAAAAAABgUgQ/AAAAAAAAJkXwAwAAAAAAYFIEPwAAAAAAACZF8AMAAAAAAGBSBD8AAAAAAAAmRfADAAAAAABgUgQ/AAAAAAAAJkXwAwAAAAAAYFIEPwAAAAAAACZF8AMAAAAAAGBSBD8AAAAAAAAmRfADAAAAAABgUgQ/AAAAAAAAJkXwAwAA/pA5c+Zox44dmjBhgrEEAACA/xA1Jvjp1q2bvvzyS23dulXx8fGKi4vT2rVrNXr0aNlsNmM7AACmFhERoc2bNys+Pt7ls2XLFs2ZM0ehoaHGQwAAAFALufn5+U0yDlYHPz8/nT9/3jj8h3Tq1EnvvfeeWrVqpRMnTig+Pl65ubm69dZb1bFjRzVu3FixsbHGwwAA+I9RnfdFSQoODtZ9992n4uJiHT16VFlZWcrJyVG9evVkt9vVvn17JSQkKCcnx3hotVm7dq2++OILbdmyxVgCAABAFVT3M2JlasSMH3d3dx09elRvv/22nnjiCY0fP15RUVGaPXu2CgoK1K1bN4WHhxsPAwDA9E6fPq2hQ4dq6NChGjx4sN555x2dOXNGLVu2VK9evYztAAAAqGVqRPCTkJCgkSNHavPmzS7jK1as0KlTp1S3bl21bt3apQYAQG20fft2HTlyRFarVd7e3sYyAAAAapkaEfxcS35+vqxWq+rUqWMsAQBQ6wQGBiogIEAFBQU6cuSIczwmJkY7duxQVFSUS//VakFBQZoxY4ZiY2MVFxenuLg4bdiwwaUnJiZG8fHxLos7V5zrlVde0aRJk7Rp0ybFx8dr586dWrhwoTp37uzsrRAaGqo5c+Zoy5Ytzt4VK1ZowIABLn1Vuaaq9AAAANQmNTr4CQ0NVaNGjZSfn6+0tDRjGQCAWiU8PFzjxo1T06ZNtWXLFq1bt87YUiWBgYF6//331bt3b2VlZWn9+vVKTEyUh4eHGjVqZGyvVNeuXdWjRw/t379fmzZtUl5entq3b69Ro0a5bMoQFBSkcePGqWvXrjp58qTWrVun5ORkNWnSRKNGjVJkZKRUxWuqSg8AAEBtU6ODn8jISAUEBCgtLU0bNmwwlgEAML2goCDnjl6zZ89WaGiofvjhB82cOdPYWmX33HOPWrRooaNHj+rpp5/W+PHjNXz4cI0YMULr1683tl/Bw8NDLVu21Lx58zR8+HCNHTtWH3zwgbKzs9WqVStFREQ4e0eMGKFWrVrpm2++0eDBgzVhwgQ9//zzWrp0qby8vDRw4ECpitdUlR4AAIDapsYGPyNHjlTfvn117tw5ff3118YyAAC1wsWLF5WSkqKUlBQdPnxYJSUlGjRokD7//HMFBQUZ26+Lh4eHmjRp4vw7KSlJv/76q0vP1fzyyy9asWKF8+9NmzYpPT1d7u7uztk34eHhuv3225Wenq7PP//8sqP/r//MmTNq2LChunbt6hyvyjVVpQcAAKC2qHHBT0BAgKKjo/XUU08pKytL0dHR2r59u7ENAIBa4fJdvYYMGaLBgwcrMTFRbdq00YgRI4ztVZKQkKDjx4+rWbNmmjt3rl5//XUFBAQY266qpKREx48fNw6rqKhIHh4e8vf3lyS1bt1adevWVVBQkDZv3uycuRQfH68FCxaoWbNmstls8vf3r9I1VaUHAACgtqlRwU/nzp318ccfq0ePHkpMTNSoUaOu2OkLAIDaLDMzUytWrFBeXp5at26tkJAQY8s/lZqaqunTpys+Pl633HKL/vSnP2n58uWaNGmSy/o811JeXm4cuoK3t7esVquOHDmiNWvWVPpZt26d0tPTq3RNVekBAACobWpM8BMeHq4pU6aoSZMmWrBggV577TWlpqYa2wAAqPXOnz+voqIiubu7/+HAIykpSa+99pqioqKc6+hFRERo6tSpxtY/rCIcKi0t1cSJEyv9fPDBB0pKSpKqeE1V6QEAAKhNakTwExgYqFdffVXe3t6aP3++5s+fb2wBAACX+Pv7y8vLS6WlpcrPz5ckFRQUyN3d3fmaVYWKV6muJikpSePGjdPcuXN18eJFtWvXTp06dTK2/SFpaWnKz8+Xv7+/unfvbixfVVWuqSo9AAAAtUGNCH569eqlli1bas+ePfr222+NZQAAcElAQIAGDhwoHx8fHT58WMnJyZKk9PR0lZeX64477nBZ9Pm5555TixYtLjvD/71afccdd7iMZWZmqqSkRKWlpSouLnap/VE7duxQRkaGGjRooCFDhrjMTrLZbHrnnXf0zDPPSFW8pqr0AAAA1DY1IvgJDAxUnTp11KZNGy1durTST3R0tPEwAABMr3Hjxs574bfffqtly5YpLCxMJ06ccNlVa9u2bTp79qzsdrvmzp2radOmadGiRRo8eLAyMzNdzhkWFqZ58+ZpxYoVmjZtmqKjozVu3DjVq1dPu3btcoZJ/6r8/HytXr1aubm5uvvuu7V8+XJFR0dr1qxZWr16tR599FF5eXlJVbymqvQAAADUNjUi+KnQuHFjBQcHV/pp2bKlsR0AANOrW7eu817YunVrubm5aceOHZo4caLLrpcJCQmaN2+e0tPT1bBhQ/Xt21dNmzbVypUrlZGR4XLO1NRUHTt2TE2bNtWDDz6oHj16yGKxaNmyZdX+Q8uKFSv07rvvav/+/fLz81Pv3r3VrVs3lZaWavny5Vq0aJFUxWuqSg8AAEBtY7Hb7Q7jYHWw2+1KS0szDgMAUCtxXwQAAIDRzXhGrFEzfgAAAAAAAFB1BD8AAAAAAAAmRfADAAAAAABgUgQ/AAAAAAAAJkXwAwAAAAAAYFIEPwAAAAAAACZF8AMAAAAAAGBSBD8AAAAAAAAmRfADAAAAAABgUgQ/AAAAAAAAJkXwAwAAAAAAYFIEPwAAAAAAACZF8AMAAAAAAGBSBD8AAAAAAAAmZbHb7Q7jYHWw2+3GIQAAAAAAAFwmLS3NOFStbmjwc6MvHgCAmoL7IgAAAIxuxjMir3oBAAAAAACYFMEPAAAAAACASRH8AAAAAAAAmBTBDwAAAAAAgEkR/AAAAAAAAJgUwQ8AAAAAAIBJEfwAAAAAAACYFMEPAAAAAACASRH8AAAAAAAAmBTBDwAAAAAAgEkR/AAAAAAAAJgUwQ8AAAAAAIBJEfwAAAAAAACYFMEPAAAAAACASRH8AAAAAAAAmBTBDwAAAAAAgEkR/AAAAEnSnDlztGPHDk2YMMFY+o8TExOjHTt2KCoqylgCAADAZWpM8DNhwgStW7dOO3fuVHx8vHbu3KnvvvtOAwYMMLYCAFArhIaGavr06Vq/fr3z/ljxiYmJMbZXm9mzZ2v79u1auXKly3de7bNs2TLjKQAAAHCT1Jjgp23btsrNzdWWLVu0bt06paamqnnz5ho1apQiIyON7QAAmFp4eLimTZum+++/X1arVUeOHFFKSooOHz6s8+fPq6SkxHjIPzVq1Cjde++9mjp1qrHkFB4ervbt2+vkyZPat2+fUlJSnJ/Tp09Lkk6fPu0yfvToUeNpAAAAcJNY7Ha7wzhYHex2u9LS0ozD1er999/Xgw8+qD179uill14ylgEA+I9R3ffF2bNnq1u3btq8ebMmTZqk/Px8Y8sN8c4772jgwIFatWqVPvzwQ5fahAkTNGDAAK1evfqa4VF1iImJUadOnbRgwQJ9+umnxjIAAECNUN3PiJWpMTN+KvPLL7+osLBQ9erVM5YAADC1pk2bqrCwULGxsTct9AkMDFRYWJhycnK0detWYxkAAAD/gWp08AMAQG1mtVrVoEED4/BVPfPMM1q1apXLenmLFy9WSEiIdGkWTXx8/FUXd+7Tp4+aNm2qffv2afv27cbyNQUEBGjKlCn6xz/+obi4OMXFxWnNmjV65plnjK1SFa61gsVi0aRJk5zn3blzpxYuXKjOnTu79AEAANRWNTr4adu2rTw8PHTo0CFjCQAAU0tOTpanp6eefvrpf7rRgc1m0+zZszV8+HD5+/tr9+7dWrNmjX7//Xe5ubnJZrMZD6lUeHi4ysrKtG3bNmPpmmw2myZOnKh+/frp4sWLWr9+vRITE1W3bl29/PLLevXVV116r+dau3btqvvvv1+HDh1SbGys8vLy1L59e73xxhsKDAx06QUAAKiNamTwExISookTJ2rQoEE6deqUVq5caWwBAMDUFi1apN9++00NGzbUuHHj9NVXX6l3797GNknSyy+/rK5du+rcuXN65513FBUVpYkTJ+qFF17Qk08+qYSEBOMhV+jXr5+CgoJ07NgxrVmzxli+phEjRuiuu+7Shg0bNGTIEI0fP17Dhw/X3LlzVVxcrH79+jln8lzPtXp4eKhly5aaPXu2oqKiNHbsWH3wwQfKzs5WixYtdM8991x2FQAAALVTjQl+wsLC9OOPPyo+Pl4LFizQQw89pD179mjMmDFVemAFAMBMUlNTFRUVpS+//FK5ubnq0KGDpk+frnnz5ik0NNTZZ7PZ1K1bN5WXl2v58uXX/YpWhR49esjb21s7d+68rjWFAgMD1aVLF2VlZWnlypUux65YsULHjx+Xn5+f2rRp84eudc+ePVqxYoXz702bNunw4cNyd3eXv7+/Sy8AAEBtVGOCn8zMTP3jH//QmjVrtGnTJp08eVJ33323Pv/8cw0bNszYDgBArfDJJ59o4MCBWrp0qfLy8tSlSxd9+OGH6tmzpySpc+fO8vPz0/nz5/Xbb78ZD6+S0NBQhYaG6uzZs9q8ebOxfE1t27ZVgwYNFBAQoPnz5ys+Pt7lc9ttt8nd3V1Nmza97mstKSnRgQMHjMNyOBzy8PAg+AEAAKhJwc+xY8f00UcfaeLEiRo7dqwGDRqkmTNnymKxaNiwYXrwwQeNhwAAUCvk5+dr1qxZioqK0m+//aZGjRrp5ZdfVmBgoHx9fVWnTh1duHChSmFKZXr27KmGDRsqKSlJSUlJxvI1eXp6ysPDQ2fOnNGaNWsq/axdu1b79+//Q9daXl5uHAIAAMBlakzwU5kVK1bowIEDstlsstvtxjIAALVKamqqpk+froyMDDVv3lwdOnRQWVmZysvL5eXldcWOWFVhs9l0zz33qKCgQFu2bDGW/6mK73c4HFq5cqUmTpx4xWfKlCnavHnzv3ytAAAAuFKNDn4AAICr1NRUFRUVOf9OT09Xbm6u/Pz8/lCYEhERocDAQKWmpmrdunXG8j9V8f2+vr5q27atseziX71WAAAAXKlGBD9vvPGG3n333Su2cI2MjFS7du2Ul5envXv3utQAADCrsLAwffHFF3rqqaeMJQ0dOlQBAQHKyclRenq6kpOTtXfvXnl5eSkyMtJl4eequO++++Tm5lalhZYrk5ycrMOHD8vLy0sDBw5UUFCQS33EiBEaOXKks/dfuVYAAABcqUYEPzabTY888ohWr16tWbNmadq0aVq2bJnefPNN1alTR6tXr/7DD6QAANRETZo00ahRoxQbG6tly5Zp6dKlWrVqlV5//XV5enpq7dq1zvV4vvjiC6WkpKh169aaO3eu5s+fr8mTJ+uLL77QN998o7CwMOPpJUnh4eFq3769Tp48qY0bNxrLVbZixQqdOnVKwcHB+uyzzzRr1ixFR0frhx9+0LBhw1S/fn1n7x+9VgAAAFSuRgQ/q1ev1i+//CIPDw+Fh4frwQcfVLNmzZSSkqJp06YpJibGeAgAAKaVkJCgpUuXKiUlRVarVXa7XcHBwfL399ehQ4cUHR3tcm9MTU3V6NGjtXbtWpWXl6tz586KiIhQ27ZtlZOTo8zMTJfzV+jevbvq16+vhIQEHTt2zFiusu3bt2v8+PGKi4tTnTp1dN9996lXr17y8vLS2rVr9dlnnzl7/+i1AgAAoHIWu93uMA5WB7vdrrS0NOMwAAC1Uk27LwYGBuqjjz6Sr6+vpkyZwsxaAACAG+BmPCPWiBk/AADg5urTp4+aNm2qffv2EfoAAADUYMz4AQDgJuC+CAAAAKOb8YzIjB8AAAAAAACTIvgBAAAAAAAwKYIfAAAAAAAAkyL4AQAAAAAAMKkbFvw4HA5ZLBbjMAAAAAAAQK1nsVjkcNyQ/bZc3LDgp6ysTO7u7sZhAAAAAACAWs/d3V1lZWXG4Wp3w4KfwsJCeXl5GYcBAAAAAABqPS8vLxUWFhqHq90NC34uXrwoX19f4zAAAAAAAECt5+vrq4sXLxqHq90NC37y8/PlcDgIfwAAAAAAAC7j6+srh8Oh/Px8Y6na3bDgR5KysrLk7+8vm81mLAEAAAAAANQ6NptN/v7+ysrKMpZuiBsa/BQVFSkzM1MBAQHM/AEAAAAAALWar6+vAgIClJmZqaKiImP5hrihwY8uvfJ18uRJ+fj4qFmzZvL19ZWHhwdbvQMAAAAAAFOzWCzy8PCQr6+vmjVrJh8fH508efKmvOJVwWK322/8pvGX2Gw21a1bV15eXnJzcyP8AQAAAAAApuVwOFRWVqbCwkJdvHjxpgY+FW5q8AMAAAAAAICb54a/6gUAAAAAAIB/D4IfAAAAAAAAkyL4AQAAAAAAMCmCHwAAAAAAAJMi+AEAAAAAADCp/wcVqm2yvtn8aAAAAABJRU5ErkJggg==)"
      ],
      "metadata": {
        "id": "FtO-fUgVVQaQ"
      }
    },
    {
      "cell_type": "code",
      "source": [
        "np.unique(load_dataset(\"ag_news\", split=\"train\")[\"label\"]) #dataset that we are going to use"
      ],
      "metadata": {
        "colab": {
          "base_uri": "https://localhost:8080/",
          "height": 251,
          "referenced_widgets": [
            "7a30c93b08f94ab58b7d7b1173187896",
            "64fcbc2c0dec4083bf233e4060c745a7",
            "7e464df6c2724992900fc0d1177de8e1",
            "55c983c2bc404ca884eedba604e7d61e",
            "796c4083a4c94704b8e154d7b84e29d5",
            "7fd4345e637a4f90ba46c4f89aaad8b1",
            "08c88dff8b06473d94bc2386bb0197ed",
            "99957b0567f8457a99532e5ae2993f43",
            "43cfc6628d7849a3a8fe01e218cb3cd7",
            "7e3c0c797ff54af693d4d9a3d83c5934",
            "5219a84305dd4cca9dd48132ea9cf0cc",
            "1d8dba03f3f442f78d7b668518235280",
            "8e4dd162875d4258852881c917f758bb",
            "b2411337e95a46bda5af1f464b98abb7",
            "a4fdbc3622104c92ad4a71ca9bf17c66",
            "46f671ca5e8344bca33a85f4fd66768b",
            "07afda31f2554948a5a929f1ba2f969f",
            "df2dab35032047cb8648edcb23f26cca",
            "9bfa37bd4d19443eb58eb71405b37f67",
            "8d2e7e04c9fe493eabce171784bfe1e3",
            "f8c1c7dd753640638c254db60eb36742",
            "88cbc1e9c5d24b76bd3e9a94d1cdd2a1",
            "10844a81dca6490bb2d9c04d3a2dbf98",
            "e58360904ad849d1bbfc02ec38ada25d",
            "2e92e9da93cf4d099afd7a3188c4f561",
            "b68433e01ddf4d53a990ac5596f9affb",
            "d7a378e696d14f24b1d19f96a855cb3c",
            "d16433de633c42e7b67696619d4a12ec",
            "4f1004d035954ec4a4bedccc782a9244",
            "9f40b9c5fd504330a4c73f9561050603",
            "cabce1e260f84042b9f5099e07490f82",
            "f3ff309bd73d490ba4aad74956a2b7c9",
            "0ca84f81e4bd4a47aeea151a900c27d3",
            "863048fcdfae46af97430348df667037",
            "88b50cd2658d47a9a4485dd51443bb7d",
            "1426e0410dce45d99ef1c4655773b0b6",
            "576a7603410f41c58ff62bacccd0b26e",
            "0149ea23ae3c4741b2a4346058d6986c",
            "37fc98ec327848668e83fe403e4be2cd",
            "cdb38f2bac664168bec58956fc2eda93",
            "630f1bd77e3b40e39e36098c709c4064",
            "c36d9357318540ca82787a192231f03d",
            "61b38d37005245d6bfc7a4ddcac284cf",
            "bf1a8be234a443df935511cb5e3c0c00",
            "7bc2dc45f7a74dd789dd8ff32871b728",
            "50b8988ace51452bb82af39973666499",
            "c39f885638fe4018aebc09e30ba03d98",
            "0d5784c68a7d4063927be09b9067c75c",
            "acac23bec3904d6f9f8cfea1b9fc8646",
            "4d4a87139b10440ba656078fe8704495",
            "6fffb3c09ffe49179b06e3147ebd4db2",
            "d9313624dd0249eb98dbf0b265eda217",
            "9b22d9dc0e9544268416cc874de5fc09",
            "1189b34e38d14ae981b3b2350c5c9b98",
            "83e02c4c424748238be27c4f10a99fcf"
          ]
        },
        "id": "M5peD7Urw27P",
        "outputId": "5870d0da-8988-456b-e093-6324b149d80f"
      },
      "execution_count": 4,
      "outputs": [
        {
          "output_type": "display_data",
          "data": {
            "text/plain": [
              "README.md:   0%|          | 0.00/8.07k [00:00<?, ?B/s]"
            ],
            "application/vnd.jupyter.widget-view+json": {
              "version_major": 2,
              "version_minor": 0,
              "model_id": "7a30c93b08f94ab58b7d7b1173187896"
            }
          },
          "metadata": {}
        },
        {
          "output_type": "display_data",
          "data": {
            "text/plain": [
              "train-00000-of-00001.parquet:   0%|          | 0.00/18.6M [00:00<?, ?B/s]"
            ],
            "application/vnd.jupyter.widget-view+json": {
              "version_major": 2,
              "version_minor": 0,
              "model_id": "1d8dba03f3f442f78d7b668518235280"
            }
          },
          "metadata": {}
        },
        {
          "output_type": "display_data",
          "data": {
            "text/plain": [
              "test-00000-of-00001.parquet:   0%|          | 0.00/1.23M [00:00<?, ?B/s]"
            ],
            "application/vnd.jupyter.widget-view+json": {
              "version_major": 2,
              "version_minor": 0,
              "model_id": "10844a81dca6490bb2d9c04d3a2dbf98"
            }
          },
          "metadata": {}
        },
        {
          "output_type": "display_data",
          "data": {
            "text/plain": [
              "Generating train split:   0%|          | 0/120000 [00:00<?, ? examples/s]"
            ],
            "application/vnd.jupyter.widget-view+json": {
              "version_major": 2,
              "version_minor": 0,
              "model_id": "863048fcdfae46af97430348df667037"
            }
          },
          "metadata": {}
        },
        {
          "output_type": "display_data",
          "data": {
            "text/plain": [
              "Generating test split:   0%|          | 0/7600 [00:00<?, ? examples/s]"
            ],
            "application/vnd.jupyter.widget-view+json": {
              "version_major": 2,
              "version_minor": 0,
              "model_id": "7bc2dc45f7a74dd789dd8ff32871b728"
            }
          },
          "metadata": {}
        },
        {
          "output_type": "execute_result",
          "data": {
            "text/plain": [
              "array([0, 1, 2, 3])"
            ]
          },
          "metadata": {},
          "execution_count": 4
        }
      ]
    },
    {
      "cell_type": "markdown",
      "source": [
        "![image.png](data:image/png;base64,iVBORw0KGgoAAAANSUhEUgAAA8cAAAFpCAYAAACxhlrtAAAAAXNSR0IArs4c6QAAAARnQU1BAACxjwv8YQUAAAAJcEhZcwAAFiUAABYlAUlSJPAAAP+lSURBVHhe7N15XBT1/wfw17IsCyvIIa6ignJ4IaQmmImG9hUPSNFQUX7foiy8rcy88iDyvrXEizzQJCEpIcVQPFBBBPyqYZiCi3KpiwgI7gLLsr8/YidmdhFQ8Gjfz8djH8p8PjM7x2dm5z2fY3i2trYqEEIIIYQQQgghOkyPO4EQQgghhBBCCNE1FBwTQgghhBBCCNF5FBwTQgghhBBCCNF5FBwTQgghhBBCCNF5FBwTQgghhBBCCNF5FBwTQgghhBBCCNF5FBwTQgghhBBCCNF5FBwTQgghhBBCCNF5FBwTQgghhBBCCNF5FBwTQgghhBBCCNF5FBwTQgghhBBCCNF5FBwTQgghhBBCCNF5FBwTQgghhBBCCNF5FBwTQgghhBBCCNF5FBwTQgghhBBCCNF5FBwTQgghhBBCCNF5FBwTQgghhBBCCNF5FBwTQgghhBBCCNF5FBwTQgghhBBCCNF5FBwTQgghhBBCCNF5FBwTQgghhBBCCNF5FBwTQgghhBBCCNF5FBwTQgghhBBCCNF5FBwTQgghhBBCCNF5FBwTQgghhBBCCNF5FBwTQgghhBBCCNF5FBwTQgghhBBCCNF5FBwTQgghhBBCCNF5/9rgeLgYcGjBnUoIIYQQQgghhGj6VwbH/SyAbb30cMJNDz7teNxkQgghhBBCCCGE5V8ZHH/d+Z+AeJ0TDzNsWcmEEEIIIYQQQgjLvy449mwDOJmya4vndNbDwi5Ug0wIIYQQQgghRDuera2tijvxdWXIB+L689DOSHsgvPuuCitu/ms297m4uLggKCgIYrGYmRYVFYXly5ez8v1b+fr6Yvjw4dDX10dcXBxCQ0O5WcgLpEvlUSQS4fPPP4eTkxMeP36M/fv34+LFi9xshBBCCCHkBftXBcdzO/MwzVZ7YKy2PUuFdRkvdpNFIhH27t0LOzs7ZlpJSQlWr16NuLg4Vl4ubfMWFRVh2bJlOH/+PCsv1xdffIEJEyaAz+cDAORyObZu3YqIiAidCka4/P39ERAQAKFQCACorKzEvn37EBISws36r7Jt2za4urpyJzeaQqFAaGgodu7cyU16ZrpUHjdu3IgBAwaAx/v7WvXgwQN88803SE1N5WZ97Tk6OmLs2LHo3bs3LC0tIRQKwePxoFQqUVpair/++gthYWH0cIAQQgghr4R/TbNquxaoNzAG/s7zX2vu1OYlk8mQmZnJmiYSiWBvb8+apk3//v3RqlUr1jRjY2N069aNNU0be3t7JjAGgNLSUty6dYuVRxdZW1szgTEAGBgYoHfv3qw8hDSX9u3bM4ExAFhYWKBPnz6sPK87GxsbbNmyBT/88ANGjhyJDh06wNDQkNluPp8PMzMz9OvXDxs2bMDy5cshEom4iyGEEEIIeaFe2+DYypD997fd6w+M1b7trgcXM+7U5nXz5k1UVFQwfwsEAtjY2LDyaOPk5ARjY2PWNIFAgE6dOrGmcdnY2KBDhw6saffv38fVq1dZ03RRZWUlqqurmb9VKhWKiopYeQhpLpWVlay/q6qqUFhYyJr2uhOLxXBwcIBAIOAmaRAIBBgyZAjmzZvHTSKEEEIIeaFe2+B4nRMPb9YEuIMseehv0fDgGACCe/Jgos+d2nzS09NRUlLCmla7qXRdunTpwqr9Vatv3i5dusDExIT5u7q6Gjdv3mTleR3Y2dlh6tSp2LNnD06ePImAgABulkY7fPgwkpOToVAooFQq8b///Q+7d+/mZvvXyc3NRUZGhtbPgwcPWHkrKiogkUg08mVkZOD27dt4+PAhKz9puLCwMOTk5EClUkEulyM6OhqHDx/mZvvXUCqVyM3NxZkzZxATE4M//vgDZWVlrDx8Ph9ubm4YPHgwazohhBBCyIv0WvY5/siGh6XdeFh9S4Vdd1SI7a+HzuzK1Qb5NV+FOddf3Obv3r0bb7zxBvN3fX2HHR0dsWrVKrRr146bVO+8U6ZMgb+/P1Nz8+TJE2zYsAG//fYb8Jr08fT09MT8+fOZ5pbN0deV/G3x4sXw9vZm/pZKpQgMDHxh/WBfh/JIGs7FxQVLlixBbm4uduzYgbS0NFa6nZ0dFi5ciJ49ezJNrZVKJQ4dOoTNmzez8hJCCCGEvCivXc2xWAjM6/z3/3ubAb7toT0wrr81H8a042GQJXdq87l58yarOa9IJIKtbd0vYXZycoK5uTnzt0KhYP5fX79jGxsbVpPGoqIiXLt2jZWHEEKag1Qqxfr16zFjxgyNwBgAJBIJ9u/fj+LiYmYan8/X6EJCCCGEEPIivXbB8VcOgCH/75qGQa2AxV05m8BTAd0EwH9EQA8DQLNFMsuSro1rjv08/vrrL1a/Y6FQ+NTguFOnTszAUQqFAlKplEmrr98xt9n1vXv3kJ2dzZpGCCHNITs7u85WLWpyuZz1wK+6ulqjPzYhhBBCyIv0WgXH3U2Ase3/WWUhn4cWtfsN66uAvoaArQHA4wE2AsDNCGhRKw+HbQseJrDHrWo2mZmZGgM/OTg4sP6urWvXrtDT+3t7KyoqcOvWLahU/zQD5wbAagMHDmSNcK1UKmmUakLIK6VVq1YwNPxnZEV1P3dCCCGEkJfltepzvLs3D4Nb11HTK8DfgXFLLVXFimoguRx4rH1Ts2XAoAv/NHduTtx3zdbVt5PbBzM3NxeHDx/GlClTYGRkBDyl3/GHH36IyZMnM7XO2t6pzF0+avXxfPvtt/Hf//4XPXr0gEgkAo/Hg0KhQE5ODqKjo3Hw4EFmHm1EIhHGjBmDd999FzY2NmjRogXTxLu+95ty+xnXJyUlBdOnT+dOfirud9TXl3n06NHw8PBgBjlTD5CmUCjw5MkT3Lp1CxEREYiPj+fO2mB9+vSBt7c3nJ2dmaBB3RezoqIC9+/fx5kzZ7B3717IZDLu7M/tefoc17V/ah/rX375BWfOnOHOynhaeeTividYpVIhJSUFc+fO1dg3IpEI48aNw9ChQ2Ftbc3sV6VSiZKSEly+fBmRkZG4fPkyaz61uvZLeno6Pv74Y3h4eKBt27bg8/lQqVR4/PgxEhMTsXXrVlZLj9rqWqZ6X3PLZ2M87XwYPHgw3n//fXTr1o05TiqVCk+ePIFEIsFvv/2GI0eOcGcDtKxT7XPm888/h5eXF8zMzFBVVYWIiIh6+w2LRCKsW7cOrq6uzHG8du0aPvvsM41jSAghhBDyorw2NceWBoB7Xf2D9VVAvzoCYwAQ6AEuRoBIe2BtIwIGsl8l3Gxu3boFpVLJ/G1iYqK1BtjR0RGmpqbM3xKJBFeuXGHVPNfV79jW1pb1Ht/CwkIkJiay8tRl8uTJWL16Nfr27YsWLVowN64CgQB2dnaYNWsWAgMDubMxZsyYgaioKHzxxRd44403YGZmxur7XPv9puvWrcNXX33Fmv9V4uzsjL179+Lrr79G3759YWZmxho5XCAQwMzMDL1799Z6HBrC2dkZe/bsQXBwMEaMGIEOHTrAyMiI9R5coVCIjh07wt/fH3v37n1l3on79ttv48CBA3Xun9rHetWqVQgODtZa1htj+vTpeOutt1iBcXp6OjZs2KARVLm7u+PHH3/EjBkz0KVLF9Z+5fP5sLCwgIeHB7Zs2dKocmhiYoJt27bB398f7du3Z7aZx+PB1NQUI0aMwA8//AA3NzfurM2u9rVFTSwWY/PmzVi1ahX69evHOk48Hg/GxsZ444038PXXX2Pnzp2NOkbffPMNJk6cCHNzc/B4PAgEgnr7DYtEIixcuBB9+vRhjkdJSQkiIiI0jiEhhBBCyIv02gTHftY86NUKGBg8FdDHEDCuIzBWE/IAF0Ogjtc3+b2gptXXr19nvcbE0NBQa9Pqrl27svobZ2ZmIj09HXl5eUyeuvodc5eXmZnZoJtOS0tLTJgw4ak1Vnw+Hx4eHvD39+cmAQB69OgBM7OGvURaKBRi9OjRdS7rZVKPpuvk5MQKVJuatbU17O3ttb6ui4vH48HOzg6ff/75U4/Ri+Dj44Nly5ahW7duDdo/fD4fffv2xfLlyxsVfNXm4+ODsWPHwsDAgJmWmZmJb7/9VqM5ro+PD5YsWQJra+t6108oFGLMmDF11rjWxuPx8N///heOjo5PXa6VlRWmTJnyQo9TUVERfvnlF9Y0Ozs7bNq0Cf3796+3jPF4PPTu3Rtz5sxp0Hrb2Njg3XffrXe5tYlEIgQGBsLDw4OZTyaTISIiAidOnOBmJ4QQQgh5oV6b4NijNXdKjc4GgEUdES9XCz2g5z81qrUNEevB4AXsjcTERBQWFjJ/83g82Nvbs/KIRCJWgCuTyZCRkQEAuHPnDmvEa26g0atXL1hYWDB/KxSKBg/E9fbbb8PExARFRUWIiorC6tWrERUVpdFPWigUYsiQIaxpXJWVlUhLS0NwcDCmTZsGd3d3BAUF4erVq6zaLaFQCA8PD+ZmPDU1FStWrEBgYCB27doFuVzO5FUoFIiMjERgYCDz2bNnD5PelMaPH886LkqlEleuXMHixYvh6uoKd3d3zJ8/H5GRkcjPz2cdk2ehUqkglUpx/PhxBAYGwsvLC/7+/jh48CBrRF8AsLe3x/jx41nTXiQ3NzdMmjSJ1bJBpVLh3r17OH78OFavXo3g4GCkpqZqPJRxcHDA7NmzWdMaQv2dtd/dLZVKERwcrBEYa1u/oqIihISEwMvLC+7u7tiwYQPrQZOBgQFGjx5d73t2W7VqBWdnZ1RXV+Pq1avYtGkTNm3ahNTUVNbgUqhpwTFmzBjWtIaofQ7U9Tl58iSrzFVWVuLIkSOspusikQhz5sxB586dmUC+srISJ0+ehL+/P1xdXfHFF18gNTWVOSd5PB7efPNNTJ48mVlOXXr16sV08WgIkUiENWvWYPDgwUxgXFJSgu3bt2PXrl3c7IQQQgghL9wLCAefn4He34NxabDQA+z/qUVqELE+YKMZTPN5QO9/7qWbjUwmQ2ZmJmuapaUlHB0dmb/79+/PGlCrdrPoGzdusALGVq1aYeDAgczf6n6famVlZUhPT2f+fho9PT1kZmZizpw5WL58OSIjI7F8+XIEBQWhoKCAldfS0hJvvfUWaxpqBZFTp07FpEmTsG/fPiZIOnr0KD7//HNcuXKFNU/btm3Rv39/oCbgOXHiBGJiYpCXl8cagAw1QU5MTAzzaUif2GfRuXNnZjA0APjzzz8xefJkxMbGAjXH8fTp01i9ejXGjh2LkJCQWnM3TklJCXbu3AkvLy8sXboUMTExkEqlSE9Px+bNm7Fjxw5WawMDAwM4OzuzlvEijRs3jtU3WKFQ4LfffsOECROwdOlSREZGYt++fZg2bRq+/PJLZGVlMXl5PB569OiB0aNHM9PqY2dnhxkzZrC+s7S0FHv27EFCQgIrL2pqjVu3/udpWkZGBqZOnYpdu3ZBKpVCJpPh0KFD+PLLL5GTk8PkMzMzq/ehj56eHp48eYJt27YhICAAYWFhCAsLw7Rp0xAREYGqqiomr6GhIeu8bqja54C2j5GREfr168eUT5VKhfj4eGzbto21nHHjxrHeI1xaWoqNGzfi66+/Zq4JCQkJmDZtGk6fPs2ca/r6+hgwYABsbGxYy6tNIBBALBZDqVQiNTUVU6dOhbu7O0JDQzWuFWrz5s1j9TEuKCjAhg0bcOjQIW5WQgghhJCX4rUIjl3NoNmkWk8FOGuvBa5XVwNAS0ztal53M8mmdPPmTdYrnczNzeHk5MT87eTkxOq3V7tZ9LVr157a77j2658A4MGDBxoDdtXl8ePH2Ldvn8Z7SRMSEnDlyhVWoCoSiVgBvNq6deswefJkjWWoyWQynDlzhhXgGxgYsGq7XwW1m+42p7Nnz+LTTz/F7t27uUmMyMhIjdrRhjZdb2oDBw5kBXwqlQpJSUlYtmyZRi0xAFy+fBlhYWEoLS1lppmYmLAGpXsade1n7ZYUlZWVOHz4MCIjI1l5UVNr3KNHDyYAk8vl+OWXXzT2H2r68SclJTE1sDweDw4ODk9tUlxdXY2zZ89i//793CT88ssvuH//Pmta27ZtWX8/LxcXF3z88cesB2CZmZn44YcfWPkAYMCAAcy1QKVS4eLFi1r3GQCcPn0ajx8/Zv62tLREz549WXm4lEolfv/9d0ybNg2XL1+GTCbD1q1btQ5sN2rUKAwcOJCpMS4tLcXu3btx/PhxblZCCCGEkJfmtQiOXbQFrZ0MANEzrr4+D3D4Z5AoNYenvPKpKaWnp6OkpIT5WygUsvoOW1tbMzeRCoUCd+7cYdKys7NZN/rcfse2trasGqXGvMLpzp07TM0o182bN1nvIBUIBLC2tmblQc361aesrIwVaOvr68Pc3JyV52XjjjTcvXt3rFy5UqMZ+/OSyWQa36VN7YcpqHko8jL06dMHLVu2ZP4uLS2ts8yoHTlyhFV7DC3dAeoyZ84c1sBNSqUSJ0+e1KglVXN1dWU1p7537x5iYmJYeWq7f/8+qzl0y5Ytn1orX1paqrW2GjVl/969e6xpTXmcRCIRPv74Y1YNeklJCfbt26cR/A8cOBAdO3Zk/pbJZEhKSmLlqS0/Px9Pnjxh/jYwMECHDk8fiCE/P1/rQwJt3nrrLabcVFdX48SJE3UG6oQQQgghL8szRpcvVvt/XoX5N54K6KTZNLpR2gsAzjgyZprxcrNITU1l1TDp6enB1tYWqBnkpnbgUFZWhr/++ov5GwBycnJY/XbV+R0dHdGuXTtmenl5OW7evMn8XR9uAFPbw4cPtY6E+zSOjo746KOPEBQUhJCQEERGRuLMmTNYunTpU2vnXgXx8fGsmjSBQAAPDw/8+OOPOHjwIPz9/Zt8G0QiEYYOHYr58+dj7dq1OHjwIGJjY3H+/Hm4uLhws78UpqamrAGYHj161KCWCbdv32Y9EGnZsmW922Rpacnqn6p+ZdPatWu5WRmtW7dmrZ+dnR3i4+ORkpKi9TNr1ixWS4u6WkSoVVRUaPQBr+3BgwfcSU2G+6CgsrISv/zyi9aBrKysrFjvEG7RogWWLl2qsf3qT2hoKOvaIRAInrofUNOKhRuU16X2w6+KiooGd/UghBBCCHmRXovgWMgdDNWcDwifc9X1eUBbdoBt/mJa0gI1tbS1g4V27drB0dERPXv2ZN1IamsWzR3xWt3v2N7enlVrVlpa2uCb16YiFouxdOlSxMXFYd++fZgxYwY8PT3Rq1cv2NjYwNjYuFGj274s0dHRCA8PZ+1n1AQNXbp0wcyZMxEVFYXZs2c/d5Ds6emJH3/8EadPn8aKFSswduxYDB48GF26dIGFhQXrnccvW5s2bVh/P378WGtzaq7CwkJWf9yGUA8Qp3bjxg3Mnz//qd/3slsgNPYBUkP5+PhoPCj43//+V2cNurm5OfT1n/MB4lMoFAqNJuRPU7sbhb6+vkY5IoQQQgh5FTxnhPliGPDYgzLBoomCK0v25rfUf3EByM2bN1FeXs78bWpqCnt7e3Tv3p0ZAbauZtHcEa/V/Y7t7e1ZtUX3799vtgGrtHFzc8OOHTswcuRImJqaag3oKioqIJfLNQbaehXt2rULX331FRISElhNytXMzMwwceJEhISEPLUp7tMsWrQIixcvRteuXbU+NFAqlZDL5RojIb8qtO2XpvL48WNWOXFwcMBHH33EylMfhUIBmUzWqE9jg/jmVlc/402bNrHyPY26HHG39Wmfpjy2tVu7CAQC9OjRg5uFEEIIIeSley2C45IqTpBlrhlEPBNOkF2seHEB2/Xr11kDaxkaGsLe3h5du3Zl+gzX1SxaxhnxWt3vuHZf5erqaq3zNhd1f8ja/ZDLy8uRmpqKTZs24YsvvoCrqysGDBiA1atXs2qSXmWXL1/GF198gQ8++AA//vgj8vPzWbWDPB4PXbp0wfTp0xtdgzxhwgQMGzYMAsHf7fnVr0OKjIzE4sWL4evri379+uGdd97B1atXubO/FNzjZmlp2aDtbtWqFasms6qqCrKn1ACjZiC42uXcwMAAY8eOhY+PDytfbdz1u3v3Ltzd3Rv8GTFihNZmyi+Ltn7Gjx8/xqFDh57aKkQul7Ne9SSXy7FixQqN7X3a52nN1xtr8+bN6NevH1xdXZlXSBFCCCGEvGpei+D4ViknaG34qzWfzlDv71Gvazz4pyK32aWnp7Pes8rn89G9e3fW6LZPaxadnZ3Nqk20t7dnvXpFLpfjxo0bzN/NrX///qyBweRyOfOO47CwsDoHMXpdSCQSbNmyBd7e3li1ahXr2AFAt27dWK/UaghXV1fWe2L/+OMPTJgwAatXr0ZsbGydx/5levDgASvosrCwaNB229rasloSPH78uN5+p1VVVYiMjNQY6XrSpElwc3Nj5VXjrl9D+ja/yrT1M46MjER0dDQ3K0t+fj6rZQp30D9CCCGEEKLptQiOb5Rxao75ms11n1mtZV3/5x78hbh16xarFrJDhw6sppNPaxadnp6u0e+49ut9SkpKcPv2bebv5mZvb8+qQSwtLdV4n7OanZ3dC3tVUnOIiorCnj17WLWUzxJ8cEcDvnPnjtbaVBsbG1bN4cvEfc+2iYkJ3N3dWXm4hg0bxhpkrrq6Gn/++ScrT10iIyNx+PBhVhNfsViMGTNmaB3xWiKRsEb2trCwwIABA1h5Xhfa+hlfvXoV+/bt42bVcOvWLdbAYQKBAK6urg2q5SeEEEII0VWvRXB8qUiFktpNnquaqPmzSgXUWm78wyZabgNxB9YyMzNjgsb6mkWfP3+eNTKuiYkJ6xU7eXl59dbMNScDAwPW+qipm642ZLCgwsJCVrAoEAhYtePNaceOHfjkk0+4k+tUXV2t0aS3sWo/GFETiUQICAjQCKRfllOnTrEeevB4PLi7u2PevHmsfGp9+vTBJ598wioLxcXFGoPMPc22bdtw8uRJ1oMkBwcHLF26VCNATk5OZtXq6+vrw9vbGx9++CErX20ikQgzZ85ESEgIN+mlqauf8YYNG7Q+QOHKzs5GWloaqxbdyckJgYGBTw2Qhw4ditDQUAwbNoyb9Fzs7OywY8cOJCUlITExERs3bnzqehBCCCGEvAyvRXBcrQJ+ya8VuJb8c8P3XGQqAH/XHBdVAmn/vLnnheAOrGVgYMDUElVUVGi8wonr1q1bzIBFfD6f6ausVCq1DuTVnPLz81m1e2ZmZvjqq68QEBAANzc3eHp6YsWKFfjmm29gaWnZoAG5KioqWDf3ADBo0CCsXbsWPj4+WLFiBVasWMFKbyrm5uaYMmUKIiIiMGvWLDg6OgI1r6cKCAjAJ598wmoS/eTJk0bX1Nc+9qh5cLB582Z4enrCzc0NH330EXbv3o1hw4ZpHdzsZZDJZIiOjma95krdFzg6OhqLFy/GqFGj4Ofnh02bNmHjxo3Ma8pQ01T6+PHjjW5mv3btWly+fJkpNzweD46OjpgzZw4ryMrOzsbp06dZZdHY2BjTp0/HgQMHMH36dHh6esLT0xM+Pj5YuXIljhw5gg8//FDrw5yXQVs/Y7lcjsTERHTr1o1Zf22f2k3Ijx07hoKCAuZvPp+PwYMHIyIigjlO6vnmzZuH8PBwfPvtt+jUqZPWweGex9SpU/Hmm2+Cz+dDIBCgf//+mDlzJjcbIYQQQshL9VoExwDww12gUh0n3Wui16VI/xmVdn9O/cFaU+MOrFVbUVFRnWlqd+/e1TqibFlZGa5fv86d3KxOnTqF7Oxs1rTWrVtj8uTJ2Lx5M4KCgjB06FC0aNECt27dYvWHrMvVq1eRkZHBmmZgYIDBgwdjwYIFGDp0aLO+uofH48HW1hYffvghQkNDmffBTp48mfVOWIVC8UwB36VLl1hNgPl8Ptzc3BAUFITNmzdjxowZcHBwQFlZWaMD7+akfs1V7RpMHo8HKysreHt7Y8mSJZg9ezYGDBjAClyVSiXi4uKwa9cuZlpDyWQybNiwQaPWuk+fPhq11iEhIRo1zXw+H926dcPHH3+MoKAgBAUFYcGCBfDw8IC5ufkr8/ABWvoZA4CRkRH8/f2Zda/rM2nSJGae1NRU7N27l9Vnm8fjoU2bNsxxUs83btw42NnZNXlQrNaxY0fW9vD5/EZ3QyCEEEIIaW6vTXB8rxzYdacmgC2oAp48Z4CsUgE5fwfH0nIVtkmaqDa6kW7evMkKkNQa0iw6PT0dJSUl3MkoLCxEYmIid3Kzkslk2LlzJ+7du8dNYqhUKqSnp+PIkSMNqjkGgJ9//hlSqZQ7+ZVRVlaGn3/+GZs3b+Ym1Ss0NFQjiOOSyWQ4dOgQq//oq2DXrl3YuHFjg49NWVkZwsPDsWTJkgY1C9ZGIpEgODiY9Z18Ph8eHh6YPn06K+8333yDw4cPaz23tFEoFMjJyeFOfuEGDx6Md955p8mC1MjISKxbt67Bx0mlUuHBgwcNzt9Qd+/eZZ3zSqUSd+7cYeUhhBBCCHnZXpvgGAC2Zalwvxx/N4X+U7PGtFEkCuDJ3zdrs/5QQaF6OTVHWVlZGsFCQ5tFp6am4v79+9zJyM3N1Vjmi5CQkIBFixYhLi4OxcXFTNCnVCqRl5eH0NBQTJ8+vVF9cxMSErBgwQIkJiairKyMucFWKpV4+PBhgwd2aqy1a9fi+PHjuHfvHsrLy5nvValUKC8vR25uLqKiovDJJ5806n2zXEFBQfj+++9ZA0mpVCo8efIEycnJWLBgwTPVtL4IUVFRGDduHLZu3Ypbt25BJpNp7Ke7d+/i559/hq+v73PtJ7WEhATs2bOH1Ve/rlc8rV+/HtOmTcOJEycglUpZo7urVCrI5XLk5ubi+PHjmDVrFr766ivW/C+DkZFRkw9Wd/z4cYwbNw779u2DRCLReM94RUUFHj16hKSkJKxcuRLjx4+vcyDAZ7Vjxw6kpaVBqVRCoVAgMTERW7du5WYjhBBCCHmpeLa2tg2rwntF2IqAX9/ioaWABzgaAB3/fkdsozxSAsnlgAqY9Uc1jmnGl4QQQgghhBBCdMhrVXMMAFky4KP/1cTzNyqAvH9qgxpEWgX87+/AeEk6BcaEEEIIIYQQQl7DmmO1bsbAjl56sBEBEPOBbgZAi6fE+hXVwF+VQL4SZVXA1KvVSHzEzUQIIYQQQgghRBe9tsExABjxgc/tePDtAJgKeEArPaAVH2jBAwQ1fYiVAAqUQH4VUAWEZquwVaJC4XN2WSaEEEIIIYQQ8u/xWgfHtb3Xlgc3C6CzMdDdGDDS/2eArZulKhx7AETmq3Cv/jcIEUIIIYQQQgjRMf+a4JgQQgghhBBCCHlWT+mkSwghhBBCCCGE6AYKjgkhhBBCCCGE6DwKjgkhhBBCCCGE6DwKjgkhhBBCCCGE6DwKjgkhhBBCCCGE6DwKjgkhhBBCCCGE6DwKjgkhhBBCCCGE6DwKjgkhhBBCCCGE6DwKjgkhhBBCCCGE6DwKjgkhhBBCCCGE6DwKjgkhhBBCCCGE6DwKjgkhhBBCCCGE6DwKjgkhhBBCCCGE6DwKjgkhhBBCCCGE6DwKjgkhhBBCCCGE6DwKjgkhhBBCCCGE6DwKjgkhhBBCCCGE6DwKjgkhhBBCCCGE6DwKjgkhhBBCCCGE6DwKjgkhhBBCCCGE6DwKjgkhhBBCCCGE6DwKjgkhhBBCCCGE6DwKjgkhhBBCCCGE6DwKjgkhhBBCCCGE6DwKjgkhhBBCCCGE6DwKjgkhhBBCCCGE6DwKjgkhhBBCCCGE6DwKjgkhhBBCCCGE6DwKjgkhhBBCCCGE6DwKjgkhhBBCCCGE6DwKjgkhhBBCCCGE6DwKjgkhhBBCCCGE6DwKjgkhhBBCCCGE6DwKjgkhhBBCCCGE6DwKjgkhhBBCCCGE6DwKjgkhhBBCCCGE6DwKjgkhhBBCCCGE6DwKjgkhhBBCCCGE6DwKjgkhhBBCCCGE6DwKjgkhhBBCCCGE6DwKjhtpypQpSExMRHh4ODeJEKJj6HpACCGEEPLv8coFx8OGDcOpU6eQkpKCzZs3c5NJHRYvXoykpCRERUXBxcWFm/zKCQgIwIULF3Dy5EmMGjWKm0wIIYQQQgghL9QrFxy/8847MDExAQB07tz5mQM9Z2dnrFu3DkePHoWnpyc3mRCiQz7++GOEh4djy5Yt3KR6zZ49G9HR0Vi0aBE36YV6VdaDEEIIIeTf6pUKjm1sbNC1a1dUVFSguLgYFhYW6NevHzdbg1hbW6Nv375MoP1vt3z5cvTr1w/e3t5ITU3lJr9yQkJCMGDAAHh4eCA6OpqbTEiTcnV1hZ2dHQQCATepXv369YOVlRV4PB436YV6VdaDEEIIIeTf6pUKjt99911YWVmhqKgIV69ehb6+Pvr16weRSMTNSgghhBBCCCGENJlXKjju27cvDAwMkJGRgUuXLkEul8PKygoDBw7kZiWEEEIIIYQQQpoMz9bWVsWd+DK4ublh6dKlMDIywtatW3H06FHs3bsXtra2OHnyZIP72Xl6emL+/Plaa5tlMhnWrFmDmJgYZpqnpyd8fX1hZ2cHQ0NDAEB5eTkkEgnCw8NZeVEzOq2/vz9ycnLg6+vLTLezs8Py5cvRuXNnSKVSrFy5EgkJCUy6t7c3JkyYAFtbW/D5fCiVSmRlZeHQoUOIiopi8gFAeHg4rK2tERoaivLycrz//vto06YN9PT0UFpaivPnz2Pt2rWQyWTMPNrWSz3taU1Jy8vLsWPHDhw8eBAAIBKJMGXKFAwbNgwWFhbg8XiQy+W4cuUKfvjhB6SlpTHzqvd1WVkZVq5ciXHjxqFv377Q19fHL7/8gtWrV9f6Jrba8wYGBrKagqv3VceOHSEQCKBSqfD48WP8/vvvWL9+PWs52ojFYkyYMAHvvvsuxGIxs4xHjx4hNjYWO3fuZO27+ohEInz88cfw8PBA27ZtmeNXVFSEo0ePIjg4+Kl51eufkpKCsLAw1j4EgG3btsHV1RVRUVHIysrC+PHjmeOdm5uL0NBQREVFwd3dHZMnT4a9vT34fD7kcjkuXbqEdevWQSqVMsurvW/Vze3VxxMASktLkZCQgK1bt7LmUxOLxQgICMCAAQNgbm7O2t4LFy4gJCREY75nKbNqb7/9NgICAtC1a1cYGBhAqVTiwYMH+OWXXxAaGsrKW3tfpaWlsc4puVyO//3vf/juu+8gkUhY+bVJSUnB9OnTuZMZ4eHhsLOz404GAERFRWH58uWs827hwoX47LPP8Oabb8LIyAhKpRJ5eXnYv3+/xjnemDJa33ps3LgRa9asgaurK86fP4+5c+dysxFCCCGEkAbgm5ubf8Od+DJMnDgRb775Ju7du4fdu3fj4cOHcHBwQLdu3WBoaIiLFy+ipKSEO5sGsViMTp06QS6Xw9jYGNXV1cjOzkZBQQEKCgpw8eJF5OTkAAAWLVqETz/9FG3btoVCoUBOTg6KiopgbGyMdu3aoX///jAwMGAFbi4uLujVqxceP36Mw4cPAzWB8cKFC+Ho6IiCggKsXbsW58+fZ+ZZtGgRPv74Y1haWqKkpAS5ubnQ19eHlZUV+vXrBz6fj//9739M/nHjxsHU1BSVlZUYOXIkeDwe8vLywOfz0bJlS3Tu3Bnt27fH6dOnmXm0rVenTp3Qpk0bFBUV4dGjR8ynqKgIhoaG0NfXx+XLl7FmzRqgZjvWrl2Ld999F0KhEPfu3cPDhw/RsmVL2NrawtXVFZmZmcjPzwdqBkwbMGAAKisrYW1tzWwLj8dDRkYGzp07x6wfV+15z549yyxz+vTpmDZtGiwtLVFYWIj8/HzweDy0bNkS5eXlOHbsGHdRGmbPno3x48ejRYsWePToEfLz86FUKmFpaYkePXrA0tLyqetWm3qfeHh4wMTEhDl+fD4fFhYWqKqqYtaprrzl5eWwsLCAg4MD+vbti+zsbKYMAoCXlxfat28PhUKB4cOHQ6FQoKCgACKRCK1atULPnj1haGiIadOmoVWrVsjNzYVCoYCpqSk6deoEe3t7HD9+nFmeet8qFAo4ODjg3XffRWVlJXJzc6FUKmFqaoouXbqgb9++uHLlCoqKiph53dzcsHLlSrz11lsQCoXMMaiuroaFhQW6d+8OV1dXXL16lTXfs5RZAJg8eTK+/PJLtG/fHjKZjFnHNm3awMXFBW3btmUdK/W+KiwshLe3N0xMTJCXl4eqqiqYmprC2toanTt3xqlTp6BQKNCzZ0/o6+uDz+fD0NAQxcXFyMnJwaNHj5CZmck6T7n69u2LqqoqGBoawsDAAA8ePMC9e/fw6NEj/Pnnn7h8+TJz3j158gTu7u7o0aMHHjx4gJKSEhgbG8PCwgK9evVCcXExbt68ySy7MWW0vvWoqqrC+++/DxMTExgaGiI9PR0PHjyotSWEEEIIIaQhXolm1SKRCG+88QZ4PB5u3ryJ7OxsAEBqaipKS0shFovx7rvvcmfTKiEhAZMmTcLevXtRWVmJyspK7N27F35+fpg0aRJTm+vv748RI0YAAKKjozF8+HD4+vrC19cXY8eORUJCAvT19TF27FgMHTqU8y3/EIlEmDNnDnr27ImHDx9i69atiI+PZ9LV36NSqXDgwAEMHToUfn5+8Pb2RmxsLPT19eHl5QVnZ2fWctX9rc+cOQNvb29mnjNnzgA1AwzV19w8MjISH3zwAfz8/FifmzdvQigUIjc3F5s2bWLyz5w5kwnw58+fj9GjR8PX1xfTp09HZmYmrKys4Ofnx/oOAGjRogW6deuGkydPwsvLC66urli+fDk3W71sbGzg4eEBfX19REVFwcvLC35+fhg2bBhmz56NlJQU7ixaVVZWIjk5GQEBAcwyvLy8EBERAZVKBRcXFzg6OnJn02r27NlwdHREcXEx1qxZwxy/oUOHYufOnawaVPX+4+YdPXo05s+fj9zcXFhZWWHKlClaWzZ0794dcXFx8PLygq+vLxYsWACpVApTU1N8+OGHqKysxIIFC+Dr6wsvLy/ExMSguroa3bt3x5AhQ7iLg7m5Oezs7BAaGsqsi5eXF7Zt24aysjLY29tj/PjxTH51qwFra2vk5uZi/vz5rP23bt06FBcXo3Pnzpg5cybru/AMZXbo0KEYP348hEIhYmNjMXLkSEyYMAFeXl44cOAAlEolBg0apPX869evH27evAlfX19mnoiICCiVSnTt2hXvvfceAGDlypXw8/NDRkYGACAjI4M5D1auXMlZKtu8efPg5+fHBJpJSUnMvLt27WLltba2hqmpKRYuXAgfHx/4+Phg4cKFzMMld3d3Vv7GlNH61iM1NRWZmZlQKpW4fv06rl27xvouQgghhBDSMK9EcOzp6QkbGxvIZDIkJSUx0+Pi4pCVlQUDAwO4ubmx5nleQ4YMgVAoRHJyMpYtW8Zq7imVSrFx40bk5uZqvbFVE4lECAwMRJ8+fVBcXIwdO3awavBQ8z0GBgaIj4/H999/z0yXyWSIiIiAVCqFpaUlevfuzZqPx+Ph+vXrWLVqFbNuMpkMR48eRXFxMYyNjdGtWzfWPA3h4+ODd955BzKZDAcPHmSanw4ZMgRvvPEGysvLceDAAVaAn5aWhtjYWCgUCtjb22sEliKRCNeuXcOiRYs0mts2hlgshoGBAVOLX9vFixexd+9e1rS6rF27FjNmzNBovnzp0iWUlpbCzMwMnTp1YqVpM3bsWPTs2RPl5eXYs2cPIiMjWem7d+/GN9/83fBCvf8UCgXCwsI08sbHx+PgwYOQy+Xo1KmT1teL5eXlYc+ePczfCQkJSEpKgkqlgp6eHqKjo1lN9Y8fP46ioiKIRCLY2toy09X09PRw7tw5bN++nTV9//79SExMBI/Hg4uLC2xsbICa7bWzs8Pjx4+xY8cOVhlAzcOW6OhoKJVK9OjRQ+OcbGyZHTZsGExNTTXmQc2+zcrKgomJCXr16sVMV8vPz9doTh4REYH79+/D0NAQDg4OrPzNraqqCj///DNrn8XHxzMtQjp06FArd9OVUbXPP/8c/fr1w8KFC7lJhBBCCCGkgV6J4Lh3794wNDREbm4uTp06xUq7du0aqqqqYGNjo3Ez/qwGDhyINm3aQC6XIzExkZsMAMjOzmZqYOrq7zdv3jy4u7ujrKwMO3fu1Hglkfp7ZDIZLl68yEpDTdBZUFAAoVDIBChq1dXVuHXrlkYfzcuXL6OkpAR8Ph/m5uastPo4Ozvjgw8+gEgkwpkzZ1gBnJOTE4yNjXHv3j2N7QCA27dv48mTJ1pv2svLy1kPNZ5Veno6CgsLIRQK8f7772Ps2LHcLA0mFosxZcoUbNq0CeHh4Th16hTWrFnTqH3WvXt3GBoaIjs7W+s+qU29/6RSqUbTYbWYmBjcu3cPhoaG6NKlCzeZ1WpCTSqVoqqqCiUlJbh69SorLS0tDWVlZUBNIMzFfdhU26VLl1BeXo6WLVuiY8eOAICuXbtCKBTizp07iI2N5c4C1NRaPnr0CCYmJhoPSRpTZm1sbGBnZweFQoGUlBSNeWQyGe7evQs9PT2N8gYAWVlZzIMdtezsbNy/fx88Hg+tWrVipTW3hw8fIjk5mTuZaQKvp6en0VqgKcooIYQQQghpOpp31C+Ys7MznJ2dwePx0LVrV8THxyMlJYX5+Pv7Q19fH2ZmZvU2I24oExMTCIVClJeX4969e9xkhjowMTQ01Ahe27Vrh6FDh0Iul2P79u0aNYWo9T0tWrTA0qVLWdul/rzxxhvc2QAASqVSax9rmUyG6upq6OnpwcDAgJtcJ5FIhKlTp6Jdu3a4cuUKNmzYwEo3NjYGn8+HnZ2dxjFISUnBxo0b67xpf/LkCe7evcud3GgymQw//fQTpFIp2rdvj3nz5uHEiRNYtGgRxGIxN3udJk+ejPDwcHz66acYMGAArK2tUV1djdzcXFRUVHCz10n9Ttm7d+9qBG9c6v336NEjjQBXTSaTobCwEDweDy1atOAmQy6XcycxqquroVQqWdPUZaEu6u/TpqqqCiqVCkKhkHkXuPr43r9/n5P7H6mpqSgrK4Oenp7GNjSmzKpbCQgEAnz66aca5S0lJUVrc2q12v2da1Op/h5f0MjIiJvUrMrLy5Gens6dzBwfkUjEepjQVGWUEEIIIYQ0nZceHPfp0wetWrWCUqmETCbT+qmoqICenh6cnJw0al+eh1KpRGVlJXeyhqqqKjx8+JA1TSaToby8HEZGRhg4cOBT16uiogISiQQZGRl1fp6nOXJDfPzxx+jduzcKCgrw448/1hnsFRcXa6xb7c/t27c1AiBtgduzOn78OMaNG4d9+/bh/v37MDMzw+jRo/Hjjz9i1KhR3OwaRo0aBV9fXwiFQpw9exZTp05F//794eHhgbVr12qse0M0pIyoNTRvQ/M1N23HriHrVl1d3SRBXFVVFe7cuaNRzmp/cnNzubO91pqjjBJCCCGEkOf30oNjNzc3GBgYIC0tDe7u7lo/P/zwAyorK2FjY6O1r2ZjVVZWQqFQoEWLFkyTUm3EYjH09fVRXl6uEUwWFxfj0KFDqKioQL9+/RAYGKgRIKu/R6FQYM+ePcwgOto+3AF+mtKoUaPw/vvvQ6VS4ciRI6x+q2qVlZWorq7Gw4cPNdat9qf2oGbNRSaTITg4GKNGjcL8+fNx584dmJubY9KkSRpNebmcnJxgYmKC27dvY+7cubh8+TKTZmZmBqFQyMr/NOqaXG6rAW3U+69t27Z15lePPl1dXf3UWuKmIhAI6qxBtba2hkAggEwmYwZ6asj2uri4MKPAP3nyhJvcYDKZjKm9PnHihEY5q/2pb+Cs101TllFCCCGEENJ0XmpwPGTIENja2qKqquqpI6yePn0aUqkURkZGGgNXPYvExETcv38fRkZG6N+/PzcZqAkQHB0doVKp8Oeff3KTAQC7du1CeHg4lEol3N3dsXDhQlaAfOvWLRQXF0MkEjXJej8LOzs7TJgwAcbGxjh9+jRCQkK4WQAAEokEFRUVEIvFGDZsGDf5pTlz5gwOHDgAuVwOc3Nzrf1Pa+vQoQN4PB5KS0u5SXByctJoCvw0t27dgkKhQKdOnerdJ9euXUNZWdlTR1YfOnQoWrdujbKysqeW96ZiYmKCPn36cCdDJBLB1dUVAoEA+fn5TF/mtLQ0VFZWPnV7+/TpA3Nzczx69AhXrlzhJjdYeno6pFIpBAIBevTowU3+V2vKMkoIIYQQQprOSw2OXVxcYGJigkePHtU5cBBqBtpJT0+HSqVi+ijXRyqVoqysDAYGBhoDaslkMsTHx6OyshJ9+/bFkiVLWEGtWCzGl19+CVtbWxQUFCAuLo41f23btm1DVFQUlEolPDw8MG/ePCYtOzsbycnJUKlUGDZsGD755BPWvCKRCF999VWdAWtT+PTTT+Hg4IDbt28/dbTnmJgY3LlzBy1btsSnn36Kt99+m5Xu7OyM4OBg1vY1NTc3N8ydO1fjeBkbG4PH46G8vLzeJqe5ublQqVTo1KkTawC3CRMmYOTIkVoHrqrL8ePHkZWVhZYtW2Lq1Kkao5Z/8sknzCurYmNjkZ6eDoFAAD8/P/j4+LDyuru7w9/fH8bGxkhPT69zwKumpK+vD09PT9a6iEQiLFy4EE5OTpDL5awB8E6fPs2UAW3bq35FkZ6eHlJSUjRGWm6sCxcuoKKiAq6urliwYIFGywt/f3+EhobCxcWFNf1ZqN+jLRaLn1ozro263/bTWpk0xrOW0aetx5YtW5CUlIRVq1ZxkwghhBBCSANpvwt7AWxsbODi4gI9PT1kZGQgNTWVm4UlKSkJMpkMrVu31rhp1yY1NRX5+fnQ19eHn58fIiMjceTIEaZGLCQkBCdOnICenh5GjRqF33//HeHh4YiMjMSvv/4KNzc3lJWVYe/evfWu29q1a3Hy5EkAwPDhw5nX+wDA1q1bcfnyZbRo0QJTpkzBqVOncOjQIURGRiI2Nha+vr4wNjautbSmM336dLi7u6O6uhoGBgZYvnw5wsLCWJ8DBw7Ax8cHMpmMeW9vp06dsGnTJhw7dgxhYWE4duwYQkJC4OrqCn19fe7XNBlTU1O89957zHeq//3ss88gEAhw8eLFept0x8fHo6CgAK1bt8batWsRGRmJY8eO4YsvvkBxcTGKi4u5s9QpOzsb27Ztw71799ChQwesWbMGsbGxCAsLw8mTJzFlyhRYWFgw+Tdt2oSMjAyYmZlh/vz5OHHiBLMNa9asQfv27ZGRkcF6t3RzevToEUpLSzF37lwcO3YMhw4dwm+//cacA+qyqKZte9XH4cSJE5g/fz7MzMyQkpKiMaDbswgNDUVcXBz4fD58fHyYczA8PBxnz57FjBkzYGlpiaqqKu6sjfbXX39BLpfDxsYGu3fvRmRkJDZu3MjNplV6ejqqqqrQs2dPHDt2DEeOHMGCBQu42RrsWctoXevh4uICBwcH8Pl8ODk5oWfPntxZCSGEEEJIA7y04Lhv374Qi8WorKzUeEWNNqdOnUJubi709fUbfPO3Y8cO3LhxA3p6erC2toaBgQFrsKGgoCB8//33kEgk0NfXh52dHaytrSGXy3HhwgXMnj1b6yjU2nAD5MDAQKCmlnru3Ln46aefUFhYiBYtWsDe3h7t27dHeXk54uLimqVPpaOjI4YOHQoDAwPw+Xx07NgRnTt31vjY29vD0tISqHmv7oIFC5CYmIjy8nK0bt0anTt3hrm5Oe7fv4/Q0FBs3ryZ+1VNJicnB3/88Qfkcjnru3Nzc7F9+3bWQ4e6JCQkYOvWrcjMzASfz4eNjQ1MTEyQlJSErVu3NjrQSkhIwKJFixAXF4eysjKYm5ujc+fOMDQ0xI0bN3D06FEmr0QiwezZsxEVFYXCwkK0bNkSnTt3RqtWrSCVSvHTTz8hICBA4xVEzaWqqgo7duzA5cuXYWZmBnt7e7Ro0QL5+fnYvn07goKCuLNobK/6OBgbGyM7OxvBwcGYNWuWRh/8Z/XNN99g+/btyMvLY1p52NraQqVSISUlBcuXL2/Q9aE+hw8fxq+//sq8Q7h9+/YNHlBsz549iIuLY7odtG7dGuXl5dxsDfasZbSu9UhPT4dEIoFSqcRff/31QprsE0IIIYT8G/FsbW3/fvcJIeRfwdPTE/Pnz0dZWRkCAwPrbflACCGEEEIIeYk1x4QQQgghhBBCyKuCgmNCCCGEEEIIITqPgmNCCCGEEEIIITqPgmNCCCGEEEIIITqPgmNCCCGEEEIIITqPRqsmhBBCCCGEEKLzqOaYEEIIIYQQQojOo+CYEEIIIYQQQojOo+CYEEIIIYQQQojOo+CYEEIIIYQQQojOo+CYEEIIIYQQQojOo+CYEEIIIYQQQojOo+CYEEIIIYQQQojOo+CYEEIIIYQQQojOo+CYEEIIIYQQQojOo+CYEEIIIYQQQojOo+CYEEIIIYQQQojOo+CYEEIIIYQQQojOo+CYEEIIIYQQQojOo+CYEEIIIYQQQojOo+CYEEIIIYQQQojOo+CYEEIIIYQQQojOo+CYEEIIIYQQQojOo+CYEEIIIYQQQojOo+CYEEIIIYQQQojOo+CYEEIIIYQQQojOo+CYEEIIIYQQQojOo+CYEEIIIYQQQojOo+CYEEIIIYQQQojOo+CYEEIIIYQQQojO49na2qq4EwkhhBBCXgempqYwNjaGgYEBN6lZVVZWoqysDCUlJdykRntZ26ALmvI4EUL+/Sg4JoQQQshrR19fH23atHnpAWVlZSUePHiAqqoqblK9XpVt0AXPc5wIIbqDmlUTQggh5LXzqgSVBgYGaNOmDXdyg7wq26ALnuc4EUJ0BwXHhBBCCHmtmJqavlJBpYGBAUxNTbmTn+pV2wZd8CzHiRCiWyg4JoQQQshrxdjYmDvppWvsOjU2P2katN8JIU9DwfFrZPHixUhJSUFKSgq2bdvGTHdxcUFUVBRSUlIQFhYGOzs71nykfosXL0ZSUhISEhIwffp0brLO8/T0RHx8PFJSUnDs2DG4uLhws5BXnPoYco/flClTkJiYiPDwcFb+18W2bduQkpKCxYsXc5P+1dS/B81x3MLDw5GYmIgpU6ZwkzTUVa6a26tY49rYdWpsftI0aL8TQp7mXxUc+/j44MSJEy/8JkksFuOzzz7D4cOHceHCBSaATU5ORnx8PH744Qc4OjpyZ2syffr0QevWrQEA7du3R7du3bhZSD2cnZ3B5/NhYGAAJycnbjLRIXZ2dggLC8Pp06fh4+PDTSZEJ6kfwiYlJb3w31hCiCYfHx+cPn0aR48efaEPpgj5t/tXBMdisRgrVqzAl19+CXNzc25ys3Jzc8OOHTvwwQcfoGPHjhAKhUwaj8eDSCSClZUVRCIRa76mdPnyZeTn56O6uho5OTn466+/mDSxWIwZM2bg4MGD+PXXX5vtAmpnZ4f58+fj8OHDOHjwIDf5hXiebb18+TIqKyshl8vxxx9/cJOfyeDBg7F27VqcOHECixYt4iY3i+fZB+Rvs2fPhp2dHc6cOYPIyEhuMiGEENJgs2fPRnR0dJPfB0RGRuL333+HpaUl/P39ucmEkGf0WgfHYrEYX331FQ4ePIihQ4e+8KYyNjY2mD59OqytrYGa1wSkpaUhJiaG+fzxxx94/Pgxd9YmlZqairFjx+Ktt97Cf//7X0gkEibNxcUF48ePR5cuXZp1/3h4eMDb2xsdO3aEvr4+N/mFeJ5tXbt2Ldzc3PDOO+9gx44d3ORnMm7cOAwePBjm5ubg8Xjc5GbxPPuAABMmTEDPnj1x9+7dl/aQh5BXUWpqKry9vdGvXz8sX76cm0wIqUO/fv1gZWXVLPcBhw4dQlZWFnr27IkJEyZwkwkhz+C1Do6/+eYb+Pr6wtTUFDk5Obh37x43S7Pq168fExiXlZVh48aNmDRpEgIDA5nPJ598gokTJyI1NZU7OyHkFSISiTBkyBAIBAKcP3+e9ZCJEELIq83X1xdhYWHYuHEjN+lfKzs7GwkJCRAIBBgyZEiztlIkRFe81sGxQqFAfn4+du7cif/+97+Qy+XcLM3K3NycqSWVyWS4e/cuNwsh5DXxn//8Bw4ODpBKpTh9+jQ3mRBCXoq3334be/bsYZrlDhgwAPv27aszCJw3bx727duHAQMGAAAWLVqEsLAw+Pr6crOSf4HTp09DKpXC1tYWAwcO5CYTQhrptQ6OP//8c3h7e2P37t2QyWTc5GYnl8tRXV0NADAxMYGDgwM3iwYXFxccO3YMKSkpiI+Ph6enJ/z9/RETE4Pk5GQkJyfj7NmzWLFiBcRiMXd2rbSNJKyeFhQUxDxJFIvF2L59u8YIp87Ozli1ahXi4uKQnJyMlJQUJCUlITY2FpMnT671TZrUI91++umnEAgEQE3/Y22jagOAt7c3fvrpJyQmJjLfc/z4ccyePZtZTxcXFxw9ehQpKSm4dOkSAgMDWcsYOnQo4uLikJKSgjNnziAwMLDB21oX9Yi33FFvuSOEq29SEhISkJKSgoSEBAQHB8PZ2VljWa6ursw0b29vpKSkaIwAKxKJMGPGDBw+fJjZJ+oyEBISgrfffpvJ+zSNOd6oudn6/vvvNY55dHQ061g0hL+/PzMQHXe0b5FIhNmzZ+P48eNISkpi9sFPP/0Eb29v1nK45djNzQ3ffvstTp06heTkZCQlJSEyMlJjPjxnGVbr1asXRCIRrl+/jvT0dGa6+pzlHruGpKvLy/nz51nHdvXq1Uwe9XarrwdcT0sfPXo0QkNDce7cOWa7z507hy1btrDKZGM4OzsjOjoaycnJWLJkCTcZqBlrITY2FgkJCfjoo4+4yRq4531ycjLi4uLw1VdfMXnqG325vnTU2t/q8zMpKUmjrNnY2ODw4cO4dOkS5s2bx5ofNYHFpUuXEBUVpTGQ4vjx43Hu3DlER0ez9u/bb7+N4OBgnD17ljkO6hHA/+///o+1DHBGeHZzc8PmzZuRmJiI5ORkLFiwgMknFovx7bffMuU6OTkZp06dwjfffFNnE01t51xSUhKOHDmiUX4aqzGjWItEIgQHByM5OVnr4HbajlVUVBT1ndTC0NAQ+vr6KCwsBGpeRcTn8/HkyRNuVgCAkZERysvLUVxcDNTMr1QqUVJSws1KnoH6vFT/NqnPy2+//ZZ13xYeHo6UlBTmDSLq+4AULaPra/sNS0xMRFhYGDw8PFh5udLT05GZmQkTExP07duXm0wIaaTXOjh+2c6ePYv79+8DNT9GM2fORGBgYIODWtQEetOmTUPr1q3B4/HA4/HQokULeHh4YNOmTc3+WiZPT0+sX78eQ4YMgampKXPDxefzYWFh0ahtqc+iRYswf/58ODg4MIE0n8+HpaUlJk6ciDVr1kAkEiE1NRVRUVGorKyEnp4e3NzcMHjwYGY5o0ePhqmpKaqrq5mg7EUwNDTE4sWL4ezszPTnNTAwQN++fbFgwQLY2NhwZ3kqOzs7bNu2Df7+/ujYsSOzT9RloFevXli3bh2mTp3KnfW5TJ48GatXr0a/fv00jrmVlRUmTpyIkJCQBpU9Nzc3jB8/HkKhEEqlEidPnmQeiKi3b+LEibC0tASfzwcACAQCODg4YO7cuXVuG4/Hw6RJkzB8+HC0bNkSPB4PfD4fNjY2+OyzzzBq1Cgmb1OV4S5duqCqqgp37tzhJj0THx8frFixAk5OTigvL0dGRgYKCgpgaGgIW1tbbvZG8/T0xOzZs9G9e3coFApIJBJkZ2dDX18f/fv3f6YyCQBpaWlIS0sDADg5OWl9UNK7d2+0bNkS9+7dq7eWffr06Zg3bx7s7e1RVFSEjIwMFBUVwdjYuEFlrKEsLS2xbNkydO3aFffv34dEIkFlZSUcHBwwb9485qFNdnY2bt68CT09PXTt2pW7GHTt2hV6enowNzfXGLm+a9euMDQ0RG5uLrOP1OdT3759IRAIkJOTg9u3b0Mul8PW1hazZs3SeMBXm5+fH/r37w+BQAAej8e0RrKzs8OmTZswfPhwGBsbo6CggGnqP2LECPTp04ezpL8D0nXr1mHixIkwNTVFXl4eJBIJysvLIRaLmW5AzU0kEiEwMBB9+vRBWVkZdu3axRrcTr3P1OfG7du3UVhYCCsrK0ybNk0jcNB1YrEYenp6UCgUAABTU1Pw+XyUl5dzswI16UqlkmlN16JFCyiVSpSVlXGzkkZSD8I6YsQIGBoaIicnBzk5OTAyMsLw4cOxceNG5rp79+5dZGRkMA8xHjx4gIyMDGRkZEAqlTLLHDVqFDZs2IAhQ4bA2NgY+fn5kEgkqKqqQqdOnRp0nbx16xaTnxDyfCg4fg7Z2dnYv38/ioqKAABCoRDvvfcefv75ZyxfvrzeC5qhoSHeeustSCQSbNq0CcuWLcPZs2ehUCjA4/Fgb2+PsWPHcmdrkNTUVKxYsQK7du1ifiALCwuxYcMGBAYG4rvvvgMAjBkzBhYWFlCpVLh27Rq++OILuLq6YvHixbhy5QoqKys5S2Y7efIkgoKCEBkZyfxw5+TkMH2u9+zZAwAICAiAp6cnBAIBiouLsWPHDri7u2PNmjUoKCgAj8dDnz598MEHHwAADh48yIwabWZmhpEjRwI1Ayapb1jz8vKwd+/eBm/r8+rRowcMDAxw8OBBBAYG4uzZs1AqlQCATp064d133wUA7NmzB4GBgbh27Rozb1xcHAIDAxEUFISTJ09CJBJhzpw5cHR0BI/HQ1lZGY4ePYrAwEBs2rQJt27dgkqlglAoxNixYzF06FBmWdo0dB/4+PhgwoQJEIlEUKlUuHXrFjZt2oTAwEAcPXoUZWVl4PF46Ny5M2bOnMn5FjY7OzvMmDEDYrEYKpUKKSkpWLt2LZM+e/Zspubt1q1bmDdvHry8vPDrr7+isrISQqEQI0eO1DqidqtWrdC9e3fEx8dj2bJl2LdvHzOwXcuWLZl9jSYow6ipNbawsIBMJkNWVhY3+Zl4enrCxMQEiYmJ8Pb2hp+fH7y8vBAQEFBvQNkQSqUSd+/exYoVK/Cf//wHEyZMgI+PDwIDA1FUVISOHTti0KBB3Nka5MqVKygvL4eVlZXW2sa33noLfD4fN2/eRHZ2NjeZYWNjAw8PD+jr6yMqKgpeXl7w8/PDsGHDMHv27CZ9sNWnTx/k5eVh6tSp8PHxga+vLz766CNcvXoVAoEAw4cPZ2p7b968iYqKCrRt25ZV/tzc3NChQwcolUoIhUKN4LlLly6orq7GrVu3gJqHm+qHQwkJCRgzZgxzjo0cORK//fYbqqur4eHhobVGtEWLFujWrRtOnjwJLy8vuLq6MoNdzZw5E507d8bDhw8RFBQELy8vZrlHjx7V+tDnvffeg7OzM0pLS7Fy5UpmPwwaNAibN29GTk4Od5ZmMW/ePLi7u0Mul2Pfvn04dOgQk1Z7n8XGxmLkyJGYMGECvLy8cODAASiVSgwaNKjea1593nnnHYSGhmpterxkyRKNZsZLlixBaGgohg8fjiVLluDgwYOIiIjAwYMHsWDBArRq1Yq1jBdhyZIliIiIgI+PDwwMDDBs2DDmb319ffTs2RMRERHYuHEjs70RERHo0KEDWrdujVWrVjF/i0QifPbZZxrbbWRkBH9/f+zcuROHDh1CREQE9u/fj88//1xjm9955x2sWrUKBw4cQEREBMLDw7Fnzx7MmjVLIy9qfjOXLFmC/fv3IyIiAocOHcLOnTvrbN7t7e2N4ODgetcDADp37oyFCxciNDQU4eHhiIiIgLe3N/MQtjmIRCJMmTIF1tbWyMzMZK41Pj4+WLhwIQoKCuDg4MAMjDVv3jz4+fnhwYMHAICkpCT4+fnBz88Pu3btAmpaHk2ePBlmZmZIT09HQEAARo8eDV9fX4wdOxYnT56s8yFIbXfu3EFFRQUsLS01WrwQQhqHguPnFB0djYULF+Kvv/6CSqUCai6gw4YNQ0hICD755BPuLAw9PT38+eef+PTTTxEWFobo6GjMnTsXp06dQnV1Nfh8Pvr06aO15qY+UqkUJ06cQF5eHrNeSqUSmZmZiImJQUJCAlATaABAVVUVUmqaxQJgmqPWDna0kUgkiI2NZR4QoKYvuHq07tTUVNjY2GDYsGEwMDCAXC7H7t27mabwhw8fRkREBCorKyEQCJgmQTKZDBERESgqKgKPx8Mbb7yBYcOGwdPTE0ZGRpDL5YiIiIBEImnwtj4vmUyGHTt2YPPmzYiJiUFgYCDT/NbAwACdO3cGagLVmJgYVlD25MkTxMTEIDY2FhKJBJ6ennB2dgaPx0NpaSm2bt2KoKAgxMTEICwsDAEBAczDAVNTUwwbNoxZljYN3QfDhw+HiYkJE8wGBAQgLCwMMTExCAoKws6dOyGXy5l9PmTIEM43/U0gEGDOnDlwcHBgljV//nyme8PYsWPRs2dP8Hg85ObmYsmSJThz5gykUilWrlzJBEWtWrVi+sVxnTp1CnPnzkV0dDSCg4MRExPDPIzo2LEj83T+ecswamodhUIhKioqmKaIz8vY2BjV1dXIz89ndftIS0vDzp07WXmfRWxsLD788ENERUWxpp88eRI5OTkQCoXPVHMMADExMcjOzoahoSF69+7NShs2bBjatWuH0tJSnDt3jpXGJRaLYWBgAIVCoRGYXbx4EXv37mVNex6PHz/G999/z9Tooub6tG/fPhQVFaF169Zwd3cHas7RwsJCmJqasm4knZycYGJigj///BMKhQJdunRh0gYOHIg2bdrg8ePHuHz5MlCzL0xNTZGZmYmvv/6aVRskk8mwbNky/PnnnxAKhVrLuUgkwrVr17Bo0SLWvEOGDMEbb7wBhUKBiIgIHD9+nEmTyWTYsGEDq+m/mnocjLKyMo0B5SIiIhATE8Oa1hzmzZsHDw8PVFRU4KeffsL+/ftZ6ep9dv36daxatYp1buzevRtZWVkwMTFBr169WPO9CIaGhpg4cSKcnZ2ZljwCgQC9e/f+V44EbGRkhK+++gqenp4wNzeHnt7ft4TqB/e1r/9OTk7w8/ODvb0988pKHo8HY2NjDBgwAB9++CGTFzXB67Rp0+Ds7AxDQ0Og5p7H3NwcgwcP1miV8emnn8LX1xetW7dmrYebmxsWLFgAKysrJm/v3r3xxRdfoHfv3jAyMmJaC+nr6zP/bw5jx46FnZ0dioqKsGvXLta1Jj4+HufPnwePx2tUl5YxY8ZALBYjNzcXQUFBrGVKpVIEBgYiNDSUNY82hYWFkMlkMDIy0vowgRDScBQcN4HLly/jgw8+wNq1a3H79m3mBr5ly5YICAios0ldZWUlLly4oNFfOj4+HqWlpUDNDXZzPgVUj/AtEAjg4+ODzz77TGuNxPPo3r07c7F+8OABoqOjWek3btxgagXbtm3L3BSdOXMGcXFxUCqVMDU1xaeffsoEYxcuXGDVRrwIubm5rKaBMpmMdQPamHdsd+nShblh+OOPPzTepyuTyXDhwgUmwLaxsXmmhyS19erVC+3atQMAlJaWIjo6WqPsRUdHMzWBIpGICfi5xowZgz59+oDH4yEzMxMbNmxgLav29l27dk3jRv3mzZtQKBTg8/mwt7dnpaFm/eLj41nTbty4gYqKCqDmYYS6nDZFGTYwMIBAIEBZWVmTjSyfl5cHHo8HDw8PfPLJJ899/OoyevRoLF++HAcOHEBsbCzOnz/fqJszbWQyGZKSkqBUKtG1a1dWkN27d28YGxszD8aeJj09HYWFhRAKhXj//fefuSVMQ0gkEq3HLiEhARKJBPr6+swNdnp6OvLy8jRqh3v27ImqqiqcP38ejx49Qps2bZgBbhwdHWFsbIwHDx7g/PnzsLGxgZ2dHZRKJVJTUzXOJbXU1FQoFAq0a9dOI+ArLy9HUlISaxpqAguRSFTn4HAymUxr8/+srCzIZDK0adMGs2bN0tr0ujkNHjwY3t7eUKlU+Omnn5jaMTX1PlMoFEhJSdHYZ7KagS319PReSvNQHo/HNJtfv349vvzyS6Snp4PH4zVJV4jGWrZsGcaPH4/U1FTI5XJs3boV48ePx7Vr11BVVYXIyEiMHz8eX375Jc6dOwd/f39s2rQJZWVlSEtLw/jx4/Hdd99BJpMhNzcX48ePh5+fH9Nv38/PDz169IBSqURKSgqCgoLg7++PH374AVlZWcy9jJpMJsOlS5ewYcMG5ntTUlKgUqng4ODAupb37NkT5ubmkEqlWLVqFZP/t99+Yz1MR02Ljf79+0OlUuH8+fP48ssv4e/vj4MHD6K4uBgdOnRgtRYaNmwYWrdujcLCQuzduxf+/v6YNm0aYmNjUVVVxVp2U+ratSuEQiEyMzNx5swZbjIkEgkqKipgYWGhtUUUl0gkYu5pkpOTNX4nGyM9PR0ymQxCoRAmJibcZEJII1Bw3IQOHz6MCRMmYNWqVUwNHp/PZ5o8clVVVbFqC9SKi4uZIMDY2LjRN/qN8fPPPzPBhbm5OT744AMcOXIEO3fubPBgUPXp1KkT86S5U6dOzKBL6s/WrVthaWnJ5K/9nuStW7cyTRg7deoEgUCA3Nxc/PDDD0yeF0X9wKIpdOjQgXnC/fDhQ24yUPPUWP1DLxKJnvshSbt27WBsbAzU3JSrB3epTSaTMQ8qBAKB1ifQFhYWeOedd8Dn81FQUIDg4GCNH/Xa2/fee++xjndKSgomTZrE6nfO1Zga3BdRhp/FwYMHkZWVBVNTU0ydOhXHjh3DqlWrnjtwVXNzc8Phw4fx9ddfY9iwYejcuTOEQiGkUmmTDLyTlJSER48eQSwWo1+/fkBNcOPi4oKqqqoGtciQyWT46aefIJVK0b59e8ybNw8nTpzAokWLmvy6pm66qI26NUXtB1jXrl2DQqGAg4MDRCIRnJ2d0aFDBxQWFuL06dPIzc1lPZzs0qUL+Hw+/vzzT6BWrXhlZSXy8/OZ5XLl5ORAoVBAIBBo3LQ+efJE61sOWrVqBYFAgEePHj212TrXiRMn8Pvvv6OqqgouLi4IDg6uc1CwpmZmZgZvb2/weDz89NNPWt8Xr95nAoEAn376qcZ1ISUl5bmbUz8PlUqF27dvY+PGjUhOTkZubi7TNUNdm/kyiMVi1gBb5ubmqKysRF5eHjcr2rdvD6FQiEePHgE1D5wFAoHG9d7IyIjp1nPx4kWsW7cOf/75J+RyOXOOHj58mMl//fp1fPnll9iwYQMuXboE1DwwvnTpEioqKsDn82FkZMTkLy0thVKpZFoBGBkZITc3FwcOHMDChQtx/fp1Jm+3bt3QokULpKWl4fvvv0dubi7kcjmioqJw/vx5oOb3HzU12J06dUJ5eTmOHDmC48ePQy6Xo7CwsNn7VKuvH66urhrlNiUlBXPnzmXtg/qoH7hVVFRo/IY2lkwmYwaIJYQ8n5d3tf8Xi4qKwpdffsn0XTQyMmKNXNwYFRUVTRqUcSUkJODTTz/FkSNHUFRUBJVKBYFAgDfffBOrV69u8Ei/zam0tJS5uUVNYEdenidPnjBl0tTUFD179uRmeaFe1TJ8+fJl+Pr6YsuWLZBIJDAyMsKQIUOwdevW514nGxsbTJ8+HTY2NsjMzMSKFSvQr18/DBo0CD4+PsjIyODO0mipqanIyMiAkZER3nrrLQBA3759IRaLUVhYyDQtrs/x48cxbtw47Nu3D/fv34eZmRlGjx6NH3/8kTWw2otQuyYsPT0dZWVlaNWqFfr374/evXvDwsICkpqBzW7dugU9PT106dKFqfGUy+VMcFxbQ65JSqVSo/97dXW1Ru1cbdz8DbF+/XpMmzYNcXFxkMvlsLOzw+eff459+/bVOw7G85DL5ZDL5dDX14erq+tTv0s98J16cCJtn9zcXO5szU6pVOLatWus7y4qKnrqMWoutfsQ29jYwNzcHIsXL2b+VvchDg0NxTvvvMP0Tx4/fjwEAgHc3d1Zf6v7J6tHoLe3t0eLFi0gl8tx5coV7tdrNWLECGzYsIHpjx0REYGZM2dqDQhjY2Nx6dIlGBgYYMSIEfjhhx+wbt06eHt7a+Rv27YteDwe3nzzTWa56s/IkSPB5/OZwNTCwgJGRkZ48uRJox4cNaXaA2tp+9y5c0ejVUR9GnINIYS8GBQcNxOJRMLqO8L9MUBNE67ataRqdnZ2TA2D+oloc5JKpVixYgWGDh2KJUuWMINBiUQieHl5PXeN5b1795gaUIlEAldX1zo/Xl5erKaRH3/8MdPn8dGjR1CpVLCzs9Po3/S6qV3LVbvWvLbaIzw/fvxYa5PRxlD3SUJNXy5ttcKoeS0ZavqOa6uNq6ioYPpUGxgYwM/PT2PU6drzRUVFaRzn2p/ar356Vs9bhpVKJaqrq2FsbKzR9PV5HTx4EL6+vpgxYwauXbsGIyMjjBs3jjUCe2N1794d7dq1w+PHj7Fnzx4cOXKElc6toXxWFy5cgFwuh4ODAxwdHfH222/D0NCQNaJ1Q8hkMgQHB2PUqFGYP38+7ty5A3Nzc0yaNKneY9NQ2q6xqGl10apVK6hUKqaFAQCcP38eOTk5MDY2hpOTE9O8Wj2Q3vXr11FWVgY7OzumL/LDhw+ZdJlMhqqqKhgYGDw1ELS2toZAIEBlZWWDH3RWV1dDpVLB0tKyzub42lpcqKWlpWHhwoXw8vJCSEgInjx5AkdHR43ztClVVFRg//79KC4uhqOjIxYuXKixX9T7TKVS4cSJE8zgRNo+K1euZM1Lmkd9D2jUxo0bh//+979MeW6I4OBgrF69GsnJyZDJZLCxscH//d//Yf369ayxDJ6lVr66uvqZHh49D/Vgl1lZWRrltfZnxowZWscE4GroNaQhXFxcYGxsDIVC8cL3CyH/No2/IhGGv78/vv32W60XNTs7O1bzSfVFtTZDQ0OmuaKaSCTC4MGDmRu9vLy8Bl1km0psbCy+++47JiA3MzN77r5fWVlZTHMwKysrrU3MtVH3XxPUjHC9e/duPHz4EHw+H++8847GezNfJ1lZWUzTeScnJ4wYMYKVLhKJ8M4770AoFEKlUj13kysAuHTpEtOE28TEBCNGjNC48Z4wYQI6duwI1NTY11X2zp8/j5MnT0JZM6rv+PHjWcfj7t27zA/0m2++qfUcaS7PUobVDw60NX1V9+XS19fX2hTYyckJZmZm3MkaLl++jJCQEBQWFqJFixbMYE+1v1vbq3beeOMNpv+2mrqrgrbm54MHD0abNm1Y055VTEwM7t27B0tLSwwaNAidO3du0EBcT3PmzBkcOHAAcrkc5ubmzLEpLCyEQqGAsbGxRn89kUiEbt26saZxde/eXWs5GzVqFKysrFBeXs500VC7efMmeDweunXrBkdHRzx69IipRUtMTERhYSHMzc3h5uYGY2Nj1ujc6enpyMrKAp/Ph4uLi8a5pNazZ08IBAJkZWXVeT5xZWZmory8HG3atNFau25nZ9egFhsymQy7du3C2bNnwePxmHO7udy4cQM7d+5EWVkZevbsiblz57LOmfT0dEilUggEAvTo0YM1b3MxMjJC9+7dmb8HDhyIDh06sPK8irh9iNV9hrl9iP39/XHu3DlW/+Ta/ZG5/ZOXLVsG1JxvlZWVMDIyqnNsidreeOMNCAQC5OXl4bvvvsP48eMxfvx4bN26Vev9jdq1a9ewfv16BAQEYOXKlcjLy0Pr1q1Z7+4tKCgAas459XK5H/U70RUKBZRKJQwMDFjXXSMjI6brQ3PJyspCVVUVOnbs2CTdY9RjH9R3DWkIMzMz5jehrq5ahJCG0angeMuWLUhKSsKqVau4Sc/E0NAQQ4YMQWhoKPbs2YOgoCAEBQVh7dq1+P7775kBPCoqKpiRh2vj8Xh49913sX37dowaNQo+Pj7YsmUL80S1tLQUJ06c4M7WKJWVlcwrlszNzTFixAj4+voyT+V/+OEHrFmzhhnsws7ODkOGDGFGAC4uLtY68AuXXC5n+ru0bdsWM2fOxMcff4zFixcjLS0Nly9fRnV1NYyMjDBlyhQEBgbi3XffRfv27eHp6Ylvv/0Wv/zyCzMqs0gkwv/93//B3NwcSqUScXFxiIiIYF6fZGJiAh8fH9bNcH3b+qLVvmF48803mdc9fPjhhzh8+DAT8JqammLOnDlYunQpPD094efnh5CQELzxxhtATa3or7/+yizraerbB3FxcaioqACPx0O/fv2wY8cO+Pn5wdPTE4GBgZgyZQqMjIygVCpx4cKFp/YrXbt2LS5fvgyVSgUTExNMmjQJbm5uAIDTp08zQUSHDh2wceNGBAQEwMXFBY6OjvDz88P27dubZLTipijDqampePz4MUQikcbAOzKZDNnZ2eDxeOjfvz8z4jEAuLu7Y9y4ccx7r9UcHR0xf/58jQGRWrRoAX19fVRVVTHBu/qhhUAgwLvvvsu66ZowYQKGDh2qUbOifm2Hubk50+QZAJydnTF58mSYmpqy8j8rmUyGK1euMO9OtrCwwJ07d+odiEvNzc0Nc+fO1QhajY2NwePxUF5ezvSPzsjIgEwmg6WlJcaMGcPcKIpEIixcuBAODg6sZXC1a9dOYzA2d3d3fPDBBzAyMsKtW7c0Rmu+du0aysrKYG9vD0tLS9b7i2UyGa5fvw6hUAhnZ2dUVVXh5s2brPlPnz6Nx48fw8HBAStXrmR9t0gkwpIlS9CrVy88fvxY68BadUlKSkJeXh6MjIzg6+vLKnNisRhz585lBter7cMPP9Q6+Jv6b/V4As0pMjIS+/btw5MnT9CnTx8EBgay1ufChQuoqKiAq6srFixYoLGu/v7+CA0N1XhA0ljqIMrU1BQDBgxAq1at4OPjg48++ojV97yp9erVC8eOHcO5c+eaZAA6gUAAPp/PXNf19PTA4/Hq7F8qFApRXV3NNNPV09ODSqXSqB2+d+8e8vLyoKenh//85z+YMWMGM6DWgAEDsGzZMtb6qx/Yl5SU4M6dO2jVqhXGjBmDMWPGaDy8Q83o0xs3boSPjw/zMKKwsBDZ2dlQ1bymUC0rKwvl5eVwcXHBrFmzNEayru3OnTt4/PgxWrZsCW9vb3Tu3Bl9+/ZFUFAQnJycmLEuGqKxxyo+Ph4PHjxA27Zt8dlnn2kEyG+//TZ2796NgIAA1nT1tV7bw6nff/+9zmuIWCzGt99+i48//hgAsHjxYly8eBEhISEa542trS1EIhEePXqEq1evAjW1yVFRUTh79uwLGXeAkH8LnQmOXVxc4ODgAD6fDycnpwY9dW8oQ0NDODs7w9PTE56enhg8eDDEYjF4PB4UCgWOHz+udSh+uVyO/Px89OnTB0uWLMGCBQvQq1cv8Pl8KJVKxMfHazSXbKzExERmsBiBQIBRo0bhq6++Yn4ETUxM8O6772LNmjVISUlBeHg4Ro8ezQw0Exsb26DajitXrjBPK0UiEfz9/TF9+nTmBu7AgQO4ceMGVCoVjI2N8d5772HNmjU4cuQIgoKCMGLECLRq1Yp56jtz5kzmBzI/P58ZGOTw4cPM9tjZ2bEu+PVt64v2xx9/MLXD1tbWWLBgAUaOHAkjIyPIZDKmL6pKpYKpqSlGjhyJoKAgzJ49G126dAGPx2NeGdHQJtX17YPQ0FAcOXKEGUCle/fumD17NoKCgvDee+/B2NgYSqUSSUlJ2LBhA2fpbLKaV8pkZmYCNT/kM2bMgJ2dHbKzs/HTTz8xr+Jq3749Jk+ejO3btyM0NBSzZ89+7iflak1VhiUSicboxWqxsbEoKSmBpaUlVq1ahcjISERGRmLVqlVQKBQatbeimpr/4OBgxMbGIiwsDEeOHMHKlSthamqKtLQ0VqCmfmhhZ2eHbdu2ITw8HEeOHMEXX3yBgoICjZqZ8+fPIz09Hfr6+vjggw9w7NgxREZGYseOHWjTpg1u377Nyv88zp8/j+LiYnTt2hV8Pr/B/RNR8+DnvffeQ1hYGI4dO8b8+9lnn0EgEODixYvMA5i4uDj88ccf4NWM8B0VFYWwsDBERUXhP//5j0atL1d6ejpcXV1x+PBhZv+tWbMGYrEY9+7dw969eyHj9AM8f/48Hj58CDMzM/D5fNa7yVFrVHUrKytWrbJadHQ0fv75Z1RVVcHNzQ2//vorIiMjER4ejt9//x2jRo1CdXU1fv75Z41R+p8mOzsbhw8fRklJCTp06MBcK8PDw3H48GE4Oztr7ftsY2ODqVOnIjY2FpGRkTh06BBOnTqFwYMHo7S0FL///jt3lmaxf/9+/Pzzz1AoFHB1dcW6deuYcz00NBRxcXHg8/nw8fHB77//jvDwcISHh+Ps2bOYMWMGLC0tn3vU4atXr+LBgwfQ19eHh4cHtm/fDl9fXxgbGzfJgHV1sbGxgYmJCQoLC5GcnMxNbjSxWMy8ngs1ra8EAkGd22BqagqlUsmMCG1ubl7n4J8nTpzAw4cPYWRkBHd3d+a9yJ999hns7e1ZtbBZWVlQqVRwdHTExo0bsX37dkycOBHt27fXGpDq6+ujQ4cO8PX1xcaNGxFR8z7mt99+G1VVVfjrr7+YvLGxsfjrr78gEAgwcOBALF26lNXvuPa7me/du4e0tDSoVCp069YNK1aswFdffYWOHTvi4cOHzG9uQzT2WKWlpeHAgQMoKytDr169EBISgiNHjiAsLAyxsbHYtGkTq5WCWnp6OqqqqtCzZ08cO3YMR44cwYIFCwAt15AjR44w53pkZCSGDBnCPHx1dnaGvr4+7O3tNV4N16lTJ+jr67Ouk3369EHr1q3RokUL5jWZhJD66UxwnJ6eDolEAqVSib/++kvjJuhZ/Prrrzhy5AgkEglkMhnUg0YplUoUFxcjKSkJixYtwooVK7izAjUjYx48eBCJiYnMza9SqUReXh62b9+OoKAg7iyNpg7Cbty4wTw5ViqVzEiWaWlpePToEZOmUqkgl8uRnp6OFStWYNu2bazl1SWt5t2t2dnZzLIqKyuZJ6YSiQTTp0/HTz/9hHv37rG+r7y8HHfv3mVqhkeNGoVhw4aBz+ejoqICUVFRTC2rRCLB8ePHUVlZCT6fj0GDBjHNDuvb1hctNDQUkZGRKCkpgUqlgkqlwpMnT5hA6vLly5g1axaioqLw8OFD1joXFxcjLi4Oc+bMadRNdUP2wfr167Fy5Uqkp6dDLpcz5VY9Yub333+PL774QiOQ0EYikSA4OJi58XJwcMDSpUthZ2eH6OhozJkzBxcuXGD2AWrWp7S0FH/88YfWh0aN1VRl+MqVK5DL5RqvLkLNTaT6QYCenh5sbGzQtm1b/PnnnwgODtbo4yWVSnH16lWUlpbC1NQUnTt3Rtu2bSGVSvHTTz9h7ty5rP0bGhqK7du3Iz8/HwKBAHZ2drCwsMD58+dx8OBBZt+pqR9MJCYmorKyEmKxGO3bt0d2djbWrVunEaw/j4SEBCbYLigo0HjF1tPk5OTgjz/+gFwuR+vWrdG5c2eYm5sjNzcX27dvxzfffMPKv3jxYsTExDD7zcHBAUqlEnv37q03OJZIJNi1axfKyspga2uLdu3aoby8HImJiVi0aJHWVhAymQyZmZlQqVQoLS1ljaCLmn7H6iCjdq1ybTt27GDOp+rqatjY2MDW1hbV1dW4evUq5s6dq3Xk5vpERkZiyZIlSEtLg1KpRPv27dGxY0fk5eVh3bp1zICPtf3555+QSCTg8XjMIGLqoH/RokUar4xrTtu2bcOhQ4eYAHnNmjVMgPzNN99g+/btyMvLY/pb2traQlXzzvTly5cztV/PSi6XIyIiAnfv3mX6cJeVleH333/H//73P272JtOtWzcIhUKkp6c3yYBRfD4fPB6PCfrUgWhdQaCenh6USiUUCgWMat4BrP6b68qVK9i8eTNz7av9O3Xx4kXExcUxeQ8dOoTU1FSmRrq6uhoFBQU4duwY0yy6tlOnTuHixYsoKytjrl8KhQLZ2dnYvXs3fv75Z1b+TZs2ISYmBkVFRXXWiquFhYXhzJkzzLqoz/PDhw/XO29tz3KsIiMjsWjRIqSlpUGhUKB9+/bo3LkzWrRogbt37yI4OBghISGsefbs2cM8ABWLxWjdujVrAK7a1xD1uW5ra4uKigrEx8cjMTERqBVk5+Tk4MKFC8z8NjY2cHR0RHl5OW7cuMFMv379Oh4+fAi5XN7gARQJIQDP1taWfddFmpWLiwuCgoIgFoshk8mwZs0ajaZ+hJAXTyQSYdeuXbC1tUVISAj27dvHzaKztm3bBhcXF5w8eRKLFi3iJhPywnG7P7wqvvzyS/Tu3Ru7du3C/v37ucksr+o26IKsrCx8//33DT5Wr7KPPvoIAQEByMrKwuTJkxv0YJsQUjedqTkmhJCnkclkOHnyJFQqFYYMGdIkTb7/Ddzc3GBvbw+ZTIakpCRuMiGkhpWVFfOu7IZ2hSEvh42Nzb/iWNnY2GDYsGFQqVQ4efIkBcaENAEKjgkhpMbPP/+MtLQ02NvbP/e7iP8tBg4cCDMzM+Tm5uLUqVPcZEJIjU6dOsHExKRRI5OTl6NLly7/imM1YcIE2Nra4tq1axpN1Qkhz4aCY0IIqSGTyfDjjz/i0aNHzAjyuszNzQ0DBw6EQqGgWgnySuH2838VxMfHY8iQIfjiiy+4SVq9itugCyorKxEXF9eoY/Uq8vHxwfDhw1FYWIiwsDC6PhPSRKjP8QtGfY4JIa+6LVu2wNbWFubm5hAKhUhJSdEYRIyQl8nU1BQWFhbcyS/Vo0eP6hxFWptXcRt0QWOPEyFEt1DNMSGEEBY9PT1YWVkBNbVhQUFBFBiTV0pJSckrVfNaWVnZ6IDrVdsGXfAsx4kQoluo5pgQQgghrx19fX20adOGeQ/sy1JZWYkHDx4807uZX5Vt0AXPc5wIIbqDgmNCCCGEvLZMTU1hbGz8wgPMyspKlJWVNUlN5MvaBl3QlMeJEPLvR8ExIYQQQgghhBCdR32OCSGEEEIIIYToPAqOCSGEEEIIIYToPAqOCSGEEEIIIYToPAqOCSGEEEIIIYToPAqOCSGEEEIIIYToPAqOCSGEEEIIIYToPAqOCSGEEEIIIYToPAqOCSGEEEIIIYToPAqOCSGEEEIIIYToPAqOCSGEEEIIIYToPAqOCSGEEEIIIYToPAqOCSGEEEIIIYToPAqOCSGEEEIIIYToPAqOCSGEEEIIIYToPAqOCSGEEEIIIYToPAqOCSGEEEIIIYToPAqOCSGEEEIIIYToPAqOCSGEEEIIIYToPAqOCSGEEEIIIYToPAqOCSGEEEIIIYToPAqOCSGEEEIIIYToPAqOCSGEEEIIIYToPAqOCSGEEEIIIYToPAqOCSGEEEIIIYToPAqOCSGEEEIIIYToPAqOCSGEEEIIIYToPAqOCSGEEEIIIYToPAqOCWkkFxcXHDt2DCkpKYiPj4enpyc3y2vNxsYGP/74I5KTk3Hs2DG4ublxs5DXXEBAAC5cuICkpCR888033GTyitu2bRtSUlKwePFibhJpAuHh4UhMTMSUKVO4SUSHLV68GCkpKQgPD+cm1elVL0tTpkxBYmJio7ZJl6mvvdu2beMmNYqnpyfi4+Nx7NgxuLi4cJPJS/ZaB8fOzs7YsmULzp49i+TkZCQnJ+Ps2bPYsmULnJ2dudmbnUgkwpQpU3Dw4EGcO3cOycnJSElJQXJyMs6fP4/Dhw9j/Pjx3NkIeaU4OTnB2toaPB4P5ubmcHJy4mYhr7nevXtDKBSCz+eje/fu3OQmER4ejpSUFK1BXO202h/1tfLYsWNYuXIl+vTpw5qvudjZ2SEsLAynT5+Gj48PN5kQQghpNiKRCMHBwUhKSsKSJUu4yeQFe22DY09PT6xfvx79+/eHQCBATk4O8vPzYWhoiP79+2PFihUvtMbL29sbP//8Mz799FN06dIFRkZG4PF4AAAejwdDQ0N07NgRXbp04c6qkwYPHoy1a9fixIkTWLRoETe5yYwePRrBwcH4/fffERAQwE0mWly/fh2ZmZmorq6GVCrF9evXuVmeCR2LV0dKSgrKysqgUCjw559/cpNfGvW1UiwWw8PDA8HBwQgODoadnR03a5OaPXs27OzscObMGURGRnKTXzhnZ2esW7cOR48e/de1TCGEvDh0LXk9yGQy7NixA/fv38egQYMwatQobhbyAr22wbG1tTWMjIxw5swZjBkzBj4+Phg9ejSCgoJQUFCAtm3bvrAagMmTJ+PLL7+EWCwGAKhUKhQVFeHq1auIiYnBmTNnkJGRgZKSEqhUKu7sOmncuHEYPHgwzM3NmYcIzWHixIno27cvWrZsCT2917a4v1DZ2dn45JNP8NZbb2H06NFISEjgZnkmdCxeHXv37sXgwYPRv39/fPvtt9zkF0apVCIlJQUxMTGIiYlBbGws/vrrL8jlcgAAn89H3759sXz58mYLkCdMmICePXvi7t27OHjwIDf5pbC2tkbfvn1hYmLCTSKEkAaja8nrIy0tDcePH4eRkRFGjRoFkUjEzUJekNf2DrW4uBh79+7FvHnzIJVKmenHjx/HuXPnoFKpYGtrCxsbG9Z8TW3o0KEYP348U4ilUilWrFiBoUOHIiAgAIGBgZg3bx78/PwwZMgQrFixgrsIQgjRSdXV1bh27RoCAwMRGBiIxYsX44MPPsDYsWNx4sQJKBQKAICDgwNmzpzJnf25iUQiDBkyBAKBAOfPn4dEIuFmIYQQQl6I48ePIz8/H126dKHa45fotQ2Ow8PDsXfvXu5kAEBRURGUSiUMDAyY2tzmMm7cOJiamgI1gfHKlSsRFRXFzUYIIaSBpFIpFi1ahFOnTqG6uho8Hg89e/bEsGHDuFmfy3/+8x84ODhAKpXi9OnT3GRCCCHkhcnOzkZycjKEQiH69evHTSYvCM/W1vZf1853ypQp8Pf3R0FBARYuXIj09HRuliYxbNgwzJs3Dy1btkRlZSVCQkKwb98+branEolE+PjjjzF48GC0a9cOAoEAKpUKMpkMGRkZ2LNnDy5evMiaZ9u2bXB1dQUAREVFIS0tDRMmTICtrS34fD7kcjnOnz+PLVu2QCqVws3NDUuXLoWFhQXkcjm2bt2KiIgI1jLHjx+PmTNnwsjICPfu3cOiRYuQlpYG1PSnnjBhAjp27AiBQAClUomioiKcOHECO3fuhEwmA2pGcQ4KCoJYLIZMJsN3332HQYMGoU+fPtDX18cvv/wCGxsbZt25FAoFQkNDsXPnTgDA//3f/2HUqFGwtrZm9kt5eTlu3bqFjRs3PvW4hoeH19kMUyaTYc2aNYiJiQEAiMViBAQE4K233oJYLAafz4dKpcLjx4+RlpaGPXv2MPsCWraz9rKGDh2KefPmwdTUFEqlEr///jtrNOBn3Zfr16+Hg4MDhg0bBgsLCwDAw4cPER4ejtDQUGb5qLU9AwYMgLm5Ofh8PpRKJUpLS3H27Nl6Wy9wv7v29jW27KGZj8XTeHp6Yv78+RCJRMyDq2HDhsHNzQ0mJiaorq5GXl4e9u/fz3qgpb5+CAQCSCQS+Pr6spZbVzr3+9avXw9vb2+8+eabMDIyQmVlJa5evYodO3YgLS0N/v7+eP/999GmTRvo6emhtLQUp06dwubNm5lyoKYe7G/o0KHMMVUoFLh79y4OHTrEWn/uemzduhUTJ05Ely5dUFVVhX379qFt27bw9vYGavofT58+vda3/XNd8vDwgFgsZl2XkpKSsGDBAlZ+bWof96ioKCxfvlwjjXvOc9Uui9XV1YiMjMTatWuBJijnALBkyRKMHDkSJ0+e1Bj7QNs+VyqVuH//Pnbt2sWUWTVPT0/4+vrCzs4OhoaGAIDy8nJIJBKEh4dr5Nem9rHjqn2uqM/DqKgoXL58GR9++CFzDnLLGdfbb7+NgIAAdO3aFQYGBlAqlXjw4AF++eUX5lri7OyMFStWoG3btvjtt9+wbNky7mKY3xVjY+MG//a9/fbb+O9//4sePXpAJBKBx+Mx1/TNmzcz6zt48GCMHTsWjo6OaNGiBXg8HiorK3Hz5k2EhIRo/CaGh4fD2toaoaGhKC8v1zivzp8/j7Vr12qcV3Wpvbz79++zrnFPWw/UKjfqazWPx4NcLseVK1fwww8/aD0m2tQ+xqdOndI4ZllZWRrnPmpdn3JycrB8+XLMnj0bjo6OzLn/ww8/AHUcC4VCgZycHERHR9fZxcDZ2Rl+fn5wdXVFy5Ytmfnu3LmDvXv34uTJk0xesViMmTNnMtdcACgtLUVCQgK2bt3KavUHLb+P6mv/77//jvXr1zP51GW4c+fOMDQ0fOq1qSHlvTb1Ovfv3x8tW7YEatb5/PnzUCqVGDVqlNbfhbo0tix99NFHCAgIgEKhwIYNG/Dbb79xF4mZM2fi//7v/1BQUMC6V6utodeS2uVl4cKF+Oyzz5jfLKVSqfU3Uq2xx7cutct6VlYWxo8fz5y/ubm5CA0NRVRUFNzd3TF58mTY29sz9xuXLl3CunXrtH5XXb8RRUVFuHDhAkJCQrTO5+zsjE8//RQ9e/Zk9t+jR49w/PhxdO3aFa6urlp/NxuzP9THp6ysDIGBgUhNTWXShgwZggULFqCiokIjjbwYr23N8dN0794dAoEAUqn0qQHU8+rZsyeMjY2BmpqOxtY82NnZYdu2bfD392d+DFAzKE2LFi3Qq1cvrFu3DlOnTuXOyrC0tMTnn38OBwcH8Pl8AICRkRE8PDyYEe8SEhJw48YNJq1nz56sZaBmW4yMjKBSqZCWlsZcbBctWoT58+fDwcGBWT8+nw9LS0tMnDgRa9as0Xrx5fF4GD9+PPr16weBQAAejwd9fX1utjpt3LgRs2bNgp2dHWu/GBkZwcrKSut3Pgs3Nzfs2LEDo0ePhpWVFbMPeTweTE1NMWDAAGzatKlB/dft7Ozw0UcfwdTUFCqVCpcvX2Zu5PEc+xI1NVy+vr5o1aoVeDweeDweWrdujcmTJ7MGt3JxcWG2x9LSktkePp8PMzMztG/fvtZSn09Dyl5jNOWx4OLxeJg0aRKGDx/O3NDx+XzY2Njgs88+a/LmS/r6+syPpJGREQDAwMAAffv2xYIFC/DZZ59h8uTJaNeuHfh8Png8Hlq2bIlRo0Zhzpw5rGWprxMTJ05kHVOBQAAHBwfMnTu3zmuEvr4+pk+fju7du4PP50NPT4+Zvy52dnYICQmBv78/2rdvr3FdsrW15c7SbFJTU5GdnQ0A0NPTg7W1NdCE5Vz9wODOnTus6SKRCOvWrcPEiRNhamqKvLw8SCQSlJeXQywWM+uhtmjRIixevBiOjo5QqVSQSCSQSCRQqVRwdHTE119/Xecxqq2kpAS3b9/GnTt3UFVVxaxbRkYGbt++jZKSElZ+S0tLzJ07F23btsWdO3cglUohEAiYcsbtVjR58mSsXr0aTk5OKC8vx+3bt1FYWAgrKytMmzaNGVW89m+Ak5OT1utS79690bJlS9y7d69Bv33q7+7bty8ENYNoZmdnQ09PDw4ODqxj+9VXX6Fv377g8/nIysqCRCJBdXU1nJ2dsWjRojpffdK9e3cEBARAJBJBIpGgpKQEJiYm8PT01Hj40RDdunXD3Llz0b59e9y9e5cpi+qHB9xrUe1z1czMDPn5+ZBIJODxeOjfvz+WL19e57rXxdLSEsuWLUPXrl1x//59SCQSVFZWwsHBAfPmzdO4QVfj8XiYO3cunJ2dNc59bcfi9u3bkMvlsLW1xaxZsxAYGMhdJEaNGoUNGzZgyJAhMDY2ZravqqoKnTp1Yj0EVV/PR4wYAUNDQ+Tk5CAnJwdGRkYYPnw4Nm7cyCqf06dPx7x582Bvb4+ioiJkZGSgqKgIxsbGrOX6+PhgxYoVTBnOyMhAQUEBDA0NNa5NDS3vanZ2dti0aROGDx8OY2NjFBQUMF0tRowY8Vyj5ze0LJ0+fRr37t2DSCRCr169OEv5W8+ePcHn81nnKVdjryV8Ph/Lly9H3759UVBQgOzsbFRXV9f5G9nY49sQdnZ2mDZtGvT19XH37l1UVFTA2toas2bNwuTJk7F48WLY2Njg7t27kEqlMDQ0hLu7u9b7jdr3E+bm5igsLERGRgYKCwthbm4Ob29vbNq0SePBvZubG1asWIH+/fvD0NAQ+fn5yMrKgkgkgq+vb53b1JT7IzExEYWFhTAxMdFYP/Ji/OuCYx8fH/Ts2RMVFRW4cOECN7lJqZ9sAcD9+/eZi11DiEQizJkzB46OjuDxeCgrK8PRo0cRGBiITZs24datW1CpVBAKhRg7diyGDh3KXQRQ81S0tLQUu3btwrJly3D16lWoVCrweDw4OjoyzRCvXr2KyspKAEDXrl1ZJ6mNjQ0cHR2Bmqdc586dA2reherp6QmBQIDi4mLs2LED7u7uWLNmDQoKCsDj8dCnTx988MEHzLLU1KNznz17Fr6+vnB1dcXy5cuxZ88eBAYG4tq1a0zeuLg4BAYGIigoCCdPnsTYsWPh4uICPp+PsrIy7N69G15eXvD19cWPP/6Ihw8fsr5Lm++++w6BgYHIyckBamqlIyMjERgYiBUrViA1NRV2dnaYMWMGc1NWVFSEgwcPIjAwELt27UJeXh5UKhVMTU3xwQcf4GmvB1MfTwcHB6hUKmRkZGDDhg1MTcXz7EsjIyP069cPaWlpWL16Nb7//nvmCaSBgQHc3d2Zm9cxY8agQ4cOAIA7d+5g8eLFcHV1xRdffIEzZ840uOakIRpa9l70sdCmVatW6N69O+Lj47Fs2TLs27cPjx8/BgC0bNkS7777LneW52JmZgaxWIzjx49j2bJlSEhIgFKpBADY29tjwoQJzL7btGkTc+3g8/lwcXFhzkfUjKSs/vvWrVuYN28evLy88Ouvv6KyshJCoRAjR47UetNtZmYGc3Nz/Prrr/Dy8kL//v3rrKVFTTn++uuv0aVLF/BqarxOnz6NZcuWYdmyZThx4gSz316U+/fvM/9X39w3RTnv1asXLCwsIJPJkJWVxUp777334OzsjNLSUqxcuRI+Pj7w9fXFoEGDsHnzZqYsA4C/vz9GjBgBAIiOjsbw4cPh6+sLX19fjB07FgkJCdDX13/qdVwtISEBkyZNwt69e1FZWYnKykrs3bsXfn5+mDRpksbgeP369cPNmzfh6+uLCRMmwMvLCwcPHoRCoUDHjh0xaNAgJq96fAyhUIjY2FiMHDmSmefAgQNQKpUYNGgQs45XrlxBeXk5rKystI5y+9Zbb4HP5+PmzZv1/vaNGjUKvr6+EAqFSEhIYAbR9PHxwdSpU3Hp0iVUVVUx+R8+fIitW7finXfeYfbl9OnTkZubi9atW2s9X/X19dGvXz+cOXMG3t7e8PPzg7e3N86cOQMAcHV1xcCBA7mz1Ul9LqampmLs2LHw9fWFj48PPvvsM2RlZcHExARjxoxhPTiYOXMmHB0dUVBQgPnz52P06NHMumdmZsLKygp+fn6s76lPnz59kJeXh6lTpzLl8KOPPsLVq1chEAgwfPhwrdfDVq1awcrKCuHh4XB3d2fO/drloPaxmDBhAkaOHInffvsN1dXV8PDwgL+/P7M8FxcXTJ48GWZmZkhPT0dAQACzfWPHjsXJkydRXl4O1Ko9t7a2RmZmJrPuPj4+WLhwIQoKCuDg4IAJEyYANfcgHh4e0NfXR1RUFLy8vODn54dhw4Zh9uzZSElJYdbD09MTJiYmSExMZI6zl5cXAgICWA9pGlveUXP8OnfujIcPHyIoKAheXl7Mfjl69CjEz9hNrzFlKTs7Gzdv3gRqgmBuQDVkyBDY2tqivLwcV65cYaXV1thribW1NUxNTbFw4ULWsXr48CFatmwJd3d3Jm9jj29Dde/eHXFxccz93oIFCyCVSmFqaooPP/wQlZWVWLBgAXx9feHl5YWYmBhUV1eje/fuGDJkCLOc2uuXm5uL+fPnM2XKy8sL69atQ3FxMTp37sway0I9n5WVFbKysjBjxgxWGU9OToalpSWTnztfU+0PmUwGqVQKoVCITp06cZPJC/CvCo5HjRqFKVOmwMjICHFxcVqbzDQldY0QakaobgxPT084OzuDx+OhtLQUW7duRVBQEGJiYhAWFoaAgAD88ccfAABTU9M6+9oVFhZi7dq1CAkJQXR0NFatWoX8/HwAQIsWLZh3mCYnJzNBpaWlJav2uF+/fmjVqhUA4N69ezh//jxsbGwwbNgwGBgYQC6XY/fu3di9ezdkMhkOHz6MiIgIVFZWMrUUXDweD9evX0dgYCBrkJvU1FTExMQwgToAPHnyhBmpViKRoFWrVkwts1QqxY4dOyCVSiGRSLBlyxb4+/vX28wkISEBMTExzIA+qAm4YmJicOLECUilUnh6ejJPmqVSKYKCgrB582bExMQgJCQEX375JXJzcwEAVlZWzA2wNvPmzUOfPn3A4/GQmZmJJUuWMNvdFPvyypUr+PzzzxEZGYn9+/fj4MGDzI2IWCxmnmjXHv372rVriI2NBWr2x7x58/DVV1/VWvLzaWjZe9HHoi6nTp3C3LlzER0djeDgYMTExDABa8eOHTVuQp5XXFwcli5diujoaHz99dfIzMwEam6UKioqEBISgpCQEISFhWHXrl1M0GlmZsb8II4dOxY9e/YEj8dDbm4ulixZgjNnzkBa00xcfdPYqlUrDBgwoNa3/43H4+HcuXNYuXKl1uZjXOPHj2eOW2lpKbZs2YL58+cjOjoa0dHRWLRoEaulwougPka1NUU5t7S0hFAoREVFBYqLi1lp5ubm0NfXR1lZGev6BQARERGsJtJDhgyBUChEcnIyli1bxgrMpVIpNm7ciNzcXI0bzKYglUqxbds21rH99ddf8eDBAwiFQlaZHjZsGExNTXH9+nWsWrWKtZ67d+9mbtLVtVUxMTHIzs6GoaEhevfuzeRFzbLatWvHepj6NCNHjkTLli1x/fp1fP3116z1TUtLw7x583DixAmg5jfC399f4/c7LS0N6enp0NPT03rDqP7Nqb1tMpkMR48eRXFxMYyNjdGtWzfubHVSN+ncuHEja30vX76MiIgIyOVy2NjYMA8OhgwZgjfeeAPl5eU4cOAA4uPjmXnS0tIQGxsLhUIBe3t71sOv+jx+/Bjff/89q4ZQIpFg3759KCoqQuvWrbWWqxYtWuDkyZNYv34961iry0FmZqbGsZDJZFi2bBn+/PNPCIVC1jVlzJgxEIvFyM3NRVBQEGt9pFIpAgMDmWM2duxY2NnZoaioCLt27WLljY+Px/nz58Hj8ZigXiwWw8DAgGnWXdvFixdZ48sYGxujuroa+fn5rO1KS0tjPfhrbHlXHz+FQoGIiAgcP36cyS+TybBhw4ZnbonY2LJ07tw5lJaWQiwWa9wTuLi4wMTEBNnZ2Q3qqtFQVVVV+Pnnn1nlNj4+Hv/73/8AgHkYiWc4vg2Vl5eHPXv2MH8nJCQgKSkJKpUKenp6iI6OZgX1x48fR1FREUQiEavVgHr9Hj9+jB07drC2CQAiIyMRHR0NpVKJHj16MK99rT3f7t27cfnyZWYeqVSK7777jrnHqa059seDBw+gp6fHjGlEXqx/TXA8e/ZszJkzBy1btsSZM2dYzVlfRV26dGH6pf3xxx8a79aUyWS4cOECE0Ta2Nhobdp248YN1sVCIpEwJy+fz2eafaenp+P69etQqVQazXXUTaqrqqqQlJQEmUyG7t27MwHzgwcPEB0dzeRHzfeqb+bbtm2r0fxHoVDg8uXLDarB4bpz5w7zKpeOHTti165dGDx4MDfbc+vatSv09fVRXV2N8+fPazxJlUgkSE5ORnV1NfT09DSabKm5uLjAw8MDfD4fUqkUwcHBrBvq592XFRUVuHjxImtf3rp1i5lHKBQy/VvUTaFQ0xR76dKlzdYsp6FlryGa6ljUpbS0VOMH8saNG6ioqABqauCftVZAG3U/IzVZzRgCarm5uaxzvnYZ4NXqglD7OnHt2jWNQO3mzZtQKBTg8/mwt7dnpaGmz2tSUhJ3cp369OkDAwMDqFQqXLx4UeO69DKYm5tzJzVJOTcwMIBAIEBZWZnGw7asrCzIZDK0adMGs2bNqrM55cCBA9GmTRvI5XIkJiZyk4GadVW3lGnsOtYnIyNDo1lldnY2U9uurmm3sbGBXU0f75SUFI3rskwmw927d1mBp6ymD6dSqdRobdS7d28YGxtDIpEwDybq4uLignbt2qGyshIXLlzQ+O66DB48GEuXLsXevXtx7NgxnDt3Dh4eHtxsjOrqaty6dUtj+ZcvX0ZJSQn4fL7WslQXdRcjbbXiMTExePDgAQwMDJigwcnJCcbGxrh3757GNR4Abt++jSdPnrAefjWERCLRKJ+oCRwkEgn09fVhZWXFTcbjx481+kSry4FSqURqaqrGvlJLTU2FQqFAu3bt0KtXL4hEIqZVVHJyssZ1iKtr164QCoXIzMxkau5rk0gkqKiogIWFBVxcXJCeno7CwkIIhUK8//77GDt2LHcWRl5eHng8Hjw8PPDJJ59ovS96lvLeuXNniGrGadDWTUAmk2l0v2ioxpYldUUB98GUSCSCk5MTqqurmXu1pvLw4UMkJydzJyM3NxcKhQJ6enrMvm7s8W0oba1QpFIpqqqqUFJSgqtXr7LS0tLSUFZWBtQ8gFBTr9+dO3fqvD4lJSXh0aNHMDExYR5W2draPnU+iUTCasmk1hz7o7CwEAqFolHXLNJ0XvvgWCwWY/PmzfD19UV1dTVCQ0OxcOHCJr1o1OXBgwfM/1u1aqX1Il2XDh06MDUfdTUTVl8UUHNR1Pa0uaioiDupTupmcjwej+lHZmNjg65duwI1Aw6ob6Q7deoEoVDI/D8+Ph4pKSnMZ+vWrazmJdz+xIqawYKeRWxsLM6dOwelUgk+n4/evXtjzZo1+P333zFjxoxG7eenUQdD6gEatCmqGfkcADMQVm1CoRDDhw+HgYEBysrKsGfPHo3A7nn3pVKprLOMcEVERCAzMxMqlQrGxsYYOXIkwsLC8OOPP2ptGvk86tpnz6IpjsXTaKsdbE7avq92DWhpaSkrLTs7m3kQVvtmt/Z14r333mOVm5SUFEyaNInVf52rtLRU65PuuqiPQ1VVlcZNysvy/+3deVxU1f8/8NcwwzaAgMjIoigjaPIRtQRTMbdUFA0tTIwWykRJy0TDJSUjcTeXckHJlEwNg0TLFTdSEEU+LnzCEhgEERBEVgeY9ffHd+b+mDsDsivxfj4ePMq5987ce+6555791K60UKe5rR3Pz549i9OnT0Mmk8HNzQ07duxAVFQU3n33XY39zMzMYGhoiOrqauTn52tsq02dlhsZGbVoD4W6nhV1T6auXbsCtVrm9PX1MWvWLK14lJycrLPLtzoDKRAImJlTHRwc4ObmBplMppXW6SIQCGBqaoqnT58iMzOTvVmLUCjEjz/+iPXr1+ONN97Af/7zH5iZmeHJkyf19n6Qy+Va4yihKtSoK9UMDAzYm+skk8lQXFzM/hio9Z21KwFNTU3B5XIhFAq10vjk5GRs3ry5SRnd2vkMNvV91vW9ZWVlGi1fqBUPJBJJvenCgwcPIJVKoa+vzxQeTE1NUVNT88yCMWqdj3riIvZfcHCwRs87sViMw4cPo7CwEPb29kxPguXLl2tVWh48eBBZWVkwNzdHYGAgTpw4gbVr12q0yjUlvltZWUFfXx9Pnjxp8bSvsXEJqgoKmUwGFxcXJs3w8vKCg4MDioqKtCp7m6u6ulpny7i6ErJ2HrSx97eh1I0iuigUCq1eROqwY1Ofn66CrNqNGzdQWVkJPT09mJiYALXSy/qO06U1wkPXdZG2064Lx4MGDcL333+PoUOHIjs7G1988QV27drF3q3VFBQUMF1Fra2ttRLbF426mxxUXQpfe+01DB48mHn5pKen66yhfh5CQ0PxzTffIC0tDVKpFBwOB1ZWVvD398fOnTtbvAWmqaRSKVNwNTY2blS3mdYgEokQEBCAyMhI5OfnQ6lUgsvlok+fPlixYkWTJqUh5HlRd9+FKuP0119/AW0Uzzdt2oRPPvkE586dQ1VVFYRCIT7//HPs379fK/2Ry+UaQ0XqIpPJGlzR1RpqT8pT1596+AJUGcj09HQYGxvj1VdfBQDmnVFcXKxV+KpPQ8MoKCgI/fr1Q35+PrZv345Ro0ZhxIgRmDp1aqN6QbQFpVKplYktLS3VCtPaf7omQ2oudqEBqsx1fY0E6mE59dF1zxpynNqjR4+0rr/23/3795lzPHXqFN5++23s378fBQUFsLCwwNSpU/Hzzz9rTAaVkpICX19fbNu2DSKRCMbGxhg7diy2b9+O2bNn1/r1xsd3AFrX21bYcSkxMRGPHz+GtbU1M3fAyy+/DCMjI4hEIq0eI89DY+7v89CQe6lQKJgeZGoNOU6XFz08SMO128KxUCjEokWL0KNHD1y9ehUfffRRo17ULUGdeEHVgjB9+nStTFNdatcG6xrgD9Xn6tag8vLyZhdcxWIx/ve//0GhUMDU1BQDBgxgEtuqqiqNCczy8/OZVmuRSAR3d/c6/yZNmtTsc9Pl5MmT8Pf3x3vvvYeYmBiIxWJwOBz07du33m5XDfXkyRNA1eKmq+YdqvHe6nugq9VCoVDg9OnTKC8vB5fLxYQJE7Rm+WzrsBSLxdixYwe8vb0RFBSEGzduQC6XQ19fH6NHj9aYuOJF0RL3oqVUVVUxmZTaXcnUjI2NNbpwtaba6cSxY8e04kvtv7pmrW0MdRe1+u5DW+Hz+Xj77beZ5VTu37+vMcauufFcLpczaSF7KINaamoqli1bhkmTJiEiIgJPnz6Fi4sLM/O0RCKBVCqFiYkJevTowT6cIRAIwOPxUF1d/VwyR2KxGDKZDEqlEmfPnoWfn1+df2vWrNE49sqVK6iqqoKTkxNcXFwwdOhQGBkZIbWemXJra2gYQTVJmlAohEQiQUxMDCIjIzXCqy3jpJ6eXp2tPW5ubjA1NYVMJkNRURGguk6FQoHHjx9rhWntP12TIdWnrnPg8/mwsrKCUqmst9dCbep4YGBgUG9eRb18okQiQUVFRYOPU1O3AGZlZWldf+2/efPmabRW1n6mlyxZgvv378PS0hIzZ87U6jl38OBB+Pr6Yt68ebh9+zaMjY3x9ttvY/To0U2K7wqFAkqlEl26dNFK89V09c5piMbGJdSaMd7AwAADBgyAi4sLM+t2a082+yxNvb9tRX1+9fXSUYe7QqHA06dPgVqVTDY2Nqy9/z91T67aWiM8rK2toa+vX29rOmk9bZPDawXTp09Hr169mAk+nkeGIzU1FVeuXGEeKCcnJ6xatQpDhw5l7wqBQIDVq1dj4cKFgOohUtdW9evXT2uCIT6fjxEjRsDQ0BBK1dIgLSEhIQFlZWXQ09PDgAED0KdPH3A4HOTn52tkPLOysphuoba2tg2eZa81iEQirFu3jhkHVHucUHNkZWVBoepuN3ToUK2xIEKhEEOGDIGenh5kMhkzgyTb/fv3ERMTA4lEAi6Xi/Hjx2sUVJ5nWCYkJGDRokXMJCd8Pl/n2NTnraXuRUt49OgR0yOkc+fOGjPc8vl8vPLKK03OJDVWdnY2U4v9yiuvNChj2hzp6enMfXjttdeYiUramqurK3bt2oX+/fsDqu7hx44dqzOdb0o8Ly4uhlgsZrqO1kcsFmPPnj24dOkSOBwOU8hLTExEQUEBjI2NMWzYMPZhQK3VAJRKJdPy3dbS0tJQqFrm6T//+Q97c71OnjyJ/Px8dOnSBaNGjYKzs3ODJ+JCrWVJ6gsjNTs7O5iamuocSiIUChs910BzcLncOpexGj58ODp37oyKigoms6seVygQCOqcQLMp+vbtq/O59/b2hq2tLapV60Q3RFpaGrKyssBVzZ6s69qgmodEX18fWVlZSEtLQ1paGh4+fPjM49SysrIgk8nQo0ePJvemunjxIg4cOICqqipYWlrW+c5PSUlBREQEiouLYWJigt69ezcpvmdkZKC6uhpdu3bVWrYIqvinaxnMhmhsXFJTjyt2dnbGqFGj0KVLlxafiKspWuL+tqbU1FRIJBL07Nmzzmdx0KBBsLS0xJMnT5hZvzMzMyGXy9GrVy+d89yMHj1a53ulNcLD0tISSqWyzu74pHW1y8Ixn8/Hyy+/DLlc3qhJn7Zt24akpCSsXbuWvanJtm/fjpSUFChVS9j07t0bW7ZswdGjR7FhwwaEhYXhwIEDiI6Oxvjx45nEMTo6minwmpubY9GiRfjqq6/g5eUFPz8/REREMBnDwsJCHD16VON3m+ry5cvMWGB7e3t07doVCoUCN2/e1AjH1NRUpKSkQKFQwNjYGHPmzMHKlSsxZswY2Nvbw8vLC9988w1+++23OhOf+tSuDXvllVeYKe8/+OADBAQE4Oeff8asWbOYTIGnpyf69esHqGp4GzoxhrpgoZ4J2tvbG6tXr8bYsWNx6tQppsbdzs4OoaGhWLBgAby8vBAQEIDNmzczE2SIRCKdk6yo7dy5E3FxcZDL5TAwMMC0adPgo1q3sLXDsrZNmzZhx44dmDx5Mvh8PgQCAT744AOmd4JYLG7QuL/W0Fb3ornu3r3LvJA6deqE2bNnw8/PDz4+Pti+fTt69+7NjPVrbRcuXGCGQnTr1g2bN29GQEAA3FTLPfn5+WHXrl0as7k2x4kTJ5j7IBAIEBoayqRL3t7eWL9+PX744Qf2YU2mrqQLDQ1FaGgoVq9ejaioKOzevRsuqmXuxGIxfvnlF43JwVoint+4cQPl5eXgs2Y6BYAPPvhA52Q/6n+rJ08Ti8WIj4+HRCLB4MGDERISonGMQCDAwoUL4ejoiKKiIpw7d47ZVp/CwkJUVlY2uKWuIa5cuYKamhq4u7tj6dKlWtemniGaXTElFotx8+ZN8Hg8DBs2DJ07d65zwhpdxGIxzp07V2cYubq6YtOmTfD09EReXh4qKythZGSkUcksEAgQHBzMdLFvKy4uLli0aJHG+c6YMQPe3t7gcrlISUlhWoFPnjyJ+/fvo1OnTpg1a5ZWJbmrqyt27NiBxYsXa3z+LHZ2dpg/f77G2NuRI0fi/fffh7GxMe7du9eowtKFCxdQXl4OJycnrFmzRuN7+Xw+QkJCMHDgQJSXl2tMTKXuIaXrOIFAgG+++QYfffQRoJqh99GjR7CxscH8+fO1CgxDhw7F3r17mZnvPTw8EBwcrBXXTU1NweFwUF1djbKyMri4uGDJkiVaE+SZmJiAx+NBVmtsb2Pje1JSEh4+fAhjY2P4+vpqzADeEvGvMXFJ7fz588jNzUXnzp0xbNgwcLnceidS06U10pLG3t+2duHCBeZZDAwM1JrNXb3Mkp6eHpKTk5keMFeuXEFxcTEsLCzw4YcfalyXq6srZs+erXP26NYID/UkhrW7/a9YsQJXr15FRESEVnwmLUtz5p92Qj05BI/Hg5+fX70tcSkpKVi4cCHc3Nzg5OTE1OANGDBAY63dphKLxQgODkZISAhGjx4NLpcLLpeLbt26aUx9zyYWi7Ft2zYsXrwYjo6OMDc3xxtvvIE33nhDYz/11PDN7Wpb240bN/Cf//yHmYTgyZMnuHz5Mns3HDhwAI6Ojkx4T548GZMnT9bYRywWN6kV7c6dO3j11VdhaGiI7t27Y+nSpZBKpcxSEEKhEH369MGcOXPYhyIzMxPR0dHsj3VKTU2Fs7MzuFwu+vfvj/79+0MsFiMhIQGpqqUfPv30UwgEAggEAq0Jd6CanGTnzp3PnKRjw4YNsLa2hru7O8zMzDBz5kwUFBQgISGhVcOyNj6fD3d3dwwePFire7dcLseVK1canEFvaW15L5ojJycHV65cgZ2dHfT19eHg4ICgoCBAFYZ3795Fnz59mImwWlNOTg4OHz6MTz/9FJaWlrC3t9caVwdVhUFLSE1NxY8//sj8nq50qaV+C6oWFXd3d/bHgGoMXl5eHvbt24djx45pbGupeC4SieDk5MRMSqjm4OCAKVOm4MMPP0RhYSGkUimsra1hZmaGiooKnD59mtk3IiICdnZ2mDhxIry9vTFu3Djk5+eDx+PBxsYGBgYGKCsrw759+xqcjt+4cQN5eXkQCATw8/Nj3i27du1qcKGULTIyEo6OjpgwYQJ8fHzg5eXFVIR07doVfD4fRUVFzBCQ2i5fvozRo0ejT58+kMlk9a6vqgs7jMaPH88MjbC1tYVUKsWFCxdw69YtJCcnY8KECfD09MSrr76KkpIS2NragsvlIi0tTSvj2VqkUin++ecfTJo0CaNGjUJRURHMzMxgZWUFPT09pKena1QUicVi7N69G19++SV69uyJLVu2oLi4GGVlZTA3N2eOe/jwocbvPEtaWhrc3d0RHR2N/Px8GBoawsbGBlwuF/n5+di3b1+jCkvHjx+HnZ0d3nvvPXh4eODo0aMoKCiATCaDra0tjI2NUVNTg19//VWjEpJ9XGxsLAoLC1FTUwM7OztwuVzm/Z2amooDBw5g3rx5GDhwICIiIlBQUACxWAwrKyuYm5tDoZpxGaoGgsmTJ8PHx0crzKBazikhIQFubm4YMWIE3nzzTZSVlaG4uBh8Ph82NjZMQUddUdDY+J6Tk4Po6Gh88skn6NatG9avX4+CggLU1NTA1tYWenp6+Ouvv5hGi8ZobFxSE6tmjO/Vqxf69OmDJ0+eILnWms8N0RppSWPvb1vLycnBzp07sWTJEuZequNVly5dYGFhAQC4du0avv32W+a4Gzdu4Pfff8d7770HFxcXhIeHM5Nz2djYoKqqCpmZmXB2dmaOQSuEx2uvvQYrKyuUlZVp9CZwdXUFj8dDr169MHz4cGb5O9Ly2mXLsRqHw4GRkRH4fH6df+plUNLS0iASiSCXy/H333+3SMFYTSwWY9myZVi2bBmSkpJQWlrKdLVWKpWorq5GdnY2Dhw4gD179jDHpaSk4LPPPsOxY8fw+PFj5hi5XI7S0lKcO3cOixYtavFWstpjpaFKSNg1llBlHOfOnYvDhw8jPz9f5zUdOXIEly5dYh/6TJGRkYiJiUFZWRmUSiWUSiWePn2K0tJSiEQiZGZmoqqqimmhU3ezi42NxYIFCxqcQd++fTvi4uKYlmqlUomysjJmQpRTp05h6dKlOHfunMZ9q/17gYGBOsOHTaxaC1G9nq1AIMCiRYvg4eHRqmFZ219//YX8/HymWzBUMyeLRCJ8//33+PrrrzX2b0tteS+aa+vWrYiKikJxcTETP8vKyhAdHY1r166xd29Vx48fx6JFi3DlyhXmeYEqXCoqKnDnzh2tNWGbQ/17586d0/q9/Pz8Opcsagnqa0pNTcXmzZsxdepUrYIxWjCe37x5E1VVVVpLFf31118QiUTgcDjMsjBcLhe3b9/G8uXLtZa4Cg0Nxffffw+RamkdoVCI7t27M3M5BAUFaR3zLOHh4bh79y709PTQvXt3Zpbh5vj666+xa9cuPHz4kGlJcnR0hFKpRHJyMsLCwrSWS4Gq27q6Jb6pM+XWDiMulwsHBwfY29ujrKwMZ8+eZSoONmzYgNOnT6OiogIWFhbo0aMHSkpKsHPnzgan+y3l2rVriI6OhlKphFAohLW1NSorK3H69GkEBQVpnU9CQgKWLl2KxMREVFdXw9raGs7OzrC0tERBQQEiIyOxdetWjWOeRSQSYc+ePaisrISjoyPs7OxQXV2NxMRELF++vEnpYXh4ONasWYO0tDQoFAo4ODjA0dERCoUCt27dQnBwMMLDw9mHaRwnl8thb28PR0dH1NTUID4+XiNtiImJwfLly5GamgqpVAp7e3s4OzvDxMQE2dnZ2LFjByIiIgBVpeedO3dQVVWlEWa5ubnYtWsX8zwXFhbi1q1bqKiogLm5OZydnWFjY4PCwkIcPnwYwcHBGhUFjY3vMTExCAkJQWpqKnN9PXr0wMOHD7Fx40ZkZWUx+zZWY+OSmnrGeOhYPrGhWiMtacz9fR4SEhKwfPlynDt3DpWVlUy8MjU1RU5ODnbs2IHPPvtMq2IpPDwcGzduREZGBpNO2djY4J9//kFISIjWKhRqLRkegwYNQqdOnZCXl6dRoZqWlgaZTIYHDx4893Hn/3YcR0fHtukfSAghhLxA+Hw+9uzZA0dHR0RERGD//v3sXYjKzp074ebmhri4uBaZDZzUb+fOnXB3d8exY8cQFhbG3kw6CDc3N4SGhsLMzAzfffddg3vNkfaJ3kkvhnbdckwIIYQ0lVgsRlxcHJRKJcaOHUvjuOrg4eGBXr16Md08CSFtY8iQIejcubPWpKnk3+n999+HUChEZmYmjhw5wt5M2ggVjgkhhHRYv/76K1JTU9GrVy+d47nJ/42Bs7CwQG5uLs6fP8/eTAhpBXw+n1mlgT1pKvn3cXV1xcSJE1FdXV3v6gyk9VHhmBBCSIclFovx888/48mTJ/D29mZmmSf/x8PDA6+99hqkUini4uIow0ZIG/nwww/h6OiI/Px8nDhxgr2Z/Ivw+XwEBgbCxsYGf/75Z6PnqCAti8YcE0IIIUTDtm3b4OjoCEtLSxgaGiI5OVlrwiPSemjMccfk5uaGxYsXw9jYGNbW1pDL5Th48CB27tzJ3pUQ0kqo5ZgQQgghGvT09GBrawuo1vEMDQ2lgjEhrUwmk8HExARdu3ZFeXk59u/fTwVjQtoYtRwTQgghhBBCCOnwqOWYEEIIIYQQQkiHR4VjQgghhBBCCCEdHhWOCSGEEEIIIYR0eFQ4JoQQQgghhBDS4VHhmBBCCCGEEEJIh0eFY0IIIYQQQgghHR4VjgkhhBBCCCGEdHhUOCaEEEIIIYQQ0uFR4ZgQQgghhBBCSIdHhWNCCCGEEEIIIR0eFY4JIYQQQgghhHR4VDgmhBBCCCGEENLhUeGYEEIIIYQQQkiHR4VjQgghhBBCCCEdHhWOCSGEEEIIIYR0eFQ4JoQQQgghhBDS4VHhmBBCCCGEEEJIh0eFY0IIIYQQQgghHR4VjgkhhBBCCCGEdHhUOCaEEEIIIYQQ0uFR4ZgQQgghhBBCSIdHhWNCCCGEEEIIIR0eFY4JIYQQQgghhHR4VDgmhBBCCCGEENLhUeGYEEIIIYQQQkiHx3F0dFSyPySEENJ85ubmMDU1hYGBAXtThyCRSFBZWYmysjL2JkI6HEoPKD0ghLz4qHBMCCEtjMfjoWvXrh02E8wmkUjw6NEjyGQy9iZC/vUoPdBE6QEh5EVG3aoJIaSFUUZYk4GBAbp27cr+mJAOgdIDTZQeEEJeZFQ4JoSQFmRubk4ZYR0MDAxgbm7O/piQfzVKD3Sj9IAQ8qKiwvELzM3NDSdOnEBiYiLmzJnD3lynph7XUaxYsQJJSUlISEjA3Llz2ZsbZefOnUhOTkZycjJWrFjB3tym1Pc9OTkZ8fHx8PLyYu/S7kVFRTU4Xs+ZMweJiYmIiopib2pVpqam7I+ICoVN23pez8C/nTrd37lzJ3uTForzdaOwIc1FaRxpDe22cMzn8zFv3jzExsYiKSkJycnJSEpKwqlTpxAUFAQ+n88+pE14enri/PnzSE5OxtatW9mbyQvA1dUVXC4XBgYG6NevH3szaWcCAgJw5coVxMXFwdvbm725zVErUd0aEzZ8Ph87duzAlStXml2JRV4M6nualJSEkJAQ9uZ/pcbE+Y6msWEzd+5cXLlyBTt27HhueTxCnuXrr79GUlISvv/+e/Ym0k6028Lx+++/j3fffRc2NjYoLi5GZmYmKisrYWVlhXfeeQcbN258LonniBEjYGZmBgBwdnaGm5sbexfynKWkpEAikaCqqgp37txhb251AoEA8+bNw8GDB3H06FGKI4TosGjRIgwaNAg3b95sUAsd20cffYSoqChs27aNvanVBAUF4fjx41i+fDl7U71cXV2xceNG/PHHH//KHh9qYrEY4eHhKCgowKhRo16IyizSPnh7e8PHxwelpaXYt28fxGIxexei8qKmJ01NH9ubDRs24N69e3jllVcQEBDA3kzagXZbOFYoFLhx4wYCAgIwadIkzJgxA2PHjsWBAwcglUoxYMAATJs2jX1Yq3JwcECfPn1QU1OD0tJSdO7cGUOGDGHvRp6zDRs2wMPDAyNGjEB4eDh7c6tzc3PD9OnT0bt370bXnBNtERERGD58OMaNG4fjx4+zN5N2aPTo0Xjttdfw5MkT/PLLL+zNDeLu7g6hUAh9fX32plYzZMgQ2NragsPhsDfVq3v37hg8eDBTsfpvlpqailOnTsHY2Bje3t7PpRKbtC98Ph/e3t4wNjbGqVOncOPGDfYupJYXNT1pavrY3ojFYvz222+oqanBxIkTIRQK2buQF1y7LRxHRERg/vz5SE1N1fh87969yMvLg6GhIRwcHDS2tbYxY8bA1tYWJSUluHXrFng8HoYMGUIvf0KIlhEjRiAyMhJHjhxh/iIjIzFixAj2ri+UzZs3a5zzkSNHWryL7Lhx42Bubo6bN28iISGBvZm0c6dOnUJeXh569+5Nrccq7TU9CAkJ0UoPNm/ezN6tWby9vdG7d2/k5eXh999/Z28m5IUTGxuLzMxM2NraUhrXDrXbwnFdxGIxFAoFFAoFJBIJe3OrGjx4MAwMDJCeno5r166hqqoKtra2eO2119i7EkII0cHNzQ0DBgxARUUFLl68yN5M/gVycnJw/fp1GBoaUu8q8kwjRoyAoaEhrl+/jpycHPZmQl5Ily9fhlwuh5ubGzWStTMcR0dHJfvD9mz06NFYtmwZuFwuNmzYgDNnzrB3aRUeHh746quvYGxsjO3bt+OPP/7Avn374OjoiLi4uHrHWEyZMgUzZsxAjx49oK+vD7lcjqysLPz+++949913YWlpicjISOzevbvZxwkEAnz66acYNmwYOnXqBA6HA6lUCpFIhK1btzaou5KXlxd8fX0hFAphZGQEAKipqUFubi6+//57JCQkwMvLC0uWLAGfz0dhYSHCwsLg4eGBCRMmoFOnTgCAsrIynDlzBjt37tQ5fkjX9ZWUlODs2bPYvXu3zmPeffddeHt7w97eHoaGhgCA6upq/PXXX1izZg1ycnKwc+dOuLu7AwCOHTuGsLAw5nhXV1fMmDEDbm5uMDc3B5fLhVKphFgsxq1bt/Ddd99BJBIx+9f3XWy1w0QXkUgEX19f5t9Dhw6Fn58f+vbty9wruVyOwsJCXLx4USsM3NzcEBoaCoFAALFYjPXr1+PkyZMAgPHjx2Px4sUwNzeHXC7H6dOn8fXXXwOqLmtz5szB+PHjYWlpCS6XC6lUiuzsbPzyyy84duwY8xvs+7pmzRp4enrCw8MDZmZmUCgUePjwIX766SeN46AKWz8/P7i7u2tcT1lZGWJiYrBnzx6N/XWJiopC9+7dNeK1+pwqKyuxcuVKJg7PmTMH/v7+ePDggUa4CoVChIWFwdnZmbmG2q2T6njn6OgILpfLPFfssKiLo6Mj+yOdRowYgY8//hjFxcVYuHAhe7OWMWPGwMvLC7a2ttDX14dCoUBZWRkSExNx5MgRVFVVAQACAwMxZswYpKamYtWqVeyv0TJgwABMnz4d3bt3Z56ZsrIypKSkIDo6GsXFxexDGI39LQDIyspif6RBfd/u3r2Ljz/+mL1ZK11QKpUoLy/H6dOnsWnTJo1nki05OZmZ3EsoFMLPzw8eHh5MvJfL5Xj06BF+++03REZGahyr/t5jx44x59alSxcUFBRAqVTCzs5OY3+1+tKF+tIE9jPM5/Px0UcfYdy4cbCxsWHSpvLyciQnJ+PQoUNaPama8gyo0wNPT0907twZHA4HVVVVuHnzJn744QeN36j97OlKCx49eoQjR47g4MGDzDFqY8eOxdKlS1FTU6Px3NZHIBBgxowZGDNmDAQCAXP/nzx5gjNnzmilibWvPywsDLNmzcLLL78MY2Nj5rn+6aefcOrUKY3fgSq9mjVrFgYMGMDcnydPnuDUqVPo06cP3N3dNeJTXVojPWjMM7t582Z069at1tH/X1VVFfbu3Ys///wTULUCu7q6auwjl8tRXl6ulc7o4uvriylTpqCgoOCZ16D2rPRA/V7T19fHqlWrcPnyZY3tQ4cORUBAAJydnWFkZMS8r5OSkrB06VKNfdX5H3UcBYCKigokJCRg+/btKCwsZPatHXc+++wzrePqinMAMHXqVLz55ptwdHSEkZFRo56ht99+G4MHDwaPx8Nvv/2GdevWNTitakx6gjryctXV1RCJRIiKitLYFzqep6CgILi4uEAmk2H//v344YcfNPZXi4qKqrNrMTt9bM45NTSNQyPf87XzHdXV1XjrrbfQtWtX6OnpoaKiApcvX8aGDRu04oGLiwvWrl0Lc3NzfPvtt9TroR3517Qcu7i4YMGCBVi2bBlMTU1x4cKFNisYQ1U4trCwQGFhIZKSkiAWi3Hz5k0olUq4uLjU2cU7MDAQwcHBcHJygkwmg0gkQkFBARwdHTFz5kwmcWBrynFCoRBbt27FxIkTYWhoiKysLOTk5EAul6N79+4QCATsQ7QsXboUK1asgIuLi8ZvGBoawtbWVue6hRwOB7NmzcL06dNhbm4ODocDDocDCwsLTJ8+HevXr9dKzJcvX44lS5bAycmJGTPI5XLRpUsXvPPOO1rH8Pl8fP/99/j8888hFAqZDAMAGBkZNfj6vvzyS4wfPx6dO3cGl8sFVOdvYmICDw8PhIWF1ZnIt6TZs2dj3bp1GDJkCBNmUIWBra0t3nnnHURERDToXIRCIT788EOYm5tDqVQiJSUFGzZsYLbt3LkT77zzDrp06cJcs76+PpycnBAcHIzAwEDWN/4fDoeDmTNnMhUeHA4HXC4XDg4OmD9/vkZXIi8vL2zatAljx47Vup7OnTs36N60BKFQiGXLlsHJyQmFhYXYsGGDxgtTHe969eqF8vJypKeno6KiAr169UJwcPBzm1xj3rx5CAgIgIODA/M86OnpwdLSEmPGjKmzMPgsb775JhYuXMhkLGs/m6+//jrefvtt9iGtrnfv3uDxeMjMzGRvwty5c7F48WL06tULJSUlSE9PR0lJCUxNTZlnITc3F+np6SgtLQUAlJaWIj09Henp6cjNzWW+64svvsCUKVNgaWmJgoIC5l7b2tpi9uzZdd5rc3NzfPLJJ7C2tmbifGFhIdLT0/H06VMAwKNHj5jfrJ3hZisrK0NmZibu378PmUwGmUyG+/fvIz09HZmZmSgrKwNqPaf+/v6ws7Nj4mZeXh5MTU0xduxYrF69Gh4eHuyf0FLfM1A7PbCwsEBeXh5EIhE4HA6GDRuGsLAwnRMIqtOC8ePHo6KiAllZWZBKpbCzs8Ps2bMxffp09iFITExEcXExzMzMGpSOQZUuvv/++7CxsWHuf1FRETp37gxfX18sWrSIfQigSmeWLVsGd3d3FBUVIScnBwqFAk5OTpg/fz5Gjx6tsb+HhwdWr16NYcOGwcjICHl5ecjKygKfz4evr2+d7/O20NbPLJfLhaWlJby8vPDFF1/A2NiYvUurcnFxgbm5OYqLi7UKxj4+Pli9ejX69euH6upqJj4YGRlpVUp4eHggPDwcEydOhJGRER48eIAHDx7A2NgYEyZMwObNm3XeVy6Xiy1btmD8+PGorq5GRkYGM6eMrslfvby8EBQUhL59+zINDzk5OeDxeBg2bBiWLl2q83cAwM/PD8OGDYO+vj44HA54PB7QiLSqoekJVO86dV5OqVRCJBJBJBIxedYvv/yy3nd/cHAw1Ct/6OnpMXkHXbKzsxuUPjbnnGqrL41DM97zffv2RUBAAPh8PkQiEcrKymBmZgYvLy+dDWBpaWl4+PAhjIyM0KtXL/Zm8gJr14VjLy8vxMfHIzk5GZGRkZgxYwaKi4uxdu1arF69mr17q+Hz+ejfvz84HA7++ecfptvPjRs3UFFRAYFAgDFjxrAPw/jx4zFt2jTweDxcuHABEyZMgK+vL6ZOnYolS5agoqKCaWVtieO8vb0hFArx6NEjBAUFwdfXFz4+PvD09MRPP/1UbyYOqpfL6NGjoa+vD4lEgtjYWPj6+mLSpEnYuXMnHjx4ALlczj4MnTt3houLC27fvo1169Zh3bp1uHXrFuRyOTgcDl5++WWNF3pAQAC8vLygr6+P0tJShIeHY+TIkVi/fj2KiorA4XAwaNAgvP/++8wxK1aswKuvvgqOqiX8xo0bWLduHVauXImYmBg8fvyY2bc+enp6ePToEQ4ePAh/f3+MHDkS4eHhTEa7Z8+eGDduHPuwBrlx4wZWr16NPXv2MLXvxcXF+Pbbb7Fy5Up89913gOqFP2PGDPD5fCiVSty7dw9btmzBypUr8ccff6CyshIcDgfOzs749NNPWb+iic/nY9GiRXBycoJSqUR6ejq+/fZbpoZTXfMLAPfu3cPixYsxadIkHD16FBKJBIaGhnjjjTd0ZoitrKzQt29fxMfHY9WqVdi/fz/Ky8sBAJ06ddKI82+++SY6d+4MpVKJ27dvY8GCBXB3d8eKFStw8+bNNhkCoQ6LAQMG4PHjx9i+fTvi4+OZ7f7+/pg4cSKUSiUOHDiA8ePHw8/PD1OmTMGZM2fA4/EwadIkrZaV1vb2229j2LBh0NPTQ3Z2Nn744Qf4+/vjk08+weHDh1FQUACFQsE+7JmMjY0xfPhwGBkZ4f79+/juu+8wffp0+Pv744cffkBWVhZkMhn7sFZnZ2cHiUSiUZCFasLDcePGgcfj4dixY5g0aRL8/Pzg6emJoKAgJCcnAwDWrFkDPz8/pKenAwDS09Ph5+cHPz8/rFmzhvk+sViMs2fPwtvbG1OnTmXu9cWLF6Gvr1/nWM9+/fqhsrISYWFhcHd3x6RJkxAQEAA/Pz88evQIAJCUlMT8Zn09IhISEjBz5kzs27cPEokEEokE+/btg5+fH2bOnMlk6D799FO4uLigtLQU69evZ+KmOs3Pzc2Fra0t5syZo1XRWNuzngH17xQVFWHJkiWYOnUqfH19MXfuXGRkZMDW1hZ+fn4a3wlVWtCzZ09s3bpV45jc3Fzw+Xx4enqyD4FYLEZhYSEMDQ3Rs2dP9madJBIJrl+/zkzE6efnh0mTJuHIkSNQKpVwc3Nj0rPaunfvDnNzcyxbtgw+Pj7w8fHBypUrUVJSgi5dumDs2LHMvuqWc1tbW2RlZWHevHnMNU2bNg3Xr19Hly5dNL6/rTT1mZXJZIiJicH06dM1/vz9/ZlW47r2/fbbb/G///0PSqUSffv2bfPxk926dYOBgQHy8vLYm+Dl5QUzMzMkJiZiypQpTHwICAjAhQsXmP3U97R79+7IyMhAYGAgEw+WLVuGoqIiODk5YcaMGRrfD1V61LlzZ2zcuJGJc+PHj0d0dDSkUikGDhyoUfkjl8uRnZ2N1atX4/XXX8eMGTM04luPHj0watQojd8AABMTE7z00kuIi4vDpEmT4O7uzrSoNjStamh6on7XAcDx48eZPKQ6jickJIDH42HatGkYP358rbP8P1ZWVrC1tUVUVBRGjhyJYcOGafVsrG3x4sXPTB+be05qz0rjmvqeV88hdPHiRSauqe8BVBNA6hpCmZubCz09PXTv3p29ibzA2nXhWF1Llp6ejocPH0Imk8HJyQkLFy5EUFAQe/dW4+XlBQcHB6Yrj9q5c+eQlZUFAwMDnTX6np6eMDc3R0ZGBkJDQzW6ZMTHxyMqKkpnF6amHmdqagoul4uSkhKNLmxisRh79+59Zrc2c3NzprW4tLQUZ86cgUgkQmFhIfbt24f33ntPZ2u9np4eLl68iICAAMTExCAmJgaff/45bt68CahanV999VVAlQH29PSEgYEB0+Vr7969EIvFiI6OxpEjRyCRSKCvr4/BgwcDqvBQF4wlEgl+/vlnfPLJJ4iJicHJkyexbt06+Pv7P/P6AODw4cOYPn06tm7dirS0NCZsrly5AqhaVOuq9X2WwsJCnD17Fg8fPoRS+X+jGeRyOTIyMnDy5EnmxTVhwgSYmZlBqVQiOTkZAQEBOHToEE6ePInQ0FDs3r0bVVVV4HA46N+/v0bGjm3x4sUYNGgQOBwOMjIyEBISwnQLnzZtGgYMGAAOh4Pc3FyEhITg4sWLTBckdWHDysoKw4cPZ33z/zl//jyCg4Nx/Phx7NixAydPnmQqSHr06MGElbqyRiaTITk5mbnWM2fOYPbs2UxLdmvh8/lYuXIlBg0axFS4sLtSjh07FgYGBoiPj9dYn1AsFuPIkSMoLCxEly5d8PLLL2sc15qMjY3h5uYGfX193L9/H+vWrcPZs2dRVVWF4uJiHD16FEuWLGHiZ2P06tULJiYmkMvlSElJYb6jqqoKZ8+exZIlS+rsJtdaXFxcwOfzIZfLtSq0BAIBDAwMIJVK8eDBA41tV69exb59+zQ+e5YvvvgCy5cv16gUFIvFSElJQXV1NTp37qyzUkhfXx87d+7U6nrXWsaOHYv+/ftDKpXi0KFDiImJ0dgeHx+PgwcPoqqqCj179oRXHUu3POsZUP9OdXU1Dhw4oJGhTE1NxZkzZyCVStGrVy+tAqhCocDvv/+uMbN4amoq4uPjIZfLYWNjg4EDB2ocA1ULkp6ens4eR7ps2LAB8+bN0+o+fu3aNVRUVMDCwkJnQbumpkbrmuLi4pg0rnbL9bRp0yAUClFeXo69e/ciJSWF2VZYWIjvvvtOZ0GtLTyPZ/batWvYuHEj8vPzwePxYGlpyd6lVVlZWYHD4aCkpIS9CaamplAoFMjLy9PIB6WmpmoU1tT3tKSkBHv27NGIP/Hx8bh8+TI4HI5WgUgtNjZW67nbsGED0tLStPJ3Z86cwQcffKCVPsTFxeHBgwd1ThbL5/Nx+/ZtrTQJzUir6jJ27FhmDPeqVas0wq6wsBCbN29Gbm4uOnXqhJEjR2ocC1VBPi4uDps2bdI4tjmae05oQBqHZrznORwO/ve//2Ht2rXMuYnFYvzxxx8oLS2FqakpXnrpJY1joGoAkclksLCwYG8iL7B2XThW15Kpa9DHjx+PyMhI6Onp4e2338aCBQvYh7SKl19+GUZGRsjNzcX58+c1tt2+fRsymQwODg4aCSifz4eDgwPkcjlu3LihM4HJyMhARUWFxmdNPQ4AHjx4gJqaGvTq1Qtr1qxpcFc2tQcPHjDdcqytrREUFISpU6eyd9NSUVGhkSmBKlG5evUqampqANULEKpuK+r/f/TokdbSPHfv3mVaJ9UZrkGDBjHjgNLS0pq0JqpabGwsXn75ZXz55ZfYt28fTpw4gT///BOTJk1i9mnNzMHAgQOZsYsVFRU4fvy41j0+fvw40zuBz+fD2dlZY7uam5sbxo0bx3T73LFjh8Z46d69ezOVHbdv39bYBgD//PMPpFIpuFyuzi5Buu7r3bt3mXtqYGDAdJfOz88HVAULHx8fzJ8/v826UkNVSTBy5EhUVlZi9+7dWvHqtddeQ9euXZl4yZaamoqioqI6MzatZdCgQejatStqampw8eLFesf/NlZmZiaePn3K1IgPGDCAvUub4/P54PF4qKys1MogpqWlobi4GIaGhnjrrbdaZKk+oVCIoKAg7NixAzExMbh48SIWLlxYb9fR7OxsnD17lv1xq+nXrx9MTU1RWFio0RpW28mTJ5Gfnw8jIyP07t2bvRlowDOg/p38/HytbagVX3QVQJ8+fYr//e9/Gp9BNY+CugeKrtbW4uJiSKXSRqWpAoEAc+bMwZYtWxAVFYXz589j/fr19X5HSUmJzjXtc3NzIZVKwefzmQK/o6MjDA0Ncf/+fZ2VveohTM/D83pmLSwswFWNcW9KL5XmMDY2hlQqRVFREXsTHj58CA6Hg3HjxuHjjz+us9dEnz59YGhoiIyMDJ2T/IlEItTU1OgsZJaUlODatWsan6n997//hVQqRZcuXbTeC1OnTkVYWBgOHDiAM2fO4PLly3UWvqEaV1u7cYWtKWmVLup3XVVVFRITE9mbAdWEebdv3wZYFUdq5eXlOt+TTdUS54QGpHHNec8rFArcu3dPKz+WkpKCsrIyZvgBW35+PmQyGUxNTdmbyAusXReO2cRiMbZv345Tp06By+Vi9OjRWjXcLc3V1RWurq7gcDjo06cP081b/efv7w8ejwcLCwuNLhfqFhKJRNKoWuimHgcAv/76Ky5fvgw9PT2MGzcOP//8MyIjI+tsaWBLTU3FyZMnUVNTAw6Hg969e2P58uU4f/48vvrqqzoLO9XV1Toz9Y8fP2ZaGU1NTeHm5oaePXsy44V79uypFZ7bt2/XyGTxeDx069YNHNUY1uzsbGZbY/H5fGzZsgXffvst3nzzTfTr1w8CgQBGRkY6u6q1Bjs7OyYRrSvcxGIxU0Ggr6/PVCbUZmhoiAkTJsDAwACVlZX48ccfNcbcQNVdTR1ukydP1gjn5ORkzJw5U2O8N5t6Pe+G+PXXX5kCsqWlJd5//33ExsZi9+7dGDp0KHv3FmVnZ4fx48ejqqoKu3bt0moBAAAzMzMYGhrCxMQEX331lVZYJCcno3///uzDWp29vT0MDAzw9OlTrW7GzVVVVYXTp0+jsrIS9vb2WLJkCdauXYvXX3+dvesLQSwW4/DhwygsLIS9vT0WL16Ms2fPYvny5XWmPfX58ssvceDAAfj5+WHw4MHo2rUrJBIJHjx4UO/z3taz5ap7/Dx58qTO3xaLxSguLgZHNT8CW0OeAfXvCIVCrXQ3OTkZmzdv1pn5Qz1pgUwmg1KphL6+vs413Rtb0Jo9ezaioqIwa9YsDB8+HN27d4dCoUBubi5TKadLdXU10tLS2B8zv8/j8ZiCVdeuXQHguRWA69PUZ5bH48HHx0dryaXw8HD069ePvbuG4cOHIzAwkJnoUVc4Pi8HDx5EVlYWzM3NERgYiBMnTmDt2rVahVB1vFVPosb+Cw4OrrOQWVlZiVu3brE/BmrFn9oVwR4eHoiOjsaXX34JT09PODs7w9DQEIWFhRpjftmePn1aZ/6lqWmVLup3XXV1NfNO1qWwsBAymQxGRkZaBUX15G8tpSXOqSFpXHPe83LV5KFsYtUKOXp6ejrTOHUaSNqXf1XhWO3OnTuorq5Gp06dWr2f/6BBg2BlZQW5XA6xWKzzr6amBnp6eujXr5/Oms3q6mr2Rw3S2OPEYjGWLVuGoKAgXL9+HXK5HC4uLvjqq6+wdetWnefGFh4ejuDgYFy/fp35/U6dOuGNN95AeHi4zu7jDSGRSLRaitraokWLMHToUHC5XOTl5eGnn37CggULMHjwYK0ZEl90UqmU6ZZqbGyslVloawkJCZg1axZiY2NRUlLCZJhfeeUVrFu3DrNnz2Yf0mLEYjGqq6thbGyM1157rd54XlNTA5FIxEwWouvvecfTlhQXF4e1a9fi5s2bkMvl6NWrF2bPno09e/ZozPz5ojh16hTefvtt7N+/HwUFBbCwsMDUqVPx888/N2ospHrMqkwmw++//w5fX18MHz4cnp6ezHi9uuiaV6Et1HdOtenarzHPQO0JzHT9sSf2aSve3t7w9fWFoaEhLl26hMDAQAwbNgzjxo3Dhg0bWvycdIXji6C1n1l2QXr+/Pno27cvFAoFkpKSmjSEo7WkpKTA19cX27Ztg0gkgrGxMcaOHYvt27frfKfUnghK19/9+/e1WgYbSt1DcO7cuXBwcEBGRgZWr16NIUOGYNSoUfDx8UG6ah4EXRQKhc60pTlpVX3kcnmDjpXJZFpDXBQKRZPDqT7NOafGpHEd7T1PGu9fWThWk8vlOhObluTh4QEDAwOkpqZi5MiROv9++OEHSCQSODg4MK206to+Ho8He3t71rf+H/UsgLU19bjarl69innz5sHHxwdHjx6FXC7HkCFDGjQLIFjHR0REMC0G3bt3x1tvvcXevc6ZDHv37s20EldWViInJ4fpggJVVyd3d/c6/yZNmoQbN25ojEXS1XWvIfiqSdW4XC6qqqpw8OBBZlkq1NFy2hqKi4uZl46RkZHOVmGoakChKgSrJ7moTaFQ4PTp0ygvLweXy8WECROwcuVKjX1qH3fs2DGt8K3996zlShqisLAQq1evxvjx4xESEoJ79+5BqVSCz+dj0qRJrdbLo7S0FL/88gtqamowZMgQrFy5UuvFKZFIIJVKIZVK8eOPPzKThej6q2+CpfYoPT0da9euxYIFC3D8+HE8efIE5ubmePPNNzFv3jz27q1K/ezz+fw6475YLMaOHTvg7e2NJUuW4P79+7C0tMTMmTMbHIf69+8PAwMD3LhxA998843GkILas7a/CCQSCRQKBWxsbLRaS9TU4aVQKHTON9HQZ0ChUODx48dacb72X+2JfZrL2toa+vr6Os+ZrV+/fjAzM0NmZiaCg4M1Wq4sLCyYd0lzqfMMNjY27E0MdY+b56Wxz6ysjgm5AgMDdXaHr62mpgaZmZkIDw+vd9Kl1iKXy8Hj8epMD6BqQfb19cW8efNw+/ZtGBsb4+2332ZmIVfHr6ysLK34XPtv3rx5Wi3jBgYGdT53AoEAPB4P5eXluHXrFvr27cvMJv/jjz8iNjZWY3/1e7sxWjqtUr/rTExM0KNHD/ZmhvraqqurW6UgXFtLnFND07i2fs93796dmcSWtB91l6Dasf79+8PIyAilpaW4d+8ee3OLGTt2LBwdHSGTyZixELpcuHABhYWFMDY2Zgb537p1CwUFBdDX18egQYO0HmKo1u9jD+Jv6nG6FKomXrpz5w64XC6cnJzYu9SrsLAQe/bswW+//QapVAqouuqyWVhYaHWdFQqFTCutekZmqF5e6sK2ra2tztkj2dLT05mEp3///vDx8WHv8kzq7upqtVvlhUJhgzPdzXXt2jWmRtTMzAwTJ07UusfqNV6hGvfLfpmr3b9/HzExMZBIJOByuRg/frxGITc7O5sJt1deeaXOcTyt4cyZM/juu++YbuO6xjG2pD179iAqKgpyuRwjR47EsmXLNML13r17KC0tBZ/P15qI43kqKyuDXC6HiYmJzmerJRUXF+Pnn3/GwoULmdahwYMH65xZtbXcunULlZWV4HK5DZqk6eLFizhw4ACqqqpgaWnZ4Dik7gKpa5Kfl156SWf3uOfl9u3bqKysrHPVA6hWMLC2tkZlZWWd76JnPQPqcZcCgUDn7NKtwdLSEkqlUufwETb1MBBd82n069dPZ3fypsjMzGRaZNlLPAHA6NGjdc7B8Dy0xjPLLki///77WLZsmdas1m3l0aNHdQ4XYEtJSUFERASKi4thYmLCjL9Xz+Ldo0ePRveisrKywrBhw9gfQygUMu8KdYFVPSxM1zCD0aNHM132G6Ol06rExEQUFBTA2NhY53VBNTGqi2o5pb/++ou9ucW11Dk9K417Hu95c3NzcLlcrfhAXmzttnD83Xff6ZyA4eOPP4anpycUCgWuXLmiMUZr27ZtSEpKwtq1azWOaSo3NzeYmZnhyZMn9U6kkJOTg7S0NCiVSmaMMgBcv34dUqkULi4uWLRokca1zJgxA2+88YbOFuCmHvfpp59qTWLD5/NhaGgIpVKpM/GtzdPTE4cPH8aCBQuYwqKHhwcGDRoEnmo9Pl3jInk8Ht5++22sWbMGXl5e8PPzQ1hYGLMOYVFRETOjYGpqKlJSUqBQKGBsbIw5c+Zg5cqVGDNmDOzt7eHl5YVvvvkGv/32G5OBO3LkCLMmqpmZGT7//HOsX78e3t7e8PLywldffYUDBw5oTbRRW1paGiorKwFVi623tzc8PDzg6emJkJAQrTUTm0NdewlV5nDixInw9fVllpk5d+4cM657yJAhCA8Ph5+fH7y8vLBy5UrMmTMHxsbGkMvluHLlSr2tODt37kRcXBzkcjkMDAwwbdo0pvLgwoULzPPRrVs3bN68GQEBAcxyKH5+fti1a1ejZwHW5YcffsD69euZzL1QKMTYsWOZWaxLS0tx//591lEtSz3DsFwux7hx47B48WJmW05ODq5fvw6lUglPT098/PHHGsfy+Xx88cUXiIiI0Pi8tWVmZqK8vByGhoYYPHhwnePiWlJVVRXi4+NRVlYGfX39JmXomqOwjuV9PDw8EBwcrFWJY2pqCg6Hg+rqao2uteo5GQQCgVbLj7rLnKurq8b3ffbZZ3Uu4dQQ6kJefa0fuhQWFqKyshIGBgZa13fmzBmkpaVBX18ffn5+WpV/I0eOhL+/P0xNTZGWlqZzEim1+p6BkydP4v79++jUqRNmzZqlVaHp6uqKHTt2aBzTXHUt26VLbm4ulEolevbsqTF8p753XlNcuXIFxcXFsLCwwIcffqhRmHJ1dcXs2bMbVHHTlp73M9uaHj16BKlUqvUMu7i4YMmSJRg0aJDG5yYmJuDxeJDJZMzzGB8fj0ePHsHGxgbz58/XKiAPHToUe/fu1bm+rbGxMXx9fTVmSBYIBAgODka3bt1QWlqKc+fOAaoK6ZqaGlhaWjIrcKCZ8aYpaVV96YlYLEZ8fDwkEgkGDx6MkJAQjTykQCDAwoUL4ejoiKKiIubaWkJd6WNLnlN9adzzeM+rh3bWXmHB29sbcXFxOH36tM4KOPL8tczb5Dno2rUrAgMDcebMGcTExCAqKgqXLl1iCg6XLl3S6Bbh5uYGJycncLlc9OvXr9mzPDo4OMDNzQ16enpIT09/5jJBSUlJEIvFsLa2ZhLZAwcOICUlBTweD2+88QazFMaJEyewYMECPHnyRGdtU1OPc3FxweLFi3Hp0iVERUUhKioKp0+fhqurK4qKip45rpbL5cLOzg7vvvsuIiMjkZycjK1btzLLARUWFuK3335jH4bS0lKUlpZi3LhxCA0NRVBQEJydncHhcFBTU4Pff/9dI/wOHDiAu3fvQqlUwtTUFJMnT8b69esRGxuL0NBQTJw4EVZWVkx3IrFYjN27dzOJj7GxMcaMGYOQkBCEhobijTfeQOfOnZnv10Wsmr1QJpOBw+FgwIAB2Lp1K8LCwtC7d+9ndj1rjMTERCbjrq+vD29vb3zxxRdMa0RkZCRiY2NRU1MDLpeLvn37IigoCKGhoZg8eTJMTU0hl8uRlJSEb7/9lvXt2jZs2ICUlBQolUqYmZlh5syZ8PDwQE5ODg4fPoySkhJwOBzY29tj9uzZ2LVrFyIjIxEUFAQ3NzetCqimMDMzw5gxY7B+/XokJycjKioKU6dOhYGBASQSCVMAaG0bNmxAXFwcoFoy6+uvv2a2bd++HSkpKTAxMcGcOXNw/vx5/PLLL4iJicGZM2fg6+vb5jNOpqenMxVr//nPf/D1119j5MiRMDY2Rrdu3eDj44P169fXudRWfYYPH45Nmzbhgw8+0JiU59VXX8WkSZNgbm6O6urqOieBai2ZmZlQKpXo06ePxufm5uaYPHkyDh06hBMnTjD/nT9/PvT19XH16lWNiqK///4bVVVVcHBwwN69exETE4PNmzcDAC5duoSKigoIhULs378fUVFROHv2LN577z1kZWU1ej4HtbS0NMhkMgwYMAAnTpxAbGwsli5dyt5Ny40bN5CXlwcejwc/Pz/ExMQgNjaWqQDcsmUL0tPTYWFhgSVLluDs2bPM9a9fvx729vZIT0/Hli1b2F+tpa5nQJ2OFhYWomfPntiyZYtGOEdERMDd3Z2pCG2u1157DVZWVigrK2vQsx8fH4+ioiJYW1tjw4YNiImJYd556ndMS7hx4wZ+//13SCQSuLi4IDw8HDGqJQjDw8NhbW3NVMa2tRf1mW1Nf//9NyorK9G1a1eNSU35fD5GjBiBHTt24MyZMzh06BBiY2OxZs0amJubMxOIQlXpfuDAAVRWVmLgwIGIiIhAbGwsDh06hDNnzmDLli3o27dvrV/9/x4+fAgDAwMmDxIVFYXo6Gi4ublBIpHgt99+Y2bAvnz5MtLS0sDj8fD+++/jxIkTTLzp2rVrk+JNU9KqZ6UnEREROHv2LPT09ODt7Y3Tp08jKioKMTExOHr0KDw8PFBZWYl9+/Y9M2/bGPWljy15TnWlcWjj97yDgwO6deuGqqoq3L17l/m8f//+sLCwQOfOnTUqUciLo90Wjo8fPw6RSAQOhwMHBwcIhUJwuVzcu3cPmzZtwrJlyzTGJKSlpUEkEkEul+Pvv/+us+tZQw0ePBgCgQASiaTOmQxrO3/+PHJzc8Hj8ZiCuVgsxpIlS3D48GE8efIEZmZmEAqFMDIywtmzZ7F161ZmDF5tTT3u5s2byMvLY2oTHR0dIZFIcOXKFSxdurTeFkioar7++ecfVFZWMrPvyeVypua0ru+QSCTYvn07UlNTmW68UqkUGRkZ2LhxI8LDwzX2F4lEmDt3Lg4fPoz8/HxmDJhSqUR1dTWys7Nx5MgRXLp0iTkmISEBgYGBiI2N1ZgFWy6X48mTJ7h27dozM2Bbt27FL7/8guLiYiiVSiiVShQVFWHPnj1ayxw1h1gsxrZt23D37l2t81TbtGkT1qxZg7S0NFRVVTHhrZ5I4vvvv8eCBQu0xt3oIhaL8e233yIjIwNQ1cIuWrQIHh4eOH78OBYtWoQrV66grKxM475WVFTgzp07iIyMZH1j46WmpuLJkyca97KqqgppaWlYvXp1s5bfaiz2i1M9FlssFiM4OBiHDx9muuX16tUL9vb2qK6uxrlz55jW/bZ07NgxJlPl6OiIefPmITIyEps3b4avry9sbGx0tpq5urpqzU575MgRhISEAKq5AKytrTF58mR89dVXzPZFixYxXc5SUlJ0LnnRmpKTk1FWVoZu3bpptBA+ePAAd+7cQVVVFaytreHs7AxLS0vk5uZi165dGhkgAIiOjsbRo0eZ9W/t7e2ZGY1jYmKwd+9eJj10dHQEl8vFqVOncOTIEeY5aKwff/yR6fkhEAhgbW2tM/OqS3h4OO7evQs9PT10796dqTiCKk0MCgrCsWPHUFxcjE6dOsHZ2RlWVlYoLCzE4cOHERAQ0OB0qq5nICEhAUuXLkViYiKqq6s1wrmgoACRkZHYunUr69uaZtCgQejUqRPy8vKemdmF6ty2b9+OjIwMcLlcODg4wMzMDElJSdi+fbvOd15ThYeHY+PGjRq/ZWNjg3/++QchISEtVhBvrKY+s7w6ZquOjIyss/XxRXH58mVkZ2fDzMxMo1GjsLAQt27dQkVFBczNzeHs7AwbGxvmeQgODtZ4P8bExGD58uVITU2FVCqFvb09nJ2dYWJiguzsbOzYsUNni2FNTQ3CwsJw79492NjYQCgUgsfj6cy/qN+1iYmJkEgkEAgEsLe3R05ODjZu3NikeNPUtKq+9AQAQkND8f3330MkEoHH40EoFKJ79+6oqqrClStXEBQUhBgdMz43x7PSx5Y8p7rSuLZ8zw8ZMgRWVlZ4/PixRpnj7t27KCsrQ1lZGf773/9qHENeDBxHR0fdTxYhzeDl5YUlS5aAz+ejsLAQK1eubFAGiJD2rqFd8EeMGIGPP/4YxcXFWLhwIXuzBmNjY0yfPh2DBw9G586dweVyIZfLUVxcjISEBMTGxjKTzgQGBtY5NhWqiopVq1bB2NgYU6dOxauvvoouXbowY9ckEgkePXqES5cu4ffff2cfrkH9W+rvbIisrCz2R1q2bt2KoUOH4ujRo1i3bh17M2nn+Hw+9uzZA0dHR0RERGD//v3sXf41WjI9aMozu3nz5jrnK6iqqsLevXuZ8cQhISHo27cvjh07hqioKPbuz+Tr64spU6agoKCgzmtga0h68OGHHyIgIABZWVmYPXt2gyqFm2vOnDnw9/fHgwcPWmQWcNLx0Hus/aLCMWkVVDgmHVVLZoZfdK1VOB4/fjwWL14MsVjMtPaQfw91wSMjIwOBgYFtUth5XjpSetBahWM+n4/w8HD06tWrzSpTqHBMmmPq1KmYP38+ysvLERISQu+wdka7Lx4hhBDyHJ09exZXr16FQCDAO++8w95M2jFXV1dMnDgR1dXVOHbs2L+6YExahlgsxrFjxyCRSODt7a01yRQhLxI+n4+33noLhoaGOHv2LBWM2yEqHBNCyHPUrVu3djUGcPPmzcz51td9u7n27dsHkUiEkSNHtsg62+T54/P5CAwMhI2NDf78888Gjx/sSNpbehASEsKcr4+PT4tN2MYWExOD+Ph42NnZaa3SQciLZPHixejduzdu3brVJr0cSMujwjEhhLSg2pOeEE2NCRuRSAQ/Pz94eHi06YRtpPWIxWLMmzcPQ4YM0ZpA7d+qMXG+o2ls2Hz99dcYMmQI5s2bRz0OyAuL4mn7R2OOSaugMcekozI3N3/m0mEd1ZMnTzTWIibk347Sg7q9yOkBjTkmpOOiwjEhhLQwe3t7ZiZZ8n8kEgkePnzI/piQfz1KD7RRekAIeVFRt2pCCGlhjx49anSXwX8z9VIzhHRElB5oovSAEPIio5ZjQghpJebm5jA1Ne2wrUYSiQSVlZUvbNdJQtoSpQeUHhBCXnxUOCaEEEIIIYQQ0uFRt2pCCCGEEEIIIR0eFY4JIYQQQgghhHR4VDgmhBBCCCGEENLhUeGYEEIIIYQQQkiHR4VjQgghhBBCCCEdHhWOCSGEEEIIIYR0eFQ4JoQQQgghhBDS4VHhmBBCCCGEEEJIh0eFY0IIIYQQQgghHR4VjgkhhBBCCCGEdHhUOCaEEEIIIYQQ0uFR4ZgQQgghhBBCSIdHhWNCCCGEEEIIIR0eFY4JIYQQQgghhHR4VDgmhBBCCCGEENLhUeGYEEIIIYQQQkiHR4VjQgghhBBCCCEdHhWOCSGEEEIIIYR0eFQ4JoQQQgghhBDS4VHhmBBCCCGEEEJIh0eFY0IIIYQQQgghHR4VjgkhhBBCCCGEdHhUOCaEEEIIIYQQ0uFR4ZgQQgghhBBCSIdHhWNCCCGEEEIIIR0eFY4JIYQQQgghhHR4VDgmhBBCCCGEENLhUeGYMHbu3Ink5GTs3LlT5+crVqzQ+Lyji4qKQnJyMhITEzFnzhz25jrNmTMHiYmJSE5ORlRUFPO5m5sbjh07huTkZBw6dAhCoVDjOKLJy8sL8fHxSE5OxokTJ+Dm5sbehbQQipttS51G1E4fQGkxaadxQJ1Wt2Q6HRUV1eh3779JXWkEaX3/1rBvjee0vfrXFY63bt3appnlFStWaBVy6qIuTLWnlxppO4MGDYK1tTUAwN7eHi+99BJ7F0Kei/YWN4VCIQ4dOoQLFy7Ax8eHvbnDWLFiBZKSknDs2LE2eR+2NxQ+hBDSNB4eHjhx4gTOnz8Pb29v9uZ27V9VOJ46dSr69+/P/piQdiElJQV5eXlQKBR48OAB/v77b/YupAUIhUIsWbIE0dHROHjwIHtzhyQQCDBv3jwcPHgQR48e1SootLe4GRQUBKFQiIsXLyImJoa9mbQTH330EaKiorBt2zb2JtIGKPyfr6CgIBw/fhzLly9nbyKkSVoyTiUkJODIkSMwNDSEr68vHBwc2Lu0W/+awjGfz8fkyZNhZmbG3kRIu3Djxg1MmzYNr776Kt577z2IRCL2LqQFjBs3DlOmTEGPHj3A4/HYmzskNzc3TJ8+Hb1794aBgQF7c7uKmzNmzMCAAQOQnZ3d4Ss/wsLCMGTIEEyZMgU3btxgb37hubu7QygUQl9fn72pRbT38GltrR3+pH5DhgyBra0tOBwOexMhTdLScSoyMhJ37tyBUCjEW2+9xd7cbv1rCscfffQRXFxc8PDhQ0ilUvZmQggh/3J8Ph9jx46Fvr4+Ll++/EIX4gkhhJD27sKFC5BKpRgxYsS/Zj6Sf0Xh2MPDA15eXhCLxbh+/Tp7MyGEkA7g9ddfh5OTEwoLC3HhwgX2ZkIIIYS0oOjoaGRnZ6Nr164YMWIEe3O7xHF0dFSyP2xP+Hw+Nm7ciEGDBuHEiRMoLCyEv78/SkpKsHLlylbvKrVixQpMmTIFIpEIvr6+7M0aoqKiIBQKcezYMYSFhTGfCwQCzJgxA2PGjIFAIIC+vj6USiWePHmCM2fOYPfu3RCLxcz+c+bMgb+/Px48eICwsDDMmjULL7/8MoyNjSGXy5GVlYWffvoJp06dYo5Rc3V1xaxZszBgwADw+XwAwJMnT3Dq1Cn06dMH7u7uSE5Oxty5c5ljdu7cCXd3d63zhurcP/30U3h4eDBd2isqKpCQkIDt27ejsLBQY/8pU6ZgxowZ6NGjB3Od5eXlOH36NDZt2qSxL5ubmxtCQ0MhEAggFouxfv16WFtbw9fXF126dAEAiMViJCQkYNu2bVq//e6778LLywvdu3eHkZEROBwO5HI5CgoK8Ouvv+rsgjl06FAEBATA2dkZRkZGkMvlePjwIX766Sf4+flBKBRCKpUiMjISu3fvZo7j8/mYM2cOxo8fD0tLS3C5XFRVVeHy5ct4+PAh3nvvPejr62vEGy8vLyxZsgR8Ph+FhYVM/GVf96ZNm+Dk5ARPT0907twZAPD48WNERUUhMjKSOQc1Xfdcvf+rr74Kd3d3ANB5f3URCAQICAjAq6++ii5dujBd7qqrq5Geno4dO3YgJSWF2V/9jABAcnIyDhw4gICAAPTp0wcGBgaQSCS4desWwsPDkZqayhyn5u/vjzfffBM2NjbgcrnM/vHx8Zg3b55WeNVF/dzU1UVQHe/V8R2qMHn69CkmT56MTp064d69e3j33XeZZ1nXvUetZ529nf3dqampmDFjBhwdHTXiiK74C1V8fO+99+Di4gITExONOLxnzx6cPHkSUMUlHx8fCIVCjf1KSkpw+vRpZgxh7Tinizp+1hU31fh8Pj766COMHj0adnZ2zLMtFouRnp6OH3/8EVevXtX47uaGhS4hISF44403EBcXpzWmStczqSvs1Ly8vODr6wuhUAgjIyNAFcdFIhGioqK09q9Pc9L42u+V+tJiXer6nqa+Q6KiotC9e3dERkaioKBA435JJBL8888/iIiI0LjX6rgDAOvXr9cKN13ba8cNttrvJ3b6rI5zSUlJWLp0KftQLS0dPvWZOnUq3nzzTTg6OjLvn6qqKty8eRM//PCDzrRPl9px4Pz58xppqfrcfvnlFxw7dox9aIPPoaHhD9X7xc/PD+7u7ujUqRM4HA6kUinu37+Pffv2IS4ujrnHlZWVCAsLg6enJ1577TUmz1Df+6suteNiZWUlpk+fjq5duz4z7WhIGPD5fOzZswd9+vRBQkICFixYoPEdUF336tWrYW1tjYMHD2L79u1ArXRG/X7W9f3Pon5/6KJ+9mvH0WXLlmH+/Pl45ZVXmDiqzqfoigctcY5oZJrakHBXqx1fNm3ahClTpjDXVl1djT///BPbtm1DZWUlFixYgNdffx1mZmZQKBQoKCjAgQMHdM410VLXXVe6gUb+Ru3rXLNmDTw9PZm8tEKhwKNHj3DkyBGdeVM0IG+EWmlqQ+JUc57TxYsXw8fHBykpKRrpQ3vV7luOZ8+ejVdeeQWZmZk6b1h7MHv2bLz//vuwsbFBSUkJ0tPTUVRUhM6dO8PX1xeLFi1iHwIA4HK5WLZsGdzd3VFUVIScnBwoFAo4OTlh/vz5GD16tMb+Hh4eWL16NYYNGwYjIyPk5eUhKysLfD6/SYPpPTw8EB4ejokTJ8LIyAgPHjzAgwcPYGxsjAkTJmDz5s0a3zl37lwsXrwYvXr1Yq6zpKQEpqamdT609Rk/fjw++eQTWFtbg8PhgMPhwMTEBOPGjcOWLVs0vjMgIADz5s1D7969YWxszIy34HK5sLe3x9y5c7UeaB8fH6xatQqurq5M5pjL5cLBwQGff/45LCwsNPZX4/P5WL9+Pd555x106dIFXC4XAGBsbIxx48Zh/Pjx7EMa5fXXX4evry+srKyY67a2tsbs2bMREBCgsa+HhwfWrVuHYcOGMYWk2vvb2dlp7N8QISEhmDp1KmxtbTUKmkZGRnB1dcU333wDDw8PjWPUjIyMsGLFCri6ujJjWw0MDDB48GAsXbpUKw6uXLkSn3zyCezt7ZlwVO//3nvvQU+vdZOw3r17Y/r06ejUqRMAtOgY5S5duuDzzz+Hk5OTVhwJCQlh747AwEBs3LgRgwcPhqmpqUYcFggE6N69OwDA09MTwcHB6N+/v9Z+Xbp0wTvvvIOvv/5a47ubQygUYufOnfD392cqvQAwz+PAgQOxceNGBAYGsg9lNDYs6tK7d2/IZDLcv39f43O+qhL1nXfegbm5OR4+fAiRSITq6mqNsFNbvnw5VqxYARcXFyiVSohEIohEIiiVSri4uODLL7+s93rYmprGt7bGvkPUXnrpJQQHB8Pe3h7Z2dnIyckBahUYmjtDeG5uLtLT01FaWgoAKC0tRXp6OtLT05Gbmwuo0ufVq1ejX79+TMVcUVERjIyM4OjoyPrGpmlq+LB5eXkhKCgIffv2hVQqhUgkQk5ODng8HoYNG6Yz7XuWLl26YNWqVejTpw8KCgogEokgkUjg5OSExYsXa73PGnMODQl/APD29sa3336LsWPHwtTUFHl5eRCJRJDJZOjZs6fWe53D4WDWrFmYMGECKioqkJWVhZqamjrfXw3Rt29ffPLJJ+Dz+RCJRCgtLYWRkZHOtKOhYSAWi3Hjxg3I5XI4OztrTVAIACNHjoS1tTWKiooQHx8P1EoL33nnHVhYWDDhweFwMGzYMISFhen8Lrbs7Gykp6fj6dOnAIBHjx4x4c8u7HO5XISFhWHw4MEacdTBwQHz58/XmkW4pc6xMWlqQ8Odjcfj4dNPP8WgQYOQn5+PwsJCGBoaYty4cVi6dCnWrl0Lb29vVFdXIysrC1KplMnPtdZ116epv8HhcDBz5kyMHz+eeS6kUins7Owwe/ZsTJ8+nX0Ivv76a3zyySews7PD06dPkZmZidLSUgwaNEhn3qgxcaopz+ndu3dRVVUFW1tbnfeyvWndnGUr8/Hxgbe3N54+fYrIyEjmBf08CIVCJCcn1/vHflGoSSQSXL9+HQEBAZg0aRL8/PwwadIkHDlyBEqlEm5ubnBxcWEfhu7du8Pc3BzLli2Dj48PfHx8sHLlSpSUlKBLly4YO3Yss6+6NsvW1hZZWVmYN28epk6dCl9fX0ybNg3Xr19nWl8bQv193bt3R0ZGBgIDA5lzWLZsGYqKiuDk5IQZM2YAABwcHDBu3DjweDwcO3aMuU5PT08EBQUhOTmZ/RP1MjIywquvvgqRSIQtW7Zg1apVuHTpEqRSKTgcDnr16oVp06Yx++vp6THhHBoaipEjRyIwMJB5ARoYGGDkyJHgq1rQXF1d8f7778Pc3BwAkJeXhz179mDlypX4448/wOVymVZbtk8//RTu7u7gqGrQL126hFWrVmHLli3IyMhgWtaawtjYGEOGDEFqairWrVuH77//nknY2NegvkcCgQBQZXAOHjyIlStX4uDBgxCLxbC3t9f4/obgcrkoLS3F77//jk8++QTu7u5Yv349Hj58CACwtrbGmDFj2IcBAP7zn//AwMCAOY9Lly5BLpcDAHr27KlxnL+/P8aNG8fURt+6dQvr1q3DunXrcOvWLQgEAqbSoiHi4uIQGhqKmJgYZl6CBw8eYOXKlVi5ciV+/PFH9iHo06cPcnNzsXjxYri7u2vVEjfH0KFDUVFRgT179mDVqlW4desWlEolOBwOXFxc4Onpyew7Y8YM+Pn5wdDQEEqlEtnZ2Ux83LFjB+7duweFQgGo7o9cLkdaWho2bdqESZMmwdfXF3FxcZBKpeByuXB3d4ebmxtu3LiB1atXY8+ePaiqqgIAFBcX49tvv8XKlSvx3XffMeegC5/Px6JFi+Di4gIOh4PKykr88ccfWLlyJbZs2YJ79+5BqVTC0NAQ06ZNq7NiqDFhUZeBAweic+fOEIvFyMrK0tg2efJkuLq6oqKiAmvWrIGPjw98fX0xatQobN26FQ8ePGD29ff3x8SJEwEAx48fx4QJE+Dr68uklQkJCeDxePVeD1tT0/jW1ph3iBqXy2XizrRp0+Dr6wsfHx/Mnz8fWVlZMDMzw5tvvsmkQ02xZs0a+Pn5IT09HQCQnp4OPz8/+Pn5Yc2aNYAqw21mZobExERMmTKFCdOAgIAW61LflPDRRS6XIzs7G6tXr8brr7+OGTNmaHxXjx49MGrUKPZh9Ro0aBAePnzIvHt9fX3x4Ycf4tatW9DX18eECRPg6urK7N+Yc2hI+Lu5uWH27NmwsLBAWloaAgICNPIUcXFxqK6uZn4fAKysrNCzZ09s3bqV2Xfu3LkQiUQwMDBodJdMHo+HIUOG4OLFi0wcmDJlCuLi4qBUKtG3b1+Ne9SYMEhOTkZZWRksLS0xaNCgWr/6fwYMGAAul4vU1FSmNfDTTz+Fi4sLioqKsGTJEo1rzMjIgK2tLfz8/NhfpWXx4sXw8/PDo0ePAABJSUlM+O/Zs0djX11xdNmyZXj8+DE6deqEkSNHauzfUufYmDS1MeFem4WFBQwNDbF06VL4+vpi0qRJOHnyJBQKBYYOHQp3d3ecPn2aecctXboUhYWFrXrd9Wnqb9T1XOTm5oLP52u9//z9/TF27FjI5XJER0czYTpp0iRs3boVpqamWnmjxsSpus6nvuf0wYMHePr0KczMzNC7d2/25nan3RaOPTw8MHPmTBgaGuK3337D2bNn2bu0KblcDrFYXO+fuhDAtmHDBsybN0+rS8e1a9dQUVEBCwsL9OzZU2MbANTU1ODAgQNMrSVUBQB1QbN2YXzatGkQCoUoLy/H3r17Nbq9FhYW4rvvvkNeXh7z2bOov6+kpAR79uzROPf4+HhcvnwZHA6HeTkLBAIYGBhAKpVqJJoAcPXqVezbt0/js2fR09PDX3/9hVmzZuHQoUM4fvw4goODcf78eSgUCnC5XAwaNIjJoN25cwfLly/HvHnz8Mcff0AsFiMlJQX79+9HSUkJAGi8BEeOHImuXbsCAB4+fIgVK1YgIiICJ0+eRGhoKHbt2sUUJmpzcHDA4MGDmQJKbGwsgoODcfz4cRw6dAizZs3CnTt32Ic1GIfDwc2bN/H5558jJiYGP/30Ew4ePMhkQgQCAXMNXl5eTLwpKyvD5s2bsXXrVpw8eRJbt27FmjVrmGtvjD/++ANz5szBN998w3StjY6OxpkzZ5jKCV3xFapu7+Hh4cx5rFy5EmlpaYCqcO/s7MzsO3z4cKYwmJiYiICAAMTExCAmJobJACuVDR8VIhKJcObMGY1rlkqlOHnyJE6ePKmzS3ZZWRl27tyJixcvsjc1W3FxMTZs2ICIiAgcP34ca9euZZ5BExMT9O3bF1AVQCdPngxjY2MolUokJyfjgw8+YOLj/v378eGHHyIiIgJQvaQ2bNgAf39/REVFobCwECKRCGFhYUwFhpmZGYRCIQoLC3H27Fk8fPiQCUu5XI6MjAycPHkSCQkJzPnq4uXlBVdXV3A4HFRUVGD79u0IDQ3FyZMncejQIQQEBDDx3dzcXOslr9bQsKhPly5dYGhoiJqaGqbFS83S0hI8Hg+VlZUQsSbpOnLkiEb3v7Fjx8LQ0BDXr1/HqlWrNLo7FxYWYvPmzcjNzdWZAatLU9P41taYd4ianp4ecnNzsXnzZo0Wh5SUFBw5cgRVVVVwcHCAl5eXxnEtzdTUFAqFAnl5eRr3KDU1VWuYQ1M1JXx0OXPmDD744AOtLq5xcXF48OABDA0NG93aUl5eju+//14jTolEIuadZm1trRE/W/oc3nzzTQgEAuTm5iI0NFTjPNRDL3T15ouLi8Mvv/zC/Ds1NRVXr16FXC5H586ddbas1YXD4SAjIwNr165l4oBYLMbp06dRVlYGPp+PXr16Mfs3JgwSEhJw9+5d6Ovra53Ta6+9hh49eqCiogJ//vknoEo3+vfvj+rqaq04k5qayrwfe/Xq1aIVYTKZDL/++qvG78XHx+O///0vAKBbt27M5y15jo1JUxsT7rUpFAqcPn1a4z30xx9/oLi4GDweD9nZ2RqV2gkJCcy8Q7V7xbXkddelOb+hUCjw+++/az0X8fHxkMvlsLGxwcCBA5lt6ndUcnIyNmzYwHwOAL/88guOHz8OmUym8XljNfY5vXXrFiorK2FgYFBnw1F70i4Lx0KhEPPmzYOVlRXi4uKwc+dO9i5tLjs7GyNHjqz3Lzs7m30YQyAQYM6cOdiyZQuioqJw/vx5rF+/HpaWluxdGSUlJToLWrm5uZBKpeDz+cxD6OjoCENDQ9y/fx9nzpxhHwKRSISCggL2x3Xq06cPDA0NkZGRobPgIBKJUFNTwzxEaWlpKC4uhqGhId566y2NVt2mkEgkuHLlikamCKqXQkVFBaDKPKmv/+rVq0hPT8cHH3ygEcZbtmxhWswNDQ2ZsRV9+vQBj8eDQqFAUlKSVqb2+PHjTA1cbX379oWVlRWgyiCwx6SpC+XqlsvGqqmpwdWrVzWu+969eygvLwdY19C7d2+m9vDevXta53Lx4kVkZmZqfNYQJ0+ehJGRERYuXIiIiAjExsbizz//1BjPa2pqyj4MUMXN2mOBxGKxxotVHd8HDhzIvNwqKip0xtmkpCStlomWlpmZqTN+t4S7d+9qvPRFIhFTIORyuUwYvvbaa0wLf0lJCQ4dOqQV72tLTU3FlStX4OPjg3Xr1uHQoUOIi4vD2bNnmQIYj8erN21pqNpx7M6dO1rjvMRiMa5cuQKJRAKoKo90tSg2NCzqY2BgAH19fVRWVmpVdGRlZUEsFqNr16747LPPdLYEQRXWXbt2RVVVFRITE9mbAQA5OTm4ffs20IjCEZqYxre2xrxD1JRKJVJTU3X21Dp58iQePXoEAwMDjUx5a3j48CE4HA7GjRuHjz/+WGe8aq6mhE99pk6dirCwMBw4cABnzpzB5cuXNVp3G0MkEmnFc6gKCCKRCDweD7a2tuzNLXIOfD4fTk5OUCqVuH79ulbhqC4VFRU6z1mk6hKup6fHDKtoCIVCgTt37milhykpKSgrKwNUlTlsDQ2DW7duQSKRwMHBQWOokIeHB8zNzZGXl8e8m/r16wdTU1Pk5+fj+PHjtb7l/2RmZuLp06ctXhH2+PFjnRPRquOonp4e82y05Dk2NE2traHhrlZRUcGktWo3btxAZWUlAODvv//WSocKCwuZ61ZryeuuS3N+4+nTp/jf//6n8RlqPReGhoZMPlU910t976h79+4x79ymaOpz+uTJkxbLWzxv2qnGC07djc/JyQmZmZk6u0K2N7Nnz0ZUVBRmzZqF4cOHo3v37lAoFMjNzUVNTQ17d0Z1dTXT6labunslj8djEkV1K2hjCsD1UUd+d9UEXuy/4OBgGBsbM/uLxWIcPnwYhYWFsLe3x+LFi3H27FksX76c6fbbGDKZTGucBFRdh9VhZmpqyny3t7c3fvrpJ3z22WcYPnw4hEIhM45UV4u++ji5ahIjNrFYzIRzbT179oShoSEAoKqqSqtQjVr3pynkcjkeP37M/linbt26gaMab1pXr4DGtLyqffnll4iIiMA777yDgQMHwt7eHkZGRlAoFM/8PnXFxbPY2dkxBaLq6moUFxezd4FMJnvm7zWXuqW1NeiKV7rUjlOlpaXPbM318PDATz/9hCVLluD111+Hs7MzLCwswOPxdMb15qgdx+qKl4WFhUwtdl2FiYaGRVOdPXsWp0+fhkwmg5ubG3bs2IGoqCi8++67GvuZmZnB0NAQ1dXVyM/P19hWm/qajIyMdLZ4sDU1jW9tjXmHqMlkMp3PI2qliw2t0GiOgwcPIisrC+bm5ggMDMSJEyewdu3aejPbjdWU8NHFw8MD0dHR+PLLL+Hp6QlnZ2cYGhqisLCQKcQ1lq7KWTV1ulg7k9qS5+Di4gJTU1PU1NQ0uGAMVeUuu1cHaqXlfD6fqVxuCLlcrvPc1fFQX19f4/saGwYXLlxguum+/PLLgCoN69evHxQKBa5du8bsa2pqCi6XC6FQiPj4eK080ebNm1ul0PCsOFo7zW3Jc2xomoomhLuaVCrV2UNPTdf7TFf+qiWvuy7N+Y1nPRf6+vrMHC1WVlbg8/nPfEc1x7POp67ntLXzY22p3RWOR40ahX79+oHD4aB3796IiYnRiICzZs2Cvr4+BAIBdu3ahfj4+Fbv3tUc3t7e8PX1haGhIS5duoTAwEAMGzYM48aNw4YNG+pNOJqiObVJutQe1K/r7/79+0yt7qlTp/D2229j//79KCgogIWFBaZOnYqff/5Za/KEllBTU4OKigpmbJSVlRWkUikSEhKwZs0a+Pr6Yv78+XVm9Ig29ZhJAwMDlJaWIiYmBkuWLMGoUaMQGRnZ7K48pHkcHBwwd+5c9OjRAwqFArdv38aWLVvg7++PIUOG1Nt75d9u06ZN+OSTT3Du3DlUVVVBKBTi888/x/79+7VagOVyeYPSSplMVmelgFpbp/EvAqVSqTOT2pJSUlLg6+uLbdu2QSQSwdjYGGPHjsX27dsxe/Zs9u7PjfqZdHBwQEZGBlavXo0hQ4Zg1KhR8PHxYcb1tgZ14aE1z6G1e++0lKaEQU5ODtLS0sDlcpnC8euvv45u3bppTMRVW+3Jy3T9ZWZmPvdnvqXOsSFpalPCvbW01HXXpy1+Aw2oOCDN0+4KxzKZDGId43nVf9XV1VAqlZDL5aiqqoJYLH6hM+z9+vWDmZkZMjMzERwcrDEWWD0ZQUtQvyRtbGzYmxjqFqCGUD+UWVlZzKB+XX/z5s3TqNUUi8XYsWMHvL29sWTJEty/fx+WlpaYOXOmzhalunA4HPB0zBwsFAqZbsVVVVUoLi6Gu7s7Mwbi7t27WLBgAY4ePQqRSAQul6uz25U6Y6ynp6fRAq7m4uKiNeEBVL+pzhQaGBjobFUyNzfX2SWlpdVOOHVdA1QtZY3xyiuvwEC1ZMiJEyewbt06XLhwAWKxWGc4NpVEImG6nuvr6+s8/9ozgbe12gUn9nU7ODgwtbwtoaSkhEnDjI2N620ZGzhwIDNLaH5+Pr755hscOnQIaWlp4PP5WufaXLVbr+qa0K/2fSovL9fZXaslyOVyKBQKmJqaaozPqi01NRXLli3DpEmTEBERgadPn8LFxYWZeVod70xMTNCjRw/24QyBQAAej4fq6mqm8q8ubZXGt5W60kSoJmkyNTWFTCZDUVERe3OrOHjwIHx9fTFv3jzcvn0bxsbGePvttxs8k3Rr69u3L+zs7FBeXo4ff/wRsbGxGtsbmwar1XUP1K06SqWSaVlq6XNQ56sMDAy0KpZeVE0Ngz///BMVFRXo0aMHxo4diyFDhsDY2BiptSbigirtUCgUePz4sVY+qPbfzJkzn9n7p7W0xjk+K01tari3pNa4bra2+A3Ues+ZmZnVudoIj8drVH6+pVhZWUGhUPwrCu0tm1NqA2fPnsXEiRO1xvOq/37++Wem29fChQsxceLE5z5ZV33U3RJ1dTft168fTExM2B83SWZmJuRyOXr16qUz0zB69GiNiSueJSsrCzKZDD169Kg3s16fixcv4sCBA6iqqoKlpaXWOIz6GBkZYciQIRqf8fl8jB49msk0PHz4EGlpabCysmLGwrJbg9zc3JgZqWvLycmBUqkEl8vF0KFDtTIAo0ePhrW1tcZnqDWuBKqu7G+88YbGdqFQiEGDBrV4IUWXBw8eMJUiL7/8stbySur1phtDXcmgUCg0uoPy+Xz079+/ybNws927d4/p1mNubq41KzCfz8fQoUOfW8FCfW76+vro06ePxra64kZT3b17l/k9gUAAn3qWybG1tWUqjditmhMnTqyzANtU6iUeoEqv1LM8q/H5fIwYMQKGqonVGtMFs7GKi4shFouhr6//zAyXWCzGnj17cOnSJXA4HOY5SExMREFBAYyNjTFs2DD2YYCq8sNFtcTTX3/9xd6spa3S+LbC5XLRr18/nd2Jhw8fjs6dO6OiooKpFK19X9hLZgFA//79dVY0NlZKSgoiIiJQXFwMExOTF2bGVPWwCF1dFUePHs0MeWqsvn37ar2XoOqpYGtri+rqaty7dw9ohXNIS0vDw4cPwVXNXK4rLrxomhoGly9fRn5+PszMzODu7g4XFxdUVVUhKSlJYz/1PCsCgaDOiQeft9Y8x7rS1KaGe0tqzetWa4vfgCpfV15ezqzYosuQIUNaJE1tDHWDkVQqrXfIR3vR+jn0F8i2bduQlJSEtWvXsjc9N7m5uVAqlejZs6dG4WXGjBl44403WqwQdeXKFRQXF8PCwgIffvihRoHW1dUVs2fP1llIrEt8fDwePXoEGxsbzJ8/X6uAPHToUOzdu5dZD83DwwPBwcFaL3NT1Tqs1dXVjepqwuFwMGbMGOzatQve3t7w8fHBtm3bmK5PFRUVTKVIUVER0wr50ksvITAwEC4uLggKCsK0adN0Fuji4+OZSa4cHR0RFhYGPz8/eHt7Y8OGDfDz89PZapmQkIC//vqLGScyffp0rFy5El5eXggICMDmzZvRs2fPNhmbob7nUC2vtHz5cgQEBMDLywsrVesHN7Zwqf4+fX19jBkzhlm0fs2aNUzYt4ScnBxcv34dcrkcenp6eP3117Fx40Z4e3vDz88PERERePnll5sUjrVb921sbPDpp5/io48+wooVK9i71umff/5hWnPd3d2xatUqeHl5YeHChfjggw90xqmmUk+wJZfLweVyMWHCBPz000/w8/Nj4tXPP/+MgIAA5OXlMRVAdnZ2CAoKgouLCz766CMEBATUOQ60dku9paUlJk6cCF9fX2bZlrpER0czBV5zc3MsWrQIX331Fby8vJj71L9/f0A1Tvfo0aOsb2g5N27cQHl5Ofh8vtY6tx988IHOSZvU/1Y/62KxGPHx8ZBIJBg8eDBCQkI0jhEIBFi4cCEcHR1RVFSEc+fOMdvq0lZpfFtycXHBokWLNMJmxowZ8Pb2BpfLRUpKCtM6cu3aNTx+/JhJM2q/K2bMmIHx48fXGQbquRIEAoFGLxwXFxcsWbJEaxIgExMT8Hi8esdFt7X79++jpqYGlpaWGpnZprx3a7Ozs8P8+fM15uwYOXIk3n//fRgbG+PevXvMjMFNPYe6wh8ATp8+jfLycjg5OWHNmjUa5yEQCPDNN9/go48+0jjmeWpqGIjFYiQlJUGhUODVV1+FlZUVcnNzcf78eY39Tp48ifv376NTp06YNWsWhg4dqrHd1dUVO3bswOLFizU+r486Dje2ErsuLXmODU1TmxruLaklr7subfEbUFVM/fe//4VSqcTw4cPxySefaGz/7LPPdC61pNbScUqte/fu6NSpE8rLyzVWpHkRy10NofuN9C/k5uYGJycnptZ7wIAB7F2ei/j4eBQVFcHa2hobNmxATEwMTpw4gQULFqC0tFSrpq2pbty4gd9//x0SiQQuLi4IDw9nlsUJDw+HtbV1o2YuTk1NxYEDB1BZWYmBAwcysxYfOnQIZ86cwZYtWzSWXzE3N8fkyZNx6NAhnDhxgvnv/Pnzoa+vj6tXrzaqq0lVVRXy8vIwaNAghISEYOnSpRg4cCC4qiWU4uPjme47cXFxzERkpqam+PjjjxEZGQk/Pz88efIET548YX37//VQuHz5MuRyOTgcDpydnREUFISQkBCMHj0a2dnZWktSqcXExDC/x1ctwxMaGorZs2fD2toaV69ebZOu/up7rm7ZUy/gHhoaismTJ6OysrJBLV+1/fnnn0yXmZ49eyIsLAxbt27FkCFDcPfu3SbPwq1LdHQ0MjMzmYqGUaNGISQkBEFBQejVqxeSkpKa1H3n5s2bTIsqn8+Hv78/5s6dW2cXJV1OnjyJ3NxcQNV9fsKECQgNDcU777zTKhNlbN++HUlJSUwBuW/fvggKCmLilVAohJ6eHs6fP4+MjAxAdV5Tp05FZGQk5s6dC7lcXucEY4mJiUxGWF9fH97e3vjiiy+e2ZtELBYzYz6VSiXMzc3xxhtvIDQ0FEFBQejduzc4HA6z5FtrdalWE4lEMDQ01GrNd3BwQGBgIM6cOYOYmBj88ssvOH/+PEaPHo2KigqcPn2a2TciIgJnz56Fnp4evL29cfr0aURFRSEmJgZHjx6Fh4cHKisrsW/fvgZdT1ul8W1FKpXin3/+waRJk5jlR9TXY2pqivT0dPzwww8ax5w7dw41NTUQCoXYuXMnoqKiEBsbiwULFqCoqKjO5/jvv/9GlWppqL179yImJgabN29meiTs2LEDZ86cwaFDhxAbG4s1a9bA3NwcqampGkvJPE+XL19GWloaeDwe3n//fZw4cYJ573bt2rVR793a0tLS4O7ujujoaCY8169fD4FAgPz8fOzbt4/p8t/Uc6gr/KFaseHXX3+FTCaDh4cHYmNjERsbyzwrY8eObdHhJc3V1DCA6p1RXl7O9MxJSkrSGk4hFouxe/duFBYWomfPntiyZYtGXiciIgLu7u46h4PVJS0tDTKZDAMGDMCJEycQGxuLpUuXsndrsJY8x4amqc0J95bSktddl7b4DbUDBw4gIyMDxsbG+Oijj3D27Fkm/N977z2IRKI65wJo6Til1rdvXxgbGzM9NvECl7saosMUjtPS0iASiSCXy/H3339rTQ//vCQkJGD79u3IyMgAl8uFg4MDzMzMkJSUhO3bt7doISo8PBwbN27U+C0bGxv8888/CAkJaXQmLSYmBsuXL0dqaiqkUins7e3h7OwMExMTZGdnY8eOHRprr965cwdVVVWwtraGs7MzLC0tkZubi127duHrr79mf329lEolDh48iMTERCZjpc7879q1C6Ghocy+IpEIq1evRmpqKtOqJpFIcP36dYSHh9cZxur1jPPy8pjuyVWq6fPXrl3LfMaWkJCA5cuXa51bXl4e9uzZg7t377IPaTW177n6fCUSCVJTUxEWFsYkoFKptEEtLb/88gt2797NhIlSqURZWRmio6M1Zu5sCSKRCEFBQUwLhVKphFKpRHFxMbMUTlOkqtZBzcnJ0QiThly/mkgkwrp16zTilFwux927dxEWFqbR5bwliMViLFiwAN9//z1EIhFTCaFUKvH06VP89ddfuHHjBsRiMdasWYOEhASNuPes81IXcu/evcuEiVwu11lxxJaSkoLPPvsMx44dw+PHjzWOLy0txblz57Bo0SKdy1u0tJs3b6Kqqgp9+vTRaOn666+/IBKJwOFw4ODgAKFQCC6Xi9u3b2P58uWIYS1BFRoayoQ1j8eDUChE9+7dUVVVhStXriAoKEjrmLq0ZRrfVq5du4bo6GgolUoIhUJYW1ujsrISp0+fRlBQkFb3+cjISCYt1dfXh1AoROfOnXH58mUcPHiwzh4g0dHROHr0KLMWtL29PWpqalBYWIhbt26hoqIC5ubmcHZ2ho2NDQoLC3H48GEEBwdrFV6eF7FYjG+//RaJiYmQSCQQCASwt7dHTk4ONm7c2Oj3rppIJMKePXtQWVkJR0dH2NnZobq6GomJiVi+fLlGZXNTz6Gu8FcLDw/HmjVrkJaWBrlcDnt7ezg6OqKmpgbx8fF1LjXzPDQ1DFBrzWM9PT08fvxY50RcUO23dOlSJCYmorq6WiOvU1BQgMjISGzdupV9WJ1+/PFHpmJJIBDA2tq6zkJPQ7XUOTY0TW1OuLeklrru+rTFb4CVN1I/m0KhEFKpFL/88gt+/fXXOtPU1ohTULWMK5VKjTmGXtRyV0NwHB0ddYcgIS8YNzc3hIaGQiAQQCwWY/369S9M60B7deDAAbz00kuQSqWIjIzE7t272bsQ0m7w+Xs77BcAAAKbSURBVHzs2bMHjo6OiIiIwP79+9m7kGaIiopC9+7dKa0ghJAXlJeXF5YsWQKFQoF169Yxa3G3Fk9PTyxevBhPnz5lGszauw7TckwI0eTh4cGME5PJZC3eFZiQtiYWixEXFwelUomxY8dqjYcjhBBC/s169+4NQ0NDrfG/rWXKlCkwMTHBlStX/hUFY1DhmJCOic/nY9q0acyi9OpuioS0d7/++itSU1PRq1evF2q9W0IIIaQ18fl8uLm5gcvlaoz/bS3+/v7o378/RCIRoqOj2ZvbLSocE/IvtnnzZhw8eBCLFy+Gl5cXvLy88OGHH2Lv3r3w8PAAh8OBTCbDlStXkJOTwz6ckHZHLBbj559/xpMnT5iZ7AkhhJB/g4CAAOzdu1drWVahUIh169bByckJlZWVTZ6XpaE8PDwwffp0SCQSxMTEaM010Z7RmGPSbtCY48bbuXMn3N3d2R8z5HI5Ll68iFWrVr0wE9gQQl5MNOaYEEKerzlz5sDf3x88Hg/l5eV4/PgxjIyMIBAIoK+vD4lEgmPHjmHDhg3sQ0kDUcsxIf9iN2/ehEgkQlVVFTN7oVKpRFVVFdLS0vDNN99g2bJlVDAmhBBCCHnBxcXFIS4uDiUlJTA1NUWvXr1gZ2cHmUyGtLQ0rF69mgrGzUQtx4QQQgghhBBCOjxqOSaEEEIIIYQQ0uFR4ZgQQgghhBBCSIdHhWNCCCGEEEIIIR0eFY4JIYQQQgghhHR4VDgmhBBCCCGEENLhUeGYEEIIIYQQQkiHR4VjQgghhBBCCCEdHhWOCSGEEEIIIYR0eFQ4JoQQQgghhBDS4VHhmBBCCCGEEEJIh0eFY0IIIYQQQgghHR4VjgkhhBBCCCGEdHhUOCaEEEIIIYQQ0uH9P+vEN83lVR9xAAAAAElFTkSuQmCC)"
      ],
      "metadata": {
        "id": "51EM2a-EUvu6"
      }
    },
    {
      "cell_type": "code",
      "source": [
        "# pre-trained tokenizer specifically designed for DistilBERT\n",
        "tokenizer = DistilBertTokenizerFast.from_pretrained(\"distilbert-base-uncased\")"
      ],
      "metadata": {
        "id": "-y5mwt_Tqd2L",
        "colab": {
          "base_uri": "https://localhost:8080/",
          "height": 145,
          "referenced_widgets": [
            "fabccc88fd2e48d2bd6753550755b663",
            "15dcfc45d4cb444f904dccf3837452fd",
            "4795bc8bbc6744e296d5c809401679d4",
            "5e855e669a384cdcaedc92aa5a7aab0e",
            "a713599214d04adcab1ac42fb8c3e77d",
            "0c420b7b98b14933a03ff0a20c0eec22",
            "04ea62b1bc6f419395ca18aa2738f935",
            "7a5d46819a5e4bbaa61845c7531e8668",
            "9da4bfc8c5b845bbb4497949bb1e687b",
            "97235f9f23134f1bb3e2188f24331b9f",
            "42d5565a5c2541e188297bc0ac32242a",
            "7996e46a611b4059a3b0a0403ddccd8d",
            "59e06024f9594ec4bdbd3d7da43e01cb",
            "b89a195ab53940c8a40201fc8be4e114",
            "8948b790fa8c43778322c8d49ac29d78",
            "d40bfe4184ce45fdba5df11da9330c81",
            "463835fd2b704131868819c6c4d194a2",
            "f5906289b1f345f4b75cd1c3e3ecb5b1",
            "38a1346a139d43a689fd5695d69cd51d",
            "f2257cfbcbad4eab86171967fe70aa49",
            "e63e7985bde24a64913cfb9f69aa14db",
            "718fd40f711b492eb6855a25adb55f0f",
            "deea04b699864592a7754ca35458f8c1",
            "b9830bc211704e4599240404cc88fe02",
            "f7d93d19ae644595a1723d9599e880e6",
            "4b95a1b084d2460f8bdf8ba91b44cf30",
            "a874b74bb4194de7bf0873b462d235ca",
            "b0e6ff1bf30a440b96e176a227278850",
            "fe2e3b0f450e4f669afcb04d9114a075",
            "ac7f257e8b33427a93a23aa35a16208b",
            "3779e98fc57e466ab0b59cd2f3f95148",
            "7a0352d934b64fd9a20e166cecf4efc9",
            "adb6ba8184d342e99056e60246a170f5",
            "ea77d230cdb74576adf0b92ac3abcef1",
            "9fe33f7138954e2eac29c3682985df8d",
            "cb296cb8db964b0b92d56a91c5023223",
            "f0b04f17c5224b4ea692a58d7968d35a",
            "3f14cfa87b2949b99e1b769b462a86bc",
            "641d5d51df4b4169acdee398f00babfb",
            "92a5700ccc4a457d95818e4a4bf5b33a",
            "1f0da161296e450d9924daed5ecf6217",
            "25acbb70c2914119b19aadc3f433e030",
            "15abd0909fd8494dbb1af220a1eaa2fb",
            "79680db09ed5441d944103edf5306e4c"
          ]
        },
        "outputId": "39b2f42d-b9e2-4eef-8180-84a27770e85e"
      },
      "execution_count": 3,
      "outputs": [
        {
          "output_type": "display_data",
          "data": {
            "text/plain": [
              "tokenizer_config.json:   0%|          | 0.00/48.0 [00:00<?, ?B/s]"
            ],
            "application/vnd.jupyter.widget-view+json": {
              "version_major": 2,
              "version_minor": 0,
              "model_id": "fabccc88fd2e48d2bd6753550755b663"
            }
          },
          "metadata": {}
        },
        {
          "output_type": "display_data",
          "data": {
            "text/plain": [
              "vocab.txt:   0%|          | 0.00/232k [00:00<?, ?B/s]"
            ],
            "application/vnd.jupyter.widget-view+json": {
              "version_major": 2,
              "version_minor": 0,
              "model_id": "7996e46a611b4059a3b0a0403ddccd8d"
            }
          },
          "metadata": {}
        },
        {
          "output_type": "display_data",
          "data": {
            "text/plain": [
              "tokenizer.json:   0%|          | 0.00/466k [00:00<?, ?B/s]"
            ],
            "application/vnd.jupyter.widget-view+json": {
              "version_major": 2,
              "version_minor": 0,
              "model_id": "deea04b699864592a7754ca35458f8c1"
            }
          },
          "metadata": {}
        },
        {
          "output_type": "display_data",
          "data": {
            "text/plain": [
              "config.json:   0%|          | 0.00/483 [00:00<?, ?B/s]"
            ],
            "application/vnd.jupyter.widget-view+json": {
              "version_major": 2,
              "version_minor": 0,
              "model_id": "ea77d230cdb74576adf0b92ac3abcef1"
            }
          },
          "metadata": {}
        }
      ]
    },
    {
      "cell_type": "code",
      "source": [
        "# DistilBERT: a smaller and faster version of BERT\n",
        "# useful when your task is classifying a single piece of text (like a news headline, tweet, or review) into one of several categories.\n",
        "model = DistilBertForSequenceClassification.from_pretrained(\"distilbert-base-uncased\", num_labels=4)"
      ],
      "metadata": {
        "colab": {
          "base_uri": "https://localhost:8080/",
          "height": 105,
          "referenced_widgets": [
            "0aab9fc855f7470f9cef8f575f4b0f7d",
            "fc35190c2b604e9cae7da4eab3989f28",
            "327bdb6951de47a2be3d0f1ff26f1e11",
            "2b668455f71847b3832e276c7351290c",
            "bed8eb46305a40d98506da43d6a53993",
            "cc4fad4197174f2484fbe60b391c578e",
            "8c13bec3cb084a899d9144c693d1002f",
            "5a9d15d2ae5940e08ae118874e2eff7a",
            "f7745883da74496cb5c935b599710729",
            "0e53ca5274944d33b5defddc9943aa82",
            "ca35a0cb4fed4525828232b64d5c58e9"
          ]
        },
        "id": "EKXEma7hAf4n",
        "outputId": "f4d63ed1-c9da-43e8-a922-45b480023a2c"
      },
      "execution_count": 5,
      "outputs": [
        {
          "output_type": "display_data",
          "data": {
            "text/plain": [
              "model.safetensors:   0%|          | 0.00/268M [00:00<?, ?B/s]"
            ],
            "application/vnd.jupyter.widget-view+json": {
              "version_major": 2,
              "version_minor": 0,
              "model_id": "0aab9fc855f7470f9cef8f575f4b0f7d"
            }
          },
          "metadata": {}
        },
        {
          "output_type": "stream",
          "name": "stderr",
          "text": [
            "Some weights of DistilBertForSequenceClassification were not initialized from the model checkpoint at distilbert-base-uncased and are newly initialized: ['classifier.bias', 'classifier.weight', 'pre_classifier.bias', 'pre_classifier.weight']\n",
            "You should probably TRAIN this model on a down-stream task to be able to use it for predictions and inference.\n"
          ]
        }
      ]
    },
    {
      "cell_type": "code",
      "source": [
        "train_data = load_dataset(\"ag_news\", split=\"train\")\n",
        "test_data = load_dataset(\"ag_news\", split=\"test\")\n",
        "\n",
        "# Shard (divide) the data to a small portion(useful for quick testing)\n",
        "train_data = train_data.shard(num_shards=20, index=0)\n",
        "test_data = test_data.shard(num_shards=20, index=0)\n",
        "\n",
        "# Example texts for tokenization (we use the 'text' column)\n",
        "train_texts = train_data[\"text\"]\n",
        "test_texts = test_data[\"text\"]\n",
        "\n",
        "print(train_texts[0])\n",
        "print(train_data['label'][0])"
      ],
      "metadata": {
        "colab": {
          "base_uri": "https://localhost:8080/"
        },
        "id": "7n-_gfqOztL2",
        "outputId": "8fd86194-74e4-4bab-fb7b-84e702fb068c"
      },
      "execution_count": 20,
      "outputs": [
        {
          "output_type": "stream",
          "name": "stdout",
          "text": [
            "Wall St. Bears Claw Back Into the Black (Reuters) Reuters - Short-sellers, Wall Street's dwindling\\band of ultra-cynics, are seeing green again.\n",
            "2\n"
          ]
        }
      ]
    },
    {
      "cell_type": "code",
      "source": [
        "# Tokenize the training and test data\n",
        "tokenized_training_data = tokenizer(\n",
        "    train_texts,\n",
        "    padding=True,#Pad all sequences to the same length as the longest sequence in the batch\n",
        "    truncation=True, #Truncate any input that is longer than the model’s maximum allowed length\n",
        "    max_length=50 #If a sequence has more than 50 tokens, it gets truncated to 50\n",
        ")\n",
        "\n",
        "tokenized_test_data = tokenizer(\n",
        "    test_texts,\n",
        "    padding=True,\n",
        "    truncation=True,\n",
        "    max_length=50\n",
        ")"
      ],
      "metadata": {
        "id": "33K30VjoqjXB"
      },
      "execution_count": 7,
      "outputs": []
    },
    {
      "cell_type": "code",
      "source": [
        "# Print out tokenized data samples\n",
        "print(tokenized_training_data['input_ids'][0])"
      ],
      "metadata": {
        "colab": {
          "base_uri": "https://localhost:8080/"
        },
        "id": "BeuwZIaPoA9W",
        "outputId": "a078e086-8652-4340-c788-9cd06618480b"
      },
      "execution_count": 8,
      "outputs": [
        {
          "output_type": "stream",
          "name": "stdout",
          "text": [
            "[101, 2813, 2358, 1012, 6468, 15020, 2067, 2046, 1996, 2304, 1006, 26665, 1007, 26665, 1011, 2460, 1011, 19041, 1010, 2813, 2395, 1005, 1055, 1040, 11101, 2989, 1032, 2316, 1997, 11087, 1011, 22330, 8713, 2015, 1010, 2024, 3773, 2665, 2153, 1012, 102, 0, 0, 0, 0, 0, 0, 0, 0, 0]\n"
          ]
        }
      ]
    },
    {
      "cell_type": "markdown",
      "source": [
        "![image.png](data:image/png;base64,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)"
      ],
      "metadata": {
        "id": "CZRHhHoVtUI8"
      }
    },
    {
      "cell_type": "code",
      "source": [
        "print(tokenized_training_data['attention_mask'][0])"
      ],
      "metadata": {
        "colab": {
          "base_uri": "https://localhost:8080/"
        },
        "id": "PIN76FB7r0yl",
        "outputId": "f9957e8e-ceac-4b0a-f1a6-82051739a3cf"
      },
      "execution_count": 9,
      "outputs": [
        {
          "output_type": "stream",
          "name": "stdout",
          "text": [
            "[1, 1, 1, 1, 1, 1, 1, 1, 1, 1, 1, 1, 1, 1, 1, 1, 1, 1, 1, 1, 1, 1, 1, 1, 1, 1, 1, 1, 1, 1, 1, 1, 1, 1, 1, 1, 1, 1, 1, 1, 1, 0, 0, 0, 0, 0, 0, 0, 0, 0]\n"
          ]
        }
      ]
    },
    {
      "cell_type": "code",
      "source": [
        "# Create train and test datasets\n",
        "train_dataset = Dataset.from_dict({\n",
        "    'input_ids': tokenized_training_data['input_ids'],\n",
        "    'attention_mask': tokenized_training_data['attention_mask'],\n",
        "    'labels': train_data['label']\n",
        "})\n",
        "\n",
        "test_dataset = Dataset.from_dict({\n",
        "    'input_ids': tokenized_test_data['input_ids'],\n",
        "    'attention_mask': tokenized_test_data['attention_mask'],\n",
        "    'labels': test_data['label']\n",
        "})"
      ],
      "metadata": {
        "id": "dkH61tRBOEJg"
      },
      "execution_count": 10,
      "outputs": []
    },
    {
      "cell_type": "code",
      "source": [
        "# Define training arguments\n",
        "training_args = TrainingArguments(\n",
        "    output_dir='./results',               # Output directory for saving model checkpoints and logs\n",
        "    num_train_epochs=3,                   # Number of training epochs\n",
        "    per_device_train_batch_size=16,       # Batch size for training\n",
        "    per_device_eval_batch_size=64,        # Batch size for evaluation\n",
        "    warmup_steps=500,                     # number of steps (or iterations) in which the learning rate will linearly increase from a very small value to the initial learning rate set\n",
        "    weight_decay=0.01,                    # Strength of weight decay for regularization\n",
        "    report_to=\"none\"\n",
        "    )"
      ],
      "metadata": {
        "id": "nW4syJtPt2FC"
      },
      "execution_count": 11,
      "outputs": []
    },
    {
      "cell_type": "code",
      "source": [
        "def compute_metrics(p):\n",
        "    predictions, labels = p\n",
        "    predictions = predictions.argmax(axis=-1)  # Convert logits to predicted class\n",
        "\n",
        "    accuracy = accuracy_score(labels, predictions)\n",
        "    f1 = f1_score(labels, predictions, average='weighted')  # For multiclass, use 'weighted'\n",
        "\n",
        "    return {\"accuracy\": accuracy, \"f1\": f1}"
      ],
      "metadata": {
        "id": "jEoABzs_RYSF"
      },
      "execution_count": 12,
      "outputs": []
    },
    {
      "cell_type": "code",
      "source": [
        "# Set up the trainer\n",
        "trainer = Trainer(\n",
        "    model=model,                          # The model to train\n",
        "    args=training_args,                   # Training arguments (from TrainingArguments)\n",
        "    train_dataset=train_dataset,          # The dataset for training\n",
        "    eval_dataset=test_dataset,            # The dataset for evaluation\n",
        "    processing_class=tokenizer,            # Tokenizer to process the input texts\n",
        "    compute_metrics=compute_metrics\n",
        "    )\n",
        "\n",
        "# Start training\n",
        "trainer.train()"
      ],
      "metadata": {
        "colab": {
          "base_uri": "https://localhost:8080/",
          "height": 191
        },
        "id": "E_ILWUvpvEUX",
        "outputId": "c2774b86-64d4-41ff-c815-2afbb30b9b15"
      },
      "execution_count": 13,
      "outputs": [
        {
          "output_type": "display_data",
          "data": {
            "text/plain": [
              "<IPython.core.display.HTML object>"
            ],
            "text/html": [
              "\n",
              "    <div>\n",
              "      \n",
              "      <progress value='1125' max='1125' style='width:300px; height:20px; vertical-align: middle;'></progress>\n",
              "      [1125/1125 02:03, Epoch 3/3]\n",
              "    </div>\n",
              "    <table border=\"1\" class=\"dataframe\">\n",
              "  <thead>\n",
              " <tr style=\"text-align: left;\">\n",
              "      <th>Step</th>\n",
              "      <th>Training Loss</th>\n",
              "    </tr>\n",
              "  </thead>\n",
              "  <tbody>\n",
              "    <tr>\n",
              "      <td>500</td>\n",
              "      <td>0.594400</td>\n",
              "    </tr>\n",
              "    <tr>\n",
              "      <td>1000</td>\n",
              "      <td>0.220700</td>\n",
              "    </tr>\n",
              "  </tbody>\n",
              "</table><p>"
            ]
          },
          "metadata": {}
        },
        {
          "output_type": "execute_result",
          "data": {
            "text/plain": [
              "TrainOutput(global_step=1125, training_loss=0.378270024617513, metrics={'train_runtime': 124.3643, 'train_samples_per_second': 144.736, 'train_steps_per_second': 9.046, 'total_flos': 232861154400000.0, 'train_loss': 0.378270024617513, 'epoch': 3.0})"
            ]
          },
          "metadata": {},
          "execution_count": 13
        }
      ]
    },
    {
      "cell_type": "code",
      "source": [
        "# Evaluate the model\n",
        "eval_results = trainer.evaluate()\n",
        "\n",
        "# Print out the evaluation results\n",
        "print(eval_results)"
      ],
      "metadata": {
        "colab": {
          "base_uri": "https://localhost:8080/",
          "height": 75
        },
        "id": "fPjsTdKPLyAz",
        "outputId": "dce806c8-9528-4cac-91d7-92abe24da0a2"
      },
      "execution_count": 14,
      "outputs": [
        {
          "output_type": "display_data",
          "data": {
            "text/plain": [
              "<IPython.core.display.HTML object>"
            ],
            "text/html": [
              "\n",
              "    <div>\n",
              "      \n",
              "      <progress value='6' max='6' style='width:300px; height:20px; vertical-align: middle;'></progress>\n",
              "      [6/6 00:00]\n",
              "    </div>\n",
              "    "
            ]
          },
          "metadata": {}
        },
        {
          "output_type": "stream",
          "name": "stdout",
          "text": [
            "{'eval_loss': 0.24168889224529266, 'eval_accuracy': 0.9236842105263158, 'eval_f1': 0.9244332734467468, 'eval_runtime': 0.5664, 'eval_samples_per_second': 670.916, 'eval_steps_per_second': 10.593, 'epoch': 3.0}\n"
          ]
        }
      ]
    },
    {
      "cell_type": "code",
      "source": [
        "# Sample input texts for different AG News categories\n",
        "input_texts = [\n",
        "    \"UN holds emergency meeting to address global climate crisis.\",  # World (Label 0)\n",
        "    \"Manchester United wins the Premier League title after dramatic final day.\",  # Sports (Label 1)\n",
        "    \"Stock markets hit record highs as tech giants report strong earnings.\",  # Business (Label 2)\n",
        "    \"NASA successfully lands rover on Mars, begins search for signs of life.\"  # Sci/Tech (Label 3)\n",
        "]\n",
        "\n",
        "# Tokenize the new data\n",
        "inputs = tokenizer(input_texts,\n",
        "                   return_tensors=\"pt\",\n",
        "                   padding=True,\n",
        "                   truncation=True,\n",
        "                   max_length=50)\n",
        "\n",
        "# Move model to GPU if available (If your model is on the GPU, the data must be on the GPU too, otherwise you get an error)\n",
        "device = torch.device(\"cuda\") if torch.cuda.is_available() else torch.device(\"cpu\")\n",
        "model.to(device)\n",
        "inputs = {k: v.to(device) for k, v in inputs.items()}\n",
        "\n",
        "with torch.no_grad(): #ensures that no gradients are computed during this operation (as you’re not training the model).\n",
        "    outputs = model(**inputs) #passes the input data through the model and returns the predicted outputs (such as logits or probabilities)."
      ],
      "metadata": {
        "id": "Y1tf4w_sYD9h"
      },
      "execution_count": 23,
      "outputs": []
    },
    {
      "cell_type": "markdown",
      "source": [
        "![image.png](data:image/png;base64,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)"
      ],
      "metadata": {
        "id": "_uu0-GoQX6tM"
      }
    },
    {
      "cell_type": "code",
      "source": [
        "# Extract the new predictions\n",
        "predicted_labels = torch.argmax(outputs.logits, dim=1).tolist()\n",
        "\n",
        "# Map AG News label IDs to categories\n",
        "label_map = {\n",
        "    0: \"World\",\n",
        "    1: \"Sports\",\n",
        "    2: \"Business\",\n",
        "    3: \"Sci/Tech\"\n",
        "}\n",
        "\n",
        "# Print predictions\n",
        "for i, predicted_label in enumerate(predicted_labels):\n",
        "    news_category = label_map[predicted_label]\n",
        "    print(f\"\\nInput Text {i + 1}: {input_texts[i]}\")\n",
        "    print(f\"Predicted Category: {news_category} (Label {predicted_label})\")"
      ],
      "metadata": {
        "id": "CSGI8J2TSA_M",
        "colab": {
          "base_uri": "https://localhost:8080/"
        },
        "outputId": "b663cdc5-ed65-4c38-9ae0-d69e1ab7b1b4"
      },
      "execution_count": 22,
      "outputs": [
        {
          "output_type": "stream",
          "name": "stdout",
          "text": [
            "\n",
            "Input Text 1: UN holds emergency meeting to address global climate crisis.\n",
            "Predicted Category: World (Label 0)\n",
            "\n",
            "Input Text 2: Manchester United wins the Premier League title after dramatic final day.\n",
            "Predicted Category: Sports (Label 1)\n",
            "\n",
            "Input Text 3: Stock markets hit record highs as tech giants report strong earnings.\n",
            "Predicted Category: Business (Label 2)\n",
            "\n",
            "Input Text 4: NASA successfully lands rover on Mars, begins search for signs of life.\n",
            "Predicted Category: Sci/Tech (Label 3)\n"
          ]
        }
      ]
    },
    {
      "cell_type": "code",
      "source": [],
      "metadata": {
        "id": "yG9b08pbTWTj"
      },
      "execution_count": null,
      "outputs": []
    }
  ]
}