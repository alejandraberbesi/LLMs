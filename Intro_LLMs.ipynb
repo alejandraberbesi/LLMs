{
  "nbformat": 4,
  "nbformat_minor": 0,
  "metadata": {
    "colab": {
      "provenance": [],
      "gpuType": "T4",
      "authorship_tag": "ABX9TyORvtrN3Qcr9uYKU9kAdnrV",
      "include_colab_link": true
    },
    "kernelspec": {
      "name": "python3",
      "display_name": "Python 3"
    },
    "language_info": {
      "name": "python"
    },
    "accelerator": "GPU"
  },
  "cells": [
    {
      "cell_type": "markdown",
      "metadata": {
        "id": "view-in-github",
        "colab_type": "text"
      },
      "source": [
        "<a href=\"https://colab.research.google.com/github/alejandraberbesi/LLMs/blob/main/Intro_LLMs.ipynb\" target=\"_parent\"><img src=\"https://colab.research.google.com/assets/colab-badge.svg\" alt=\"Open In Colab\"/></a>"
      ]
    },
    {
      "cell_type": "markdown",
      "source": [
        "# init"
      ],
      "metadata": {
        "id": "lg1s0uCJXEMv"
      }
    },
    {
      "cell_type": "code",
      "source": [
        "from huggingface_hub import login\n",
        "from google.colab import userdata\n",
        "\n",
        "HF_TOKEN = userdata.get(\"HF_TOKEN\")  # Fetches the token from Colab Secrets\n",
        "login(HF_TOKEN)"
      ],
      "metadata": {
        "id": "elIrlcSpRNuR"
      },
      "execution_count": 50,
      "outputs": []
    },
    {
      "cell_type": "code",
      "source": [
        "from transformers.utils import logging\n",
        "\n",
        "logging.set_verbosity_error()  # Suppress progress bars and unnecessary logs"
      ],
      "metadata": {
        "id": "N10NQiEDTFGH"
      },
      "execution_count": 51,
      "outputs": []
    },
    {
      "cell_type": "markdown",
      "source": [
        "# Pipelines with hugging face"
      ],
      "metadata": {
        "id": "yR1WgzkXwHgd"
      }
    },
    {
      "cell_type": "code",
      "execution_count": 52,
      "metadata": {
        "id": "yDU7qg3mvHt_"
      },
      "outputs": [],
      "source": [
        "from transformers import pipeline"
      ]
    },
    {
      "cell_type": "code",
      "source": [
        "summarizer = pipeline(task=\"summarization\", model=\"cnicu/t5-small-booksum\") #model used for summarization\n",
        "\n",
        "text = \"\"\"\n",
        "Artificial Intelligence (AI) is transforming various industries by enabling machines to perform tasks\n",
        "that typically require human intelligence. These tasks include natural language processing, computer\n",
        "vision, speech recognition, and decision-making. AI models, particularly deep learning models, are\n",
        "trained on large datasets to recognize patterns and make predictions. In recent years, advancements in\n",
        "AI have led to applications such as self-driving cars, medical diagnosis, and chatbots. Despite its\n",
        "benefits, AI also raises ethical concerns, including bias in decision-making and the impact on employment.\n",
        "As AI continues to evolve, researchers and policymakers must address these challenges to ensure\n",
        "responsible AI development.\n",
        "\"\"\"\n",
        "\n",
        "summary = summarizer(text,\n",
        "                     max_length=50 #limit response to 50 tokens\n",
        "                     )\n",
        "\n",
        "print(summary[0][\"summary_text\"])"
      ],
      "metadata": {
        "colab": {
          "base_uri": "https://localhost:8080/"
        },
        "id": "C-jMMx8NEZgO",
        "outputId": "9e510460-865f-4819-869a-148e5456e128"
      },
      "execution_count": 53,
      "outputs": [
        {
          "output_type": "stream",
          "name": "stdout",
          "text": [
            "AI models, particularly deep learning models, are trained on large datasets to recognize patterns and make predictions. In recent years, advancements in AI have led to applications such as self-driving cars, medical diagnosis, and chatbots\n"
          ]
        }
      ]
    },
    {
      "cell_type": "code",
      "source": [
        "generator = pipeline(\"text-generation\", model=\"gpt2\")  # Model used for text generation\n",
        "\n",
        "# Example customer complaint\n",
        "customer_complaint = \"The product was horrible, and the service was very slow.\"\n",
        "\n",
        "# Predefined apology response\n",
        "apology_response = \"Dear client, we sincerely apologize for the inconvenience you reported\"\n",
        "\n",
        "# Create the prompt with structured input, this is how the response starts\n",
        "prompt = f\"\"\"Customer complaint: {customer_complaint}.\\nCompany's response to the customer: {apology_response}.  \"\"\"\n",
        "\n",
        "# Generate a response using the model\n",
        "outputs = generator(\n",
        "    prompt,\n",
        "    max_length=150,  # Limit response to 150 tokens\n",
        "    pad_token_id=generator.tokenizer.eos_token_id,  # Use EOS token to avoid padding issues (GPT-2 lacks a default pad token)\n",
        "    truncation=True  # Truncate input if it's too long\n",
        ")\n",
        "\n",
        "# Print the generated text\n",
        "print(outputs[0][\"generated_text\"])  # Extract and display the generated response"
      ],
      "metadata": {
        "id": "06Zn3gcXRaK8",
        "colab": {
          "base_uri": "https://localhost:8080/"
        },
        "outputId": "a6f3ad86-a6a7-459b-e313-a4bbbe9b4d6e"
      },
      "execution_count": 54,
      "outputs": [
        {
          "output_type": "stream",
          "name": "stdout",
          "text": [
            "Customer complaint: The product was horrible, and the service was very slow..\n",
            "Company's response to the customer: Dear client, we sincerely apologize for the inconvenience you reported.  ***************************\n",
            "To be honest, the customer contacted me about four times. They have never contacted us about this and I really don't know what could have caused the customers problems. ***************************\n",
            "To us customers this could not be your fault, the complaint. It appears that these three products were purchased at the same prices as two other packages, which resulted in total delivery costs for consumers. While it would be hard to find good prices, the price tag is not outrageous at all. In fact, I cannot see any way for us to claim,\n"
          ]
        }
      ]
    },
    {
      "cell_type": "code",
      "source": [
        "spanish_text = \"La inteligencia artificial esta cambiando el planeta\"\n",
        "\n",
        "translator = pipeline(task=\"translation_es_to_en\", model=\"Helsinki-NLP/opus-mt-es-en\")\n",
        "\n",
        "translations = translator(spanish_text,\n",
        "                          clean_up_tokenization_spaces=True #Fixes spacing issues\n",
        "                          )\n",
        "\n",
        "print(translations[0][\"translation_text\"])"
      ],
      "metadata": {
        "colab": {
          "base_uri": "https://localhost:8080/"
        },
        "id": "sC2qHD6NTTRX",
        "outputId": "e0cb3571-d3c4-4179-9616-d8b4be1cb742"
      },
      "execution_count": 55,
      "outputs": [
        {
          "output_type": "stream",
          "name": "stderr",
          "text": [
            "/usr/local/lib/python3.11/dist-packages/transformers/models/marian/tokenization_marian.py:175: UserWarning: Recommended: pip install sacremoses.\n",
            "  warnings.warn(\"Recommended: pip install sacremoses.\")\n"
          ]
        },
        {
          "output_type": "stream",
          "name": "stdout",
          "text": [
            "Artificial intelligence is changing the planet.\n"
          ]
        }
      ]
    },
    {
      "cell_type": "markdown",
      "source": [
        "## transformers architecture"
      ],
      "metadata": {
        "id": "Ifq_rlU5agKL"
      }
    },
    {
      "cell_type": "markdown",
      "source": [
        "🔍 **What’s Different in Traditional NLP terms vs LLMs?**\n",
        "\n",
        "1️⃣ Encoding in Traditional NLP = Simple static embeddings (Word2Vec, TF-IDF).\n",
        "\n",
        "1️⃣.1️⃣ Encoding in LLMs = Context-aware representations (transformers track relationships between words).\n",
        "\n",
        "2️⃣ Decoding in Traditional NLP = Retrieving stored text or using basic grammar rules.\n",
        "\n",
        "2️⃣.1️⃣Decoding in LLMs = Generating new text using self-attention and autoregressive prediction."
      ],
      "metadata": {
        "id": "KosKu6B3fqdH"
      }
    },
    {
      "cell_type": "markdown",
      "source": [
        "\n",
        "| **Model Type**      | **Description**                                             | **Use Cases**                                      | **Example Models**               |\n",
        "|---------------------|------------------------------------------------|-------------------------------------------------|--------------------------------|\n",
        "| **Encoder**      | Reads and **understands** text, but doesn't generate new text | Classification, Sentiment Analysis, Named Entity Recognition (NER) | **BERT, RoBERTa, DistilBERT, ALBERT** |\n",
        "| **Decoder**    | **Generates** text based on input (auto-regressive)  | Text Completion, Chatbots, Story Writing | **GPT-2, GPT-3, LLaMA, Falcon** |\n",
        "| **Encoder-Decoder**  | First understands the input (encoder), then generates **transformed output** (decoder) | Summarization, Translation, Question Answering | **T5, BART, mBART, FLAN-T5** |\n"
      ],
      "metadata": {
        "id": "1DQA0He8dbnV"
      }
    },
    {
      "cell_type": "code",
      "source": [
        "def identify_llm_architecture(model_pipeline):\n",
        "\n",
        "    # Get the model architecture\n",
        "    model = model_pipeline.model\n",
        "    model_type = model.config.architectures[0].lower()  # Get architecture type, and make lowercase\n",
        "\n",
        "    # Identify architecture based on the model type\n",
        "    if \"bert\" in model_type or \"roberta\" in model_type or \"deberta\" in model_type:\n",
        "        print(f\"the model arch of {model_type} is Encoder\")\n",
        "    elif \"gpt\" in model_type or \"opt\" in model_type or \"bloom\" in model_type:\n",
        "        print(f\"the model arch of {model_type} is Decoder\")\n",
        "    elif \"t5\" in model_type or \"bart\" in model_type or \"marian\" in model_type:\n",
        "        print(f\"the model arch of {model_type} is Encoder-Decoder\")\n",
        "    else:\n",
        "        print(f\"Other architecture type: {model_type}\")"
      ],
      "metadata": {
        "id": "BRCIhm97abn3"
      },
      "execution_count": 56,
      "outputs": []
    },
    {
      "cell_type": "code",
      "source": [
        "summarizer.model.config.architectures"
      ],
      "metadata": {
        "colab": {
          "base_uri": "https://localhost:8080/"
        },
        "id": "ryh6_LsLyvks",
        "outputId": "b96d733a-a89f-462b-e02a-28c5da7480c6"
      },
      "execution_count": 57,
      "outputs": [
        {
          "output_type": "execute_result",
          "data": {
            "text/plain": [
              "['T5ForConditionalGeneration']"
            ]
          },
          "metadata": {},
          "execution_count": 57
        }
      ]
    },
    {
      "cell_type": "code",
      "source": [
        "identify_llm_architecture(summarizer)"
      ],
      "metadata": {
        "id": "DT9tsooeWrTa",
        "colab": {
          "base_uri": "https://localhost:8080/"
        },
        "outputId": "048b68b8-0ce1-4282-9488-396d4dc691dc"
      },
      "execution_count": 58,
      "outputs": [
        {
          "output_type": "stream",
          "name": "stdout",
          "text": [
            "the model arch of t5forconditionalgeneration is Encoder-Decoder\n"
          ]
        }
      ]
    },
    {
      "cell_type": "code",
      "source": [
        "identify_llm_architecture(generator)"
      ],
      "metadata": {
        "colab": {
          "base_uri": "https://localhost:8080/"
        },
        "id": "dVVoUZr5kZlM",
        "outputId": "920cb8d5-e96e-474d-d5ff-bad9f54e2b81"
      },
      "execution_count": 59,
      "outputs": [
        {
          "output_type": "stream",
          "name": "stdout",
          "text": [
            "the model arch of gpt2lmheadmodel is Decoder\n"
          ]
        }
      ]
    },
    {
      "cell_type": "code",
      "source": [
        "identify_llm_architecture(translator)"
      ],
      "metadata": {
        "colab": {
          "base_uri": "https://localhost:8080/"
        },
        "id": "iGPTx7uikaMr",
        "outputId": "6b874bd0-3de0-4a1a-ed6c-1228d7debc44"
      },
      "execution_count": 60,
      "outputs": [
        {
          "output_type": "stream",
          "name": "stdout",
          "text": [
            "the model arch of marianmtmodel is Encoder-Decoder\n"
          ]
        }
      ]
    },
    {
      "cell_type": "code",
      "source": [
        "#  extractive question-answering.\n",
        "text= \"\"\"\n",
        "Bogotá is the capital of and largest city in Colombia. It is a place of convergence for people from all around the country and is therefore diverse and multicultural. Within this city, the past and present come together.\n",
        "The city is also very green thanks to its parks and the hills that extend along its eastern boundary, dwarfed by their two highest points, Monserrate and Guadalupe. The landscape that the people of Bogotá enjoy daily—the sea of green that makes up the Andes mountain range, rising up in the east—would be nearly impossible to find in any other large city.\n",
        "But Bogotá also has the colors of modern buildings and authentic colonial roof tiles that are a true historical treasure from the colonial era.\n",
        "Thanks to this fusion of the past and present, Bogotá is an ideal location with history, entertainment, delicious cuisine, culture, business, and much more.\n",
        "\"\"\"\n",
        "\n",
        "question=\"what are the characteristics of bogota?\"\n",
        "\n",
        "qa = pipeline(task=\"question-answering\", model=\"distilbert-base-uncased-distilled-squad\")\n",
        "\n",
        "output = qa(question=question, context=text)\n",
        "\n",
        "print(output['answer'])\n",
        "print(\"----------------\")\n",
        "identify_llm_architecture(qa)"
      ],
      "metadata": {
        "colab": {
          "base_uri": "https://localhost:8080/"
        },
        "id": "iUmRKEnpuko4",
        "outputId": "46673f11-f89b-4db1-8b84-69a3cb96a197"
      },
      "execution_count": 72,
      "outputs": [
        {
          "output_type": "stream",
          "name": "stdout",
          "text": [
            "history, entertainment, delicious cuisine, culture, business, and much more\n",
            "----------------\n",
            "the model arch of distilbertforquestionanswering is Encoder\n"
          ]
        }
      ]
    },
    {
      "cell_type": "code",
      "source": [
        "#  generative question-answering\n",
        "\n",
        "qa2 = pipeline(task=\"text-generation\", model=\"gpt2\")\n",
        "\n",
        "input_text = f\"Context: {text}\\n\\nQuestion: {question}\\n\\nAnswer:\"\n",
        "\n",
        "output = qa2(input_text,\n",
        "             max_new_tokens=50 # controls only the number of tokens generated by the model, not the input length\n",
        "             )\n",
        "\n",
        "print(output[0]['generated_text'])\n",
        "print(\"----------------\")\n",
        "identify_llm_architecture(qa2)"
      ],
      "metadata": {
        "colab": {
          "base_uri": "https://localhost:8080/"
        },
        "id": "haGEEVWlwBk9",
        "outputId": "3b190f24-3878-4d66-ef68-2548d5e9f6cd"
      },
      "execution_count": 73,
      "outputs": [
        {
          "output_type": "stream",
          "name": "stdout",
          "text": [
            "Context: \n",
            "Bogotá is the capital of and largest city in Colombia. It is a place of convergence for people from all around the country and is therefore diverse and multicultural. Within this city, the past and present come together.\n",
            "The city is also very green thanks to its parks and the hills that extend along its eastern boundary, dwarfed by their two highest points, Monserrate and Guadalupe. The landscape that the people of Bogotá enjoy daily—the sea of green that makes up the Andes mountain range, rising up in the east—would be nearly impossible to find in any other large city.\n",
            "But Bogotá also has the colors of modern buildings and authentic colonial roof tiles that are a true historical treasure from the colonial era.\n",
            "Thanks to this fusion of the past and present, Bogotá is an ideal location with history, entertainment, delicious cuisine, culture, business, and much more.\n",
            "\n",
            "\n",
            "Question: what are the characteristics of bogota?\n",
            "\n",
            "Answer: the city contains a huge cultural tradition but at the same time a rich heritage. It's a place of art history and the best of the arts people. It's as natural as the water, of the flowers, or as warm as the trees,\n",
            "----------------\n",
            "the model arch of gpt2lmheadmodel is Decoder\n"
          ]
        }
      ]
    },
    {
      "cell_type": "markdown",
      "source": [
        "# finetuning"
      ],
      "metadata": {
        "id": "QYkcxUcclnNt"
      }
    },
    {
      "cell_type": "code",
      "source": [
        "!pip install transformers datasets -q"
      ],
      "metadata": {
        "colab": {
          "base_uri": "https://localhost:8080/"
        },
        "id": "9ToLL3k_n5J4",
        "outputId": "c30d331b-38ab-46bd-ed21-2ccec376f510"
      },
      "execution_count": 1,
      "outputs": [
        {
          "output_type": "stream",
          "name": "stdout",
          "text": [
            "\u001b[?25l   \u001b[90m━━━━━━━━━━━━━━━━━━━━━━━━━━━━━━━━━━━━━━━━\u001b[0m \u001b[32m0.0/485.4 kB\u001b[0m \u001b[31m?\u001b[0m eta \u001b[36m-:--:--\u001b[0m\r\u001b[2K   \u001b[91m━━━━━━━━━━━━━━━━━━━━━━━━━━━━━━━━━━━━━━━\u001b[0m\u001b[91m╸\u001b[0m \u001b[32m481.3/485.4 kB\u001b[0m \u001b[31m38.2 MB/s\u001b[0m eta \u001b[36m0:00:01\u001b[0m\r\u001b[2K   \u001b[90m━━━━━━━━━━━━━━━━━━━━━━━━━━━━━━━━━━━━━━━━\u001b[0m \u001b[32m485.4/485.4 kB\u001b[0m \u001b[31m10.0 MB/s\u001b[0m eta \u001b[36m0:00:00\u001b[0m\n",
            "\u001b[?25h\u001b[?25l   \u001b[90m━━━━━━━━━━━━━━━━━━━━━━━━━━━━━━━━━━━━━━━━\u001b[0m \u001b[32m0.0/116.3 kB\u001b[0m \u001b[31m?\u001b[0m eta \u001b[36m-:--:--\u001b[0m\r\u001b[2K   \u001b[90m━━━━━━━━━━━━━━━━━━━━━━━━━━━━━━━━━━━━━━━━\u001b[0m \u001b[32m116.3/116.3 kB\u001b[0m \u001b[31m5.9 MB/s\u001b[0m eta \u001b[36m0:00:00\u001b[0m\n",
            "\u001b[2K   \u001b[90m━━━━━━━━━━━━━━━━━━━━━━━━━━━━━━━━━━━━━━━━\u001b[0m \u001b[32m143.5/143.5 kB\u001b[0m \u001b[31m8.5 MB/s\u001b[0m eta \u001b[36m0:00:00\u001b[0m\n",
            "\u001b[2K   \u001b[90m━━━━━━━━━━━━━━━━━━━━━━━━━━━━━━━━━━━━━━━━\u001b[0m \u001b[32m194.8/194.8 kB\u001b[0m \u001b[31m13.9 MB/s\u001b[0m eta \u001b[36m0:00:00\u001b[0m\n",
            "\u001b[?25h"
          ]
        }
      ]
    },
    {
      "cell_type": "code",
      "source": [
        "from transformers import Trainer, TrainingArguments, DistilBertForSequenceClassification, DistilBertTokenizerFast\n",
        "from datasets import load_dataset,Dataset\n",
        "import numpy as np\n",
        "from sklearn.metrics import accuracy_score, f1_score"
      ],
      "metadata": {
        "id": "SawgahFgnZ6G"
      },
      "execution_count": 18,
      "outputs": []
    },
    {
      "cell_type": "code",
      "source": [
        "# Load tokenizer\n",
        "tokenizer = DistilBertTokenizerFast.from_pretrained(\"distilbert-base-uncased\")"
      ],
      "metadata": {
        "id": "-y5mwt_Tqd2L"
      },
      "execution_count": 19,
      "outputs": []
    },
    {
      "cell_type": "code",
      "source": [
        "np.unique(load_dataset(\"ag_news\", split=\"train\")[\"label\"])"
      ],
      "metadata": {
        "colab": {
          "base_uri": "https://localhost:8080/"
        },
        "id": "M5peD7Urw27P",
        "outputId": "3777730b-922a-4a3a-bd0a-83d03f3a59c0"
      },
      "execution_count": 20,
      "outputs": [
        {
          "output_type": "execute_result",
          "data": {
            "text/plain": [
              "array([0, 1, 2, 3])"
            ]
          },
          "metadata": {},
          "execution_count": 20
        }
      ]
    },
    {
      "cell_type": "code",
      "source": [
        "# Load a pre-trained model for classification\n",
        "model = DistilBertForSequenceClassification.from_pretrained(\"distilbert-base-uncased\", num_labels=4)"
      ],
      "metadata": {
        "colab": {
          "base_uri": "https://localhost:8080/"
        },
        "id": "EKXEma7hAf4n",
        "outputId": "8606bde0-b047-485e-acb0-89e0c4462cc2"
      },
      "execution_count": 21,
      "outputs": [
        {
          "output_type": "stream",
          "name": "stderr",
          "text": [
            "Some weights of DistilBertForSequenceClassification were not initialized from the model checkpoint at distilbert-base-uncased and are newly initialized: ['classifier.bias', 'classifier.weight', 'pre_classifier.bias', 'pre_classifier.weight']\n",
            "You should probably TRAIN this model on a down-stream task to be able to use it for predictions and inference.\n"
          ]
        }
      ]
    },
    {
      "cell_type": "code",
      "source": [
        "train_data = load_dataset(\"ag_news\", split=\"train\")\n",
        "test_data = load_dataset(\"ag_news\", split=\"test\")\n",
        "\n",
        "# Shard (divide) the data to a small portion(useful for quick testing)\n",
        "train_data = train_data.shard(num_shards=20, index=0)\n",
        "test_data = test_data.shard(num_shards=20, index=0)\n",
        "\n",
        "# Example texts for tokenization (we use the 'text' column)\n",
        "train_texts = train_data[\"text\"]\n",
        "test_texts = test_data[\"text\"]\n",
        "\n",
        "print(train_texts[0])"
      ],
      "metadata": {
        "colab": {
          "base_uri": "https://localhost:8080/"
        },
        "id": "7n-_gfqOztL2",
        "outputId": "583ac252-ce63-4792-8735-9bc92cb084ee"
      },
      "execution_count": 22,
      "outputs": [
        {
          "output_type": "stream",
          "name": "stdout",
          "text": [
            "Wall St. Bears Claw Back Into the Black (Reuters) Reuters - Short-sellers, Wall Street's dwindling\\band of ultra-cynics, are seeing green again.\n"
          ]
        }
      ]
    },
    {
      "cell_type": "code",
      "source": [
        "# Tokenize the training and test data\n",
        "tokenized_training_data = tokenizer(\n",
        "    train_texts,\n",
        "    padding=True,#Pad all sequences to the same length as the longest sequence in the batch\n",
        "    truncation=True, #Truncate any input that is longer than the model’s maximum allowed length\n",
        "    max_length=50 #If a sequence has more than 50 tokens, it gets truncated to 50\n",
        ")\n",
        "\n",
        "tokenized_test_data = tokenizer(\n",
        "    test_texts,\n",
        "    padding=True,\n",
        "    truncation=True,\n",
        "    max_length=50\n",
        ")"
      ],
      "metadata": {
        "id": "33K30VjoqjXB"
      },
      "execution_count": 23,
      "outputs": []
    },
    {
      "cell_type": "code",
      "source": [
        "# Print out tokenized data samples\n",
        "print(tokenized_training_data['input_ids'][0])"
      ],
      "metadata": {
        "colab": {
          "base_uri": "https://localhost:8080/"
        },
        "id": "BeuwZIaPoA9W",
        "outputId": "3093410c-18b0-4f83-d5a9-436e7f5cc507"
      },
      "execution_count": 24,
      "outputs": [
        {
          "output_type": "stream",
          "name": "stdout",
          "text": [
            "[101, 2813, 2358, 1012, 6468, 15020, 2067, 2046, 1996, 2304, 1006, 26665, 1007, 26665, 1011, 2460, 1011, 19041, 1010, 2813, 2395, 1005, 1055, 1040, 11101, 2989, 1032, 2316, 1997, 11087, 1011, 22330, 8713, 2015, 1010, 2024, 3773, 2665, 2153, 1012, 102, 0, 0, 0, 0, 0, 0, 0, 0, 0]\n"
          ]
        }
      ]
    },
    {
      "cell_type": "markdown",
      "source": [
        "![image.png](data:image/png;base64,iVBORw0KGgoAAAANSUhEUgAAA5YAAADuCAYAAABCkphPAAAAAXNSR0IArs4c6QAAAARnQU1BAACxjwv8YQUAAAAJcEhZcwAAFiUAABYlAUlSJPAAAIx8SURBVHhe7N17XIzp/z/w1zRNh+kwEoWIhkLksIrIrsMiivAJ0S72IFrsLnad2TYfrPNhN6SW3bQOReuwK8Kuc6xqHbJ8kCJ0mKRSppppZn5/fGfu39z3TMcJse/n49Fj131d9z33+b7e93W4eU5OTioQQgghhBBCCCF1ZMSdQAghhBBCCCGE1AYFloQQQgghhBBCDEKBJSGEEEIIIYQQg1BgSQghhBBCCCHEIBRYEkIIIYQQQggxCAWWhBBCCCGEEEIMQoElIYQQQgghhBCDUGBJCCGEEEIIIcQgFFgSQgghhBBCCDEIBZaEEEIIIYQQQgxCgSUhhBBCCCGEEINQYEkIIYQQQgghxCAUWBJCCCGEEEIIMQgFloQQQgghhBBCDEKBJSGEEEIIIYQQg1BgSQghhBBCCCHEIDwnJycVdyIBRCIRLC0tYWJiwk0ihNSRTCZDSUkJioqKuEmEEEIIIeQNRoElh7GxMezt7SmgJOQlkslkyM3NRUVFBTeJEEIIIYS8gagpLAcFlYS8fCYmJrC3t+dOJoQQQgghbygKLLWIRCIKKgl5RUxMTCASibiTCSGEEELIG4gCSy2WlpbcSYSQl4iuOUIIIYSQtwMFllqotpKQV4uuOUIIIYSQtwMFloQQQgghhBBCDEKBJSGEEEIIIYQQg1BgSQghhBBCCCHEIBRYEkIIIYQQQggxCAWWpMHr1KkTPv30UwwfPhzm5ubcZPKKbdiwAbGxsdiwYQM3iRBCCCGE/Es1yMCyvLEYxW28AF6DXD3yCnXu3BkzZ86Et7c3PvzwQ3z00UfcLIQQQgghhJDXrMFFbi8c3kFWv6/xtMckSHpOeSuDywkTJuD777/HDz/8gM6dO3OTqxQcHIxt27Zh7dq13KQGqXfv3li5ciV27NiBsWPHcpOr1bhxYwiFQgCAkZERmjRpws1CCCGEEEIIec0aVNT2wuGd/wsmjfj/9++WPd7K4LJdu3Zo1qwZBAIBN6laLi4usLW1BZ//f/uooXN0dESbNm1gbm4OI6PaH8ekpCTcvXsXSqUSz58/x+XLl7lZCCGEEEIIIa9Z7Uv6Lwk3qGSmt+yBPPeP3rrgktRMaWkpVqxYgfHjx2PKlCk4efIkNwshhBBCCCHkNWsQ0VplQaVGiWMvCi4JIYQQQgghpIHiOTk5qbgTXyVp867I9ZxWaVCpzTLzLzRN/hlQKblJ9cLJyYk7Sa+ePXvi/fffh1gshqWlJfh8PlQqFcrLy/HkyRMcO3YM586dY/IHBARg5MiRMDY2Zi2nMs+ePUNYWBhu3ryJ4OBgDBw4kJulUo8fP8acOXO4k2Fubo5x48ahT58+EIlEMDIygkKhwLNnz3DlyhXExsaitLSUNY/mtx8/fozFixdj3Lhx8PLygkgkAgCUlZXh77//xi+//IL8/HxAa7Cdxo0bs5ZVmYqKChw+fBgxMTHMtPfeew+ffvqp3hFg//zzT4SHh3Mns9ja2sLPzw+enp6wtrYGn8+HUqlEcXExrl+/jkOHDuHx48eseTTrbW1tjcOHD+N///sfxo0bhzZt2kAgEEChUCA3NxdHjhzBn3/+yZq3rjT7NzU1FTdu3ICfnx8sLS1RWFiIffv2oaKiAuPGjYOdnR1KS0tx9OhR7N+/n7WMTp06YciQIXBxcYG1tTXTvFomkyE3NxdnzpzBb7/9xppH23vvvYdhw4bBwcEBpqam4PF4UKlUkMlkyM/Px65du/D333+z5tmwYQNatmyp91x799138eGHH8LGxgalpaX4/fffddaZKyMjgzuJEEIIIYS8YV5rFaDUoXuNg0poai7fmQiAx016ZTp37oxPPvkE3bt3h0gkYvo68ng8mJmZoW3btpg6dSrGjBnDnfW1admyJZYuXQofHx/Y2NigoqKCCSKbNm0KHx8fLF26FC1btuTOCqgHzdHM36hRI/B4PPB4PJibm6NPnz4IDg7mzvLadO/eHUuXLsXQoUNhY2PDHB8jIyOIRCK89957WLhwIbp3786dleHo6Ig5c+bA2dmZCdT4fD5atGiBiRMnYsCAAdxZDGJmZobhw4fDysoKPB4PNjY26NevH8aMGQN7e3vweDwIhUL0798fzs7OrHk//fRT9O7dG7a2tqw+uyYmJmjVqhUCAwMrPT4TJkzAtGnT0LZtW5iZmYHH+7/risfjwdTUFDY2NrC0tOTOVqkBAwZg0qRJsLGxgVQqxa+//lptUEkIIYQQQt4Or7XG8smgbyATOXAnV6vliRAIinO4kw1WkxrLzp07IygoCAUFBbh+/Tpu3LiB+/fvo2XLlvD19cV7770HgUCArKwsrF69GtnZ2dxFYOnSpXBzc2PVTNZUVbVFlVm8eDG6dOmCsrIyJCQk4ODBgygtLYWtrS0+/vhjuLu7g8fjITExEZs3b2bm49aWvnjxAvHx8fj999/Ru3dvBAQEwMbGBiUlJYiMjMSlS5eYvBqa2loAOjWTNaVdg1lVjWXz5s0xZ84ctG7dGgqFArdv38Zvv/2Gq1evomfPnvD19UX79u1hZGSEhw8fYsOGDczx4da0qlQq/O9//0NsbCxycnKY/WRkZITk5GSsWbOG8+u1p9m/crkcABAfHw+hUIhBgwZBqfy/WvnExERkZWXhP//5D5RKJXbv3o3jx48zy1i9ejWUSiVu3LiB1NRU3Lx5E7a2thg0aBCGDRsGoVCIoqIibN26FVevXmXm6969O6ZPnw6RSITc3FwkJCTg0qVLyM/PR8uWLdGhQwc4Ojri/PnzuHfvHjMfKjkHBw8ejAkTJsDS0hJFRUXYs2cPTp8+zZqvMlRjSQghhBDy5nutNZY2t44ASgV3cpUsH16GoDiXO/mVuXnzJr788kt8++23OHjwIO7fvw+om6Bu376daTbYqFEjtG3bljP3q+ft7Y327dsDAC5cuIA9e/YwtZX5+fnYsmUL7t27Bx6PBxcXF50aMY38/Hxs3boV+/fvR2lpKf78809cuHABCoUCZmZmcHR05M7yyg0cOBAtW7aESqVCYmIili1bxgRTV65cwapVq/DPP/9ApVKhRYsW8PT05C4CAKBUKnHhwgUmf35+Pnbv3g2JRAIAaNasGXcWgwgEAqSnp+PXX3/F8+fPoVAowOfzIZFIcPDgQeTl5aGiogJ8Pp9phqwxf/58LFy4EHv37mVeUOTn5yMmJgZnz56FQqGAUCjUORcdHByYpsb//PMPfv/9d6Y58+PHj3Hq1Cns3LlTJ6jUZ9iwYQgMDISlpSUKCgqwa9euGgeVhBBCCCHk7fBaA0th1jXYX94OXg37TFpm/oWmKVEAXlsla7VevHgBqJsT1uXzGvVNLBbD1NQUz58/1+krB/Woq0+ePAEAWFlZ6W0OK5VKcfDgQSQlJbGmP378GHK5HDweDyYmJqy016Fdu3bg8/l4/vw5EhMTuckoLS3F+fPnUVZWBoFAUGkQfevWLfz444+sPqfZ2dlM4GVsbIzmzZtrzWGYFy9e4MyZM6zfq6ioQGJiok5f0NqQSqVQqVTg8Xg6n6fJz8+HTCYDALi5udWqH6+2kSNHIiAgABYWFsjOzkZ4eDjOnz/PzUYIIYQQQt5yrz3yEWZfh92l8GprLl/2wD21YW5ujuHDh2PZsmWIjIxEVFQU89e3b19u9tfKzs4OPB4PVlZW+PLLL1nryl1nY2Nj2NnZcReBsrIyZGVlcSdDoVBApVKBz+fDwsKCm/xKmZubo1GjRgCA4uJipKSkcLMAAHJzcyGVSgH1ID/6SCQSnYGMoK7JhLr/YmXz1kV5eTlyc9m18HK5XG8zan3ef/99LF68GNu2bWMd1+HDh+sElBqXLl1CSkoKlEolmjZtimnTpiEiIgKzZ8+u8TlsY2ODMWPGQCgUIicnBxEREazmtoQQQggh5N/jtQeW0ASXV36sNLhsSEFly5YtsWzZMkycOBEdOnSASCSCubk589cQau60aZpOGhkZwczMjLWu3HVWqVRQKPQfg4aubdu2TNPOgoICbjLj9u3bTNCoPdjNm8jc3ByLFy/G1KlT0bVrV9ja2rKOq2aU18rs3LkTx44dQ1FREaBuvt27d298/vnniIiIQEBAAHcWlqKiIuTk/F9fZ1tbW3Tp0oWbhRBCCCGE/Es0iMASACye/K03uGxIQSUATJ48GY6OjlCpVLh58ya+++47jBs3jvmrr09R1BdN09xnz55h2bJlrHXl/n3wwQc4cOAAdxFvBO2mndx+iNo6duzIBKCagOpN9dFHH8HNzQ0A8ODBA3z//fes4xkXF4eKigrubIzS0lJERUUhKCgIP/zwA65cucIKMkePHo0ZM2ZwZ2MolUrs2bMH+fn5EAgE8Pb2ZgZqIoQQQggh/y4NJrCEnuCyoQWVHTt2RMuWLcHj8fDw4UOsXbu2wTf9Ky4uBtS1W02aNOEmvzWys7OZmkhLS0t07tyZmwVQf0pE02z3TQ8s27ZtCyMjIzx9+hSRkZG4cOECN0uNXbhwAevWrUNQUBB27tyJoqIiGBkZoXPnzujYsSM3O+Pq1av49ddf8eLFCwiFQowaNQqDBw/mZiOEEEIIIW+5BhVYQh1cNkvcAtvrsQ0qqIT6W4aapoVSqVSnH17Xrl2ZEVirogn2hEIhHBxq97kVTQ2klZVVld9i1Hj48CEqKipgZmaGd999l6mte1WKioqYUU7rezRVrrS0NKhUKjRq1Aj9+vXjJsPc3By9evWCmZkZysrKcPv2bW6WN4pmcCiZTKYzyI+zszM6depUaR/LqiQkJCAzMxMAYGpqyvRdrczJkydx4sQJyOVyWFhY4D//+U+Nzk1CCCGEEPL2aHCBJQCY5/4D67Q/GlRQCXXTQU0fRCcnJ4wdOxbm5ubo3r07vv76a8ybN69GgWJ2djYT7A0fPhzDhg2rccCXlZUFlUoFa2trTJgwodqBVs6dO4esrCzweDx07twZy5Ytw7Bhw5jBZzp37owPPvgAGzZswJQpU7izG+zx48d48eIFeDwe3nnnHUyZMkXvyLP14dKlS3j27BmMjIzg5eWFuXPnMgFO3759sWTJEnTq1AkqlQp37txBQkICdxFvFM33L+3s7DBx4kTY2tqibdu2mDFjBhYvXowOHTpU2sdy7NixmD9/PkaPHo133nmHmd6yZUtMnjyZ+TzJ8+fP8eDBA6059du7dy8SExOhVCpha2uLKVOmUHBJCCGEEPIv0iADy4bq/v37uHnzJpRKJYRCIcaOHYuoqCgsXLgQPXv2hLGxMfLy8qodAOfcuXPMJz7s7e3x8ccfIyoqCrGxsYiNjUV4eHilTTnPnz+PZ8+egcfjoU2bNvjiiy+Y+WJjY7FhwwZW/uzsbBw+fBj5+fng8Xho3bo1Pv74Y2zbtg2xsbH45ptvMHLkSDg4OLyUz6PcvHkT169fh1KphLm5OYYMGYINGzYw67tnzx6dQWKCg4NZ2zRz5kwm8B44cGCl8968eRO//vorSkpKYGxsDA8PDyxcuBCxsbH44osvmM+L3L9/H1FRUcx8b6rk5GTI5XIIBAIMGjQI27Ztw3fffYd+/frB3Nwc+fn5TPDJZWtrix49emDChAlYsGAB6/zx9fWFUChESUkJjh49WuPRaXfu3Ilr164xI80GBga+tJcIhBBCCCGkYan/SOItt23bNhw9ehQFBQXM5yfkcjkePXqEX375BTExMcwgMpXJzs7GqlWrcP78eZSUlEClqvl3OW/evIkNGzbg6tWrKC0trdG858+fx5IlS/DHH3+goKCACXxVKhXKysrw8OFD7NmzB9HR0dxZ68W2bduwd+9eSCSSaoNuQ508eRLfffcdUlJSWPtWLpdDIpHg0KFD+O9//6vTdPRNtH//fp39qlAomO0MDw9nml1zZWdnIycnB2VlZcx5DPWAPEVFRbh48SK+++47nDx5kjVfVUpLS7F582b8888/UKlUcHR0xCeffFKvn2YhhBBCCCENE8/Jyan6yORfwsnJiTuJEPKSZWRkcCcRQgghhJA3DNVYEkIIIYQQQggxCAWWhBBCCCGEEEIMQk1htVBTWFIbAQEBGDlyJIyNjblJ1Xr8+DHmzJnDnfyvRE1hCSGEEELefFRjSQghhBBCCCHEIFRjqYVqLAl59ajGkhBCCCHkzUc1llqq+0wIIaR+0TVHCCGEEPJ2oMBSS0lJCXcSIeQlomuOEEIIIeTtQIGllqKiIqpBIeQVkclkKCoq4k4mhBBCCCFvIAosOXJzcym4JOQlk8lkyM3N5U4mhBBCCCFvKBq8pxIikQiWlpYwMTHhJhFC6kgmk6GkpIRqKgkhhBBC3jIUWBJCCCGEEEIIMQg1hSWEEEIIIYQQYhAKLAkhhBBCCCGEGIQCS0IIIYQQQgghBqHAkhBCCCGEEEKIQSiwJIQQQgghhBBiEAosCSGEEEIIIYQYhAJLQgghhBBCCCEGocCSEEIIIYQQQohBKLAkhBBCCCGEEGIQCiwJIYQQQgghhBiEAktCCCGEEEIIIQahwJIQQgghhBBCiEEosCSEEEIIIYQQYhAKLAkhhBBCCCGEGIQCS0IIIYQQQgghBqHAkhBCCCGEEEKIQSiwJIQQQgghhBBiEAosCSGEEEIIIYQYhAJLQgghhBBCCCEGocCSEEIIIYQQQohBKLAkhBBCCCGEEGIQCiwJIYQQQgghhBiEAktCCCGEEEIIIQahwJIQQgghhBBCiEEosCSEEEIIIYQQYhAKLAkhhBBCCCGEGOS1BpY+Pj44e/Ysjh49Cnd3d24yIa+dUCjEt99+iz/++ANXrlxBUlISfvjhB262WnF3d8fRo0eRlJSEs2fPwsfHh5uFNCBbt25FUlISkpKSsGTJEm4yeQU0x4D2v+E095/ExERMmzaNm0wIIYTUWb0ElpoAUVP4qu5v69at3EXUypIlS3D58mUcPny4XgNSd3d3HD58GJcvX6YCDIFQKMTatWvh4+MDa2tr8Hg8AACfz+dmJYRUw9HREb/88gv++usvbN68mZv8WgmFQixduhQnT56kFz1VGDlyJPbu3YvLly8jKSkJiYmJ+OWXXzBo0CBuVkIIIf9C9RJYVlRUQCqVsv7KysqgUqmgUCj0ppG6s7Ozw4wZM7B7924cPHiwXoNr8v+NGTMGXbt2BY/Hg1QqRVxcHJYsWYJ169Zxs+oYNWoUtmzZguPHjyMoKIibTAjR0q9fP2zbtg1xcXGv/H7Wu3dvbN++HSNGjICJiQk3magFBwdj7ty5aNu2LYqLi5Geno6Kigq0b98eixYtgr+/P3cWQggh/zL1ElieOHECw4YNQ79+/Zi/X375BRUVFXj48CFrer9+/TBnzhzuImpl+fLl8PT0xMiRI5GcnMxNrrPk5GSMHDkSnp6eWL58OTe5wXB3d8e4cePg4uJCBaGXyNHREaampgCAf/75B6tWrUJCQgLS09O5WXVMmDABPXv2hLW1NYyM6uUyI+SNlpmZiQ8//BC9evXCl19+yUrr0KEDunbtCjMzM9b0l6lHjx7YtGkT1q1bhw4dOjAtEogud3d3jBgxAsbGxkhISMDIkSMREBCAjz76CPfu3YOVlRXGjBkDR0dH7qyEEEL+RajES0gNZGVlcScRQt5Q7u7uWLZsGby8vMDn83Hz5k2UlpZysxG10aNHo2nTpkhLS8N3330HqVQKAEhPT0dUVBSeP3+OVq1aoX///txZCSGE/ItQYEkIIeRfRyaTITU1FQsXLsT+/fuhUqm4WYi6/2m7du2gUqlw48YNJqjUSEhIQFZWFkxNTdG+fXtWGiGEkH8XnpOT00t5mk6bNg2TJ0/Go0ePEBAQwE0G1IP+zJ8/HyUlJVi+fDm8vb3x7rvvwsrKCgDw9OlTxMTEICoqijVfZcsWCoWYNm0ahgwZAhsbG/D5fCgUCuTk5CAiIgLx8fGs5egTExODVq1aISoqCtu3b2em9+7dG0FBQXB2doaZmRlUKhWkUikuX76MBQsWsJZRmVGjRmH06NFwcnKCmZkZeDweSktLcfXqVfz4449ITU3lzsKi2V9CoZCbBKjfHmvvDzs7O8ycORN9+vRhBp8pKyvDvXv3EBkZiUuXLjF5lyxZgpEjRwIAkpKSEB0djaCgILRv3x4mJiaQyWS4du0awsPDddbTx8cHAQEBEIvFTFO28vJyPH78GD/88AMuXrzI5LWzs0NQUBB69eoFOzs78Pl8qFQqPH/+HKmpqdi5cydr+e7u7ggNDYWdnR2kUim+//579O/fHz169ICxsTF+/fVXrFq1islfmd69eyMwMBAdO3Zk9oVCoYBEIsHp06exfft2psC0detWeHh4cBcBAJDL5TrnhraYmBiIxWLuZACAVCrF6tWrIZFIWNu0bt06tGvXDt7e3mjcuDEA4NmzZzh27JjeQU70nedyuRwPHz7Evn37cPjwYe4slfrggw/g5+eHVq1aQSAQQKVSoaysDHfv3sWGDRtw69YtAICbmxvGjx8Pd3d3iEQi5rhJpVJcu3YN33//PauJsPY+PHz4MDIyMjBu3DjY29vDyMiIdW27ublhypQp6N69O8zNzaFQKHD//n1ERETg7NmzzDI19F2Lz58/R2JiIsLCwiCRSLiz6OXm5obAwEB4eHiwzomioiLExcUhIiIC0LMtqampGD9+PJycnMDn81FaWoq///5bZx9AvX99fHzQqlUr5prX3JP279+P3bt3M3m1r2+JRILly5fDy8sLQ4cOhbW1NQCgqKgICQkJ2Lp1q04Bvz7PC20zZ87EBx98AIlEgoULFzLnBAC4urriu+++Q7NmzRAXF4c1a9aw5t2xYwc6d+6MgwcPYtWqVcy+PHz4MJYvX87cywUCAWs+AJBIJAgJCUFycjJrvpSUFEyaNInZ/1Xdm2pKs+8BYPXq1XqfFfr2b22fL2KxGIGBgfDy8mItIzc3F7/++qvOs057u2tz3kE90M748ePRunVrCAQCKBQKZGRk4LfffsMHH3wAGxubKu9lGu+++y6WLl0KMzMzrFu3DkeOHOFmwYoVKzBkyBDcuHEDn376KTOduw6aa/X48eM16qtOCCHkzdIgaix5PB6mTJmCoUOHori4GBkZGSgvL0fTpk0xderUGg1+ohnBc8KECRCJRHjy5AnS09NRVlYGOzs7tGrVijtLjfn7+2PFihXo3LkzE5jl5eXBzMwMTk5O3Ox6+fj4YPbs2ejYsSPkcjnS09ORmZkJY2Nj9OnTBwsWLKjX/ileXl4IDw/HsGHDIBKJmP5DZmZmcHNzw3//+99KB1swMzPDkiVL4ObmxvThNDExQc+ePXXWc8GCBViyZAlcXV1Z/aNMTU3RvHlziEQiZppmnUaNGoXmzZszo6vyeDyIRCL07dsXGzdurHS9eDwexo0bB09PTwgEAvB4PBgbG3Oz6Zg6dSpWrVoFT09P1r7g8/lo3rw5JkyYgMjIyEoDwpft/fffR0BAAGxtbcHj8cDj8WBra4tx48Zh+vTprLxisRhbt27FhAkT0KRJE2YfCgQCtGvXDnPnzkVwcDBrnsps2LABn3/+OcRiMVOw5/F4MDc3R/PmzVkvMBYtWoQhQ4agcePGrONmYWEBLy8vLF++vNL9JxaLMX36dLRo0QJ8Ph88Ho+5tmfOnImFCxeiT58+MDc3B9THxcXFBXPnztUZyEVzLN3c3JjzTXP+DB06FBs3bqx0PbT5+Phg3bp1GDRokM450bhxY9jZ2XFnAQA0adIEX375Jdq1a8fsB3Nzc/Tp0wdfffUVa58FBQVhxowZcHFxgbm5Oes3HBwcMH36dJ3jq6G5J44bN45ZPx6Ph0aNGmHcuHFYvXo167fq87zgun79OoqLi2FjY4POnTuz0jp37gwbGxsYGRnp1Fa5u7ujWbNmKC0txT///MNK03j69Cnu37+PJ0+eQKlUory8HOnp6bh37x4ePHigEzw3adIEc+fORbNmzfDgwQNIJBIIBAK996b6VF/Pl6+//hojR46EjY0NcnJycO/ePRQXF6N58+ZVPus05532dpuZmaFPnz5YuHChzstGzUA77dq1Q0VFBdLT05GTkwMnJyd88sknterLamNjAzMzM7x48QK5ubncZED9wkOpVMLS0pKZNn36dMybNw9t27ZFQUEB7t27h4KCAlhaWtboGiWEEPLmaRCBpa2tLdq0aYNNmzZh1KhRCAgIwPTp05Geng4TExO899573Fl0DB8+HG5ubiguLsbKlSvh7++PgIAA9O/fH5s2bcKjR4+4s9SYj48PrKyskJiYiJEjRyIwMBC+vr4ICgrCn3/+yc2ul0KhwMOHD7FixQq8//77GD9+PPz9/RESEoKCggK0bt262v4pycnJWLFiBSIiIpj+QPn5+Vi/fj1CQkLw/fffA+pBZ6ZPn45WrVpBoVAgOTkZwcHBCAgIwJkzZ6BQKCASiSodbKFTp04wMTHB7t27ERISwswDAG3atMHAgQMBdaA4YMAACAQCyGQyHDp0CAEBAfD19cXWrVvx6NEjZj6xWIwZM2YwBbCCggJm+REREXjy5AlUKhVEIhEmTpwINzc3rTX6P2ZmZmjdujXOnDmDgIAAeHh4VDvIkr+/P8aPHw+hUAiVSoW7d+9i48aNCAkJwe+//46SkhLweDw4Oztj5syZAICdO3ciJCQEp06dYpZz6tQphISEIDQ0FCdPntT6Bbbvv/8eISEhzPkml8sRFxeHkJAQrFixQmewKXNzc3h6euLWrVtYtWoVIiIikJ+fD6iD+YEDB7KO0ezZs+Hq6goAuHv3LubNmwdfX18cPHgQMpkMpqamGDFihE5AxjVmzBi4u7uDz+ejpKQEO3bsgK+vLwICAvDLL7/g6dOnrPxGRkbIzc3F7t27MXnyZPTr1w/h4eEoLCwE1OfF4MGDWfNouLq6IisrCxs3btTZvvHjx0MsFuPixYv473//i+PHj0MmkwEAmjZtypxrAODn54eAgAAIhUJIpVLs378fvr6+mDdvHh48eAAej4d27dph4sSJzDyVGT16NBo3bgyVSoXr169j1qxZ8PDwwJIlS3D16lVmHbh69+6NsrIyREREYNWqVbh58yZUKhV4PB7c3NxYn6owMjKCTCbDlStXEBoain79+iE4OBjJyclQKBQwMTFBv379dIICAGjcuDFcXV1x/fp1rFq1CqtWrcK1a9egUCjA4/HQvXt3jB07lslfX+eFPufPn0dubi7MzMx0gseuXbvC1NQUCoUCzZo1Yy3f1dUVIpEIBQUFuH79Oms+jbi4OEycOBHHjh1jaovXrl2LwMBAzJgxg1U7CgCenp64c+cOAgICMH78ePj6+mL37t2Qy+U1uofWVX09X6RSKU6cOAE/Pz+MGjUKgYGBGDlyJE6fPg2BQFDps07fdsfGxkKhUKB9+/YYPnw4k3fIkCEYM2YMjI2N8eeff2Lo0KEICAjAqFGjMH/+fBQXFzM14DXRvHlzGBsbQ6lUMvdzrqKiIigUCpiZmcHV1RWOjo4YPHgwjI2NcfjwYfj6+iIwMBDe3t6YPXs2kpKSuIsghBDyFmgQgSUAnDx5Evv27WP+nZqaikuXLkGhUKBx48bVFohsbGxgbGyMkpISnWZBsbGxNWqmVBlLS0solUpkZWWx3qCnpqZW24xIIyEhAZMmTdJpjnby5Ek8evQIpqameoM8bRKJBCdOnGCCMKgD1rS0NMTHxzNNTv38/Jg3wjdv3sRXX32FlJQUpKenIyQkBGlpaQAABwcHeHp6av3C/5FKpQgPD8emTZsQHx+PkJAQpoBnYmICZ2dnAIBIJGLefBcWFjIjpkokEvz000/48MMPkZCQAKiDc03trqYpqGb5kZGRmDNnDh4/fgyoCzLDhg1Tr83/x+PxcPPmTYSEhOgc48oMHToUVlZWUKlUSEpKQlBQEPbs2YP4+HiEhoZi+/btKC0tBY/HQ5cuXTBo0CAkJycjPj4eL168YJbz4sULxMfHVzsq7MWLFxEfHw+5XM5MKygoQHx8PE6cOKHTTFOzTTNnzkRcXBwiIyOxb98+JrCxtrZG69atAc7nTx4/foylS5fi9OnTkEgkWLlyJVNYs7W1Rd++fVm/w2Vra8vU9kokEoSHh0MikSA9PR2bN2/G5MmTWUHw3r17MW7cOGzatAm3bt2CVCrFjh07cOHCBUBdM1bZ+Zufn4/Vq1djz549OttnamqKq1evYtGiRThy5AiWLl3KbIeRkRHatGnDLGfEiBGwtrZGRUUFDh48iDVr1jBNmX/88Uc8f/4cRkZG6NatW6XroqEpWFdUVCApKYm5dhISEjB16lSdJp0amsAnMjIScXFx2LBhA3JycgD1tdGyZUsm740bN7B48WLMmDEDv//+O6RSKVJSUvDzzz+joKAAUN+3evTowcyjYWRkhNOnTyMoKAhxcXGIi4vDl19+iatXrwLq/darVy+gns+LyqSmpkKlUsHFxYWZpul7V1hYiMzMTIhEIia4BYD27dvD1NQUt27dQmZmJjPdEBKJBFu3bmVdRwcPHkRubm6N7qF1VV/Pl6+//hqLFy9mrb/mvCgrK6v0WZeVlYW1a9ey5ouNjUVOTg7MzMzQrl07Zrq3tzdEIhHS0tIQGhrKemadPXsWMTExL22gImNjYwiFQtjZ2cHExARyuVwn6L506RJ++ukn1jRCCCFvhwYRWBYXF+vU5EDdZ1Amk8HIyIhp2lWZjIwMSKVS2Nvb4/PPP9dbWKurJ0+egMfjYfDgwfj000/11jDU1KhRo7B8+XJER0cjISEB58+f11s7Z4j27dvD2NgYcrkcKSkprIKFVCrFvXv3AHUNoHaBROPx48eIi4tj/i2VSlmFKRsbGwDAo0ePUFRUBKhrl2bPno1Ro0Yx+bRp1kmpVOL8+fOsfpdQH+srV65AqVTCyMhIbxNjfdtTlW7duqFFixaA+hw7cuSIzrxHjhxhCr1CoZAJml8VuVyOpKQk1nrdvHmTqQk0NTVl+hy7uLgwgfz169d1Crh37tyBXC4Hn89H27ZtWWlcDx48YAqXrVu3RkREBAYMGMDNxjh06BC6d++ORYsW4aeffsLRo0dx7tw5+Pr6Mnk05wXX//73P9b1ffv2bTx//hxQ98W9dOkSa/sfPHjA1Ixomo9qH8vCwkJW/2Coa9WePXsGAGjUqBE6duzISufKzs4G1AGxv78/vvjii0qbv2pLS0vD6dOnmX+npqYyL0T4fD6rKeClS5dw7949TJo0CRs3bkRMTAz++OMPbNy4EU2aNAE4x1dbcXGxTv9SqVSKS5cuoby8HFAHiqjn86Iyt2/fRmlpKezt7fHuu+8C6ibc9vb2ePz4Mf7++28IBAKmRlMTdJaXl+POnTucpdXdvXv3dPpRZmZmMsF9dc+JuqrP54tYLMbs2bOxZcsWxMXF4fTp05gzZw7TFFyfjIwMneOq2W6euuk81Pvd0dGRaanCvd9BfQ4XFxdzJ9cLmUwGiUSCW7duIT8/H6ampvjPf/6DMWPGcLMSQgh5CzWIwLK8vJwpSGurqKiASqWCUChkHpyVOXHiBI4fP46Kigq4u7tjy5YtiImJwQcffMDNWmu7d+9GRkYGRCIRgoODcfToUXz33Xe1Cgi9vLxw4MABLFq0CN7e3nB2doapqSkkEgkTnNUXTQFZIBDgk08+QVJSEutP02yKx+Pp/cZiTQsdqampiI+PR3l5OXg8HlxcXLB48WL88ccf+Oabb1gFdc3/KxQKpraGq6CggAkoNIPYaNMMRFJTLVq0YAr6ZWVlTBNMbVKplAlyBAJBtedZfdP3Rr8yLVu2ZAKt4cOH6xzXTz75hOkrWV0BOyEhAefOnYNCoQCfz0f37t2xevVqHD9+HDNmzGC9PBEKhdi4cSPWr1+P0aNHo3PnzrCzs4OZmRkqKipYy9WHe7wVCgWUSiXz/9xmt6WlpUy65jzQPpZNmjRBWFgYa9vPnj3L1G7W5EXU/v37meDSxsYGEydOxKFDh7B9+3b07t2bm51Rm8/O+Pn5YdeuXfj888/Rt29fiMVipqa0siaFGpWdr0+fPmXmtbS0hLu7e72eF5X5448/kJubC0tLS6ZWUtNkPjU1Ff/88w9KS0vRrl07CIVC9OnTB7a2tnj27BlTy1ofuOeShqYFh729PTepXtTX82XRokWIjo5GYGAgevbsCXt7e8hkMjx69KjKa6m67dYEpa6urhAKhZDJZLU6V6uifT1WxtzcnGn6nZmZCalUir1790IikcDBwQHz5s3DiRMnsHjx4hq9wCGEEPJm0o0q3mDr1q3DZ599hlOnTqG0tBRisRhffvklfv75Z4MGC0hJSUFAQAA2b96M9PR0mJubY9CgQQgLC8PUqVO52XVo+jw6OjoiLS0NK1asgKenJ/r37w9/f3+mBvFNFB4ejrlz5+LKlSsoKysD1M0MR4wYgfDwcHh5eXFnIQ1EaGgoli1bhlu3bkEulzM1H5MnT8bWrVuZa+arr75C7969wefzkZWVhV27dmHWrFno2bNnjZsANjQXL17ElClTcOjQIRQUFEClUkEgEOCdd97BqlWranRdV8Xd3R1Tp06Fra0t5HI5Ll68iJUrVyIgIABffPGF3qCxtjS1Q6+CVCpFWloaBAIB0xy2U6dOkEqluHnzJq5fv46CggLY2tqiT58+6Ny5MywtLfH48WOdGsY3laHPl6CgIPj6+qKiogK//fYbAgIC0LdvX3h7e+Onn36qtF9vXWnux4bKzc2FXC6v8gWvSD1StPZ5fezYMYwdOxY///wzcnJy0KhRI4waNQq//PIL/Pz8WPMTQgh5O7xVgSXUtWgLFy6Er68vIiMj8eLFC7i6utZ5RERtu3fvRkBAAGbMmIHr16/D3NwcY8eOrbIJIQB07NgRLVq0wPPnz7Fz504cOnSIla6vKZwhNE0C5XI5fvzxR3h4eFT6V93gNzVx6dIlzJgxA/7+/oiMjGRqn1u1aoX//Oc/gNY68fn8SptMagonUPelMlR+fj7TFMzMzKzSQpFm/8vl8kpHPWwItNft8OHDOsdS+6+y0Ua54uPjMXnyZHz44YeIi4uDVCoFj8dDx44dMWbMGAiFQnTp0gV89ecNdu/ezfqETF1rwGpL+1hKJBJ89tlnOtus+evXr1+NAl6JRMJ8JmHp0qW4e/cu00LC19eX1V+wtjw8PJja1tu3b2PWrFk4ePAg0tPTwefz9bYU0FZZrauLiwtMTU0BACUlJcjMzHwp54U+169fZwKqwYMHw97eHtnZ2Th16hQyMzORnp4OS0tLdO7cGa1atYJKpdIZfOdNZ8jzpUuXLjAxMUFycjKWLVvGatqqPZKvITS1nsbGxnBwcOAmA+prtrrzT9ujR4/w/PlzmJqaVhpAt2vXDkqlEg8ePGBNl0ql2LJlC/z8/DB//nw8ePAANjY2+OSTTwy6vgghhDRMNX+6vGGkUikiIiJw5swZ8Hg8ZgCU+pCSkoLIyEjk5+fDwsKCNaCFPm3atIGpqaneJr8DBgyo9+ZbDx8+hFKphEAggIeHh0F9QmtDIpEgIiICv/76KzN4jWYwk4yMDKb/ZO/evXUGqBCLxfD09ISRkREqKirqpV/WX3/9xTSztLKywrBhw3T2heYba1A3AW7IBeGHDx8ytRrvvPNOpYW8ukhPT8eqVauYUY41A+domtZpaNeCiMXiV1Y4TE1NZWpDGjduXOdBaCqTkJCA77//nvmNRo0asQYOqi1bW1um+Sm3JkrzLdCqNGrUSKdJrlgsZmqONSMc4yWfF9pu3ryJgoIC2NjYoH///rC0tGR9RuTu3btQKpXo0KEDxGIxiouLKx0N9k1Xl+eLpgmovmatHTp0YD7tZIhr164hJycHAoEAPXr00LnfQT2ycaNGjbiTK3Xr1i1kZGRUukxvb2+0aNECJSUlVR7v06dPIzo6GqWlpbCxsTHo+iKEENIwvTWB5aRJk/QOrKP5t6YfXW25urpi/vz5OoM1WFhYwNjYGBUVFdU2a3vw4AHKy8thY2PDjOQI9Qfap06dWm0hk0smkzGBm42NDYYNG4aAgACsXLkSUH8aQxNQdenSBZGRkQgMDISrqyvc3d3x0UcfYdeuXdiwYQNrubXl7e2NvXv3YtasWUyA4eXlhR49ejAjjmoGNjl27BjTp61FixYIDQ3FrFmz4OPjg6CgIGzYsIEJQtPT0/V+hLsuTp06xfQB9fT0RHh4OAIDA+Hj44OQkBBMmzYN5ubmUCgUuHDhgs6gQnWlKehrvrHn5+eHFStWYNCgQdysNfbnn38yAw21bNkSGzZsQFBQENzd3eHq6orAwEBs27atRiMuBgUF4ZdffsGUKVOYQMTb25v5TqGm9uHWrVsoKSkB1LW+fn5+8PLygre3N5YuXap3kKWXQSqV4vz585DL5TA2NsbYsWOxZs0a+Pj4wMHBAQMHDsSCBQtw4MCBSr8FqO3HH3/E6tWrmc+ZiMViDBo0iOkDWVhYqFP7Uht5eXnMNdqhQwcEBwfD1dUVs2fPxpgxY5igszKabVy5ciV8fHwQGBiI5cuXM/s7Ly8Px44dA+p4XnTr1o0ZgKmmA6toAgxzc3N069YNMpmMFVimpKSgoKAAYrEYtra2yM3Nxfnz51nLqMyjR48gl8thZWXVIAOO+ni+aFphuLm5sYL/zz//vNLPjNTFlStXIJfL4erqqvNt1fHjx2PEiBG1qrEEgDNnzqC4uBgdO3ZkPssE9XUzefJkWFlZ4fr168wo4F5eXpg7d67OSw5LS0vweDyUlZUxYwssWbIEly5dQmRkpM7+JYQQ8map3dOlAXN0dERwcDASEhIQFxeHffv24Y8//sCAAQNQXFyM48ePc2epEaFQiPfeew9btmxBQkIC9uzZg0OHDmHlypUQiUTMADZVOX/+PG7dugVjY2NMnDgRR48eRVxcHMLDw2Fvb4/79+9zZ6lSYmIiMzCDQCCAn58fvv76a2bEx+TkZBw+fJhp1uji4oLZs2cjKioK27Ztw4wZM9CxY8dafSRbHz6fjxYtWuCDDz5AVFQUkpKSsGnTJubTBxKJBL/++iug9WkWTeHKzs4OH3zwAUJDQzF16lQ4ODiAx+Ph0aNH2Lp1a719niAqKgqHDh1CeXk5+Hw+OnbsiNmzZyM0NBTDhw+HpaUlFAoFLl++jPXr13Nnr7PU1FRmkJUuXbpg6dKl6Nu3r0G1EpmZmdi7dy8KCgrA4/Hg4OCAqVOnYtu2bYiKisLs2bPh7u5eo8KZkZERxGIxpk2bhpiYGCQlJWH58uVMof7+/fs4cOAAMxJpRUUFeDweunbtik2bNmH58uVwcXHBzZs3uYt+aaKjo3HlyhUo1N+AHDBgAEJDQ3Ho0CGsXr0a/v7+aNGiRY0KzVZWVhg4cCBWr16NpKQkxMTEYNSoUTAxMYFMJkNCQoJBtdcnT55kRiq1tLTEp59+iqioKAQGBuLZs2dM0/DKFBYWorCwEIMHD0ZoaChmz54NZ2dn8Hg8lJeX47fffmNG2q3LeeHo6AgrKyvk5+fjypUrWr9ctdu3b0OhUMDOzg65ubn4448/mLTk5GTk5OTAxsYGpqamrKCzOjdv3kReXh7Mzc3x5ZdfYv/+/di7d69Oy4bXpT6eL5rgTCwW4+eff0ZMTAxOnDiBDz/8EBkZGfXWJzI6OhopKSkwNjbGiBEj8Ntvv2Hfvn04evQoZs2ahWfPnum0nKnOoUOHcPbsWfD5fIwZMwYnTpxATEwMoqKi4OzsjLS0NISFhTH5RSIRhg8fjj179uDo0aPMf7/44gsIBAJcunSJeYnn5uYGY2NjtG3btt5bIhBCCHm1qi+BvSH++ecfpKeng8fjwdHREWKxGHw+H9evX8fixYtZn8+oDYlEgmvXrqG4uBgikQjOzs5o1qwZJBIJ9u7di7lz5+od0l2bVCrF+vXrkZiYCJlMBjs7Ozg4OCAzMxNr166t9UNeKpVi8+bNTCEP6lEmtQurERERWLBgAa5du4YXL16wvntZWFiIy5cvIzo6mslfF48ePcKdO3dQUlKis/xTp05hwYIFrBrAY8eOYcGCBTh16hQKCwtZ6/706VMcOnQIwcHB9VZrqLFu3TqsXLkSt27dQmlpKbOu5eXlSE9Pxw8//IBZs2ZVexxrIywsDCdPnmQ+6aFSqVBUVGTwCMBHjhzBV199hQsXLqCoqIi134uLi3Hjxg1ERUVxZ9ORnp6O+/fvs/aH9nGYNWsW0wds06ZN2LdvH/Lz86FSqaBSqZCXl4eIiAidTyC8TFKpFLNmzcK2bdvw8OFDpkYQ6mOZnZ2No0eP4uDBg6z59ElNTcWzZ8+Yc1ClUqG0tBS3bt3CihUrsHXrVu4stZKeno4VK1YgNTWVqb2WyWS4cuUKwsPDqxwBFOq8YWFhrPnlcjnS0tKwdu1ahIeHs/LX9rzo0KFDnb4xefPmTRQXF0OlUiEtLU3nmrlz5w6USiVKS0trFVhmZmZix44dzDd9W7duDT6fr7P816U+ni9xcXHYsWMHsrKyYGJiAicnJ/D5fBw7dgyxsbHMMTOUVCrF/PnzsXfvXjx79gxWVlYQi8UwMzPDiRMnsGnTpmrPP31CQ0Oxbds2ZGdnw9raGk5OTlAoFDhx4gTrfgH1s+HGjRsoLS1F06ZN4ezsDBsbGzx+/Bjbtm3Dt99+y+S9desWKioq8OjRI+a7uIQQQt5MPCcnp/p5mhFCCKkzHx8fzJ8/H0KhEBKJBCEhIXq/71sffvjhB3Tv3h0RERHYtWsXN5kQQgghpNbemhpLQggh1XN0dETLli2Rn5//0gJXQgghhPz7UGBJCCH/Ii4uLrCyskJGRoZB/UgJIYQQQrRRYEkIIf8ip06dwqBBgzBr1ixuEiGEEEJInVFgSQghhBBCCCHEIBRYEkIIIYQQQggxCI0KSwghhBBCCCHEIFRjSQghhBBCCCHEIBRYEkIIIYQQQggxCAWWhBBCCCGEEEIMQoElIYQQQgghhBCDUGBJCCGEEEIIIcQgFFgSQgghhBBCCDEIBZaEEEIIIYQQQgxCgSUhhBBCCCGEEINQYEkIIYQQQgghxCAUWBJCCCGEEEIIMQgFloQQQgghhBBCDEKBJSGEEEIIIYQQg1BgSQghhBBCCCHEIBRYEkIIIYQQQggxCAWWhBBCCCGEEEIMQoElIYQQQgghhBCDUGBJCCGEEEIIIcQgFFgSQgghhBBCCDEIBZaEEEIIIYQQQgxCgSUhhBBCCCGEEINQYEkIIYQQQgghxCAUWBJCCCGEEEIIMQgFloQQQgghhBBCDEKBJSGEEEIIIYQQg1BgSQghhBBCCCHEIDwnJycVd+K/nUgkgqWlJUxMTLhJNSaTyVBSUoKioiJuEiGEEEIIIYS8VSiw1GJsbAx7e3uDAkoumUyG3NxcVFRUcJMIIYQQQggh5K1ATWG11HdQCQAmJiawt7fnTiaEEEIIIYSQtwYFlmoikajeg0oNExMTiEQi7mRCCCGEEEIIeStQYKlmaWnJnVSvXvbyiS4fHx+cPXsWR48ehbu7Ozf5jebu7o6jR48iKSkJZ8+ehY+PDzdLgxQUFIQLFy7g8uXL+Pbbb7nJbwXNeZeUlPRWnnsNwbBhw7B3715cvnwZSUlJOH36NLy9vbnZamXJkiVISkpCUlIStm7dyk0m9awu14m7uzsOHz6MpKQk7NmzB2KxmJuFEELIa0SBpdrLqq3UeNnLJ+RN0L17d5iamoLP56Njx47cZALA398ff/7551sdfBvC398fc+fORbt27cDn8wEARkZGzP+Tt1ePHj3QtGlTAICDgwM6dOjAzfJGEwqF2LJlC65cuYKjR4/Cy8uLm4UQQho0CizJG2327Nk4cuQIFi9ezE1qEOzs7DBjxgzs3r0bBw8erNFb+bdZUlISSkpKIJfL8c8//3CT//XEYjH8/f1hZWWF9PR07Nq1i5ulwRCLxZg/fz4OHDiA3bt3c5NfmlGjRsHKygoqlQp3797FqlWrsGjRIsTHx3Ozsryu9W1o3uT9kJKSgqysLCiVSjx69Aj/+9//uFneCAMGDMCaNWtw4sQJ1rNLKpXip59+gkQigZ2dHT788EMIhULWvIQQ0pBRYEneaJ6enmjevDl4PB43qUFwd3fHuHHj4OLiQrXWAH766ScMGDAAffr0wbJly7jJ/3pjxoyBWCxGaWkpjhw5gvT0dG6WBmPw4MEYOXIkWrduDWNjY27yS+Hu7o7GjRsD6kL4vn37EBcXh4sXL3Kz6ngd69sQvcn7ITk5GWPGjEGvXr3w4YcfNujroypjx47FgAEDYGNjo/PsSk5OxqlTp1BRUYGuXbti4sSJrHRCCGnIKLAkhJAGwM3NDX379gWfz8edO3ewb98+bhai5cWLF8jOzuZOJuSN9+uvv+LJkycQCATo378/HB0duVkIIaRBalCB5cyZM3HkyBEkJSXhyJEjmDlzJjcLIYS8lfr164emTZtCJpPVqAaOEPJ2yszMxJUrV6BUKtGqVSv079+fm4UQQhoknpOTk4o78XWIiIhA9+7duZNx9epVTJ06lTu53jk5OXEn6dWzZ0/4+PjAxcUFcrkcO3bswLlz57jZ9MrIyOBOYvHx8cH8+fNRUlKCdevWYeTIkXjnnXdgbm6OsrIynDt3Dps3b0ZJSQlmzZqF999/H1ZWVlAqlcjJyUF0dDTi4uK4iwUAjBw5EuPHj4eTkxP4fD4UCgUyMjKwb98+HD58mJVXLBYjMDAQXl5esLGxYfLn5ubi119/RVRUFCv/1q1b4eHhgcOHDyM1NZX1O6Wlpfj777/x/fff6zRb6t27N4KCguDs7AwzMzOoVCpIpVJcvnwZCxYsYOXliomJqXREwMOHD2P58uWs/bl8+XJ4e3vj3XffhZWVFQDg6dOniImJ0dkeqAdRmDZtGry9vdG4cWPweDyUlpbi6tWr+PHHH5GamsqdhUXz25X1j0lPT0dAQADzbzs7OwQFBaFXr16ws7MDn8+HSqXC8+fPkZqaip07d7J+093dHaGhobCzs4NUKsXq1auZPmZDhgzBvHnzIBKJoFAocPz4cdYgMJpzoXXr1hAIBFAoFCgoKMCJEyewfft2SKVSvb+xbt06tGvXjtknqGYf6rNkyRKMHDkSUPe3nD59OpPm5uaGwMBAeHh4wNraGjweDwqFAkVFRYiLi0NERITWknRp73OJRIKwsDBMmDABLi4uqKiowM8//4wff/wRqOTce/78ORITExEWFgaJRMJa9gcffAAfHx+0atUKZmZmzLrl5ORg//79rL5q3PUICQlBcnIya3n67NixA126dEF2djYWL17MOt7c/bZt2zYEBwejW7duMDExgUKhwOPHjxEdHa1zPbu5uWH8+PFwd3eHSCRizi2pVIpr167pXJua6xnqa+nFixcYPnw4rK2tcffuXZw7dw6TJ0+GQCDQ+pX/j3tcKyMUCvHxxx9jwIABaNGiBQQCAbNe9+7dw86dO3Hp0iWgDteTtmnTptVofbn7ODo6GkFBQWjfvj1MTEwgk8lw584dbNmyBSkpKdzF1Pqcqkxtj5dG79698eGHH8LV1RUWFhasczQiIgKtWrWq0X7Q3FvlcjmioqKwfft2Vr6q0l/2dVLZPHW9V3HnW716NZo2bYqAgAA0adIEUDe5vnjxIjZv3sw6htzrZPny5UxaZena07i4+/Pdd9/F0qVLYWNjg3PnzuGrr77izkIIIQ1Og6ixnDlzpt6gEupRJBtCzeV7772H1atXY86cOXB1dX2pfVOMjY0xc+ZM9OjRA9nZ2ZBIJDA1NcXgwYOxYMECfPfdd/Dz80NZWRkyMjIgl8vh4OCA6dOnw8/Pj7s4LF68GPPnz0fbtm3x/Plz3Lt3D8XFxWjbti3mzp2LoKAgVv6vv/4aI0eOhI2NDXJycpj8zZs3x9SpU3XyazRp0gRffvklmjVrhgcPHkAikcDMzAx9+vTBwoULWYVCf39/rFixAp07d0ZZWRnu3buHvLw8mJmZ1SjIf/jwIe7du4cXL14AAHJzc3Hv3j3cu3dPpwDH4/EwZcoUDB06FMXFxcjIyEB5eTmaNm2qd3vEYjG2bt2KCRMmoFGjRsjKykJ6ejp4PB769OmD5cuX1+sgPF5eXggPD8eoUaPQvHlzZnRLHo8HkUiEvn37YuPGjfD39+fOqkMsFuOjjz6CSCSCSqVCSkoK1qxZw6RrzoV27doxBUw+n48mTZpgwoQJWL16daWF9/fffx8BAQGwtbUFj8cDj8erdB/Wlo+PD9atW4dBgwZBJBIx/Y74fD4aN24MOzs77ixVMjY2xvTp09GxY0fw+XzWqKFTp07FqlWr4ObmBjMzM0BrXw8dOhQbN25kvbQICgrCjBkz4OLiAnNzc9a6aa67mgRSVenWrRuaNWsGAHjy5EmVLy7MzMywatUq9OzZk+m3y+fz0bp1a8ydOxfBwcGs/IsWLcKQIUPQuHFj1rllYWEBLy8vLF++vNKXNC4uLhg3bhysra0B9X6tD5prbPLkycwLDmitV7du3bB27VqdbXlVzMzMsGTJEri5uTH72MTEBG5ubvjqq6909ldtz6mq1OV4BQcHY+3atejZsycsLS1Z56idnR1atWrFyv8yvIrrpKbqeq8aMmQIPvvsMzRt2pSZz8LCAoMHD67VMawP58+fR35+PgDA0dGx0vsyIYQ0JA0isBwyZAh3Ekt16S+bubk5fH194eTkBIVCgdTUVJSVlXGz1ZtGjRrB1NQUCxYsQEBAAHx9fREfHw+lUonevXvDw8MDx48fh6+vLwICArBgwQJIJBJYW1ujX79+rGVNnjwZw4YNg0qlQnR0NIYMGYLAwECMHDkSCQkJMDY2hq+vL9zc3Jh5pFIpTpw4AT8/P4waNYrJf/r0aQgEArz33nus39Dw9PTEnTt3EBAQgPHjx8PX1xexsbFQKBRo3749hg8fzuT18fGBlZUVEhMTMXLkSAQGBsLX1xdBQUH4888/WcvVZ968eQgMDERubi4A4PLlywgMDERgYKBOzZatrS3atGmDTZs2YdSoUQgICMD06dORnp4OExMTne2ZOXMmXF1dkZeXh/nz57PmSUtLQ/PmzREYGMiahys5ORkrVqxAREQESktLAQD5+flYv349QkJC8P333wPqAvaMGTOYgl9BQQF2796NkJAQRERE4MmTJ1CpVBCJRJg4cSLrOHEJhUJ89dVXaNeuHVQqFe7du4f169czNZBBQUHw8fGBQCBAYWEhwsPD0a9fP6xevRp5eXng8Xjo0aOH3sEizM3N4enpidTUVKxatQo//PADE8CbmJigX79+BhV8Ro8ejcaNG0OlUuH69euYNWsWPDw8sGTJEly9ehUymYw7S5UaNWoEGxsbHDx4EL6+vujTpw+2b98OPz8/BAQEQCgUQiqVYv/+/fD19cW8efPw4MED8Hg8tGvXjrUPjIyMIJPJcOXKFYSGhqJfv34IDg5GcnIyFApFvWx/ixYtmG/dPnnyhJvM0qFDB1haWuL3339nzpOsrCwAgKmpKYYOHco6T4yMjJCbm4vdu3dj8uTJ6NevH8LDw1FYWAgAaNOmDQYPHszk19a+fXs8fvwY8+bNg4eHBwICAnDy5EmEhoYiLi4OcrkcAPDo0SOEhIQgJCQEO3fu5C6GRXOeurq6gsfjoaSkhNmWjRs34u7du1CpVDA1NcWYMWMwZMgQ5npav349U9jWdz3pU5f17dSpE8zMzLB3717897//xcWLF6FQKAB16xYfre/G1uWcqkptj9f48eMRGBgIU1NTqFQqPHz4EBEREQgJCcGWLVtw9+5dKJXKOu2H2ngV10lN1PVeZWZmhl69eiE9PR0bN27Ef//7X5w5cwZyuRw8Hg9t27bFmDFjuLPVys6dOxESEoLr168z006dOoWQkBCEhobi5MmTrPya61okEqFHjx6sNEIIaYgaRGDZvHlz7iSW6tJfttLSUty9exf379/HmjVrcPbsWahUL68FsVKpxPHjx1n9rH7//Xfk5+fD2NgYDx8+ZBUCLl68iCtXrgDqAqq2QYMGwcTEBGfPnsUPP/zATJdKpYiNjYVEIkGTJk1YNcZff/01Fi9ezKr5k0qlSElJQVlZGRo3bqy3xi4rKwtr165lzRcbG4ucnByYmZmhXbt2zHRLS0solUpkZWUxgQ8ApKam6jS9qg8nT55kDYaSmpqKS5cuQaFQsLZn0KBB6NKlC8rKyhAdHY2zZ8+y5klISIBcLkfbtm3h6urKpHFJJBKcOHGCCQwBQKFQIC0tDfHx8cyx9fHxYWpoJRIJQkNDsWnTJsTHxyMyMhJz5szB48ePAfV1MGzYMK1fYZs3bx569OgBHo+HtLQ0LF26lGky5+joCG9vb5iYmKC0tBQ7duzAjh07IJVKceDAAcTGxkImk0EgEKBnz57cRYPH4+Hq1av48ssvERcXh127dmH37t3MCxY7OzuDCj6aGrGKigokJSUx+ychIQFTp05l1brWBI/Hw7lz57By5UrW+ThixAhYW1ujoqICBw8exJo1ayCRSHD69Gn8+OOPeP78OYyMjNCtWzdmwIwbN25g8eLFmDFjBn7//XfmWvj5559RUFAAALCxsTFo+1u1agWBQAC5XI68vDxuMktFRQW2bduG0NBQ5jxZs2YNM5+dnR369OnD5N+7dy/GjRuHTZs24datW5BKpdixYwcuXLgAABAIBJUODlJUVIStW7fi9OnTzLT09HQkJCQw2w51M774+HjEx8fXqDmjm5sbeDweiouLERYWxmzLnj17EBQUhBs3bgDqArW3tzdzPaWlpTEBnr7rSZ+6rG95eTkiIyOxYcMGHDlyBIsWLUJaWhqgrrXVfibV5ZyqSm2Ol1AoxPDhw2Fubg6VSoWkpCRMmjQJkZGRiI+Px88//4yPPvoIkZGRddoPtfEqrpOaqOu9ysjICP/88w+mTJmCPXv24MiRI5g7dy7++OMPKJVK8Pl89OjRQ29QWlPJycmIj49nvSh78eIF4uPjkZCQoNPEOT8/n3nJounCQQghDVmDCCyrG9mvuvRXYceOHVi4cCHrTePLUlxcrPM7ycnJKCkpAQD873//Q2ZmJitdIpFALpfDyOj/H9J3330X9vb2kEqlTF8lbampqcjLy4OpqalOgUcsFmP27NnYsmUL4uLicPr0acyZMwfm5uasfNoyMjJ0HoyZmZnIyckBj8eDra0tM/3Jkyfg8XgYPHgwPv30U4Me1tUpLi7WW2hKT0+HTCZjNZPs3LkzLC0tkZ2djSNHjnBnwf379/HixQs0atQIbdq04SbXWvv27WFsbAylUonz58/rFJDT09OZQRyMjIwqbSbs7u6OwYMHg8/nQyKRYMuWLaxj0bFjR2b/5+bm6mzb7du38fz5cwBAs2bN0K1bN1Z6eXk5Ll26xHoJcPfuXWYeQws+mmtcIBDA398fX3zxRa2bv2orKyvD5cuXWdO6devGvHgpLCzUuSbOnz+PZ8+eAeoaz44dOwIALl26hHv37mHSpEnYuHEjYmJi8Mcff2Djxo1MPyxDt19DqVQyNdyVyczM1Dl+Fy9exO3btwH1PtR8RB4ADh06hO7du2PRokX46aefcPToUZw7dw6+vr5MHhsbG+b/td2/f58VVNYHFxcXprnojRs3dPqFS6VSXLhwgSl8v45mgNzrXyqVsr6ZqNlfdT2nqlKb4/Xuu+/CwcEBULd22LNnD+safZVe5XVSlbreq2QyGS5cuKCz/86ePYvi4mJA/UK0qheK9S0/Px8VFRUQCASvpDkzIYQYqkEElidOnOBOYqku/W0jl8urLFxq3thrUyqV3EmwsrKCqakpLCws8M033yApKUnnr0uXLtzZsGjRIkRHRyMwMBA9e/aEvb09ZDIZHj16hIqKCm52hvabcG2aGjvtoHT37t3IyMiASCRCcHAwjh49iu+++67Kpp51VV5ezjQj01ZRUQGVSgWhUMgEXZaWluDz+RCLxTh79qzO/tqwYUOlhfC60ARPmgF09CkoKGCOuWYgCm2a5o8mJiYoKSnBzp07dQLUNm3awNTUlPl/7raFhYUxhT/o6UunUCjw9OlT1rT6tH//fia4tLGxwcSJE3Ho0CFs374dvXv35mavVnFxMdOMTEO7uWmTJk0QFhbG2gdnz55lXhZov2zw8/PDrl278Pnnn6Nv374Qi8VMDau+a9EQNdnPz58/1yn8gnP9aYIdoVCIjRs3Yv369Rg9ejQ6d+4MOzs7mJmZVXkta1TXLLcuWrZsCZ66/11l2yqRSJj1EwqFr7QwD3WBXt8+5qrrOVWZ2h4v7eu6sLBQ57p/lV7ldVKVmlxD+lRUVOj0z4d6v5aXlwPq54MhL7wIIeRt1yACy7CwMFy9epU7GVCPChsWFsadTGqhvLwc6enpzOA2+v40D9SgoCD4+vqioqICv/32GwICAtC3b194e3vjp59+qnVft8qkpKQgICAAmzdvRnp6OszNzTFo0CCEhYW9klGAq1NYWKizj7T/7t+/j6KiIu5sr4VcLmcKUubm5i8lOH/ZLl68iClTpuDQoUMoKCiASqWCQCDAO++8g1WrVr22c8Ld3R1Tp06Fra0t5HI5Ll68iJUrVyIgIABffPEF09+vvmgGUjKUJsj86quv0Lt3b/D5fGRlZWHXrl2YNWsWevbsyYwiTBqON/V4verr5HUpLy9nai8JIYToahCBJdSj6kVFRTG1FtnZ2YiKinptBcq3gUwmg1wuh1wux86dO5nBbfT9aQa86dKlC0xMTJCcnIxly5axmlM2adKk2jfutbV7924EBARgxowZuH79OszNzTF27FgMGDCAm/WVkMlkUCqVePr0qc4+0v775JNP6qV2QNNMjs/nV1oTqvnkANQ1OVyaPrnPnz8Hn8/H0KFDERISwsqTnZ3N1Hikp6fDw8Oj0j9fX1+9TYdfNolEghUrVmDIkCFYunQpM4iLUCiEr6+vwbVW2rVQEokEn332mc62a/769euH+Ph4eHh4MLXEt2/fxqxZs3Dw4EGkp6eDrx5ttj4ZGRlV2dwc6j5k+miaSSuVShQVFUEoFKJLly7gqz/7s3v3bvzwww/MeVvf13JNaQbcgvqeoo/2veb58+ev5XysibqcU5Wpy/EqKChgruv6eqmk/fKQe347Ojoyo+Rqe9XXycvA4/F0WmpA3S1E03S2tLSUCZK1WxXpOzaammRDaO79FRUVDaJLECGEVKdB3e3DwsLg5+cHDw8P+Pn5UU2lge7evYvCwkIIhcJKP+fCpWnmo69ZZocOHfQWKupDSkoKIiMjkZ+fDwsLC7i4uHCzvBLp6ekoLy+HnZ0dvL29ucn1LiMjg+k/2bt3b51BkcRiMTw9PWFkZISKigrcuXOHla7x4MEDxMXFQSaTgc/nY8iQIayh/TMyMpjmwM2bN8f48eO15m54EhIS8P333zOFuPro05qamsosr3Hjxujbty83iw5bW1vmUxjc2nrNdwbrgybwNzY2ZvVF1qdt27Y6L178/f2ZTyGUlpbi9u3bcHV1ZfVN1B7JWiwWGxyo15Xmcz9Q92nmDkglFArx3nvvMaOccvttNyR1OacqU5fjdfv2bea6trOzq9EniaqjWZ5AIED79u1ZaQMGDGD139V4VdfJy2RmZgZPT0/WNKFQiAEDBjAve548eYJbt24BWgPrAICzszPr2A0ZMgStW7dm/l1XIpGIGW23Jk2zCSHkdWtQgSWpX5mZmbhy5QpUKhW8vb3x6aefstKFQiG+/vprREZGMtM0NWJubm6sb3Z9/vnnOp/lqCtXV1fMnz9fZ2Q+CwsLGBsbo6KiosZNpzT56uMhDgDx8fF48OABrK2tMWXKFJ3+fW5ubtiyZQvmzZvHml4ZTa0x1H0Hhw0bhoCAAKxcuRIAcOzYMeZNdIsWLRAaGopZs2bBx8cHQUFB2LBhA1q2bAmog17uoC3atm7dipMnTzJD+48ZM4YpaKampiIlJQVKpRLm5uaYNm0aQkJCMHDgQDg4OMDHxwfLli3Dr7/++koCaq4ff/wRq1evxsCBAwF1QXrQoEFMH63CwkI8ePCAM1ftSKVSnD9/HnK5HMbGxhg7dizWrFkDHx8fODg4YODAgViwYAEOHDjAfOsuLy+POX4dOnRAcHAwXF1dMXv2bIwZM6bSj83XVlZWFoqLi8Hj8ZjjXRkbGxssXLgQ06ZNg4+PD2bNmoXg4GCmr9+tW7fw22+/4datW8yAX2ZmZvDz84OXlxe8vb2xdOnSSgeCqqnS0lKmb3ezZs0wc+ZMfPzxx1iyZAk3K8uBAweYYFEkEuGrr77CN998Ax8fHwQGBiIyMpLp+y2RSHDw4EHOEuqmrutblbqcU5Wpy/FKTU3FhQsXoFAomNYKu3btQmBgIHMP+eWXX1i/Xd1+uHPnDlML6uHhgf/+97/w8fHBnDlzMGnSJL3n/Ku6Tl4mHo+HgQMHYtu2bfDz84O/vz82b97MvJQtLi5mjfdw9+5dJvhv164dVq5cCT8/PwQFBWHWrFl6BwjS0K7tfOedd+Dv74+FCxdi0qRJrHyaQfWKi4tx9+5dQB2oHz58GGfOnMEHH3zAyk8IIa8bBZZvubCwMKSkpMDCwgLTpk3DH3/8gX379iEuLg4JCQkICAhgCqQAcObMGRQXF0MsFuPnn39GTEwMTpw4gQ8//BAZGRn18v1OTY3Eli1bkJCQgD179uDQoUNYuXIlRCIRUlNTq2wypu3WrVuoqKhA165dcfToURw6dAgLFizgZqsxqVSK7du3QyKRoE2bNti4cSOOHj2KPXv24OjRo4iMjISHh4feJlP6JCYmMoPICAQC+Pn54euvv0bbtm0Brc+raAJ6Ozs7fPDBBwgNDcXUqVPh4OAAHo+HR48eYevWrTqjAXOtWbMGKSkpUKlUsLKywieffAIvLy8AQHR0NG7fvg2VSgVLS0sMHz4cq1evxqFDhxAaGophw4bB1tZWb7Oul83KygoDBw7E6tWrkZSUhJiYGIwaNQomJiaQyWRISEhgagoMER0djStXrjDB94ABAxAaGopDhw5h9erV8Pf3R4sWLZimeydPnkROTg6gHrjj008/RVRUFAIDA/Hs2TOmKbOhkpOTmd9xcHDQWzul8eDBA5iZmWHKlCkIDQ3FBx98gEaNGgHqms/du3cD6nP50qVLqKioAI/HQ9euXbFp0yYsX74cLi4uuHnzJmfJtXP16lWmb69QKMTkyZMxffp0nU8ecUmlUqZvtUr9jdYRI0YgNDQUs2fPhouLC3g8HgoKChAREVFvzWDrur7Vqe05VZm6Hq+wsDBcvnyZCS47duyI2bNnM/cQsVjM+u3q9kN8fDzziSMTExMMHToUoaGhmDBhAsrKyvQ2yXxV18nLVFpaiqysLPTo0QNLly7FggUL0K1bN/D5fCgUCpw9exaHDh1i8sfHx+POnTtQqVTg8/nw8vLC0qVLMXXqVJiZmeH+/fus5Wu7ceMGU2vfqlUrLFiwACNGjGA1g9eM6g71S0XNvb9Hjx5o2rQpLCws9H4aihBCXqeqn3SEERwcjNjYWMTGxmLmzJkwNzeHubk5Zs6cidjYWOzZswcBAQHc2V47qVSKuXPnYu/evUwz07Zt28LBwQFlZWU4deoUU3sGAHFxcdixYweysrJgYmICJycn8Pl8HDt2DLGxsfXy/U6JRIJr166huLgYIpEIzs7OaNasGSQSCfbu3Yu5c+fWuNnPzp07cerUKab5atOmTQ0Ofi9evIgFCxYgMTERZWVlaNq0KZydnWFjY4OcnBxERUVh06ZN3Nn00hSib9++zfr+nnZB69ixY1iwYAFOnTqFwsJCVr6nT5/i0KFDCA4OrlGfTqlUivXr1zPf3LOzs8NXX30FLy8vpKenY/r06di7dy+ys7OZ31GpVCgrK8PDhw8RGxuLM2fOcJb68qWmpuLZs2esdSotLcWtW7ewYsUKbN26lTtLnUilUsyaNQvbtm3Dw4cPmVoWqAfmyM7OxtGjR5lasvT0dKxYsQKpqalMEz+Z+iPw4eHhekfqrKs7d+5AqVSiSZMmVRYY8/LysH37dmRlZUGhUEClUuHFixdITEzE4sWLWefJpk2bsG/fPqbZnkqlQl5eHiIiIgxuYqp5KZKZmckcN5lMVqPWBikpKfj8889x+PBhPH36lHXOFxYW4tSpU/jqq6+qrKGvLUPWtyq1PaeqUpfjpfn9H374Aenp6czva86Lf/75hxWcV7cf0tPTsWrVKtY5r1AocPv2bSxfvpwJiLS9yuvkZVGpVNi9ezcSExOZGkWFQoEnT54w343VJpVK8d133+nkz8zMxObNm/WORK4RFRWFuLg4FBUVMcf5xYsXrHl69OgBa2tryGQypKamMtNv3ryJp0+forS0FCkpKcx0QghpCHhOTk6GRwpvAX3NjLQFBwczzfT0qaiowOHDhxETE8NNYmRkZHAnEUIIoG7iFhoaCjs7O1y7do3VfHHJkiUYOXIkACApKYnVf5YQUjfa15xUKsXq1atr3FrmZXJ0dMTq1avRrl07PHz4EHPmzKm2tQohhDQEVGNZQ+Hh4Rg3blylf4GBgVUGlYQQUpXk5GRcuXIFSqUS7du3b/ADLBFCXo5hw4ahdevWkMvlOHnyJAWVhJA3BgWWhBDSQERHR+PBgwcwNzfHiBEjmME7CCH/Du7u7hgxYgQEAgFu3bqF6OhobhZCCGmwKLAkhJAGIj09HbGxsSguLkbbtm3xySefcLMQQt5SQqEQH3/8Mezs7CCRSPDTTz/VeLwBQghpCCiwVON+e6u+vezlE0LeDnFxcRg4cCA8PT3x7bffcpMJIW8pqVSKGTNmoGfPnvD19a3RgG2EENKQUGCppvl+2MvyspdPCCGEEEIIIa8LjQqrxcHBASYmJtzJBpPJZHjy5Al3MiGEEEIIIYS8FajGUktubm69N1mVyWTIzc3lTiaEEEIIIYSQtwbVWOohEolgaWlpUO2lTCZDSUkJioqKuEmEEEIIIYQQ8lahwJIQQgghhBBCiEGoKSwhhBBCCCGEEINQYEkIIYQQQgghxCAUWBJCCCGEEEIIMQgFloQQQgghhBBCDEKBJSGEEEIIIYQQg1BgSQghhBBCCCHEIBRYEkIIIYQQQggxCAWWhBBCCCGEEEIMQoElIYQQQgghhBCDUGBJCCGEEEIIIcQgFFgSQgghhBBCCDEIBZaEEEIIIYQQQgxCgSUhhBBCCCGEEINQYEkIIYQQQgghxCAUWBJCCCGEEEIIMQgFloQQQgghhBBCDEKBJSGEEEIIIYQQg1BgSQghhBBCCCHEIBRYEkIIIYQQQggxCAWWhBBCCCGEEEIMQoElIYQQQgghhBCDUGBJCCGEEEIIIcQgPCcnJxV34r+dSCSCpaUlTExMuEk1JpPJUFJSgqKiIm4SIYQQQgghhLxVKLDUYmxsDHt7e4MCSi6ZTIbc3FxUVFRwkwghhBBCCCHkrUBNYbXUd1AJACYmJrC3t+dOJoQQQgghhJC3BgWWaiKRqN6DSg0TExOIRCLuZEIIIYQQQgh5K1BgqWZpacmdVK9e9vIJIYQQQggh5HWhwFLtZdVWarzs5RNdPj4+OHv2LI4ePQp3d3du8hvN3d0dR48eRVJSEs6ePQsfHx9ulgYpKCgIFy5cwOXLl/Htt99yk98amnMvKSmp1uff1q1bkZSUhKSkJCxZsoSZvmTJEly+fBkXL17E9OnTWfP8Wy1ZsgRJSUmIiYnhJlVJc3xexbVT13X8t5k2bRoSExPfiP1U2bPlTdoG8vrExMQgMTER06ZN4yaRl+xt3feacoN2meF1ocCSEPLKdO/eHaampuDz+ejYsSM3mVTBzc0NfD4fJiYm6Ny5Mze5wRGLxdizZw/+/PNP+Pv7c5MJIYQQ8hp8++23uHz5Mn744QduksEosCRvtNmzZ+PIkSNYvHgxN6lBsLOzw4wZM7B7924cPHiwVjVXb6OkpCSUlJRALpfjn3/+4SaTKqSkpEAmk6G0tBQ3btzgJjc4s2fPhlgsxunTpxEXF8dNJlXo168ftm3bhri4uH/9PYOQNw1dv6S+1fc5tWbNGty9exfvvPMOgoKCuMkGocCSvNE8PT3RvHlz8Hg8blKD4O7ujnHjxsHFxYWaQwP46aefMGDAAPTp0wfLli3jJpMqrFmzBl5eXnjvvfcQHh7OTW5Qxo8fj65du+Lhw4fYvXs3N5lUo0OHDujatSvMzMy4SYSQBo6uX1Lf6vuckkql+PXXX1FeXo5hw4ZBLBZzs9QZBZaEEELqjVAoxKBBgyAQCHD+/Hmkp6dzsxBCCCHkNTp06BDu37+P5s2bw8/Pj5tcZw0qsJw5cyaOHDmCpKQkHDlyBDNnzuRmea2cnZ2xcOFC7Nq1C7Gxsdi3bx+2bNmC4cOHc7MSQsi/0vvvv4927dpBIpHgzz//5CYTQgghpAE4f/48FAoF3N3dIRQKucl1wnNyclJxJ74OERER6N69O3cyrl69iqlTp3In1zsnJyfuJBZnZ2dMnz4dDg4O3CTI5XL8/vvv2Lt3LzeJJSMjgzuJxcfHB/Pnz0dJSQnWrVuHkSNH4p133oG5uTnKyspw7tw5bN68GSUlJZg1axbef/99WFlZQalUIicnB9HR0ZX2ZRo5ciTGjx8PJycn8Pl8KBQKZGRkYN++fTh8+DArr1gsRmBgILy8vGBjY8Pkz83Nxa+//oqoqChW/q1bt8LDwwOHDx9Gamoq63dKS0vx999/4/vvv9epuejduzeCgoLg7OwMMzMzqFQqSKVSXL58GQsWLGDl5YqJiam06v7w4cNYvnw5a38uX74c3t7eePfdd2FlZQUAePr0KWJiYnS2B+pal2nTpsHb2xuNGzcGj8dDaWkprl69ih9//BGpqancWVg0v13ZhZqeno6AgADm33Z2dggKCkKvXr1gZ2cHPp8PlUqF58+fIzU1FTt37mT9pru7O0JDQ2FnZwepVIrVq1cjPj4eADBkyBDMmzcPIpEICoUCx48fZ43AqjkXWrduDYFAAIVCgYKCApw4cQLbt2+HVCrV+xvr1q1Du3btmH2CavahPkuWLMHIkSMBdX9L7dFN3dzcEBgYCA8PD1hbW4PH40GhUKCoqAhxcXGIiIjQWpIu7X0ukUiwfPlyeHl5YejQobC2tgYAFBUVISEhAVu3bmW2E5z936RJEwgEAgBAWVkZ7t27hy1btiAlJYXJrzF58mSMHj0azZo1A5/Ph0wmw7Vr13D27FnMmDGDWZeQkBAkJycz87m5uWHKlCno2rUrc45o9mWvXr3g4eEBaJ3L0LrOuNO5+zQ6OhpBQUFo3749TExMmHUKDw/Xe97WdRsqs3TpUowYMQInT57U6ftsZ2eH8ePHY+DAgbCzs4NAIIBKpcKzZ8+QkJDAOv+055k5cyb69OnDHMfi4mLmgejn56dzPWno27Y7d+7g1KlTzKiA2teORm3ulzBwHbVNmzYNkydPZs4/bdxjoDln+/bty7pPFxQU4MKFC4iMjIREIuEuRq+X8eyp7bHWbPujR49Y+0ksFmP58uVwdnaGRCLBypUrcfHiRSa9tseqMqNGjcLo0aPh5OQEMzOzKu/52vtL+5hUtg1V4Z47PB4Pcrkc6enp2LRpE+uaq8tzSd/9PiMjA7/99hs++OAD2NjYICoqCtu3bwe07ieVna/VpdfmeMTExKBVq1aIiopCWVkZ/vOf/8De3h5GRkbM9bNmzRqdewLU5YcPP/wQnTp1glAoBI/HQ1lZGe7evYtNmzax9oWmrKG5J1ZVntHs4yFDhrCuq5ycHEREROjcK7TV9PrV3u6SkhKMGzcO9vb2TJnp/Pnz2Lx5s97rtzbbUpWalr8MKQ9mZGQw22ZkZITHjx8jKioKhw8fRr9+/TB16lS0bduW2e6//voLa9eu1bvdmuvEy8uLKcMVFxfj4sWLCAsL0zuPPtr7XnPOa9Rm39a13IsaPv815aOanlPa65OSkoJJkyYx61NVGcDV1RXfffcdRCIR1q9fj99++42VXhd8Gxub1z7m/8yZMzF06FDuZABA8+bNYWpqiitXrnCT6pWNjQ13EsvkyZPRsWNHSKVSHD58GGvWrMH9+/fRunVrNGrUCLa2trh37x6ePXvGnZVRWFjIncTi7OyMvn37QqlUolu3bnB2dkZ2djbkcjmsra3Rtm1bODo6YvDgwXj//fdRXFwMiUQCCwsLNG7cGF26dEFhYSHu3LnDWu7ixYvx8ccfo0mTJigqKsLjx49hbGyM5s2bw9PTE3w+H3///TeTf8WKFRg4cCBMTU2Rk5OD3NxcGBsbo0mTJujevbtOfl9fXzg4OCA/Px8jR46ElZUVnjx5goqKCohEIrRq1QrOzs74448/IJfLAQD+/v5YsGABWrZsiRcvXuDRo0dQKBTMg/XAgQPM8vXp2bMnKioqYGZmBhMTE+Tm5iI7OxvPnj3DP//8g5SUFGZ/yuVyuLi4oE+fPnj27BmePn0KoVAIkUiEbt266WyPWCzGmjVrmH2QnZ2Np0+fwtraGk5OTvDw8EBaWhqysrJY66RN89v6bgYAUFBQwGyjl5cXVq5ciV69esHKygpGRv/XkIDH48HMzAyOjo7o378/Xrx4gdu3bwMAWrRogQEDBsDCwgJyuRwXL17EvXv3IBaLMWfOHLRo0QIqlQrJycn49ttvmf2uOReaNm0KPp8PADAyMoJQKETnzp3RsWNHnD17FnK5XOc3zM3NMXToUFhYWIDH44HH48HCwkLvPqzMe++9hw4dOgAAsrKycPToUUBdUPvmm2/QqVMnplAH9bqZm5vj8ePHOHfuHGtZXNr7XCqVwsXFBQMHDmSWp9mfnTp1Ym0nAKxatQqDBg2ClZUVs18AwNjYGPb29ujZsycePnyIR48eMWkhISGYMGECRCIRc8z4fD4cHBwgFoshFAphbGyMFy9e4MyZM8z54uXlhW+++Qaurq4wMTHRuy81wcmdO3eY7dZcZ9zp2vv02bNn8PHxgVgsZrZDs04dO3ZEcnIyioqKoPHtt9/WaRuqEhQUhEaNGuHMmTM658Ts2bMxbtw4WFhY4NmzZ8jKyoJCoUCTJk3QqVMnNGnShHWcxWIxVq9ejV69ekEgEODp06fIzc2FhYUFOnXqBCsrK1hbW7OuJw3N8bG2tkZJSQkeP34MlUqF1q1bw8XFBaamplCpVMy1o1Hb+6Uh68jVpk0b2Nvbo7y8HJaWlpDJZMjMzMTTp0+Rk5ODxMRE5OXlse4ZpqamyM/PR1ZWFpRKJRo3boyOHTvCw8MD165dQ0FBAfdndLyMZ09tj7W7uzu6deuG58+fM/tJLBZj4cKFcHV1RV5eHtasWYPz588z89T2WFXGx8cHX3/9NZo3b47S0lI8efIEJSUlEIlEaNOmjc61o9lfMpmMdV3o24aqaJ41vXr1AgA8evQIxcXFEAqFsLa2xrVr15hzsy7PpeDgYHz22Wews7NDaWkpHj16hLKyMrRq1Qpdu3aFQCCAsbExrl+/zrw409xPKjtfq0qv7fEYO3YsRCIRZDIZRowYAR6PhydPnjD3QGdnZzg4OOi0fJg6dSrmzJmDNm3aAOpnSVFREaysrNCoUSOkpqYy+02T18HBAVKpFI8fP4ZCoYC9vT3c3d3RrFkz5jwUCoVYu3YtvL29YWJigqysLOTn58PMzAzW1tbIyMjQ+4JRo6bXr/Z2jxw5krXdlpaWaNu2Ldq2bYtjx46xll+bbalKbcpfdS0PyuVyDB06FHK5HHl5eRAKhbC1tWX6CX722WewtbXF48ePIZfLmWtN33Zr7nc9evQAj8dDVlYWnj9/DhsbG7i4uMDd3V3n2VYZzb7XPudRh31bl3Iv1NsSGhqKDh06gM/nM9exra0tPDw8mHNfUz6q6TmlvT7/+c9/WOtjZWWFli1b6tzHACAvLw/vvfceWrVqhaysLFy+fJlJq6sG0RR2yJAh3Eks1aW/bJ07d0b79u2hUChw4sQJ7N+/H6Wlpbhy5Qri4uLw4sULNGrUCK6urtxZ66RRo0YwNTXFggULEBAQAF9fX8THx0OpVKJ3797w8PDA8ePH4evri4CAACxYsAASiQTW1tbo168fa1mTJ0/GsGHDoFKpEB0djSFDhiAwMBAjR45EQkICjI2N4evrCzc3N2YeqVSKEydOwM/PD6NGjWLynz59GgKBAO+99x7rNzQ8PT1x584dBAQEYPz48fD19UVsbCwUCgXat2/PajLs4+MDKysrJCYmYuTIkQgMDISvry+CgoJ0HiL6zJs3D4GBgcjNzQUAXL58GYGBgQgMDNSp2bK1tUWbNm2wadMmjBo1CgEBAZg+fTrS09NhYmKisz0zZ85kCjLz589nzZOWlobmzZsjMDCQNQ9XcnIyVqxYgYiICJSWlgIA8vPzsX79eoSEhOD7778H1IWFGTNmoFWrVoA64Ny9ezdCQkIQERGBJ0+eQKVSQSQSYeLEiazjxCUUCvHVV1+hXbt2UKlUuHfvHtavX8+87Q0KCoKPjw8EAgEKCwsRHh6Ofv36YfXq1cjLywOPx0OPHj0wceJE7qJhbm4OT09PpKamYtWqVfjhhx+YN4QmJibo168f8+atLkaPHo3GjRtDpVLh+vXrmDVrFjw8PLBkyRJcvXoVMpmMO0uVGjduDFdXV1y/fh2rVq3CqlWrcO3aNSgUCvB4PHTv3h1jx45l8vP5fBQWFuK3337DZ599Bg8PD6xevRpPnjwBADRt2hQDBw5k8k+ePBmDBw8GX/329tq1a6zfsbOz09vJXvM2vHnz5oD6ZZPmeO/evRtSqVRvq4ia6tSpE0xMTJhlnjlzBgqFAlAXerjbMGjQoFpvQ1W6deuGxo0bQyqV6m2hIZPJcOXKFQQFBcHX15e57mNjY6FSqeDu7s66j86cORPOzs54+vQpQkND4evri/Hjx2PEiBH4/fffYWdnx1q+hub4KBQKHDhwAO+//z5zT1q7di34fL7ebavL/bKu66hPXFwcJk6ciGPHjkGhrq1fu3YtAgMDMWPGDNy6dYs5h1q1aoXHjx9j/vz5rH25du1aFBYWwtnZudbdSerz2VPbY82luZ917doVT58+RVhYGM6ePcuk1+VYVUahUODhw4dYsWIFc674+/sjJCQEBQUFaN26Nfr378+dzWB+fn4Qi8XIzc3F7NmzERAQAH9/f3h7e2PXrl2sWpjaPpeGDBmCMWPGwNjYGH/++SdzXo4aNQrz58/HixcvYGlpyeQ3VF2Ph7GxMTw9PXH69GmmLKApbwCAh4cH3n33XSa/n58fAgICYGpqiosXL2L06NHw9/eHv78/goOD8ddff6GiogJQ74Nx48bB1NQUCQkJGDFiBHMfiI6OhkKhQP/+/Zky5vDhw+Hm5obi4mKsXLkS/v7+CAgIQP/+/bFp0ybWi0V9anL9alS23SdPnoRKpULHjh0xaNAgJn9tt6UqtSl/1bU82LFjR5w6dUrnXiESiTBp0iTIZDK99xnudmvf79LS0hAcHMwc74ULFyIvLw/t2rXD+PHjWb9fG4bs29qUezXbYmdnh4yMDMyYMYO5jseMGYMbN26gRYsWrOXX5pxCJeuze/duyOXySu9jjx8/hpGREVMONVSDCCw1hazKVJf+srVs2RIWFhYoKChg1Zz27NkTI0aMgLm5OUxMTOptPZVKJY4fP85q7vP7778jPz8fxsbGePjwIXbu3MmkXbx4kVkv7kk5aNAgmJiY4OzZs6zv1UilUsTGxkIikTBvnjS+/vprLF68mPVQk0qlSElJQVlZGRo3bqx3uOOsrCydZgyxsbHIycmBmZkZ2rVrx0y3tLSEUqlEVlYWq5lLamqqTvOE+nDy5Ens27eP+XdqaiouXboEhULB2p5BgwahS5cuKCsrQ3R0NKsgk5qaioSEBMjlcrRt27bKQpFEIsGJEyeYwBDqwktaWhri4+OZY+vj48M0w5ZIJAgNDcWmTZsQHx+PyMhIzJkzB48fPwbU18GwYcO0foVt3rx5zBu9tLQ0LF26lGmG4ejoyLyFLS0txY4dO7Bjxw5IpVIcOHAAsbGxkMlkEAgE6NmzJ3fR4PF4uHr1Kr788kvExcVh165d2L17N8rKygB1M5UePXpwZ6sxTQ1dRUUFkpKSmP2TkJCAqVOnYs2aNZw5qmZkZITTp08jKCgIcXFxiIuLw5dffomrV68CAExNTZlaAqivr2nTpmHZsmVM07MDBw4wx5vH4zFvxwGgb9++TI1XYmIi63c0D2fNcdfm4+PDLEfzgNAc702bNmHlypU1qmGqjFQqRXh4OLPMkJAQ5sFjYmICZ2dnJq/2Nly+fJk5ttVtQ1WaNGkCU1NTlJeX622hsWbNGsyYMUOnOc5ff/2F4uJiNGrUiNk/mmtRLpcjNjaW9RZbKpVi/fr1Og9VjUGDBsHU1BRJSUk6505cXBzi4+OZwqe22t4vDVnHuhozZgzEYjGeP3+O8PBw1j0K6u07cuQIFAoFOnXqBC8vL1Z6Verz2VObY80lFAoREhKCHj16MC/BuLUYtT1WVUlISMCkSZN0mmqePHkSjx49gqmpKRwdHVlp9cHS0hJ8Ph8FBQWsJq9SqRQ7duxgptXlueTt7Q2RSIS0tDSEhoaynrNnz55FdHQ089KzPtT1ePB4PNy8eRPfffcds45SqRS///47CgsLYWlpybTIAIARI0bA2toaN2/exKJFi1jljdTUVMybNw8nTpwAtPYBd/kAsGPHDmRkZMDKygrdunUD1C3XjI2NUVJSotOEMTY2tspmsLWleU5zt/v48eMoKiqCUChE27Ztmfy13Zaq1Kb8Vdfy4JMnT3TuFZcvX4ZKpYKRkRGOHDnCus8cO3YMBQUFEAqFrK5pmvtdQUEBIiIiWPeTs2fP4vz58+DxeDovLGrDkH1bm3Kv9r17x44drBpTiUSCtWvXMuW9upJIJNi6dStrfQ4ePIjc3NxK72P5+fmoqKhAo0aNuEl10iACy+zsbO4klurSXzaRSAQ+n4+SkhLcv38fXbt2RWhoKGbPng0nJyemCVnTpk25s9ZJcXExrl+/zpqWnJyMkpISAMD//vc/ZGZmstIlEgnkcjmzLgDw7rvvwt7eHlKpFJcuXWLlh/omkpeXp/dkE4vFmD17NrZs2YK4uDicPn0ac+bMgbm5OSuftoyMDJ2bcWZmJnJycsDj8WBra8tMf/LkCXg8HgYPHoxPP/3UoNqu6hQXF+vtG5aeng6ZTAYjIyPw1c0GO3fuDEtLS2RnZ+PIkSPcWXD//n2mhrqyQlFttG/fHsbGxlAqlTh//jzrRgv1Ol65cgVKpRJGRkaV9gV2d3dnatAkEgm2bNnCOhYdO3Zk9n9ubq7Ott2+fRvPnz8HADRr1kznBlpeXo5Lly6xbrh3795l5jE1NWX6PdSF5hoXCATw9/fHF198UauaHq7i4mKdArfmOigvLwfUNdka8fHxMDMzw5w5cxAZGYlDhw7h3LlzrL4Nmrf73bp1YwrRxcXFSEhIYJajcfnyZSbo1ubi4sLUlN28eZMpAGmcPn0a9+/fZ02rjcePH7P6ukmlUtZ5oGnyr70NUqkUf/zxB+vYooptqIqJiQkEAgFKSkr0XnNQv4SYNm0aNm7ciJiYGPzxxx9YvXq1TncEZ2dnCNX9O7lv0aFe7wcPHnAnM/1kS0tLkZiYyE0G1Ocutxa8LvfLuq6jIdq3bw9TU1M8ePBA77kH9bF79uwZrKysqnwBxlVfzx6Nmh5rrnnz5qFfv34oKSnB9u3bde5XdTlWNTFq1CgsX74c0dHRSEhIwPnz5w0qsFbn0aNHKC8vR9u2bbFy5UqIKxk3oLbPJaFQCEdHRygUCiQnJ+tc2wCQlpaG4uJi7uQ6MeR4KJVK3L17V2cdU1JSUFRUBD6fz5wv7u7uaNGiBWQyGS5cuKAzjzZHR0eIxWLI5XIkJSXp5JVKpXj48CGMjIyYZ3lGRgakUins7e3x+eefG/SytDpKpRI3btzQWS/NdkP9ghR13Jaq1Lb8VZfy4J07d/TeKyoqKlBUVIRr166x0lJTU5n7jPa9RHO/S0tLY2qxtaWnp6O8vLzSALc6hu7b2pR7nZycqrx3p6enIycnhzu5Vu7du6fzMk+zPlC3zuLKzs5GRUVFvbVg0H0SvAbcwhVXdemvSllZGRYuXIh58+ahY8eOMDIyQkZGBv766y9uVoPI5fIq3yRqmrZpUyqV3EmwsrKCqakpLCws8M033yApKUnnr0uXLtzZsGjRIkRHRyMwMBA9e/aEvb09ZDIZHj16pPctv0ZlNS2aWg/tm9Du3buRkZEBkUiE4OBgHD16FN99991LeYhXVntSUVEBlUrFtP2H1htksViMs2fP6uyvDRs2VFsoqg1N8KRQD7qhT0FBAXPMNYPmaDM1NcXQoUNhYmKCkpIS7Ny5UydAbdOmDUxNTZn/525bWFgYmjRpwuQ3NjbWmvv/1u/p06esafVp//79THBpY2ODiRMn4tChQ9i+fTt69+7NzV6tsrIy5Ofncyfj6dOnzL60tLRkHkSLFi1CZGQkJkyYgG7dusHBwQFmZmZQKpU6tXYtWrRgbsCV/Y7m3OJq2bIleOr+o5XtT33z1VRNC4ra2/DixQu9L+8q2wZDTJ06FTExMZgyZQr69u2LVq1aQalU4vHjx0zAr2FrawuBQIBnz57pFFCqYmtrC6FQiLKyMr3bVZm63C/ruo6G0Nx/qiqAaIJBIyMjWFhYcJMrVV/PHtTyWGtr0aIFhgwZgtLSUuaD4Fx1OVZV8fLywoEDB7Bo0SJ4e3vD2dkZpqamkEgkNeq3VVf79+/H+fPnYWRkhMGDB+OXX35BVFQUfHx8WPlq+1xydXWFUCiETCarUb9oQxlyPDTN+7ikUinzQtVE/Q1oOzs7WFpa4sWLF9W+gLOzs2NedE2ZMkVnfZKSknSaNp44cQLHjx9HRUUF3N3dsWXLFsTExOCDDz5g5asP1W23QCBgyiV12Zaq1Kb8VdfyYFX3EaVSqXMv0Ww3l+a81gxow/2bO3dulQFudQzdt5WV2/SVe+3t7YFq7t2Gqm59NOugrb6f9Q0isAwLC2OaqHFdvXoVYWFh3MmvRceOHdG9e3cYGxvj0aNH2L59O9NXAVU8YF+38vJypKen4969e5X+aarNNf1hKioq8NtvvyEgIAB9+/aFt7c3fvrpJ523/HWVkpKCgIAAbN68Genp6TA3N8egQYMQFhb2SkYBrk5hYaHOPtL+u3//vt6Hwusgl8uZIMXc3Fzvw6Ghu3jxIqZMmYJDhw6hoKAAKpUKAoEA77zzDlatWvVSzgmZTAaJRMKc8yYmJigsLERcXBzmz5+P/v37IyoqqsqHJ6k57b5RZ86cQXBwMPr06YPBgwdjzZo1lV5Pdb3nKBSKOs1bm/ulRl1+x1A1+U2lUlllEPey1PVYQ13ALCsrg7m5Od59990qa1Pqcqy4HB0dMX36dDg6OiItLQ0rVqyAp6cn+vfvD39/f9zTGtipvkmlUixcuBCzZ8/GlStXoFAo4Orqim+++QabNm3S2fbaPpdUKhVTC/Qq1MfxqInaXNsVFRV48OCBznpo/2k3P1y3bh0+++wznDp1CqWlpRCLxfjyyy/x888/V1qj/KrUdlsqU9Py16sqD9ZEbm6uzrZq/z148ECntrE26mvf1kRVQffboEEEllC/3YyKimLeMGdnZyMqKuqlFChrq6ysjKm5yM3NxS+//IKvvvqKafpkb28PlUqFvLw87qyvlUwmg1wuh1wux86dOxGoHtxG359mwJsuXbrAxMQEycnJWLZsGauKv0mTJnqr0Q2xe/duBAQEYMaMGbh+/TrMzc0xduxYDBgwgJv1lZDJZFAqlXj69KnOPtL+++STT3RqBetCM4qwdnMfLk1TbKibknAp1f2inj9/Dj6fj6FDhyIkJISVR9PUAermFh4eHpX++fr6VtqM8WWSSCRYsWIFhgwZgqVLl+Lu3btMjbKvr2+tmvRpN2/WphkNFABKSkqQmZmJd955BybqocWPHj2KVatW4c8//4RUKtXbvE9zXUHddFff29LKrhXtB4q++aB++/+yGbINVVEoFFAqlbC0tNRpTt25c2dYWVnh/v37mDt3Lqt/iWbQGG2ae26TJk10Ctga+tZPsw4WFhZ6385CXSOvqTnWqMv9sq7raAjNOcRtUqjN3d2d6UelefH5KtX2WGsrLCzEvn37UF5eDk9PT4SEhOjs27ocq8p07NgRLVq0wPPnz7Fz504cOnSIlf4qrsdLly5hxowZ8Pf3x8GDB6FQKODp6Yng4GCgDs8lzb1eIBCgdevWnF/7P3w+X+/9rS7q83hURfM7FhYWlW6XhlQqZWpiTpw4obMe2n8rV65kzZuamoqFCxfC19cXkZGRePHiBVxdXZnj8aoZsi1Vqa789arLg/po7ncZGRk626r9p28gm5p4WftWH00tbVUD9HGfS69Cq1atIBAI6u1FQf3cVepJWFgY/Pz84OHhAT8/vwZTU5mZmYnS0lIoFApcuHCB9Z2Xnj17omXLlpDL5cwIpQ3F3bt3UVhYCKFQqNNhvjKappn6qtM7dOjANEmpbykpKYiMjER+fj4sLCzg4uLCzfJKaNrr29nZwdvbm5tc7zIyMpjmPr1799bpIyAWi+Hp6QkjIyNUVFTofEpG48GDB4iLi4NMJgOfz8eQIUNY34jMyMhgmgM3b97coBHUXoWEhAR8//33TDPT2vZpbdSokU4TWrFYjN69e4Ov/kbo3bt3Aa3mxdzaHaFQiC5dujB9LDU01xXUQT+3mYxQKETv3r31Fp4zMjKYQl/37t11Blbx9/dHy5YtWdNehrt37zLNZivbhvfee0/vNlQlPz8fUqkUAoFAp0CuaQasr7lu586ddZpspqWloaysDPb29vDz82OlQX08u3btyp2M27dvo7CwEGZmZvD09OQmA+qR87ijwtblflnXdTREamoqZDIZ2rRpU+k9qkePHrCxscGzZ88qbQ30MtX2WHNFREQgJiYGCoUC/fr1w8KFC1nBZV2OVWU03QT0dZkYMGBApS8nXgaJ+judN27cAJ/PZwb+qO1z6dq1a8jJyWFafejTu3dvvYN15OfnQy6Xs7oKaAiFQtZAOhr1eTyqkpiYiPz8fJibm6NPnz7cZJZbt25BIpFAIBCgU6dO3OQakUqliIiIwJkzZ8Dj8aoNZl+W+tiWqlRW/npd5UFtmmdm69atX0prrJe9b7U9evQISqUSYrFY59kP9f1Ge8CmV0VTecG9/9VVgwosG6qrV68iMzMTxsbGGDJkCPz9/WFubo6ePXsy34DLycl56d/arK3MzExcuXIFKpUK3t7e+PTTT1npQqEQX3/9NSIjI5lpmhoxNzc3VrOPzz//vNJhpWvL1dUV8+fP1+kYb2FhAWNjY1RUVOjtt6aPJl993fDj4+Px4MEDWFtbY8qUKTrBiZubG7Zs2YJ58+axpldGu2bIxsYGw4YNQ0BAAPPm69ixY0wtfYsWLRAaGopZs2bBx8cHQUFB2LBhAxNopKen6x24QWPr1q04efIkFAoFTExMMGbMGPj7+wPqwmhKSgqUSiXMzc0xbdo0hISEYODAgXBwcICPjw+WLVuGX3/9tUYFl/r2448/YvXq1cznMMRiMQYNGsSMFltYWFirQVCMjY0xduxYrFy5Ej4+PggMDMTy5cuZwY/y8vKYUSY155BAIMDAgQPh7e3NfDdLXyFJc10pFAoYGRnh/fffx9q1a+Hn54fAwEBERkaie/fuevssnD17lnkB1bRpU8ybN4/5DExISAhmzpypUzvzMmRmZuLatWvMS43Bgwdj06ZNzDb8+OOPcHNz07sNVUlOTsbz588h5IzsB/XAQiqVCm3atGE9VDWf5uDWnly+fBlPnjyBubk5AgICWJ+zsLOzw9y5c3VGIoXWtqlUKnh5eeGzzz5jpVd2L6vL/bKu61idR48eQS6Xw8rKSueFyp9//snco4KDg3U+86EZit/IyAhJSUk6Azm8CrU91vps3boVhw8fhkKhwODBg1n33Locq8o8ePAA5eXlsLGxYY0U7ebmhqlTp0IkErHy16eZM2dizJgxrGlCoRCm6tGaNQX6ujyXrly5ArlcDldXVyxYsIB1X6nqONy7dw9SqRRNmjTB6NGjmfmEQiEWLlzIGuVSoz6PR1WkUilOnToFmUyGnj17YunSpaztcnNzw7p165hn2IULF1BeXg4PDw+dfQD1J1KioqKYAHrSpEl6B7PR/FszWF11qrp+66q221KZ2pS/XkV5sDqaZ2azZs3wxRdf6ASXvXv3xo4dOxAUFMSaXhv1tW+r8+eff+Lp06ewsbHB1KlTWdtS3f3mZZxTGprPjGh/TsfPzw8nT57E8ePHa92CkD1CB6nU77//jhYtWsDW1hYBAQEICAhg0l68eIGEhIRaDRTxqoSFhaF169bw8PDAtGnTEBgYiLy8PAgEAtipv1OXlpbG5D9z5gw6deoEsViMn3/+GdnZ2bCxsYFIJMLdu3frJYATqmtDRo8ejaKiIuTn50MoFKJZs2ZMYaimw3rfunUL3bt3R9euXXH06FHI5XJcvnwZq1at4matEalUiu3bt2PRokVo06YNNm7ciPz8fBQVFUEkEsHW1hZGRkbM9w2rk5iYiKysLIhEIggEAqZWQ9OkRDO898yZM2FnZwc7Ozu9AwU8evQIW7durXaAkDVr1qBp06bw8PCAlZUVPvnkE+Tk5ODixYuIjo6Gk5MTXF1dYWlpieHDh7O+sQT19r+K5i1cVlZW6Nq1K+s7ixoymQwJCQm1auZSWFgImUyGwYMHY/Dgway08vJy/Pbbb0xz33PnzqFz584wNzdHmzZtsHz5ckDdbOX27dto3769Tq3lgQMH0LVrVzg7O0MgEKB///7M96EUCgUuX76M7t276zygUlNTcfz4cXz44YcwNTVFixYtWM39JRIJMjIydB6eL0N0dDRcXFzg7OwMPp8PLy8vJghQKBS4dOmS3m2oTnp6Otq1a4f27duzpp89exZeXl6ws7PDmjVrmOHYbW1tmQ85a9ciZmZm4sCBA/jss8/QsmVLrF69Gjk5OSgvL0fz5s1hZGSEf/75R++gINrb9vHHH2P06NF4+vQpmjRpAmtra9y9e1fvw7m290tD1rEqN2/eRF5eHlq3bo0vv/wSAQEBqKiowPr165GcnIytW7di/vz5zG9q7lFNmjRhaqH++usvrF+/nrvoV6K2x7oya9asgVAoxNChQzF06FAAwLfffgvU4VhV5vz580xLqYkTJ8LHxwdlZWVo1qwZysvLcf/+fdZneuqTq6srJk2ahJkzZzIvnJo3bw5zc3NIJBLmOViX51J0dDQ6d+6MXr164T//+Q8GDx6MvLw8NG7cGI0aNWIGX+G2LDh16hR8fHzQt29fDB48GD179kReXh6aNm0KCwsL3L17Fx07dmTNg3o8HtWJjIxEixYtMGzYMPj5+WHIkCFMANS8eXPI5XKmm1JUVBScnJwwdOhQ+Pv7w8fHhymn2dvbQygUIi8vj2lF4ujoiJEjR+Kjjz6CRD3acdOmTWFlZYXi4mIcP35ca00qV931Wxe13ZbK1Kb89SrKg9VJTU1FdHQ0ZsyYgW7duiEyMhI5OTmQSqWwtbWFSCSCUqnE5cuXubPWWH3t2+okJyfjt99+w4cffghXV1eEh4cjJycHfD4fzZo1Y748oe9+8zLOKajP+ZYtW6K0tBS3b99mpnfp0gWNGjWCSqVCr1699I7IWxnd11VEr6tXryI8PBz37t1jaqAUCgUyMzOxc+dOnDx5kjtLgyCVSjF37lzs3buXaebQtm1bODg4oKysDKdOnWK1G4+Li8OOHTuQlZUFExMTODk5gc/n49ixY8yHrQ0lkUhw7do1FBcXQyQSwdnZGc2aNYNEIsHevXsxd+7cGnfC3rlzJ06dOsU0E2ratGmtP5HAdfHiRSxYsACJiYkoKytD06ZN4ezsDBsbG+Tk5CAqKgqbNm3izqaXVCrF5s2bcfv2baZ9vUKhYPpWQl1ruWDBApw6dQqFhYWsfE+fPsWhQ4cQHBxcoz6dUvW38zQPcDs7O3z11Vfw8vJCeno6pk+fjr179yI7O5v5HZVKhbKyMjx8+BCxsbE4c+YMZ6kvX2pqKp49e8Zap9LSUty6dQsrVqzA1q1bubNUSSaTISwsjGk2CPUgR2lpaVi7di3Cw8OZvPv27cP27duRlZUFhUIBlUqFoqIiHDhwoNIRn9PT0zF79mymb6tKpYJKpUJ+fj7zWYXKhIeHY+3atUhLS2O2VyaTITU1FcuXLzf4/K2p2myDVCqtcWB/9epVlJaWon379qx+gBcvXkRYWBjS0tLA5/Ph6OgIKysrXL58GWFhYXof2nFxcVi6dClSU1OhUCjg4OCA1q1b48mTJ1i7di0yMjK4swCcbdN8M7Fdu3ZQKpWIiYnB/v379d7Lanu/hAHrWJXMzEzs2LGD+YZi69atwefzmfvixYsXsXjxYpw6dQolJSXMPcrS0hKZmZnYsmULPv/88xrfR+tbXY51ZdasWcM8X7X7j9flWOmjuWcmJiZCJpPBzs4ODg4OyMzMxNq1a+uteZg+V69eZZ61YrEYTk5OkKk/pbFgwQLWPb+2zyWpVIr58+dj7969zKdnxGIxTExMcPLkSWzYsKHS47BkyRLEx8czz+h27dpBoVDgp59+YroQcNXX8aiJ0NBQ/PDDD0hPT2fOLwcHBxQVFeHEiROsgva3336Lbdu24cmTJ6z9rFKpkJSUhOXLlzOfvvjn/7V3/y7JvWEcxz/yQIIJEVFQQmBSbU0VtUYQOEg0NgQtTTW02CARDQ0NQUMF5VLQEhK5tNQ/0NIvpKTFiAZJKhBEQqW+S0mep192a9+eer/GzjHwcKzz8brv6zo5USwWk81my4+h+PPnj46PjxUIBF7sUPyS9z6/n1XMe3lNMc9fX/E8+BGbm5sKBAKKRCLKZrNyuVxqbm5WZWWlLi4utLi4aFwNL8W1/Yjn//+f7t3a2lqdnp5qcnLy1b835bqnurq6VFNTo+vr64JRU9FoVMlkUslkUgcHBwWveY/N7XZ/zZ3xzVmXbZXDZx4wAHyM1+vVxMSEHI9zBaempoy+yfvthoaGNDIyIrvdrlgsVrBK4y0Oh0MrKytyu90KBoNaXV21ngLgf9be3q7p6WlVV1drbW1Ny8vL1lMAfLGlpSV1dHRob29PY2Nj1sMlNz8/r+7ubm1tbX16pZ8VFUsAwF9aW1vzzRmeV9jfk06ntbu7q4eHB/X29ha9lBYAgN+msbFR9fX1ur+/L9jvWC79/f1qa2tTPB7X9va29fCnESwBAAV8Pp86Oztls9mUy+V0cnJiPeVNoVBIkUhEHo/nW4yMAgDgO+vp6VFdXd1f+x3LweFwaGBgQHa7XTs7OyVt8kawBIBfqK+vT+FwWHNzcxocHJTX65XP59PMzIzGx8fzTWDi8fiHm2k9SafTWl9f1+3trXw+X747MQAAv1UwGJTf78+PcnnyNCuzoqJC0Wj0zT4NpeD3+9XS0qKjo6OSb1dhj+Ujl8tV1pk8mUzmw51EARSPPZbFeX69XpNIJLSwsJAfzQLgZ2CPJfD1NjY21NTUpGw2q0Qiobu7u3y3cpvNpvPzc83Ozmp/f9/60n8GFctHqVTK+qOSKvfvB4BiXF5e6vDwsKAbryzdiIeHhwmVAACUQCgU0tnZmXK5nBoaGuTxeOR0OnVzc6NwOKzR0dF/OlSKimWhclUtqVYCAAAA+MmoWD5zdXWVn3lXKplMJj/4GAAAAAB+IiqWL6iqqpLT6TSqXmYyGaVSKSWTSeshAAAAAPhRCJYAAAAAACMshQUAAAAAGCFYAgAAAACMECwBAAAAAEYIlgAAAAAAIwRLAAAAAIARgiUAAAAAwAjBEgAAAABghGAJAAAAADBCsAQAAAAAGCFYAgAAAACMECwBAAAAAEYIlgAAAAAAIwRLAAAAAIARgiUAAAAAwAjBEgAAAABghGAJAAAAADBCsAQAAAAAGPkPynfehJcmlXQAAAAASUVORK5CYII=)"
      ],
      "metadata": {
        "id": "CZRHhHoVtUI8"
      }
    },
    {
      "cell_type": "code",
      "source": [
        "print(tokenized_training_data['attention_mask'][0])"
      ],
      "metadata": {
        "colab": {
          "base_uri": "https://localhost:8080/"
        },
        "id": "PIN76FB7r0yl",
        "outputId": "7de803c5-995e-415c-d330-a3215e3d4880"
      },
      "execution_count": 37,
      "outputs": [
        {
          "output_type": "stream",
          "name": "stdout",
          "text": [
            "[1, 1, 1, 1, 1, 1, 1, 1, 1, 1, 1, 1, 1, 1, 1, 1, 1, 1, 1, 1, 1, 1, 1, 1, 1, 1, 1, 1, 1, 1, 1, 1, 1, 1, 1, 1, 1, 1, 1, 1, 1, 0, 0, 0, 0, 0, 0, 0, 0, 0]\n"
          ]
        }
      ]
    },
    {
      "cell_type": "code",
      "source": [
        "# Create train and test datasets\n",
        "train_dataset = Dataset.from_dict({\n",
        "    'input_ids': tokenized_training_data['input_ids'],\n",
        "    'attention_mask': tokenized_training_data['attention_mask'],\n",
        "    'labels': train_data['label']\n",
        "})\n",
        "\n",
        "test_dataset = Dataset.from_dict({\n",
        "    'input_ids': tokenized_test_data['input_ids'],\n",
        "    'attention_mask': tokenized_test_data['attention_mask'],\n",
        "    'labels': test_data['label']\n",
        "})"
      ],
      "metadata": {
        "id": "dkH61tRBOEJg"
      },
      "execution_count": 26,
      "outputs": []
    },
    {
      "cell_type": "code",
      "source": [
        "# Define training arguments\n",
        "training_args = TrainingArguments(\n",
        "    output_dir='./results',               # Output directory for saving model checkpoints and logs\n",
        "    num_train_epochs=3,                   # Number of training epochs\n",
        "    per_device_train_batch_size=16,       # Batch size for training\n",
        "    per_device_eval_batch_size=64,        # Batch size for evaluation\n",
        "    warmup_steps=500,                     # number of steps (or iterations) in which the learning rate will linearly increase from a very small value to the initial learning rate set\n",
        "    weight_decay=0.01,                    # Strength of weight decay for regularization\n",
        "    report_to=\"none\"\n",
        "    )"
      ],
      "metadata": {
        "id": "nW4syJtPt2FC"
      },
      "execution_count": 27,
      "outputs": []
    },
    {
      "cell_type": "code",
      "source": [
        "def compute_metrics(p):\n",
        "    predictions, labels = p\n",
        "    predictions = predictions.argmax(axis=-1)  # Convert logits to predicted class\n",
        "\n",
        "    accuracy = accuracy_score(labels, predictions)\n",
        "    f1 = f1_score(labels, predictions, average='weighted')  # For multiclass, use 'weighted'\n",
        "\n",
        "    return {\"accuracy\": accuracy, \"f1\": f1}"
      ],
      "metadata": {
        "id": "jEoABzs_RYSF"
      },
      "execution_count": 34,
      "outputs": []
    },
    {
      "cell_type": "code",
      "source": [
        "# Set up the trainer\n",
        "trainer = Trainer(\n",
        "    model=model,                          # The model to train\n",
        "    args=training_args,                   # Training arguments (from TrainingArguments)\n",
        "    train_dataset=train_dataset,          # The dataset for training\n",
        "    eval_dataset=test_dataset,            # The dataset for evaluation\n",
        "    processing_class=tokenizer,                  # Tokenizer to process the input texts\n",
        "    compute_metrics=compute_metrics\n",
        "    )\n",
        "\n",
        "# Start training\n",
        "trainer.train()"
      ],
      "metadata": {
        "colab": {
          "base_uri": "https://localhost:8080/",
          "height": 174
        },
        "id": "E_ILWUvpvEUX",
        "outputId": "7c4f25f6-cbb8-4461-9c46-cd5b1cc33f8d"
      },
      "execution_count": 35,
      "outputs": [
        {
          "output_type": "display_data",
          "data": {
            "text/plain": [
              "<IPython.core.display.HTML object>"
            ],
            "text/html": [
              "\n",
              "    <div>\n",
              "      \n",
              "      <progress value='1125' max='1125' style='width:300px; height:20px; vertical-align: middle;'></progress>\n",
              "      [1125/1125 02:10, Epoch 3/3]\n",
              "    </div>\n",
              "    <table border=\"1\" class=\"dataframe\">\n",
              "  <thead>\n",
              " <tr style=\"text-align: left;\">\n",
              "      <th>Step</th>\n",
              "      <th>Training Loss</th>\n",
              "    </tr>\n",
              "  </thead>\n",
              "  <tbody>\n",
              "    <tr>\n",
              "      <td>500</td>\n",
              "      <td>0.040000</td>\n",
              "    </tr>\n",
              "    <tr>\n",
              "      <td>1000</td>\n",
              "      <td>0.041000</td>\n",
              "    </tr>\n",
              "  </tbody>\n",
              "</table><p>"
            ]
          },
          "metadata": {}
        },
        {
          "output_type": "execute_result",
          "data": {
            "text/plain": [
              "TrainOutput(global_step=1125, training_loss=0.04108838229709202, metrics={'train_runtime': 130.6336, 'train_samples_per_second': 137.79, 'train_steps_per_second': 8.612, 'total_flos': 232861154400000.0, 'train_loss': 0.04108838229709202, 'epoch': 3.0})"
            ]
          },
          "metadata": {},
          "execution_count": 35
        }
      ]
    },
    {
      "cell_type": "code",
      "source": [
        "# Evaluate the model\n",
        "eval_results = trainer.evaluate()\n",
        "\n",
        "# Print out the evaluation results\n",
        "print(eval_results)"
      ],
      "metadata": {
        "colab": {
          "base_uri": "https://localhost:8080/",
          "height": 75
        },
        "id": "fPjsTdKPLyAz",
        "outputId": "848a6709-8c36-4431-eace-a90e3fc5a3b1"
      },
      "execution_count": 36,
      "outputs": [
        {
          "output_type": "display_data",
          "data": {
            "text/plain": [
              "<IPython.core.display.HTML object>"
            ],
            "text/html": [
              "\n",
              "    <div>\n",
              "      \n",
              "      <progress value='6' max='6' style='width:300px; height:20px; vertical-align: middle;'></progress>\n",
              "      [6/6 00:00]\n",
              "    </div>\n",
              "    "
            ]
          },
          "metadata": {}
        },
        {
          "output_type": "stream",
          "name": "stdout",
          "text": [
            "{'eval_loss': 0.45513635873794556, 'eval_accuracy': 0.9184210526315789, 'eval_f1': 0.9184752190634689, 'eval_runtime': 0.6023, 'eval_samples_per_second': 630.932, 'eval_steps_per_second': 9.962, 'epoch': 3.0}\n"
          ]
        }
      ]
    },
    {
      "cell_type": "code",
      "source": [],
      "metadata": {
        "id": "CSGI8J2TSA_M"
      },
      "execution_count": null,
      "outputs": []
    }
  ]
}